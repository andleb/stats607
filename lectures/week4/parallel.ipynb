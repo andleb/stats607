{
 "cells": [
  {
   "cell_type": "code",
   "execution_count": 1,
   "id": "073c6e02",
   "metadata": {},
   "outputs": [],
   "source": [
    "import numpy as np"
   ]
  },
  {
   "cell_type": "markdown",
   "id": "12461e8b",
   "metadata": {
    "slideshow": {
     "slide_type": "slide"
    }
   },
   "source": [
    "# STATS 607 \n",
    "## Week 4: Parallel processing"
   ]
  },
  {
   "cell_type": "markdown",
   "id": "456b660f",
   "metadata": {
    "slideshow": {
     "slide_type": "slide"
    }
   },
   "source": [
    "## Why parallelize\n",
    "- CPUs stopped getting faster at least a decade ago.\n",
    "- See [the free lunch is oven](http://www.gotw.ca/publications/concurrency-ddj.htm)\n",
    "- $\\therefore$ If you want your code to go faster, you need to learn how to parallelize it.\n",
    "\n",
    "![breakdown of Moore's law](http://www.gotw.ca/images/CPU.png)"
   ]
  },
  {
   "cell_type": "markdown",
   "id": "fb3a7cb1",
   "metadata": {
    "slideshow": {
     "slide_type": "slide"
    }
   },
   "source": [
    "## Different ways to parallelize\n",
    "- Across CPU cores  (multiprocessing/multithreading)\n",
    "- Across GPU cores (CUDA)\n",
    "- Across different machines (cluster computing)"
   ]
  },
  {
   "cell_type": "markdown",
   "id": "266de763",
   "metadata": {
    "slideshow": {
     "slide_type": "slide"
    }
   },
   "source": [
    "## CPUs vs GPUs\n",
    "- GPUs are best at applying the same computation over arrays of data.\n",
    "- CPUs are better for algorithms that:\n",
    "  - include conditional branches\n",
    "  - have high memory overhead/require lots of memory\n",
    "  - require any sort of communication.\n",
    "- All the innovation in HPC right now is happening in the GPU space due to deep learning.\n",
    "- $\\therefore$ design your algorithm to take advantage of the hardware, even if it means writing it in a a) weird or b) slightly suboptimal way.\n",
    "- **GPUs are not \"automatically faster\" than CPUs**"
   ]
  },
  {
   "cell_type": "markdown",
   "id": "84731d3b",
   "metadata": {
    "slideshow": {
     "slide_type": "slide"
    }
   },
   "source": [
    "## The global interpreter lock (GIL)\n",
    "- The Python interpreter is not fully thread-safe. \n",
    "- In order to support multi-threaded Python programs, there’s a global lock, called the global interpreter lock or GIL, that must be held by the current thread before it can safely access Python objects. \n",
    "- Without the lock, even the simplest operations could cause problems in a multi-threaded program: for example, when two threads simultaneously increment the reference count of the same object, the reference count could end up being incremented only once instead of twice."
   ]
  },
  {
   "cell_type": "code",
   "execution_count": 30,
   "id": "861cc98c",
   "metadata": {
    "slideshow": {
     "slide_type": "slide"
    }
   },
   "outputs": [],
   "source": [
    "import threading\n",
    "import time\n",
    "\n",
    "def cpu_bound_task(n):\n",
    "    # A CPU-intensive computation (e.g., calculating factorial)\n",
    "    result = 1\n",
    "    for i in range(1, n + 1):\n",
    "        result *= i\n",
    "    return result"
   ]
  },
  {
   "cell_type": "code",
   "execution_count": 31,
   "id": "8432be64",
   "metadata": {
    "slideshow": {
     "slide_type": "slide"
    }
   },
   "outputs": [],
   "source": [
    "def single_thread():\n",
    "    start_time = time.time()\n",
    "    cpu_bound_task(50000)\n",
    "    cpu_bound_task(50000)\n",
    "    end_time = time.time()\n",
    "    print(f\"Single-thread execution time: {end_time - start_time:.2f} seconds\")"
   ]
  },
  {
   "cell_type": "code",
   "execution_count": 32,
   "id": "66f0452e",
   "metadata": {
    "slideshow": {
     "slide_type": "slide"
    }
   },
   "outputs": [
    {
     "name": "stdout",
     "output_type": "stream",
     "text": [
      "Single-thread execution time: 1.01 seconds\n",
      "Multi-thread execution time: 2.46 seconds\n"
     ]
    }
   ],
   "source": [
    "def multi_thread():\n",
    "    start_time = time.time()\n",
    "    threads = []\n",
    "    for _ in range(2):\n",
    "        t = threading.Thread(target=cpu_bound_task, args=(50000,))\n",
    "        threads.append(t)\n",
    "        t.start()\n",
    "    for t in threads:\n",
    "        t.join()\n",
    "    end_time = time.time()\n",
    "    print(f\"Multi-thread execution time: {end_time - start_time:.2f} seconds\")\n",
    "\n",
    "single_thread()\n",
    "multi_thread()"
   ]
  },
  {
   "cell_type": "code",
   "execution_count": 36,
   "id": "c689be21",
   "metadata": {
    "slideshow": {
     "slide_type": "slide"
    }
   },
   "outputs": [
    {
     "name": "stdout",
     "output_type": "stream",
     "text": [
      "Multi-process execution time: 0.49 seconds\n"
     ]
    }
   ],
   "source": [
    "def multi_process():\n",
    "    start_time = time.time()\n",
    "    processes = []\n",
    "    for _ in range(2):\n",
    "        p = multiprocessing.Process(target=cpu_bound_task, args=(50000,))\n",
    "        processes.append(p)\n",
    "        p.start()\n",
    "    for p in processes:\n",
    "        p.join()\n",
    "    end_time = time.time()\n",
    "    print(f\"Multi-process execution time: {end_time - start_time:.2f} seconds\")\n",
    "    \n",
    "multi_process()"
   ]
  },
  {
   "cell_type": "markdown",
   "id": "4d78f365",
   "metadata": {
    "slideshow": {
     "slide_type": "slide"
    }
   },
   "source": [
    "## Example: Monte Carlo\n",
    "- A European call option gives the holder the right, but not the obligation, to buy an asset at a specified strike price $K$  on a specified expiration date  $T$ . \n",
    "- The option price is the expected discounted payoff under the risk-neutral measure:\n",
    "$$e^{-rT} \\mathbb{E}[\\max\\left(S_T - K, 0\\right)]$$\n",
    "  - $S_T$ is the stock price at maturity.\n",
    "  - $r$ is the risk-free interest rate."
   ]
  },
  {
   "cell_type": "markdown",
   "id": "f19f92c1",
   "metadata": {},
   "source": [
    "- Assume stock prices follow geometric Brownian motion:\n",
    "\n",
    "$$S_{t + \\Delta t} = S_t \\exp \\left\\{ \\left(\\mu - \\frac{1}{2}\\sigma^2\\right) \\Delta t + \\sigma \\sqrt{\\Delta t} Z   \\right\\}$$\n",
    "\n",
    "  - $\\mu$  is the expected return.\n",
    "  - $\\sigma$  is the volatility.\n",
    "  - $Z$  is a standard normal random variable.\n",
    "  \n"
   ]
  },
  {
   "cell_type": "code",
   "execution_count": 40,
   "id": "6ab4ec96",
   "metadata": {},
   "outputs": [],
   "source": [
    "def monte_carlo_option_price(S0, K, T, r, sigma, Z):\n",
    "    # implement\n",
    "    pass"
   ]
  },
  {
   "cell_type": "code",
   "execution_count": 37,
   "id": "815e87e0",
   "metadata": {
    "slideshow": {
     "slide_type": "slide"
    }
   },
   "outputs": [],
   "source": [
    "S_0 = 100 # Initial stock price.\n",
    "K = 105  # strike price\n",
    "T = 1 # yr; time to maturity.\n",
    "r = 0.05 # risk-free interest rate.\n",
    "sigma = .20  # volatility"
   ]
  }
 ],
 "metadata": {
  "celltoolbar": "Slideshow",
  "kernelspec": {
   "display_name": "Python 3 (ipykernel)",
   "language": "python",
   "name": "python3"
  },
  "language_info": {
   "codemirror_mode": {
    "name": "ipython",
    "version": 3
   },
   "file_extension": ".py",
   "mimetype": "text/x-python",
   "name": "python",
   "nbconvert_exporter": "python",
   "pygments_lexer": "ipython3",
   "version": "3.10.12"
  }
 },
 "nbformat": 4,
 "nbformat_minor": 5
}
