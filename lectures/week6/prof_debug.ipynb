{
 "cells": [
  {
   "cell_type": "markdown",
   "id": "dad471b6",
   "metadata": {},
   "source": [
    "# STATS 607\n",
    "## Week 6: Profiling and debugging"
   ]
  },
  {
   "cell_type": "markdown",
   "id": "9e61b6b6",
   "metadata": {},
   "source": [
    "### Example 1: STRUCTURE"
   ]
  },
  {
   "cell_type": "code",
   "execution_count": 1,
   "id": "2dfb732d",
   "metadata": {},
   "outputs": [],
   "source": [
    "import numpy as np\n",
    "\n",
    "def gibbs_sampler(G, K, rng, num_iterations=1000, alpha=1.0, F=.1, p=.1):\n",
    "    \"\"\"\n",
    "    Run Gibbs sampler for the STRUCTURE model.\n",
    "    \n",
    "    data: N x L x 2 array of genotype data\n",
    "    K: Number of populations\n",
    "    rng: Random number generator.\n",
    "    num_iterations: Number of Gibbs sampling iterations\n",
    "    alpha: Dirichlet prior parameter for q\n",
    "    F: estimate of Fst between populations.\n",
    "    p: mean allele frequency\n",
    "    \"\"\"\n",
    "    N, L, _ = G.shape\n",
    "    assert G.shape == (N, L, 2)\n",
    "    # Initialize parameters\n",
    "    Q = rng.dirichlet([alpha] * K, size=N)\n",
    "    f = (1 - F) / F\n",
    "    f, p = [np.broadcast_to(x, [K, L]) for x in [f, p]] \n",
    "    a_prior = f * p\n",
    "    b_prior = f * (1. - p)\n",
    "    P = rng.beta(a_prior, b_prior)   # balding-nichols model\n",
    "    P = np.stack([P, 1 - P], axis=2)\n",
    "    # Initialize z assignments randomly\n",
    "    Z = rng.integers(0, K, size=(N, L, 2))\n",
    "    for iteration in range(num_iterations):\n",
    "        # Update z\n",
    "        for i in range(N):\n",
    "            for l in range(L):\n",
    "                for j in range(2):\n",
    "                    probs = Q[i] * P[:, l, G[i, l, j]]\n",
    "                    probs /= probs.sum()\n",
    "                    Z[i, l, j] = rng.choice(K, p=probs)\n",
    "        # Update p\n",
    "        for k in range(K):\n",
    "            for l in range(L):\n",
    "                counts = np.zeros([2])\n",
    "                idx = np.where(Z[:,l,:] == k)\n",
    "                alleles = G[:,l,:][idx]\n",
    "                for a in range(2):\n",
    "                    counts[a] = np.sum(alleles == a)\n",
    "                P[k, l] = rng.beta(counts[0] + a_prior[k, l], counts[1] + b_prior[k, l])\n",
    "        # Update q\n",
    "        for i in range(N):\n",
    "            counts = np.zeros(K)\n",
    "            for k in range(K):\n",
    "                counts[k] = np.sum(Z[i,:,:] == k)\n",
    "            Q[i] = rng.dirichlet(counts + alpha)\n",
    "        if iteration % 100 == 0:\n",
    "            print(f\"Iteration {iteration}\")\n",
    "    return Q, P"
   ]
  },
  {
   "cell_type": "code",
   "execution_count": 8,
   "id": "bb6a5f93",
   "metadata": {},
   "outputs": [],
   "source": [
    "import stdpopsim\n",
    "species = stdpopsim.get_species(\"HomSap\")\n",
    "model = species.get_demographic_model(\"OutOfAfrica_3G09\")\n",
    "chrom = species.get_contig('1', length_multiplier=0.1)\n",
    "samples = model.get_samples(10, 10, 10)\n",
    "engine = stdpopsim.get_engine(\"msprime\")\n",
    "ts = engine.simulate(model, chrom, samples)\n",
    "\n",
    "G = ts.genotype_matrix().T\n",
    "# convert diploid to tensor\n",
    "G = np.array([[0, 0], [0, 1], [1, 1]])[G]\n",
    "\n",
    "rng = np.random.default_rng()\n",
    "p = G.mean((0, 2))\n",
    "F = ts.Fst([np.arange(10), np.arange(10, 20)])\n",
    "# gibbs_sampler(G, 3, rng, p=p, F=F)"
   ]
  },
  {
   "cell_type": "code",
   "execution_count": 5,
   "id": "caab2f2a-1fb5-4bae-872e-c1a7a3b31776",
   "metadata": {},
   "outputs": [
    {
     "name": "stdout",
     "output_type": "stream",
     "text": [
      "Defaulting to user installation because normal site-packages is not writeable\n",
      "Collecting line_profiler\n",
      "  Downloading line_profiler-4.1.3-cp312-cp312-macosx_11_0_arm64.whl.metadata (34 kB)\n",
      "Downloading line_profiler-4.1.3-cp312-cp312-macosx_11_0_arm64.whl (132 kB)\n",
      "Installing collected packages: line_profiler\n",
      "Successfully installed line_profiler-4.1.3\n",
      "\n",
      "\u001b[1m[\u001b[0m\u001b[34;49mnotice\u001b[0m\u001b[1;39;49m]\u001b[0m\u001b[39;49m A new release of pip is available: \u001b[0m\u001b[31;49m24.2\u001b[0m\u001b[39;49m -> \u001b[0m\u001b[32;49m24.3.1\u001b[0m\n",
      "\u001b[1m[\u001b[0m\u001b[34;49mnotice\u001b[0m\u001b[1;39;49m]\u001b[0m\u001b[39;49m To update, run: \u001b[0m\u001b[32;49mpython3.12 -m pip install --upgrade pip\u001b[0m\n"
     ]
    }
   ],
   "source": [
    "!pip install line_profiler"
   ]
  },
  {
   "cell_type": "code",
   "execution_count": 6,
   "id": "a468503d",
   "metadata": {},
   "outputs": [],
   "source": [
    "%load_ext line_profiler"
   ]
  },
  {
   "cell_type": "code",
   "execution_count": 9,
   "id": "b81cb9a3",
   "metadata": {},
   "outputs": [
    {
     "name": "stdout",
     "output_type": "stream",
     "text": [
      "Iteration 0\n",
      "\n",
      "*** Profile printout saved to text file 'prof0'. \n"
     ]
    },
    {
     "data": {
      "text/plain": [
       "Timer unit: 1e-09 s\n",
       "\n",
       "Total time: 57.593 s\n",
       "File: /var/folders/j8/n524q16s54l6y_vxh70gb9lr0000gs/T/ipykernel_39911/1030734579.py\n",
       "Function: gibbs_sampler at line 3\n",
       "\n",
       "Line #      Hits         Time  Per Hit   % Time  Line Contents\n",
       "==============================================================\n",
       "     3                                           def gibbs_sampler(G, K, rng, num_iterations=1000, alpha=1.0, F=.1, p=.1):\n",
       "     4                                               \"\"\"\n",
       "     5                                               Run Gibbs sampler for the STRUCTURE model.\n",
       "     6                                               \n",
       "     7                                               data: N x L x 2 array of genotype data\n",
       "     8                                               K: Number of populations\n",
       "     9                                               rng: Random number generator.\n",
       "    10                                               num_iterations: Number of Gibbs sampling iterations\n",
       "    11                                               alpha: Dirichlet prior parameter for q\n",
       "    12                                               F: estimate of Fst between populations.\n",
       "    13                                               p: mean allele frequency\n",
       "    14                                               \"\"\"\n",
       "    15         1       6000.0   6000.0      0.0      N, L, _ = G.shape\n",
       "    16         1       1000.0   1000.0      0.0      assert G.shape == (N, L, 2)\n",
       "    17                                               # Initialize parameters\n",
       "    18         1     842000.0 842000.0      0.0      Q = rng.dirichlet([alpha] * K, size=N)\n",
       "    19         1       3000.0   3000.0      0.0      f = (1 - F) / F\n",
       "    20         3     150000.0  50000.0      0.0      f, p = [np.broadcast_to(x, [K, L]) for x in [f, p]] \n",
       "    21         1     431000.0 431000.0      0.0      a_prior = f * p\n",
       "    22         1    3471000.0    3e+06      0.0      b_prior = f * (1. - p)\n",
       "    23         1   19332000.0    2e+07      0.0      P = rng.beta(a_prior, b_prior)   # balding-nichols model\n",
       "    24         1     705000.0 705000.0      0.0      P = np.stack([P, 1 - P], axis=2)\n",
       "    25                                               # Initialize z assignments randomly\n",
       "    26         1   14670000.0    1e+07      0.0      Z = rng.integers(0, K, size=(N, L, 2))\n",
       "    27         2       4000.0   2000.0      0.0      for iteration in range(num_iterations):\n",
       "    28                                                   # Update z\n",
       "    29        31      18000.0    580.6      0.0          for i in range(N):\n",
       "    30   1364400  312275000.0    228.9      0.5              for l in range(L):\n",
       "    31   4093110 1327963000.0    324.4      2.3                  for j in range(2):\n",
       "    32   2728740 5093432000.0   1866.6      8.8                      probs = Q[i] * P[:, l, G[i, l, j]]\n",
       "    33   2728740 7451202000.0   2730.6     12.9                      probs /= probs.sum()\n",
       "    34   2728740        4e+10  14524.6     68.8                      Z[i, l, j] = rng.choice(K, p=probs)\n",
       "    35                                                   # Update p\n",
       "    36         4       3000.0    750.0      0.0          for k in range(K):\n",
       "    37    136440   35394000.0    259.4      0.1              for l in range(L):\n",
       "    38    136437   72255000.0    529.6      0.1                  counts = np.zeros([2])\n",
       "    39    136437  870660000.0   6381.4      1.5                  idx = np.where(Z[:,l,:] == k)\n",
       "    40    136437  370292000.0   2714.0      0.6                  alleles = G[:,l,:][idx]\n",
       "    41    409311  119144000.0    291.1      0.2                  for a in range(2):\n",
       "    42    272874 1949334000.0   7143.7      3.4                      counts[a] = np.sum(alleles == a)\n",
       "    43    136437  312114000.0   2287.6      0.5                  P[k, l] = rng.beta(counts[0] + a_prior[k, l], counts[1] + b_prior[k, l])\n",
       "    44                                                   # Update q\n",
       "    45        31       5000.0    161.3      0.0          for i in range(N):\n",
       "    46        30      28000.0    933.3      0.0              counts = np.zeros(K)\n",
       "    47       120      31000.0    258.3      0.0              for k in range(K):\n",
       "    48        90    4892000.0  54355.6      0.0                  counts[k] = np.sum(Z[i,:,:] == k)\n",
       "    49        30     412000.0  13733.3      0.0              Q[i] = rng.dirichlet(counts + alpha)\n",
       "    50         1       2000.0   2000.0      0.0          if iteration % 100 == 0:\n",
       "    51         1     218000.0 218000.0      0.0              print(f\"Iteration {iteration}\")\n",
       "    52         1       3000.0   3000.0      0.0      return Q, P"
      ]
     },
     "metadata": {},
     "output_type": "display_data"
    }
   ],
   "source": [
    "%lprun -T prof0 -f gibbs_sampler gibbs_sampler(G, 3, rng, p=p, F=F, num_iterations=1)"
   ]
  },
  {
   "cell_type": "markdown",
   "id": "e6ee7f4b",
   "metadata": {},
   "source": [
    "### Example 2: Debugging NaNs\n",
    "\n",
    "- `NaN` (not a number) can crop up from time to time in numerical computations, especially if doing scientific computing.\n",
    "- `NaN`s in primal are usually pretty easy to debug.\n",
    "- `NaN`s in gradients are harder, but can usually still be figured out."
   ]
  },
  {
   "cell_type": "markdown",
   "id": "382ad926",
   "metadata": {},
   "source": [
    "### Debugging NaNs in Jax\n",
    "\n",
    "- `jax.config.update(\"jax_debug_nans\", True)` or `with jax.debug_nans(True):` ...\n",
    "- Limited use for backward pass NaNs.\n",
    "- Don`t rule out printf()-style debugging."
   ]
  },
  {
   "cell_type": "code",
   "execution_count": 10,
   "id": "c11e4d9c",
   "metadata": {},
   "outputs": [],
   "source": [
    "from jax import grad\n",
    "\n",
    "def f(x):\n",
    "    return x ** (1/3)\n",
    "\n",
    "x = 0.0\n",
    "primal_result = f(x)\n",
    "gradient_result = grad(f)(x)"
   ]
  },
  {
   "cell_type": "code",
   "execution_count": 20,
   "id": "509ca3e6",
   "metadata": {},
   "outputs": [
    {
     "ename": "FloatingPointError",
     "evalue": "invalid value (inf) encountered in jit(pow). Because jax_config.debug_nans.value and/or config.jax_debug_infs is set, the de-optimized function (i.e., the function as if the `jit` decorator were removed) was called in an attempt to get a more precise error message. However, the de-optimized function did not produce invalid values during its execution. This behavior can result from `jit` optimizations causing the invalid value to be produced. It may also arise from having nan/inf constants as outputs, like `jax.jit(lambda ...: jax.numpy.nan)(...)`. \n\nIt may be possible to avoid the invalid value by removing the `jit` decorator, at the cost of losing optimizations. \n\nIf you see this error, consider opening a bug report at https://github.com/jax-ml/jax.",
     "output_type": "error",
     "traceback": [
      "\u001b[0;31m---------------------------------------------------------------------------\u001b[0m",
      "\u001b[0;31mFloatingPointError\u001b[0m                        Traceback (most recent call last)",
      "    \u001b[0;31m[... skipping hidden 1 frame]\u001b[0m\n",
      "File \u001b[0;32m~/opt/jax_gpu/lib/python3.10/site-packages/jax/_src/profiler.py:333\u001b[0m, in \u001b[0;36mannotate_function.<locals>.wrapper\u001b[0;34m(*args, **kwargs)\u001b[0m\n\u001b[1;32m    332\u001b[0m \u001b[38;5;28;01mwith\u001b[39;00m TraceAnnotation(name, \u001b[38;5;241m*\u001b[39m\u001b[38;5;241m*\u001b[39mdecorator_kwargs):\n\u001b[0;32m--> 333\u001b[0m   \u001b[38;5;28;01mreturn\u001b[39;00m \u001b[43mfunc\u001b[49m\u001b[43m(\u001b[49m\u001b[38;5;241;43m*\u001b[39;49m\u001b[43margs\u001b[49m\u001b[43m,\u001b[49m\u001b[43m \u001b[49m\u001b[38;5;241;43m*\u001b[39;49m\u001b[38;5;241;43m*\u001b[39;49m\u001b[43mkwargs\u001b[49m\u001b[43m)\u001b[49m\n\u001b[1;32m    334\u001b[0m \u001b[38;5;28;01mreturn\u001b[39;00m wrapper\n",
      "File \u001b[0;32m~/opt/jax_gpu/lib/python3.10/site-packages/jax/_src/interpreters/pxla.py:1292\u001b[0m, in \u001b[0;36mExecuteReplicated.__call__\u001b[0;34m(self, *args)\u001b[0m\n\u001b[1;32m   1291\u001b[0m \u001b[38;5;28;01mfor\u001b[39;00m arrays \u001b[38;5;129;01min\u001b[39;00m out_arrays:\n\u001b[0;32m-> 1292\u001b[0m   \u001b[43mdispatch\u001b[49m\u001b[38;5;241;43m.\u001b[39;49m\u001b[43mcheck_special\u001b[49m\u001b[43m(\u001b[49m\u001b[38;5;28;43mself\u001b[39;49m\u001b[38;5;241;43m.\u001b[39;49m\u001b[43mname\u001b[49m\u001b[43m,\u001b[49m\u001b[43m \u001b[49m\u001b[43marrays\u001b[49m\u001b[43m)\u001b[49m\n\u001b[1;32m   1293\u001b[0m out \u001b[38;5;241m=\u001b[39m \u001b[38;5;28mself\u001b[39m\u001b[38;5;241m.\u001b[39mout_handler(out_arrays)\n",
      "File \u001b[0;32m~/opt/jax_gpu/lib/python3.10/site-packages/jax/_src/dispatch.py:327\u001b[0m, in \u001b[0;36mcheck_special\u001b[0;34m(name, bufs)\u001b[0m\n\u001b[1;32m    326\u001b[0m \u001b[38;5;28;01mfor\u001b[39;00m buf \u001b[38;5;129;01min\u001b[39;00m bufs:\n\u001b[0;32m--> 327\u001b[0m   \u001b[43m_check_special\u001b[49m\u001b[43m(\u001b[49m\u001b[43mname\u001b[49m\u001b[43m,\u001b[49m\u001b[43m \u001b[49m\u001b[43mbuf\u001b[49m\u001b[38;5;241;43m.\u001b[39;49m\u001b[43mdtype\u001b[49m\u001b[43m,\u001b[49m\u001b[43m \u001b[49m\u001b[43mbuf\u001b[49m\u001b[43m)\u001b[49m\n",
      "File \u001b[0;32m~/opt/jax_gpu/lib/python3.10/site-packages/jax/_src/dispatch.py:334\u001b[0m, in \u001b[0;36m_check_special\u001b[0;34m(name, dtype, buf)\u001b[0m\n\u001b[1;32m    333\u001b[0m \u001b[38;5;28;01mif\u001b[39;00m config\u001b[38;5;241m.\u001b[39mdebug_infs\u001b[38;5;241m.\u001b[39mvalue \u001b[38;5;129;01mand\u001b[39;00m np\u001b[38;5;241m.\u001b[39many(np\u001b[38;5;241m.\u001b[39misinf(np\u001b[38;5;241m.\u001b[39masarray(buf))):\n\u001b[0;32m--> 334\u001b[0m   \u001b[38;5;28;01mraise\u001b[39;00m \u001b[38;5;167;01mFloatingPointError\u001b[39;00m(\u001b[38;5;124mf\u001b[39m\u001b[38;5;124m\"\u001b[39m\u001b[38;5;124minvalid value (inf) encountered in \u001b[39m\u001b[38;5;132;01m{\u001b[39;00mname\u001b[38;5;132;01m}\u001b[39;00m\u001b[38;5;124m\"\u001b[39m)\n",
      "\u001b[0;31mFloatingPointError\u001b[0m: invalid value (inf) encountered in jit(_power)",
      "\nDuring handling of the above exception, another exception occurred:\n",
      "\u001b[0;31mFloatingPointError\u001b[0m                        Traceback (most recent call last)",
      "    \u001b[0;31m[... skipping hidden 1 frame]\u001b[0m\n",
      "File \u001b[0;32m~/opt/jax_gpu/lib/python3.10/site-packages/jax/_src/profiler.py:333\u001b[0m, in \u001b[0;36mannotate_function.<locals>.wrapper\u001b[0;34m(*args, **kwargs)\u001b[0m\n\u001b[1;32m    332\u001b[0m \u001b[38;5;28;01mwith\u001b[39;00m TraceAnnotation(name, \u001b[38;5;241m*\u001b[39m\u001b[38;5;241m*\u001b[39mdecorator_kwargs):\n\u001b[0;32m--> 333\u001b[0m   \u001b[38;5;28;01mreturn\u001b[39;00m \u001b[43mfunc\u001b[49m\u001b[43m(\u001b[49m\u001b[38;5;241;43m*\u001b[39;49m\u001b[43margs\u001b[49m\u001b[43m,\u001b[49m\u001b[43m \u001b[49m\u001b[38;5;241;43m*\u001b[39;49m\u001b[38;5;241;43m*\u001b[39;49m\u001b[43mkwargs\u001b[49m\u001b[43m)\u001b[49m\n\u001b[1;32m    334\u001b[0m \u001b[38;5;28;01mreturn\u001b[39;00m wrapper\n",
      "File \u001b[0;32m~/opt/jax_gpu/lib/python3.10/site-packages/jax/_src/interpreters/pxla.py:1292\u001b[0m, in \u001b[0;36mExecuteReplicated.__call__\u001b[0;34m(self, *args)\u001b[0m\n\u001b[1;32m   1291\u001b[0m \u001b[38;5;28;01mfor\u001b[39;00m arrays \u001b[38;5;129;01min\u001b[39;00m out_arrays:\n\u001b[0;32m-> 1292\u001b[0m   \u001b[43mdispatch\u001b[49m\u001b[38;5;241;43m.\u001b[39;49m\u001b[43mcheck_special\u001b[49m\u001b[43m(\u001b[49m\u001b[38;5;28;43mself\u001b[39;49m\u001b[38;5;241;43m.\u001b[39;49m\u001b[43mname\u001b[49m\u001b[43m,\u001b[49m\u001b[43m \u001b[49m\u001b[43marrays\u001b[49m\u001b[43m)\u001b[49m\n\u001b[1;32m   1293\u001b[0m out \u001b[38;5;241m=\u001b[39m \u001b[38;5;28mself\u001b[39m\u001b[38;5;241m.\u001b[39mout_handler(out_arrays)\n",
      "File \u001b[0;32m~/opt/jax_gpu/lib/python3.10/site-packages/jax/_src/dispatch.py:327\u001b[0m, in \u001b[0;36mcheck_special\u001b[0;34m(name, bufs)\u001b[0m\n\u001b[1;32m    326\u001b[0m \u001b[38;5;28;01mfor\u001b[39;00m buf \u001b[38;5;129;01min\u001b[39;00m bufs:\n\u001b[0;32m--> 327\u001b[0m   \u001b[43m_check_special\u001b[49m\u001b[43m(\u001b[49m\u001b[43mname\u001b[49m\u001b[43m,\u001b[49m\u001b[43m \u001b[49m\u001b[43mbuf\u001b[49m\u001b[38;5;241;43m.\u001b[39;49m\u001b[43mdtype\u001b[49m\u001b[43m,\u001b[49m\u001b[43m \u001b[49m\u001b[43mbuf\u001b[49m\u001b[43m)\u001b[49m\n",
      "File \u001b[0;32m~/opt/jax_gpu/lib/python3.10/site-packages/jax/_src/dispatch.py:334\u001b[0m, in \u001b[0;36m_check_special\u001b[0;34m(name, dtype, buf)\u001b[0m\n\u001b[1;32m    333\u001b[0m \u001b[38;5;28;01mif\u001b[39;00m config\u001b[38;5;241m.\u001b[39mdebug_infs\u001b[38;5;241m.\u001b[39mvalue \u001b[38;5;129;01mand\u001b[39;00m np\u001b[38;5;241m.\u001b[39many(np\u001b[38;5;241m.\u001b[39misinf(np\u001b[38;5;241m.\u001b[39masarray(buf))):\n\u001b[0;32m--> 334\u001b[0m   \u001b[38;5;28;01mraise\u001b[39;00m \u001b[38;5;167;01mFloatingPointError\u001b[39;00m(\u001b[38;5;124mf\u001b[39m\u001b[38;5;124m\"\u001b[39m\u001b[38;5;124minvalid value (inf) encountered in \u001b[39m\u001b[38;5;132;01m{\u001b[39;00mname\u001b[38;5;132;01m}\u001b[39;00m\u001b[38;5;124m\"\u001b[39m)\n",
      "\u001b[0;31mFloatingPointError\u001b[0m: invalid value (inf) encountered in jit(pow)",
      "\nDuring handling of the above exception, another exception occurred:\n",
      "\u001b[0;31mJaxStackTraceBeforeTransformation\u001b[0m         Traceback (most recent call last)",
      "File \u001b[0;32m/usr/lib/python3.10/runpy.py:196\u001b[0m, in \u001b[0;36m_run_module_as_main\u001b[0;34m()\u001b[0m\n\u001b[1;32m    195\u001b[0m     sys\u001b[38;5;241m.\u001b[39margv[\u001b[38;5;241m0\u001b[39m] \u001b[38;5;241m=\u001b[39m mod_spec\u001b[38;5;241m.\u001b[39morigin\n\u001b[0;32m--> 196\u001b[0m \u001b[38;5;28;01mreturn\u001b[39;00m _run_code(code, main_globals, \u001b[38;5;28;01mNone\u001b[39;00m,\n\u001b[1;32m    197\u001b[0m                  \u001b[38;5;124m\"\u001b[39m\u001b[38;5;124m__main__\u001b[39m\u001b[38;5;124m\"\u001b[39m, mod_spec)\n",
      "File \u001b[0;32m/usr/lib/python3.10/runpy.py:86\u001b[0m, in \u001b[0;36m_run_code\u001b[0;34m()\u001b[0m\n\u001b[1;32m     79\u001b[0m run_globals\u001b[38;5;241m.\u001b[39mupdate(\u001b[38;5;18m__name__\u001b[39m \u001b[38;5;241m=\u001b[39m mod_name,\n\u001b[1;32m     80\u001b[0m                    \u001b[38;5;18m__file__\u001b[39m \u001b[38;5;241m=\u001b[39m fname,\n\u001b[1;32m     81\u001b[0m                    __cached__ \u001b[38;5;241m=\u001b[39m cached,\n\u001b[0;32m   (...)\u001b[0m\n\u001b[1;32m     84\u001b[0m                    __package__ \u001b[38;5;241m=\u001b[39m pkg_name,\n\u001b[1;32m     85\u001b[0m                    __spec__ \u001b[38;5;241m=\u001b[39m mod_spec)\n\u001b[0;32m---> 86\u001b[0m exec(code, run_globals)\n\u001b[1;32m     87\u001b[0m \u001b[38;5;28;01mreturn\u001b[39;00m run_globals\n",
      "File \u001b[0;32m~/opt/jax_gpu/lib/python3.10/site-packages/ipykernel_launcher.py:18\u001b[0m\n\u001b[1;32m     16\u001b[0m \u001b[38;5;28;01mfrom\u001b[39;00m \u001b[38;5;21;01mipykernel\u001b[39;00m \u001b[38;5;28;01mimport\u001b[39;00m kernelapp \u001b[38;5;28;01mas\u001b[39;00m app\n\u001b[0;32m---> 18\u001b[0m app\u001b[38;5;241m.\u001b[39mlaunch_new_instance()\n",
      "File \u001b[0;32m~/opt/jax_gpu/lib/python3.10/site-packages/traitlets/config/application.py:1075\u001b[0m, in \u001b[0;36mlaunch_instance\u001b[0;34m()\u001b[0m\n\u001b[1;32m   1074\u001b[0m app\u001b[38;5;241m.\u001b[39minitialize(argv)\n\u001b[0;32m-> 1075\u001b[0m app\u001b[38;5;241m.\u001b[39mstart()\n",
      "File \u001b[0;32m~/opt/jax_gpu/lib/python3.10/site-packages/ipykernel/kernelapp.py:739\u001b[0m, in \u001b[0;36mstart\u001b[0;34m()\u001b[0m\n\u001b[1;32m    738\u001b[0m \u001b[38;5;28;01mtry\u001b[39;00m:\n\u001b[0;32m--> 739\u001b[0m     \u001b[38;5;28mself\u001b[39m\u001b[38;5;241m.\u001b[39mio_loop\u001b[38;5;241m.\u001b[39mstart()\n\u001b[1;32m    740\u001b[0m \u001b[38;5;28;01mexcept\u001b[39;00m \u001b[38;5;167;01mKeyboardInterrupt\u001b[39;00m:\n",
      "File \u001b[0;32m~/opt/jax_gpu/lib/python3.10/site-packages/tornado/platform/asyncio.py:205\u001b[0m, in \u001b[0;36mstart\u001b[0;34m()\u001b[0m\n\u001b[1;32m    204\u001b[0m \u001b[38;5;28;01mdef\u001b[39;00m \u001b[38;5;21mstart\u001b[39m(\u001b[38;5;28mself\u001b[39m) \u001b[38;5;241m-\u001b[39m\u001b[38;5;241m>\u001b[39m \u001b[38;5;28;01mNone\u001b[39;00m:\n\u001b[0;32m--> 205\u001b[0m     \u001b[38;5;28mself\u001b[39m\u001b[38;5;241m.\u001b[39masyncio_loop\u001b[38;5;241m.\u001b[39mrun_forever()\n",
      "File \u001b[0;32m/usr/lib/python3.10/asyncio/base_events.py:603\u001b[0m, in \u001b[0;36mrun_forever\u001b[0;34m()\u001b[0m\n\u001b[1;32m    602\u001b[0m \u001b[38;5;28;01mwhile\u001b[39;00m \u001b[38;5;28;01mTrue\u001b[39;00m:\n\u001b[0;32m--> 603\u001b[0m     \u001b[38;5;28mself\u001b[39m\u001b[38;5;241m.\u001b[39m_run_once()\n\u001b[1;32m    604\u001b[0m     \u001b[38;5;28;01mif\u001b[39;00m \u001b[38;5;28mself\u001b[39m\u001b[38;5;241m.\u001b[39m_stopping:\n",
      "File \u001b[0;32m/usr/lib/python3.10/asyncio/base_events.py:1909\u001b[0m, in \u001b[0;36m_run_once\u001b[0;34m()\u001b[0m\n\u001b[1;32m   1908\u001b[0m     \u001b[38;5;28;01melse\u001b[39;00m:\n\u001b[0;32m-> 1909\u001b[0m         handle\u001b[38;5;241m.\u001b[39m_run()\n\u001b[1;32m   1910\u001b[0m handle \u001b[38;5;241m=\u001b[39m \u001b[38;5;28;01mNone\u001b[39;00m\n",
      "File \u001b[0;32m/usr/lib/python3.10/asyncio/events.py:80\u001b[0m, in \u001b[0;36m_run\u001b[0;34m()\u001b[0m\n\u001b[1;32m     79\u001b[0m \u001b[38;5;28;01mtry\u001b[39;00m:\n\u001b[0;32m---> 80\u001b[0m     \u001b[38;5;28mself\u001b[39m\u001b[38;5;241m.\u001b[39m_context\u001b[38;5;241m.\u001b[39mrun(\u001b[38;5;28mself\u001b[39m\u001b[38;5;241m.\u001b[39m_callback, \u001b[38;5;241m*\u001b[39m\u001b[38;5;28mself\u001b[39m\u001b[38;5;241m.\u001b[39m_args)\n\u001b[1;32m     81\u001b[0m \u001b[38;5;28;01mexcept\u001b[39;00m (\u001b[38;5;167;01mSystemExit\u001b[39;00m, \u001b[38;5;167;01mKeyboardInterrupt\u001b[39;00m):\n",
      "File \u001b[0;32m~/opt/jax_gpu/lib/python3.10/site-packages/ipykernel/kernelbase.py:545\u001b[0m, in \u001b[0;36mdispatch_queue\u001b[0;34m()\u001b[0m\n\u001b[1;32m    544\u001b[0m \u001b[38;5;28;01mtry\u001b[39;00m:\n\u001b[0;32m--> 545\u001b[0m     \u001b[38;5;28;01mawait\u001b[39;00m \u001b[38;5;28mself\u001b[39m\u001b[38;5;241m.\u001b[39mprocess_one()\n\u001b[1;32m    546\u001b[0m \u001b[38;5;28;01mexcept\u001b[39;00m \u001b[38;5;167;01mException\u001b[39;00m:\n",
      "File \u001b[0;32m~/opt/jax_gpu/lib/python3.10/site-packages/ipykernel/kernelbase.py:534\u001b[0m, in \u001b[0;36mprocess_one\u001b[0;34m()\u001b[0m\n\u001b[1;32m    533\u001b[0m         \u001b[38;5;28;01mreturn\u001b[39;00m\n\u001b[0;32m--> 534\u001b[0m \u001b[38;5;28;01mawait\u001b[39;00m dispatch(\u001b[38;5;241m*\u001b[39margs)\n",
      "File \u001b[0;32m~/opt/jax_gpu/lib/python3.10/site-packages/ipykernel/kernelbase.py:437\u001b[0m, in \u001b[0;36mdispatch_shell\u001b[0;34m()\u001b[0m\n\u001b[1;32m    436\u001b[0m     \u001b[38;5;28;01mif\u001b[39;00m inspect\u001b[38;5;241m.\u001b[39misawaitable(result):\n\u001b[0;32m--> 437\u001b[0m         \u001b[38;5;28;01mawait\u001b[39;00m result\n\u001b[1;32m    438\u001b[0m \u001b[38;5;28;01mexcept\u001b[39;00m \u001b[38;5;167;01mException\u001b[39;00m:\n",
      "File \u001b[0;32m~/opt/jax_gpu/lib/python3.10/site-packages/ipykernel/ipkernel.py:362\u001b[0m, in \u001b[0;36mexecute_request\u001b[0;34m()\u001b[0m\n\u001b[1;32m    361\u001b[0m \u001b[38;5;28mself\u001b[39m\u001b[38;5;241m.\u001b[39m_associate_new_top_level_threads_with(parent_header)\n\u001b[0;32m--> 362\u001b[0m \u001b[38;5;28;01mawait\u001b[39;00m \u001b[38;5;28msuper\u001b[39m()\u001b[38;5;241m.\u001b[39mexecute_request(stream, ident, parent)\n",
      "File \u001b[0;32m~/opt/jax_gpu/lib/python3.10/site-packages/ipykernel/kernelbase.py:778\u001b[0m, in \u001b[0;36mexecute_request\u001b[0;34m()\u001b[0m\n\u001b[1;32m    777\u001b[0m \u001b[38;5;28;01mif\u001b[39;00m inspect\u001b[38;5;241m.\u001b[39misawaitable(reply_content):\n\u001b[0;32m--> 778\u001b[0m     reply_content \u001b[38;5;241m=\u001b[39m \u001b[38;5;28;01mawait\u001b[39;00m reply_content\n\u001b[1;32m    780\u001b[0m \u001b[38;5;66;03m# Flush output before sending the reply.\u001b[39;00m\n",
      "File \u001b[0;32m~/opt/jax_gpu/lib/python3.10/site-packages/ipykernel/ipkernel.py:449\u001b[0m, in \u001b[0;36mdo_execute\u001b[0;34m()\u001b[0m\n\u001b[1;32m    448\u001b[0m \u001b[38;5;28;01mif\u001b[39;00m accepts_params[\u001b[38;5;124m\"\u001b[39m\u001b[38;5;124mcell_id\u001b[39m\u001b[38;5;124m\"\u001b[39m]:\n\u001b[0;32m--> 449\u001b[0m     res \u001b[38;5;241m=\u001b[39m shell\u001b[38;5;241m.\u001b[39mrun_cell(\n\u001b[1;32m    450\u001b[0m         code,\n\u001b[1;32m    451\u001b[0m         store_history\u001b[38;5;241m=\u001b[39mstore_history,\n\u001b[1;32m    452\u001b[0m         silent\u001b[38;5;241m=\u001b[39msilent,\n\u001b[1;32m    453\u001b[0m         cell_id\u001b[38;5;241m=\u001b[39mcell_id,\n\u001b[1;32m    454\u001b[0m     )\n\u001b[1;32m    455\u001b[0m \u001b[38;5;28;01melse\u001b[39;00m:\n",
      "File \u001b[0;32m~/opt/jax_gpu/lib/python3.10/site-packages/ipykernel/zmqshell.py:549\u001b[0m, in \u001b[0;36mrun_cell\u001b[0;34m()\u001b[0m\n\u001b[1;32m    548\u001b[0m \u001b[38;5;28mself\u001b[39m\u001b[38;5;241m.\u001b[39m_last_traceback \u001b[38;5;241m=\u001b[39m \u001b[38;5;28;01mNone\u001b[39;00m\n\u001b[0;32m--> 549\u001b[0m \u001b[38;5;28;01mreturn\u001b[39;00m \u001b[38;5;28msuper\u001b[39m()\u001b[38;5;241m.\u001b[39mrun_cell(\u001b[38;5;241m*\u001b[39margs, \u001b[38;5;241m*\u001b[39m\u001b[38;5;241m*\u001b[39mkwargs)\n",
      "File \u001b[0;32m~/opt/jax_gpu/lib/python3.10/site-packages/IPython/core/interactiveshell.py:3075\u001b[0m, in \u001b[0;36mrun_cell\u001b[0;34m()\u001b[0m\n\u001b[1;32m   3074\u001b[0m \u001b[38;5;28;01mtry\u001b[39;00m:\n\u001b[0;32m-> 3075\u001b[0m     result \u001b[38;5;241m=\u001b[39m \u001b[38;5;28mself\u001b[39m\u001b[38;5;241m.\u001b[39m_run_cell(\n\u001b[1;32m   3076\u001b[0m         raw_cell, store_history, silent, shell_futures, cell_id\n\u001b[1;32m   3077\u001b[0m     )\n\u001b[1;32m   3078\u001b[0m \u001b[38;5;28;01mfinally\u001b[39;00m:\n",
      "File \u001b[0;32m~/opt/jax_gpu/lib/python3.10/site-packages/IPython/core/interactiveshell.py:3130\u001b[0m, in \u001b[0;36m_run_cell\u001b[0;34m()\u001b[0m\n\u001b[1;32m   3129\u001b[0m \u001b[38;5;28;01mtry\u001b[39;00m:\n\u001b[0;32m-> 3130\u001b[0m     result \u001b[38;5;241m=\u001b[39m runner(coro)\n\u001b[1;32m   3131\u001b[0m \u001b[38;5;28;01mexcept\u001b[39;00m \u001b[38;5;167;01mBaseException\u001b[39;00m \u001b[38;5;28;01mas\u001b[39;00m e:\n",
      "File \u001b[0;32m~/opt/jax_gpu/lib/python3.10/site-packages/IPython/core/async_helpers.py:129\u001b[0m, in \u001b[0;36m_pseudo_sync_runner\u001b[0;34m()\u001b[0m\n\u001b[1;32m    128\u001b[0m \u001b[38;5;28;01mtry\u001b[39;00m:\n\u001b[0;32m--> 129\u001b[0m     coro\u001b[38;5;241m.\u001b[39msend(\u001b[38;5;28;01mNone\u001b[39;00m)\n\u001b[1;32m    130\u001b[0m \u001b[38;5;28;01mexcept\u001b[39;00m \u001b[38;5;167;01mStopIteration\u001b[39;00m \u001b[38;5;28;01mas\u001b[39;00m exc:\n",
      "File \u001b[0;32m~/opt/jax_gpu/lib/python3.10/site-packages/IPython/core/interactiveshell.py:3334\u001b[0m, in \u001b[0;36mrun_cell_async\u001b[0;34m()\u001b[0m\n\u001b[1;32m   3331\u001b[0m interactivity \u001b[38;5;241m=\u001b[39m \u001b[38;5;124m\"\u001b[39m\u001b[38;5;124mnone\u001b[39m\u001b[38;5;124m\"\u001b[39m \u001b[38;5;28;01mif\u001b[39;00m silent \u001b[38;5;28;01melse\u001b[39;00m \u001b[38;5;28mself\u001b[39m\u001b[38;5;241m.\u001b[39mast_node_interactivity\n\u001b[0;32m-> 3334\u001b[0m has_raised \u001b[38;5;241m=\u001b[39m \u001b[38;5;28;01mawait\u001b[39;00m \u001b[38;5;28mself\u001b[39m\u001b[38;5;241m.\u001b[39mrun_ast_nodes(code_ast\u001b[38;5;241m.\u001b[39mbody, cell_name,\n\u001b[1;32m   3335\u001b[0m        interactivity\u001b[38;5;241m=\u001b[39minteractivity, compiler\u001b[38;5;241m=\u001b[39mcompiler, result\u001b[38;5;241m=\u001b[39mresult)\n\u001b[1;32m   3337\u001b[0m \u001b[38;5;28mself\u001b[39m\u001b[38;5;241m.\u001b[39mlast_execution_succeeded \u001b[38;5;241m=\u001b[39m \u001b[38;5;129;01mnot\u001b[39;00m has_raised\n",
      "File \u001b[0;32m~/opt/jax_gpu/lib/python3.10/site-packages/IPython/core/interactiveshell.py:3517\u001b[0m, in \u001b[0;36mrun_ast_nodes\u001b[0;34m()\u001b[0m\n\u001b[1;32m   3516\u001b[0m     asy \u001b[38;5;241m=\u001b[39m compare(code)\n\u001b[0;32m-> 3517\u001b[0m \u001b[38;5;28;01mif\u001b[39;00m \u001b[38;5;28;01mawait\u001b[39;00m \u001b[38;5;28mself\u001b[39m\u001b[38;5;241m.\u001b[39mrun_code(code, result, async_\u001b[38;5;241m=\u001b[39masy):\n\u001b[1;32m   3518\u001b[0m     \u001b[38;5;28;01mreturn\u001b[39;00m \u001b[38;5;28;01mTrue\u001b[39;00m\n",
      "File \u001b[0;32m~/opt/jax_gpu/lib/python3.10/site-packages/IPython/core/interactiveshell.py:3577\u001b[0m, in \u001b[0;36mrun_code\u001b[0;34m()\u001b[0m\n\u001b[1;32m   3576\u001b[0m     \u001b[38;5;28;01melse\u001b[39;00m:\n\u001b[0;32m-> 3577\u001b[0m         exec(code_obj, \u001b[38;5;28mself\u001b[39m\u001b[38;5;241m.\u001b[39muser_global_ns, \u001b[38;5;28mself\u001b[39m\u001b[38;5;241m.\u001b[39muser_ns)\n\u001b[1;32m   3578\u001b[0m \u001b[38;5;28;01mfinally\u001b[39;00m:\n\u001b[1;32m   3579\u001b[0m     \u001b[38;5;66;03m# Reset our crash handler in place\u001b[39;00m\n",
      "Cell \u001b[0;32mIn[17], line 8\u001b[0m\n\u001b[1;32m      7\u001b[0m primal_result \u001b[38;5;241m=\u001b[39m f(x)\n\u001b[0;32m----> 8\u001b[0m gradient_result \u001b[38;5;241m=\u001b[39m grad(f)(x)\n",
      "Cell \u001b[0;32mIn[17], line 4\u001b[0m, in \u001b[0;36mf\u001b[0;34m()\u001b[0m\n\u001b[1;32m      3\u001b[0m \u001b[38;5;28;01mdef\u001b[39;00m \u001b[38;5;21mf\u001b[39m(x):\n\u001b[0;32m----> 4\u001b[0m     \u001b[38;5;28;01mreturn\u001b[39;00m x \u001b[38;5;241m*\u001b[39m\u001b[38;5;241m*\u001b[39m (\u001b[38;5;241m1\u001b[39m\u001b[38;5;241m/\u001b[39m\u001b[38;5;241m3\u001b[39m)\n",
      "File \u001b[0;32m~/opt/jax_gpu/lib/python3.10/site-packages/jax/_src/numpy/array_methods.py:1050\u001b[0m, in \u001b[0;36mop\u001b[0;34m()\u001b[0m\n\u001b[1;32m   1049\u001b[0m \u001b[38;5;28;01mdef\u001b[39;00m \u001b[38;5;21mop\u001b[39m(\u001b[38;5;28mself\u001b[39m, \u001b[38;5;241m*\u001b[39margs):\n\u001b[0;32m-> 1050\u001b[0m   \u001b[38;5;28;01mreturn\u001b[39;00m \u001b[38;5;28mgetattr\u001b[39m(\u001b[38;5;28mself\u001b[39m\u001b[38;5;241m.\u001b[39maval, \u001b[38;5;124mf\u001b[39m\u001b[38;5;124m\"\u001b[39m\u001b[38;5;124m_\u001b[39m\u001b[38;5;132;01m{\u001b[39;00mname\u001b[38;5;132;01m}\u001b[39;00m\u001b[38;5;124m\"\u001b[39m)(\u001b[38;5;28mself\u001b[39m, \u001b[38;5;241m*\u001b[39margs)\n",
      "File \u001b[0;32m~/opt/jax_gpu/lib/python3.10/site-packages/jax/_src/numpy/array_methods.py:573\u001b[0m, in \u001b[0;36mdeferring_binary_op\u001b[0;34m()\u001b[0m\n\u001b[1;32m    572\u001b[0m \u001b[38;5;28;01mif\u001b[39;00m \u001b[38;5;28misinstance\u001b[39m(other, _accepted_binop_types):\n\u001b[0;32m--> 573\u001b[0m   \u001b[38;5;28;01mreturn\u001b[39;00m binary_op(\u001b[38;5;241m*\u001b[39margs)\n\u001b[1;32m    574\u001b[0m \u001b[38;5;66;03m# Note: don't use isinstance here, because we don't want to raise for\u001b[39;00m\n\u001b[1;32m    575\u001b[0m \u001b[38;5;66;03m# subclasses, e.g. NamedTuple objects that may override operators.\u001b[39;00m\n",
      "File \u001b[0;32m~/opt/jax_gpu/lib/python3.10/site-packages/jax/_src/numpy/ufuncs.py:2476\u001b[0m, in \u001b[0;36mpower\u001b[0;34m()\u001b[0m\n\u001b[1;32m   2475\u001b[0m \u001b[38;5;66;03m# Handle cases #2 and #3 under a jit:\u001b[39;00m\n\u001b[0;32m-> 2476\u001b[0m \u001b[38;5;28;01mreturn\u001b[39;00m _power(x1, x2)\n",
      "File \u001b[0;32m~/opt/jax_gpu/lib/python3.10/site-packages/jax/_src/numpy/ufuncs.py:2500\u001b[0m, in \u001b[0;36m_power\u001b[0;34m()\u001b[0m\n\u001b[1;32m   2499\u001b[0m \u001b[38;5;66;03m# Case 4: do promotion first\u001b[39;00m\n\u001b[0;32m-> 2500\u001b[0m \u001b[38;5;28;01mreturn\u001b[39;00m lax\u001b[38;5;241m.\u001b[39mpow(x1_, x2_)\n",
      "\u001b[0;31mJaxStackTraceBeforeTransformation\u001b[0m: FloatingPointError: invalid value (inf) encountered in jit(pow). Because jax_config.debug_nans.value and/or config.jax_debug_infs is set, the de-optimized function (i.e., the function as if the `jit` decorator were removed) was called in an attempt to get a more precise error message. However, the de-optimized function did not produce invalid values during its execution. This behavior can result from `jit` optimizations causing the invalid value to be produced. It may also arise from having nan/inf constants as outputs, like `jax.jit(lambda ...: jax.numpy.nan)(...)`. \n\nIt may be possible to avoid the invalid value by removing the `jit` decorator, at the cost of losing optimizations. \n\nIf you see this error, consider opening a bug report at https://github.com/jax-ml/jax.\n\nThe preceding stack trace is the source of the JAX operation that, once transformed by JAX, triggered the following exception.\n\n--------------------",
      "\nThe above exception was the direct cause of the following exception:\n",
      "\u001b[0;31mFloatingPointError\u001b[0m                        Traceback (most recent call last)",
      "Cell \u001b[0;32mIn[20], line 4\u001b[0m\n\u001b[1;32m      1\u001b[0m \u001b[38;5;28;01mimport\u001b[39;00m \u001b[38;5;21;01mjax\u001b[39;00m\n\u001b[1;32m      3\u001b[0m \u001b[38;5;28;01mwith\u001b[39;00m jax\u001b[38;5;241m.\u001b[39mdebug_infs(\u001b[38;5;28;01mTrue\u001b[39;00m):\n\u001b[0;32m----> 4\u001b[0m     \u001b[43mgrad\u001b[49m\u001b[43m(\u001b[49m\u001b[43mf\u001b[49m\u001b[43m)\u001b[49m\u001b[43m(\u001b[49m\u001b[43mx\u001b[49m\u001b[43m)\u001b[49m\n",
      "    \u001b[0;31m[... skipping hidden 10 frame]\u001b[0m\n",
      "Cell \u001b[0;32mIn[17], line 4\u001b[0m, in \u001b[0;36mf\u001b[0;34m(x)\u001b[0m\n\u001b[1;32m      3\u001b[0m \u001b[38;5;28;01mdef\u001b[39;00m \u001b[38;5;21mf\u001b[39m(x):\n\u001b[0;32m----> 4\u001b[0m     \u001b[38;5;28;01mreturn\u001b[39;00m \u001b[43mx\u001b[49m\u001b[43m \u001b[49m\u001b[38;5;241;43m*\u001b[39;49m\u001b[38;5;241;43m*\u001b[39;49m\u001b[43m \u001b[49m\u001b[43m(\u001b[49m\u001b[38;5;241;43m1\u001b[39;49m\u001b[38;5;241;43m/\u001b[39;49m\u001b[38;5;241;43m3\u001b[39;49m\u001b[43m)\u001b[49m\n",
      "File \u001b[0;32m~/opt/jax_gpu/lib/python3.10/site-packages/jax/_src/numpy/array_methods.py:1050\u001b[0m, in \u001b[0;36m_forward_operator_to_aval.<locals>.op\u001b[0;34m(self, *args)\u001b[0m\n\u001b[1;32m   1049\u001b[0m \u001b[38;5;28;01mdef\u001b[39;00m \u001b[38;5;21mop\u001b[39m(\u001b[38;5;28mself\u001b[39m, \u001b[38;5;241m*\u001b[39margs):\n\u001b[0;32m-> 1050\u001b[0m   \u001b[38;5;28;01mreturn\u001b[39;00m \u001b[38;5;28;43mgetattr\u001b[39;49m\u001b[43m(\u001b[49m\u001b[38;5;28;43mself\u001b[39;49m\u001b[38;5;241;43m.\u001b[39;49m\u001b[43maval\u001b[49m\u001b[43m,\u001b[49m\u001b[43m \u001b[49m\u001b[38;5;124;43mf\u001b[39;49m\u001b[38;5;124;43m\"\u001b[39;49m\u001b[38;5;124;43m_\u001b[39;49m\u001b[38;5;132;43;01m{\u001b[39;49;00m\u001b[43mname\u001b[49m\u001b[38;5;132;43;01m}\u001b[39;49;00m\u001b[38;5;124;43m\"\u001b[39;49m\u001b[43m)\u001b[49m\u001b[43m(\u001b[49m\u001b[38;5;28;43mself\u001b[39;49m\u001b[43m,\u001b[49m\u001b[43m \u001b[49m\u001b[38;5;241;43m*\u001b[39;49m\u001b[43margs\u001b[49m\u001b[43m)\u001b[49m\n",
      "File \u001b[0;32m~/opt/jax_gpu/lib/python3.10/site-packages/jax/_src/numpy/array_methods.py:573\u001b[0m, in \u001b[0;36m_defer_to_unrecognized_arg.<locals>.deferring_binary_op\u001b[0;34m(self, other)\u001b[0m\n\u001b[1;32m    571\u001b[0m args \u001b[38;5;241m=\u001b[39m (other, \u001b[38;5;28mself\u001b[39m) \u001b[38;5;28;01mif\u001b[39;00m swap \u001b[38;5;28;01melse\u001b[39;00m (\u001b[38;5;28mself\u001b[39m, other)\n\u001b[1;32m    572\u001b[0m \u001b[38;5;28;01mif\u001b[39;00m \u001b[38;5;28misinstance\u001b[39m(other, _accepted_binop_types):\n\u001b[0;32m--> 573\u001b[0m   \u001b[38;5;28;01mreturn\u001b[39;00m \u001b[43mbinary_op\u001b[49m\u001b[43m(\u001b[49m\u001b[38;5;241;43m*\u001b[39;49m\u001b[43margs\u001b[49m\u001b[43m)\u001b[49m\n\u001b[1;32m    574\u001b[0m \u001b[38;5;66;03m# Note: don't use isinstance here, because we don't want to raise for\u001b[39;00m\n\u001b[1;32m    575\u001b[0m \u001b[38;5;66;03m# subclasses, e.g. NamedTuple objects that may override operators.\u001b[39;00m\n\u001b[1;32m    576\u001b[0m \u001b[38;5;28;01mif\u001b[39;00m \u001b[38;5;28mtype\u001b[39m(other) \u001b[38;5;129;01min\u001b[39;00m _rejected_binop_types:\n",
      "File \u001b[0;32m~/opt/jax_gpu/lib/python3.10/site-packages/jax/_src/numpy/ufuncs.py:2476\u001b[0m, in \u001b[0;36mpower\u001b[0;34m(x1, x2)\u001b[0m\n\u001b[1;32m   2473\u001b[0m     \u001b[38;5;28;01mreturn\u001b[39;00m lax\u001b[38;5;241m.\u001b[39minteger_pow(x1, x2)\n\u001b[1;32m   2475\u001b[0m \u001b[38;5;66;03m# Handle cases #2 and #3 under a jit:\u001b[39;00m\n\u001b[0;32m-> 2476\u001b[0m \u001b[38;5;28;01mreturn\u001b[39;00m \u001b[43m_power\u001b[49m\u001b[43m(\u001b[49m\u001b[43mx1\u001b[49m\u001b[43m,\u001b[49m\u001b[43m \u001b[49m\u001b[43mx2\u001b[49m\u001b[43m)\u001b[49m\n",
      "    \u001b[0;31m[... skipping hidden 31 frame]\u001b[0m\n",
      "File \u001b[0;32m~/opt/jax_gpu/lib/python3.10/site-packages/jax/_src/pjit.py:1692\u001b[0m, in \u001b[0;36m_pjit_call_impl_python\u001b[0;34m(jaxpr, in_shardings, out_shardings, in_layouts, out_layouts, resource_env, donated_invars, name, keep_unused, inline, *args)\u001b[0m\n\u001b[1;32m   1675\u001b[0m \u001b[38;5;66;03m# If control reaches this line, we got a NaN on the output of `compiled`\u001b[39;00m\n\u001b[1;32m   1676\u001b[0m \u001b[38;5;66;03m# but not `fun.call_wrapped` on the same arguments. Let's tell the user.\u001b[39;00m\n\u001b[1;32m   1677\u001b[0m msg \u001b[38;5;241m=\u001b[39m (\u001b[38;5;124mf\u001b[39m\u001b[38;5;124m\"\u001b[39m\u001b[38;5;132;01m{\u001b[39;00m\u001b[38;5;28mstr\u001b[39m(e)\u001b[38;5;132;01m}\u001b[39;00m\u001b[38;5;124m. Because \u001b[39m\u001b[38;5;124m\"\u001b[39m\n\u001b[1;32m   1678\u001b[0m        \u001b[38;5;124m\"\u001b[39m\u001b[38;5;124mjax_config.debug_nans.value and/or config.jax_debug_infs is set, the \u001b[39m\u001b[38;5;124m\"\u001b[39m\n\u001b[1;32m   1679\u001b[0m        \u001b[38;5;124m\"\u001b[39m\u001b[38;5;124mde-optimized function (i.e., the function as if the `jit` \u001b[39m\u001b[38;5;124m\"\u001b[39m\n\u001b[0;32m   (...)\u001b[0m\n\u001b[1;32m   1690\u001b[0m        \u001b[38;5;124m\"\u001b[39m\u001b[38;5;124mIf you see this error, consider opening a bug report at \u001b[39m\u001b[38;5;124m\"\u001b[39m\n\u001b[1;32m   1691\u001b[0m        \u001b[38;5;124m\"\u001b[39m\u001b[38;5;124mhttps://github.com/jax-ml/jax.\u001b[39m\u001b[38;5;124m\"\u001b[39m)\n\u001b[0;32m-> 1692\u001b[0m \u001b[38;5;28;01mraise\u001b[39;00m \u001b[38;5;167;01mFloatingPointError\u001b[39;00m(msg)\n",
      "\u001b[0;31mFloatingPointError\u001b[0m: invalid value (inf) encountered in jit(pow). Because jax_config.debug_nans.value and/or config.jax_debug_infs is set, the de-optimized function (i.e., the function as if the `jit` decorator were removed) was called in an attempt to get a more precise error message. However, the de-optimized function did not produce invalid values during its execution. This behavior can result from `jit` optimizations causing the invalid value to be produced. It may also arise from having nan/inf constants as outputs, like `jax.jit(lambda ...: jax.numpy.nan)(...)`. \n\nIt may be possible to avoid the invalid value by removing the `jit` decorator, at the cost of losing optimizations. \n\nIf you see this error, consider opening a bug report at https://github.com/jax-ml/jax."
     ]
    }
   ],
   "source": [
    "import jax\n",
    "\n",
    "with jax.debug_infs(True):\n",
    "    grad(f)(x)"
   ]
  },
  {
   "cell_type": "code",
   "execution_count": 23,
   "id": "935a6a70",
   "metadata": {},
   "outputs": [
    {
     "data": {
      "text/plain": [
       "Array(nan, dtype=float32, weak_type=True)"
      ]
     },
     "execution_count": 23,
     "metadata": {},
     "output_type": "execute_result"
    }
   ],
   "source": [
    "import jax.numpy as jnp\n",
    "\n",
    "def f(x):\n",
    "    return x * jnp.log(x)"
   ]
  },
  {
   "cell_type": "code",
   "execution_count": 30,
   "id": "a8e9d28e",
   "metadata": {},
   "outputs": [
    {
     "name": "stdout",
     "output_type": "stream",
     "text": [
      "Invalid nan value encountered in the output of a C++-jit/pmap function. Calling the de-optimized version.\n",
      "Invalid nan value encountered in the output of a C++-jit/pmap function. Calling the de-optimized version.\n"
     ]
    },
    {
     "ename": "FloatingPointError",
     "evalue": "invalid value (nan) encountered in jit(mul). Because jax_config.debug_nans.value and/or config.jax_debug_infs is set, the de-optimized function (i.e., the function as if the `jit` decorator were removed) was called in an attempt to get a more precise error message. However, the de-optimized function did not produce invalid values during its execution. This behavior can result from `jit` optimizations causing the invalid value to be produced. It may also arise from having nan/inf constants as outputs, like `jax.jit(lambda ...: jax.numpy.nan)(...)`. \n\nIt may be possible to avoid the invalid value by removing the `jit` decorator, at the cost of losing optimizations. \n\nIf you see this error, consider opening a bug report at https://github.com/jax-ml/jax.",
     "output_type": "error",
     "traceback": [
      "\u001b[0;31m---------------------------------------------------------------------------\u001b[0m",
      "\u001b[0;31mFloatingPointError\u001b[0m                        Traceback (most recent call last)",
      "    \u001b[0;31m[... skipping hidden 1 frame]\u001b[0m\n",
      "File \u001b[0;32m~/opt/jax_gpu/lib/python3.10/site-packages/jax/_src/dispatch.py:327\u001b[0m, in \u001b[0;36mcheck_special\u001b[0;34m(name, bufs)\u001b[0m\n\u001b[1;32m    326\u001b[0m \u001b[38;5;28;01mfor\u001b[39;00m buf \u001b[38;5;129;01min\u001b[39;00m bufs:\n\u001b[0;32m--> 327\u001b[0m   \u001b[43m_check_special\u001b[49m\u001b[43m(\u001b[49m\u001b[43mname\u001b[49m\u001b[43m,\u001b[49m\u001b[43m \u001b[49m\u001b[43mbuf\u001b[49m\u001b[38;5;241;43m.\u001b[39;49m\u001b[43mdtype\u001b[49m\u001b[43m,\u001b[49m\u001b[43m \u001b[49m\u001b[43mbuf\u001b[49m\u001b[43m)\u001b[49m\n",
      "File \u001b[0;32m~/opt/jax_gpu/lib/python3.10/site-packages/jax/_src/dispatch.py:332\u001b[0m, in \u001b[0;36m_check_special\u001b[0;34m(name, dtype, buf)\u001b[0m\n\u001b[1;32m    331\u001b[0m \u001b[38;5;28;01mif\u001b[39;00m config\u001b[38;5;241m.\u001b[39mdebug_nans\u001b[38;5;241m.\u001b[39mvalue \u001b[38;5;129;01mand\u001b[39;00m np\u001b[38;5;241m.\u001b[39many(np\u001b[38;5;241m.\u001b[39misnan(np\u001b[38;5;241m.\u001b[39masarray(buf))):\n\u001b[0;32m--> 332\u001b[0m   \u001b[38;5;28;01mraise\u001b[39;00m \u001b[38;5;167;01mFloatingPointError\u001b[39;00m(\u001b[38;5;124mf\u001b[39m\u001b[38;5;124m\"\u001b[39m\u001b[38;5;124minvalid value (nan) encountered in \u001b[39m\u001b[38;5;132;01m{\u001b[39;00mname\u001b[38;5;132;01m}\u001b[39;00m\u001b[38;5;124m\"\u001b[39m)\n\u001b[1;32m    333\u001b[0m \u001b[38;5;28;01mif\u001b[39;00m config\u001b[38;5;241m.\u001b[39mdebug_infs\u001b[38;5;241m.\u001b[39mvalue \u001b[38;5;129;01mand\u001b[39;00m np\u001b[38;5;241m.\u001b[39many(np\u001b[38;5;241m.\u001b[39misinf(np\u001b[38;5;241m.\u001b[39masarray(buf))):\n",
      "\u001b[0;31mFloatingPointError\u001b[0m: invalid value (nan) encountered in pjit",
      "\nDuring handling of the above exception, another exception occurred:\n",
      "\u001b[0;31mFloatingPointError\u001b[0m                        Traceback (most recent call last)",
      "    \u001b[0;31m[... skipping hidden 1 frame]\u001b[0m\n",
      "File \u001b[0;32m~/opt/jax_gpu/lib/python3.10/site-packages/jax/_src/dispatch.py:327\u001b[0m, in \u001b[0;36mcheck_special\u001b[0;34m(name, bufs)\u001b[0m\n\u001b[1;32m    326\u001b[0m \u001b[38;5;28;01mfor\u001b[39;00m buf \u001b[38;5;129;01min\u001b[39;00m bufs:\n\u001b[0;32m--> 327\u001b[0m   \u001b[43m_check_special\u001b[49m\u001b[43m(\u001b[49m\u001b[43mname\u001b[49m\u001b[43m,\u001b[49m\u001b[43m \u001b[49m\u001b[43mbuf\u001b[49m\u001b[38;5;241;43m.\u001b[39;49m\u001b[43mdtype\u001b[49m\u001b[43m,\u001b[49m\u001b[43m \u001b[49m\u001b[43mbuf\u001b[49m\u001b[43m)\u001b[49m\n",
      "File \u001b[0;32m~/opt/jax_gpu/lib/python3.10/site-packages/jax/_src/dispatch.py:332\u001b[0m, in \u001b[0;36m_check_special\u001b[0;34m(name, dtype, buf)\u001b[0m\n\u001b[1;32m    331\u001b[0m \u001b[38;5;28;01mif\u001b[39;00m config\u001b[38;5;241m.\u001b[39mdebug_nans\u001b[38;5;241m.\u001b[39mvalue \u001b[38;5;129;01mand\u001b[39;00m np\u001b[38;5;241m.\u001b[39many(np\u001b[38;5;241m.\u001b[39misnan(np\u001b[38;5;241m.\u001b[39masarray(buf))):\n\u001b[0;32m--> 332\u001b[0m   \u001b[38;5;28;01mraise\u001b[39;00m \u001b[38;5;167;01mFloatingPointError\u001b[39;00m(\u001b[38;5;124mf\u001b[39m\u001b[38;5;124m\"\u001b[39m\u001b[38;5;124minvalid value (nan) encountered in \u001b[39m\u001b[38;5;132;01m{\u001b[39;00mname\u001b[38;5;132;01m}\u001b[39;00m\u001b[38;5;124m\"\u001b[39m)\n\u001b[1;32m    333\u001b[0m \u001b[38;5;28;01mif\u001b[39;00m config\u001b[38;5;241m.\u001b[39mdebug_infs\u001b[38;5;241m.\u001b[39mvalue \u001b[38;5;129;01mand\u001b[39;00m np\u001b[38;5;241m.\u001b[39many(np\u001b[38;5;241m.\u001b[39misinf(np\u001b[38;5;241m.\u001b[39masarray(buf))):\n",
      "\u001b[0;31mFloatingPointError\u001b[0m: invalid value (nan) encountered in pjit",
      "\nDuring handling of the above exception, another exception occurred:\n",
      "\u001b[0;31mFloatingPointError\u001b[0m                        Traceback (most recent call last)",
      "    \u001b[0;31m[... skipping hidden 1 frame]\u001b[0m\n",
      "File \u001b[0;32m~/opt/jax_gpu/lib/python3.10/site-packages/jax/_src/profiler.py:333\u001b[0m, in \u001b[0;36mannotate_function.<locals>.wrapper\u001b[0;34m(*args, **kwargs)\u001b[0m\n\u001b[1;32m    332\u001b[0m \u001b[38;5;28;01mwith\u001b[39;00m TraceAnnotation(name, \u001b[38;5;241m*\u001b[39m\u001b[38;5;241m*\u001b[39mdecorator_kwargs):\n\u001b[0;32m--> 333\u001b[0m   \u001b[38;5;28;01mreturn\u001b[39;00m \u001b[43mfunc\u001b[49m\u001b[43m(\u001b[49m\u001b[38;5;241;43m*\u001b[39;49m\u001b[43margs\u001b[49m\u001b[43m,\u001b[49m\u001b[43m \u001b[49m\u001b[38;5;241;43m*\u001b[39;49m\u001b[38;5;241;43m*\u001b[39;49m\u001b[43mkwargs\u001b[49m\u001b[43m)\u001b[49m\n\u001b[1;32m    334\u001b[0m \u001b[38;5;28;01mreturn\u001b[39;00m wrapper\n",
      "File \u001b[0;32m~/opt/jax_gpu/lib/python3.10/site-packages/jax/_src/interpreters/pxla.py:1292\u001b[0m, in \u001b[0;36mExecuteReplicated.__call__\u001b[0;34m(self, *args)\u001b[0m\n\u001b[1;32m   1291\u001b[0m \u001b[38;5;28;01mfor\u001b[39;00m arrays \u001b[38;5;129;01min\u001b[39;00m out_arrays:\n\u001b[0;32m-> 1292\u001b[0m   \u001b[43mdispatch\u001b[49m\u001b[38;5;241;43m.\u001b[39;49m\u001b[43mcheck_special\u001b[49m\u001b[43m(\u001b[49m\u001b[38;5;28;43mself\u001b[39;49m\u001b[38;5;241;43m.\u001b[39;49m\u001b[43mname\u001b[49m\u001b[43m,\u001b[49m\u001b[43m \u001b[49m\u001b[43marrays\u001b[49m\u001b[43m)\u001b[49m\n\u001b[1;32m   1293\u001b[0m out \u001b[38;5;241m=\u001b[39m \u001b[38;5;28mself\u001b[39m\u001b[38;5;241m.\u001b[39mout_handler(out_arrays)\n",
      "File \u001b[0;32m~/opt/jax_gpu/lib/python3.10/site-packages/jax/_src/dispatch.py:327\u001b[0m, in \u001b[0;36mcheck_special\u001b[0;34m(name, bufs)\u001b[0m\n\u001b[1;32m    326\u001b[0m \u001b[38;5;28;01mfor\u001b[39;00m buf \u001b[38;5;129;01min\u001b[39;00m bufs:\n\u001b[0;32m--> 327\u001b[0m   \u001b[43m_check_special\u001b[49m\u001b[43m(\u001b[49m\u001b[43mname\u001b[49m\u001b[43m,\u001b[49m\u001b[43m \u001b[49m\u001b[43mbuf\u001b[49m\u001b[38;5;241;43m.\u001b[39;49m\u001b[43mdtype\u001b[49m\u001b[43m,\u001b[49m\u001b[43m \u001b[49m\u001b[43mbuf\u001b[49m\u001b[43m)\u001b[49m\n",
      "File \u001b[0;32m~/opt/jax_gpu/lib/python3.10/site-packages/jax/_src/dispatch.py:332\u001b[0m, in \u001b[0;36m_check_special\u001b[0;34m(name, dtype, buf)\u001b[0m\n\u001b[1;32m    331\u001b[0m \u001b[38;5;28;01mif\u001b[39;00m config\u001b[38;5;241m.\u001b[39mdebug_nans\u001b[38;5;241m.\u001b[39mvalue \u001b[38;5;129;01mand\u001b[39;00m np\u001b[38;5;241m.\u001b[39many(np\u001b[38;5;241m.\u001b[39misnan(np\u001b[38;5;241m.\u001b[39masarray(buf))):\n\u001b[0;32m--> 332\u001b[0m   \u001b[38;5;28;01mraise\u001b[39;00m \u001b[38;5;167;01mFloatingPointError\u001b[39;00m(\u001b[38;5;124mf\u001b[39m\u001b[38;5;124m\"\u001b[39m\u001b[38;5;124minvalid value (nan) encountered in \u001b[39m\u001b[38;5;132;01m{\u001b[39;00mname\u001b[38;5;132;01m}\u001b[39;00m\u001b[38;5;124m\"\u001b[39m)\n\u001b[1;32m    333\u001b[0m \u001b[38;5;28;01mif\u001b[39;00m config\u001b[38;5;241m.\u001b[39mdebug_infs\u001b[38;5;241m.\u001b[39mvalue \u001b[38;5;129;01mand\u001b[39;00m np\u001b[38;5;241m.\u001b[39many(np\u001b[38;5;241m.\u001b[39misinf(np\u001b[38;5;241m.\u001b[39masarray(buf))):\n",
      "\u001b[0;31mFloatingPointError\u001b[0m: invalid value (nan) encountered in jit(mul)",
      "\nDuring handling of the above exception, another exception occurred:\n",
      "\u001b[0;31mFloatingPointError\u001b[0m                        Traceback (most recent call last)",
      "Cell \u001b[0;32mIn[30], line 7\u001b[0m\n\u001b[1;32m      4\u001b[0m     \u001b[38;5;28;01mreturn\u001b[39;00m jax\u001b[38;5;241m.\u001b[39mscipy\u001b[38;5;241m.\u001b[39mspecial\u001b[38;5;241m.\u001b[39mxlogy(x, x)\n\u001b[1;32m      6\u001b[0m \u001b[38;5;28;01mwith\u001b[39;00m jax\u001b[38;5;241m.\u001b[39mdebug_nans(\u001b[38;5;28;01mTrue\u001b[39;00m):\n\u001b[0;32m----> 7\u001b[0m     \u001b[43mjax\u001b[49m\u001b[38;5;241;43m.\u001b[39;49m\u001b[43mgrad\u001b[49m\u001b[43m(\u001b[49m\u001b[43mf\u001b[49m\u001b[43m)\u001b[49m\u001b[43m(\u001b[49m\u001b[38;5;241;43m0.\u001b[39;49m\u001b[43m)\u001b[49m\n",
      "    \u001b[0;31m[... skipping hidden 10 frame]\u001b[0m\n",
      "Cell \u001b[0;32mIn[30], line 4\u001b[0m, in \u001b[0;36mf\u001b[0;34m(x)\u001b[0m\n\u001b[1;32m      3\u001b[0m \u001b[38;5;28;01mdef\u001b[39;00m \u001b[38;5;21mf\u001b[39m(x):\n\u001b[0;32m----> 4\u001b[0m     \u001b[38;5;28;01mreturn\u001b[39;00m \u001b[43mjax\u001b[49m\u001b[38;5;241;43m.\u001b[39;49m\u001b[43mscipy\u001b[49m\u001b[38;5;241;43m.\u001b[39;49m\u001b[43mspecial\u001b[49m\u001b[38;5;241;43m.\u001b[39;49m\u001b[43mxlogy\u001b[49m\u001b[43m(\u001b[49m\u001b[43mx\u001b[49m\u001b[43m,\u001b[49m\u001b[43m \u001b[49m\u001b[43mx\u001b[49m\u001b[43m)\u001b[49m\n",
      "    \u001b[0;31m[... skipping hidden 5 frame]\u001b[0m\n",
      "File \u001b[0;32m~/opt/jax_gpu/lib/python3.10/site-packages/jax/_src/scipy/special.py:503\u001b[0m, in \u001b[0;36m_xlogy_jvp\u001b[0;34m(primals, tangents)\u001b[0m\n\u001b[1;32m    501\u001b[0m (x, y) \u001b[38;5;241m=\u001b[39m primals\n\u001b[1;32m    502\u001b[0m (x_dot, y_dot) \u001b[38;5;241m=\u001b[39m tangents\n\u001b[0;32m--> 503\u001b[0m result \u001b[38;5;241m=\u001b[39m \u001b[43mxlogy\u001b[49m\u001b[43m(\u001b[49m\u001b[43mx\u001b[49m\u001b[43m,\u001b[49m\u001b[43m \u001b[49m\u001b[43my\u001b[49m\u001b[43m)\u001b[49m\n\u001b[1;32m    504\u001b[0m \u001b[38;5;28;01mreturn\u001b[39;00m result, (x_dot \u001b[38;5;241m*\u001b[39m lax\u001b[38;5;241m.\u001b[39mlog(y) \u001b[38;5;241m+\u001b[39m y_dot \u001b[38;5;241m*\u001b[39m x \u001b[38;5;241m/\u001b[39m y)\u001b[38;5;241m.\u001b[39mastype(result\u001b[38;5;241m.\u001b[39mdtype)\n",
      "    \u001b[0;31m[... skipping hidden 5 frame]\u001b[0m\n",
      "File \u001b[0;32m~/opt/jax_gpu/lib/python3.10/site-packages/jax/_src/scipy/special.py:498\u001b[0m, in \u001b[0;36mxlogy\u001b[0;34m(x, y)\u001b[0m\n\u001b[1;32m    496\u001b[0m x, y \u001b[38;5;241m=\u001b[39m promote_args_inexact(\u001b[38;5;124m\"\u001b[39m\u001b[38;5;124mxlogy\u001b[39m\u001b[38;5;124m\"\u001b[39m, x, y)\n\u001b[1;32m    497\u001b[0m x_ok \u001b[38;5;241m=\u001b[39m x \u001b[38;5;241m!=\u001b[39m \u001b[38;5;241m0.\u001b[39m\n\u001b[0;32m--> 498\u001b[0m \u001b[38;5;28;01mreturn\u001b[39;00m jnp\u001b[38;5;241m.\u001b[39mwhere(x_ok, \u001b[43mlax\u001b[49m\u001b[38;5;241;43m.\u001b[39;49m\u001b[43mmul\u001b[49m\u001b[43m(\u001b[49m\u001b[43mx\u001b[49m\u001b[43m,\u001b[49m\u001b[43m \u001b[49m\u001b[43mlax\u001b[49m\u001b[38;5;241;43m.\u001b[39;49m\u001b[43mlog\u001b[49m\u001b[43m(\u001b[49m\u001b[43my\u001b[49m\u001b[43m)\u001b[49m\u001b[43m)\u001b[49m, jnp\u001b[38;5;241m.\u001b[39mzeros_like(x))\n",
      "    \u001b[0;31m[... skipping hidden 15 frame]\u001b[0m\n",
      "File \u001b[0;32m~/opt/jax_gpu/lib/python3.10/site-packages/jax/_src/pjit.py:1692\u001b[0m, in \u001b[0;36m_pjit_call_impl_python\u001b[0;34m(jaxpr, in_shardings, out_shardings, in_layouts, out_layouts, resource_env, donated_invars, name, keep_unused, inline, *args)\u001b[0m\n\u001b[1;32m   1675\u001b[0m \u001b[38;5;66;03m# If control reaches this line, we got a NaN on the output of `compiled`\u001b[39;00m\n\u001b[1;32m   1676\u001b[0m \u001b[38;5;66;03m# but not `fun.call_wrapped` on the same arguments. Let's tell the user.\u001b[39;00m\n\u001b[1;32m   1677\u001b[0m msg \u001b[38;5;241m=\u001b[39m (\u001b[38;5;124mf\u001b[39m\u001b[38;5;124m\"\u001b[39m\u001b[38;5;132;01m{\u001b[39;00m\u001b[38;5;28mstr\u001b[39m(e)\u001b[38;5;132;01m}\u001b[39;00m\u001b[38;5;124m. Because \u001b[39m\u001b[38;5;124m\"\u001b[39m\n\u001b[1;32m   1678\u001b[0m        \u001b[38;5;124m\"\u001b[39m\u001b[38;5;124mjax_config.debug_nans.value and/or config.jax_debug_infs is set, the \u001b[39m\u001b[38;5;124m\"\u001b[39m\n\u001b[1;32m   1679\u001b[0m        \u001b[38;5;124m\"\u001b[39m\u001b[38;5;124mde-optimized function (i.e., the function as if the `jit` \u001b[39m\u001b[38;5;124m\"\u001b[39m\n\u001b[0;32m   (...)\u001b[0m\n\u001b[1;32m   1690\u001b[0m        \u001b[38;5;124m\"\u001b[39m\u001b[38;5;124mIf you see this error, consider opening a bug report at \u001b[39m\u001b[38;5;124m\"\u001b[39m\n\u001b[1;32m   1691\u001b[0m        \u001b[38;5;124m\"\u001b[39m\u001b[38;5;124mhttps://github.com/jax-ml/jax.\u001b[39m\u001b[38;5;124m\"\u001b[39m)\n\u001b[0;32m-> 1692\u001b[0m \u001b[38;5;28;01mraise\u001b[39;00m \u001b[38;5;167;01mFloatingPointError\u001b[39;00m(msg)\n",
      "\u001b[0;31mFloatingPointError\u001b[0m: invalid value (nan) encountered in jit(mul). Because jax_config.debug_nans.value and/or config.jax_debug_infs is set, the de-optimized function (i.e., the function as if the `jit` decorator were removed) was called in an attempt to get a more precise error message. However, the de-optimized function did not produce invalid values during its execution. This behavior can result from `jit` optimizations causing the invalid value to be produced. It may also arise from having nan/inf constants as outputs, like `jax.jit(lambda ...: jax.numpy.nan)(...)`. \n\nIt may be possible to avoid the invalid value by removing the `jit` decorator, at the cost of losing optimizations. \n\nIf you see this error, consider opening a bug report at https://github.com/jax-ml/jax."
     ]
    }
   ],
   "source": [
    "import jax.scipy\n",
    "\n",
    "def f(x):\n",
    "    return jax.scipy.special.xlogy(x, x)\n",
    "\n",
    "with jax.debug_nans(True):\n",
    "    jax.grad(f)(0.)"
   ]
  },
  {
   "cell_type": "markdown",
   "id": "0c308588",
   "metadata": {},
   "source": [
    "Exploding/vanisishing gradients can occur in neural networks with many layers, or RNNs. For example:"
   ]
  },
  {
   "cell_type": "markdown",
   "id": "cc887031-4d11-477f-8250-46f25c6e93e7",
   "metadata": {},
   "source": [
    "NOTE: could also define a custom backwards derivative in torch/jax and have it print out"
   ]
  },
  {
   "cell_type": "code",
   "execution_count": 141,
   "id": "eaefb0a7",
   "metadata": {},
   "outputs": [],
   "source": [
    "import jax\n",
    "import jax.numpy as jnp\n",
    "\n",
    "def compute_rnn_loss(inputs, targets, W):\n",
    "    W_h, W_x = W\n",
    "    def f(accum, xy):\n",
    "        h, loss = accum\n",
    "        x, y = xy\n",
    "        h = jnp.tanh(W_h @ h + W_x @ x)\n",
    "        loss += jnp.sum((h - y) ** 2)\n",
    "        return (h, loss), None\n",
    "    \n",
    "    h0 = jnp.zeros(W_h.shape[0])\n",
    "    (_, loss), _ = jax.lax.scan(f, (h0, 0.), (inputs, targets))\n",
    "    return loss\n",
    "\n",
    "# Initialize weights with large values\n",
    "n = 10\n",
    "inputs = jnp.ones([1000, n])\n",
    "targets = jnp.zeros_like(inputs)\n",
    "\n",
    "def loss(W):\n",
    "    return compute_rnn_loss(inputs, targets, W)\n"
   ]
  },
  {
   "cell_type": "code",
   "execution_count": 107,
   "id": "932baba5",
   "metadata": {},
   "outputs": [
    {
     "data": {
      "text/plain": [
       "Array([[[nan, nan, nan, ..., nan, nan, nan],\n",
       "        [nan, nan, nan, ..., nan, nan, nan],\n",
       "        [nan, nan, nan, ..., nan, nan, nan],\n",
       "        ...,\n",
       "        [nan, nan, nan, ..., nan, nan, nan],\n",
       "        [nan, nan, nan, ..., nan, nan, nan],\n",
       "        [nan, nan, nan, ..., nan, nan, nan]],\n",
       "\n",
       "       [[nan, nan, nan, ..., nan, nan, nan],\n",
       "        [nan, nan, nan, ..., nan, nan, nan],\n",
       "        [nan, nan, nan, ..., nan, nan, nan],\n",
       "        ...,\n",
       "        [nan, nan, nan, ..., nan, nan, nan],\n",
       "        [nan, nan, nan, ..., nan, nan, nan],\n",
       "        [nan, nan, nan, ..., nan, nan, nan]]], dtype=float32)"
      ]
     },
     "execution_count": 107,
     "metadata": {},
     "output_type": "execute_result"
    }
   ],
   "source": [
    "import jaxopt\n",
    "\n",
    "jax.config.update('jax_enable_x64', False)\n",
    "W0 = np.random.normal(size=(2, n, n))\n",
    "res = jaxopt.GradientDescent(loss).run(W0)\n",
    "Wstar = res.params\n",
    "Wstar"
   ]
  },
  {
   "cell_type": "markdown",
   "id": "cf3fa7b8",
   "metadata": {},
   "source": [
    "### Example 3: Test-first implementation of a numerical algorithm\n",
    "\n",
    "\n",
    "Consider the following problem:\n",
    "\n",
    "- Two particles execute continuous time random walk around a graph. \n",
    "- The rate of going from node $n$ to node $m$ is given by the edge weight $w_{nm}$.\n",
    "- Whenever they are in the same node $n$, the are both absorbed into a state `crypt`, from which there is no exit, with rate node-specific rate $c_n$. \n",
    "- Let $T_\\text{crypt}$ be the first hitting time to the `crypt` state.\n",
    "- Problem: compute $\\mathbb{P}(T_\\text{crypt} > t)$."
   ]
  },
  {
   "cell_type": "code",
   "execution_count": 151,
   "id": "631df552",
   "metadata": {},
   "outputs": [],
   "source": [
    "import networkx as nx\n",
    "\n",
    "k = 3\n",
    "G = nx.grid_graph((3, 3))\n",
    "\n",
    "for n in G.nodes():\n",
    "    G.nodes[n]['weight'] = np.random.exponential()\n",
    "\n",
    "for e in G.edges():\n",
    "    G.edges[e]['weight'] = np.random.exponential()"
   ]
  },
  {
   "cell_type": "code",
   "execution_count": 153,
   "id": "99efc1c0",
   "metadata": {},
   "outputs": [
    {
     "data": {
      "text/plain": [
       "(9, 9)"
      ]
     },
     "execution_count": 153,
     "metadata": {},
     "output_type": "execute_result"
    }
   ],
   "source": [
    "Q = nx.adjacency_matrix(G).todense()\n",
    "Q\n"
   ]
  },
  {
   "cell_type": "markdown",
   "id": "cf7b38e9",
   "metadata": {},
   "source": [
    "## Computing $\\mathbb{P}(T > t)$\n",
    "\n",
    "- Let $S(t),c(t)) \\in \\mathbb{R}^{k\\times k} \\times \\mathbb{R}$ be the overall state of the system.\n",
    "- Then \n",
    "\n",
    "\\begin{align}\n",
    "\\frac{dS_{ij}(t)}{dt} &= \\sum_x w_{xi}S_{xj} + w_{xj}S_{ix} - S_{ij}(w_{ix} + w_{xj}) - \\mathbf{1}(i=j) c_i \\\\\n",
    "\\frac{dc(t)}{dt} &= \\sum_i S_{ii} c_i\n",
    "\\end{align}"
   ]
  },
  {
   "cell_type": "code",
   "execution_count": null,
   "id": "b331c228-5c75-49d0-88a5-3399c5aa1e7c",
   "metadata": {},
   "outputs": [],
   "source": [
    "def dS(t, S):\n",
    "    ...\n",
    "\n",
    "def test_dS():\n",
    "    k = 10\n",
    "    S = np.random.dro"
   ]
  },
  {
   "cell_type": "code",
   "execution_count": 192,
   "id": "f56c1182",
   "metadata": {},
   "outputs": [
    {
     "data": {
      "text/plain": [
       "(81, 81)"
      ]
     },
     "execution_count": 192,
     "metadata": {},
     "output_type": "execute_result"
    }
   ],
   "source": [
    "def kronsum(A, B):\n",
    "    I_A, I_B = [np.eye(len(x)) for x in (A, B)]\n",
    "    return np.kron(A, I_B) + np.kron(I_A, B)\n",
    "    \n",
    "QQ = kronsum(Q, Q)\n",
    "QQ.shape"
   ]
  },
  {
   "cell_type": "code",
   "execution_count": 193,
   "id": "19341361",
   "metadata": {},
   "outputs": [
    {
     "data": {
      "text/plain": [
       "(82, 82)"
      ]
     },
     "execution_count": 193,
     "metadata": {},
     "output_type": "execute_result"
    }
   ],
   "source": [
    "QQ = np.pad(QQ, [0, 1])\n",
    "QQ.shape"
   ]
  },
  {
   "cell_type": "code",
   "execution_count": 197,
   "id": "e8a57a82",
   "metadata": {},
   "outputs": [],
   "source": [
    "QQ[::k ** 2, -1][:-1] = [G.nodes[n]['weight'] for n in G.nodes()]"
   ]
  },
  {
   "cell_type": "code",
   "execution_count": 198,
   "id": "0d5ad467",
   "metadata": {},
   "outputs": [],
   "source": [
    "QQ -= np.diag(QQ.sum(1))"
   ]
  },
  {
   "cell_type": "code",
   "execution_count": 204,
   "id": "bd1c6ca7",
   "metadata": {},
   "outputs": [
    {
     "data": {
      "text/plain": [
       "np.float64(0.9999999999999998)"
      ]
     },
     "execution_count": 204,
     "metadata": {},
     "output_type": "execute_result"
    }
   ],
   "source": [
    "import scipy\n",
    "np.sum(np.eye(82)[-2] @ scipy.linalg.expm(QQ))"
   ]
  },
  {
   "cell_type": "code",
   "execution_count": 205,
   "id": "7a112b9e",
   "metadata": {},
   "outputs": [],
   "source": [
    "def f(Q, y):\n",
    "    # yshape == (n ** 2 + 1,)\n",
    "    # assert Q.shape == (n, n)\n",
    "    # assert c.shape == (n,)\n",
    "    Q1 = Q.sum(0)[:, None] + Q.sum(1)[None, :]\n",
    "\n",
    "    yn = y[:-1].reshape(n, n)\n",
    "    yd = jnp.diag(yn)\n",
    "    yc = y[-1]\n",
    "    ret = Q @ yn + yn @ Q.T\n",
    "    ret -= Q1 * yn\n",
    "    ret -= jnp.diag(q * yd)\n",
    "    return jnp.append(ret.reshape(n ** 2), q.dot(yd))"
   ]
  },
  {
   "cell_type": "code",
   "execution_count": 207,
   "id": "e53205e9",
   "metadata": {},
   "outputs": [
    {
     "name": "stderr",
     "output_type": "stream",
     "text": [
      "/usr/lib/python3.10/pty.py:89: RuntimeWarning: os.fork() was called. os.fork() is incompatible with multithreaded code, and JAX is multithreaded, so this will likely lead to a deadlock.\n",
      "  pid, fd = os.forkpty()\n"
     ]
    },
    {
     "name": "stdout",
     "output_type": "stream",
     "text": [
      "Collecting ipytest\n",
      "  Downloading ipytest-0.14.2-py3-none-any.whl (18 kB)\n",
      "Requirement already satisfied: ipython in /home/terhorst/opt/jax_gpu/lib/python3.10/site-packages (from ipytest) (8.24.0)\n",
      "Requirement already satisfied: packaging in /home/terhorst/opt/jax_gpu/lib/python3.10/site-packages (from ipytest) (24.1)\n",
      "Requirement already satisfied: pytest>=5.4 in /home/terhorst/opt/jax_gpu/lib/python3.10/site-packages (from ipytest) (8.2.2)\n",
      "Requirement already satisfied: exceptiongroup>=1.0.0rc8 in /home/terhorst/opt/jax_gpu/lib/python3.10/site-packages (from pytest>=5.4->ipytest) (1.2.1)\n",
      "Requirement already satisfied: iniconfig in /home/terhorst/opt/jax_gpu/lib/python3.10/site-packages (from pytest>=5.4->ipytest) (2.0.0)\n",
      "Requirement already satisfied: tomli>=1 in /home/terhorst/opt/jax_gpu/lib/python3.10/site-packages (from pytest>=5.4->ipytest) (2.0.1)\n",
      "Requirement already satisfied: pluggy<2.0,>=1.5 in /home/terhorst/opt/jax_gpu/lib/python3.10/site-packages (from pytest>=5.4->ipytest) (1.5.0)\n",
      "Requirement already satisfied: matplotlib-inline in /home/terhorst/opt/jax_gpu/lib/python3.10/site-packages (from ipython->ipytest) (0.1.7)\n",
      "Requirement already satisfied: prompt-toolkit<3.1.0,>=3.0.41 in /home/terhorst/opt/jax_gpu/lib/python3.10/site-packages (from ipython->ipytest) (3.0.43)\n",
      "Requirement already satisfied: decorator in /home/terhorst/opt/jax_gpu/lib/python3.10/site-packages (from ipython->ipytest) (5.1.1)\n",
      "Requirement already satisfied: pexpect>4.3 in /home/terhorst/opt/jax_gpu/lib/python3.10/site-packages (from ipython->ipytest) (4.9.0)\n",
      "Requirement already satisfied: stack-data in /home/terhorst/opt/jax_gpu/lib/python3.10/site-packages (from ipython->ipytest) (0.6.3)\n",
      "Requirement already satisfied: jedi>=0.16 in /home/terhorst/opt/jax_gpu/lib/python3.10/site-packages (from ipython->ipytest) (0.19.1)\n",
      "Requirement already satisfied: typing-extensions>=4.6 in /home/terhorst/opt/jax_gpu/lib/python3.10/site-packages (from ipython->ipytest) (4.12.2)\n",
      "Requirement already satisfied: pygments>=2.4.0 in /home/terhorst/opt/jax_gpu/lib/python3.10/site-packages (from ipython->ipytest) (2.18.0)\n",
      "Requirement already satisfied: traitlets>=5.13.0 in /home/terhorst/opt/jax_gpu/lib/python3.10/site-packages (from ipython->ipytest) (5.14.3)\n",
      "Requirement already satisfied: parso<0.9.0,>=0.8.3 in /home/terhorst/opt/jax_gpu/lib/python3.10/site-packages (from jedi>=0.16->ipython->ipytest) (0.8.4)\n",
      "Requirement already satisfied: ptyprocess>=0.5 in /home/terhorst/opt/jax_gpu/lib/python3.10/site-packages (from pexpect>4.3->ipython->ipytest) (0.7.0)\n",
      "Requirement already satisfied: wcwidth in /home/terhorst/opt/jax_gpu/lib/python3.10/site-packages (from prompt-toolkit<3.1.0,>=3.0.41->ipython->ipytest) (0.2.13)\n",
      "Requirement already satisfied: asttokens>=2.1.0 in /home/terhorst/opt/jax_gpu/lib/python3.10/site-packages (from stack-data->ipython->ipytest) (2.4.1)\n",
      "Requirement already satisfied: pure-eval in /home/terhorst/opt/jax_gpu/lib/python3.10/site-packages (from stack-data->ipython->ipytest) (0.2.2)\n",
      "Requirement already satisfied: executing>=1.2.0 in /home/terhorst/opt/jax_gpu/lib/python3.10/site-packages (from stack-data->ipython->ipytest) (2.0.1)\n",
      "Requirement already satisfied: six>=1.12.0 in /home/terhorst/opt/jax_gpu/lib/python3.10/site-packages (from asttokens>=2.1.0->stack-data->ipython->ipytest) (1.16.0)\n",
      "Installing collected packages: ipytest\n",
      "Successfully installed ipytest-0.14.2\n",
      "Note: you may need to restart the kernel to use updated packages.\n"
     ]
    }
   ],
   "source": [
    "pip install ipytest"
   ]
  }
 ],
 "metadata": {
  "kernelspec": {
   "display_name": "Python 3 (ipykernel)",
   "language": "python",
   "name": "python3"
  },
  "language_info": {
   "codemirror_mode": {
    "name": "ipython",
    "version": 3
   },
   "file_extension": ".py",
   "mimetype": "text/x-python",
   "name": "python",
   "nbconvert_exporter": "python",
   "pygments_lexer": "ipython3",
   "version": "3.12.4"
  }
 },
 "nbformat": 4,
 "nbformat_minor": 5
}
