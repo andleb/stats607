{
 "cells": [
  {
   "cell_type": "markdown",
   "id": "dad471b6",
   "metadata": {},
   "source": [
    "# STATS 607\n",
    "## Week 6: Profiling and debugging"
   ]
  },
  {
   "cell_type": "markdown",
   "id": "9e61b6b6",
   "metadata": {},
   "source": [
    "### Example 1: STRUCTURE"
   ]
  },
  {
   "cell_type": "code",
   "execution_count": 16,
   "id": "7f6a8021",
   "metadata": {},
   "outputs": [
    {
     "name": "stdout",
     "output_type": "stream",
     "text": [
      "Collecting line_profiler\n",
      "  Downloading line_profiler-4.1.3-cp39-cp39-macosx_10_9_x86_64.whl (140 kB)\n",
      "\u001b[2K     \u001b[38;2;114;156;31m━━━━━━━━━━━━━━━━━━━━━━━━━━━━━━━━━━━━━━━\u001b[0m \u001b[32m140.3/140.3 kB\u001b[0m \u001b[31m3.9 MB/s\u001b[0m eta \u001b[36m0:00:00\u001b[0m\n",
      "\u001b[?25hInstalling collected packages: line_profiler\n",
      "Successfully installed line_profiler-4.1.3\n",
      "\n",
      "\u001b[1m[\u001b[0m\u001b[34;49mnotice\u001b[0m\u001b[1;39;49m]\u001b[0m\u001b[39;49m A new release of pip available: \u001b[0m\u001b[31;49m22.2.2\u001b[0m\u001b[39;49m -> \u001b[0m\u001b[32;49m24.3.1\u001b[0m\n",
      "\u001b[1m[\u001b[0m\u001b[34;49mnotice\u001b[0m\u001b[1;39;49m]\u001b[0m\u001b[39;49m To update, run: \u001b[0m\u001b[32;49mpip install --upgrade pip\u001b[0m\n",
      "Note: you may need to restart the kernel to use updated packages.\n"
     ]
    }
   ],
   "source": [
    "pip install line_profiler"
   ]
  },
  {
   "cell_type": "code",
   "execution_count": 17,
   "id": "2dfb732d",
   "metadata": {},
   "outputs": [],
   "source": [
    "import numpy as np\n",
    "\n",
    "def gibbs_sampler(G, K, rng, num_iterations=1000, alpha=1.0, F=.1, p=.1):\n",
    "    \"\"\"\n",
    "    Run Gibbs sampler for the STRUCTURE model.\n",
    "    \n",
    "    data: N x L x 2 array of genotype data\n",
    "    K: Number of populations\n",
    "    rng: Random number generator.\n",
    "    num_iterations: Number of Gibbs sampling iterations\n",
    "    alpha: Dirichlet prior parameter for q\n",
    "    F: estimate of Fst between populations.\n",
    "    p: mean allele frequency\n",
    "    \"\"\"\n",
    "    N, L, _ = G.shape\n",
    "    assert G.shape == (N, L, 2)\n",
    "    # Initialize parameters\n",
    "    Q = rng.dirichlet([alpha] * K, size=N)\n",
    "    f = (1 - F) / F\n",
    "    f, p = [np.broadcast_to(x, [K, L]) for x in [f, p]] \n",
    "    a_prior = f * p\n",
    "    b_prior = f * (1. - p)\n",
    "    P = rng.beta(a_prior, b_prior)   # balding-nichols model\n",
    "    P = np.stack([P, 1 - P], axis=2)\n",
    "    # Initialize z assignments randomly\n",
    "    Z = rng.integers(0, K, size=(N, L, 2))\n",
    "    for iteration in range(num_iterations):\n",
    "        # Update z\n",
    "        breakpoint()\n",
    "        k, l, j = np.ogrid[:3, :2777, :2]\n",
    "        p =  P[k, l, G]\n",
    "        aoeu\n",
    "        # N, K, L, 2\n",
    "        probs = Q[:, :, None, None] * P[k, l, G]\n",
    "        probs /= probs.sum()\n",
    "        Z[i, l, j] = rng.choice(K, p=probs)\n",
    "        # Update p\n",
    "        for k in range(K):\n",
    "            for l in range(L):\n",
    "                counts = np.zeros([2])\n",
    "                idx = np.where(Z[:,l,:] == k)\n",
    "                alleles = G[:,l,:][idx]\n",
    "                for a in range(2):\n",
    "                    counts[a] = np.sum(alleles == a)\n",
    "                P[k, l] = rng.beta(counts[0] + a_prior[k, l], counts[1] + b_prior[k, l])\n",
    "        # Update q\n",
    "        for i in range(N):\n",
    "            counts = np.zeros(K)\n",
    "            for k in range(K):\n",
    "                counts[k] = np.sum(Z[i,:,:] == k)\n",
    "            Q[i] = rng.dirichlet(counts + alpha)\n",
    "        print(f\"Iteration {iteration}\")\n",
    "    return Q, P"
   ]
  },
  {
   "cell_type": "code",
   "execution_count": 18,
   "id": "beb0e189",
   "metadata": {},
   "outputs": [
    {
     "ename": "IndexError",
     "evalue": "shape mismatch: indexing arrays could not be broadcast together with shapes (3,1,1) (1,2777,1) (9,2777,2) ",
     "output_type": "error",
     "traceback": [
      "\u001b[0;31m---------------------------------------------------------------------------\u001b[0m",
      "\u001b[0;31mIndexError\u001b[0m                                Traceback (most recent call last)",
      "Cell \u001b[0;32mIn [18], line 1\u001b[0m\n\u001b[0;32m----> 1\u001b[0m gibbs_sampler(G, \u001b[38;5;241m3\u001b[39m, rng, p\u001b[38;5;241m=\u001b[39mp\u001b[38;5;241m.\u001b[39mclip(\u001b[38;5;241m1e-6\u001b[39m, \u001b[38;5;241m1\u001b[39m\u001b[38;5;241m-\u001b[39m\u001b[38;5;241m1e-6\u001b[39m), F\u001b[38;5;241m=\u001b[39mF)\n",
      "Cell \u001b[0;32mIn [17], line 31\u001b[0m, in \u001b[0;36mgibbs_sampler\u001b[0;34m(G, K, rng, num_iterations, alpha, F, p)\u001b[0m\n\u001b[1;32m     29\u001b[0m \u001b[38;5;28mbreakpoint\u001b[39m()\n\u001b[1;32m     30\u001b[0m k, l, j \u001b[38;5;241m=\u001b[39m np\u001b[38;5;241m.\u001b[39mogrid[:\u001b[38;5;241m3\u001b[39m, :\u001b[38;5;241m2777\u001b[39m, :\u001b[38;5;241m2\u001b[39m]\n\u001b[0;32m---> 31\u001b[0m p \u001b[38;5;241m=\u001b[39m  \u001b[43mP\u001b[49m\u001b[43m[\u001b[49m\u001b[43mk\u001b[49m\u001b[43m,\u001b[49m\u001b[43m \u001b[49m\u001b[43ml\u001b[49m\u001b[43m,\u001b[49m\u001b[43m \u001b[49m\u001b[43mG\u001b[49m\u001b[43m]\u001b[49m\n\u001b[1;32m     32\u001b[0m aoeu\n\u001b[1;32m     33\u001b[0m \u001b[38;5;66;03m# N, K, L, 2\u001b[39;00m\n",
      "\u001b[0;31mIndexError\u001b[0m: shape mismatch: indexing arrays could not be broadcast together with shapes (3,1,1) (1,2777,1) (9,2777,2) "
     ]
    }
   ],
   "source": [
    "gibbs_sampler(G, 3, rng, p=p.clip(1e-6, 1-1e-6), F=F)"
   ]
  },
  {
   "cell_type": "code",
   "execution_count": 15,
   "id": "5ebe9069",
   "metadata": {},
   "outputs": [
    {
     "name": "stdout",
     "output_type": "stream",
     "text": [
      "> \u001b[0;32m/var/folders/b1/jjpl1p_53jxggrgr9nn841nm0000gn/T/ipykernel_76927/2338917766.py\u001b[0m(30)\u001b[0;36mgibbs_sampler\u001b[0;34m()\u001b[0m\n",
      "\u001b[0;32m     28 \u001b[0;31m        \u001b[0;31m# Update z\u001b[0m\u001b[0;34m\u001b[0m\u001b[0;34m\u001b[0m\u001b[0;34m\u001b[0m\u001b[0m\n",
      "\u001b[0m\u001b[0;32m     29 \u001b[0;31m        \u001b[0mbreakpoint\u001b[0m\u001b[0;34m(\u001b[0m\u001b[0;34m)\u001b[0m\u001b[0;34m\u001b[0m\u001b[0;34m\u001b[0m\u001b[0m\n",
      "\u001b[0m\u001b[0;32m---> 30 \u001b[0;31m        \u001b[0maoeu\u001b[0m\u001b[0;34m\u001b[0m\u001b[0;34m\u001b[0m\u001b[0m\n",
      "\u001b[0m\u001b[0;32m     31 \u001b[0;31m        \u001b[0;31m# N, K, L, 2\u001b[0m\u001b[0;34m\u001b[0m\u001b[0;34m\u001b[0m\u001b[0;34m\u001b[0m\u001b[0m\n",
      "\u001b[0m\u001b[0;32m     32 \u001b[0;31m        \u001b[0mprobs\u001b[0m \u001b[0;34m=\u001b[0m \u001b[0mQ\u001b[0m\u001b[0;34m[\u001b[0m\u001b[0;34m:\u001b[0m\u001b[0;34m,\u001b[0m \u001b[0;34m:\u001b[0m\u001b[0;34m,\u001b[0m \u001b[0;32mNone\u001b[0m\u001b[0;34m,\u001b[0m \u001b[0;32mNone\u001b[0m\u001b[0;34m]\u001b[0m \u001b[0;34m*\u001b[0m \u001b[0mP\u001b[0m\u001b[0;34m[\u001b[0m\u001b[0;32mNone\u001b[0m\u001b[0;34m,\u001b[0m \u001b[0;34m:\u001b[0m\u001b[0;34m,\u001b[0m \u001b[0;34m:\u001b[0m\u001b[0;34m,\u001b[0m \u001b[0;34m:\u001b[0m\u001b[0;34m]\u001b[0m\u001b[0;34m[\u001b[0m\u001b[0mG\u001b[0m\u001b[0;34m[\u001b[0m\u001b[0;34m:\u001b[0m\u001b[0;34m,\u001b[0m \u001b[0;32mNone\u001b[0m\u001b[0;34m,\u001b[0m \u001b[0;34m:\u001b[0m\u001b[0;34m,\u001b[0m \u001b[0;34m:\u001b[0m\u001b[0;34m]\u001b[0m\u001b[0;34m]\u001b[0m\u001b[0;34m\u001b[0m\u001b[0;34m\u001b[0m\u001b[0m\n",
      "\u001b[0m\n",
      "ipdb> Q[:, :, None, None]\n",
      "array([[[[5.44594492e-01]],\n",
      "\n",
      "        [[2.13567262e-01]],\n",
      "\n",
      "        [[2.41838246e-01]]],\n",
      "\n",
      "\n",
      "       [[[1.30638843e-01]],\n",
      "\n",
      "        [[5.11556055e-01]],\n",
      "\n",
      "        [[3.57805103e-01]]],\n",
      "\n",
      "\n",
      "       [[[6.62113536e-01]],\n",
      "\n",
      "        [[2.35995690e-01]],\n",
      "\n",
      "        [[1.01890774e-01]]],\n",
      "\n",
      "\n",
      "       [[[1.35581183e-01]],\n",
      "\n",
      "        [[7.50757534e-01]],\n",
      "\n",
      "        [[1.13661283e-01]]],\n",
      "\n",
      "\n",
      "       [[[3.26571480e-01]],\n",
      "\n",
      "        [[3.87288313e-01]],\n",
      "\n",
      "        [[2.86140206e-01]]],\n",
      "\n",
      "\n",
      "       [[[6.09630662e-01]],\n",
      "\n",
      "        [[9.54794455e-02]],\n",
      "\n",
      "        [[2.94889893e-01]]],\n",
      "\n",
      "\n",
      "       [[[3.57159405e-04]],\n",
      "\n",
      "        [[8.13854510e-01]],\n",
      "\n",
      "        [[1.85788330e-01]]],\n",
      "\n",
      "\n",
      "       [[[1.58496068e-01]],\n",
      "\n",
      "        [[7.72125994e-01]],\n",
      "\n",
      "        [[6.93779385e-02]]],\n",
      "\n",
      "\n",
      "       [[[7.30681937e-01]],\n",
      "\n",
      "        [[4.65662536e-02]],\n",
      "\n",
      "        [[2.22751810e-01]]]])\n",
      "ipdb> Q[:, :, None, None].shape\n",
      "(9, 3, 1, 1)\n",
      "ipdb> (P[None, :, :, :][G[:, None, :, :]]).shape\n",
      "*** IndexError: index 1 is out of bounds for axis 0 with size 1\n",
      "ipdb> P[None, :, :, :]\n",
      "array([[[[0.14508554, 0.85491446],\n",
      "         [0.49113329, 0.50886671],\n",
      "         [0.10532913, 0.89467087],\n",
      "         ...,\n",
      "         [0.02810696, 0.97189304],\n",
      "         [0.00906498, 0.99093502],\n",
      "         [0.04174358, 0.95825642]],\n",
      "\n",
      "        [[0.46647127, 0.53352873],\n",
      "         [0.38675424, 0.61324576],\n",
      "         [0.07875419, 0.92124581],\n",
      "         ...,\n",
      "         [0.01553725, 0.98446275],\n",
      "         [0.00421657, 0.99578343],\n",
      "         [0.02520061, 0.97479939]],\n",
      "\n",
      "        [[0.22353832, 0.77646168],\n",
      "         [0.57600495, 0.42399505],\n",
      "         [0.01972918, 0.98027082],\n",
      "         ...,\n",
      "         [0.03528703, 0.96471297],\n",
      "         [0.07714953, 0.92285047],\n",
      "         [0.0187212 , 0.9812788 ]]]])\n",
      "ipdb> P.shape\n",
      "(3, 2777, 2)\n",
      "ipdb> P[None, :, :, :]\n",
      "array([[[[0.14508554, 0.85491446],\n",
      "         [0.49113329, 0.50886671],\n",
      "         [0.10532913, 0.89467087],\n",
      "         ...,\n",
      "         [0.02810696, 0.97189304],\n",
      "         [0.00906498, 0.99093502],\n",
      "         [0.04174358, 0.95825642]],\n",
      "\n",
      "        [[0.46647127, 0.53352873],\n",
      "         [0.38675424, 0.61324576],\n",
      "         [0.07875419, 0.92124581],\n",
      "         ...,\n",
      "         [0.01553725, 0.98446275],\n",
      "         [0.00421657, 0.99578343],\n",
      "         [0.02520061, 0.97479939]],\n",
      "\n",
      "        [[0.22353832, 0.77646168],\n",
      "         [0.57600495, 0.42399505],\n",
      "         [0.01972918, 0.98027082],\n",
      "         ...,\n",
      "         [0.03528703, 0.96471297],\n",
      "         [0.07714953, 0.92285047],\n",
      "         [0.0187212 , 0.9812788 ]]]])\n",
      "ipdb> P[None, :, :, :][G].shape\n",
      "*** IndexError: index 1 is out of bounds for axis 0 with size 1\n",
      "ipdb> P[..., G].shape\n",
      "(3, 2777, 9, 2777, 2)\n",
      "ipdb> n, l, j = np.ogrid[:3, :2777, :2]\n"
     ]
    }
   ],
   "source": [
    "%debug"
   ]
  },
  {
   "cell_type": "code",
   "execution_count": 10,
   "id": "bb6a5f93",
   "metadata": {},
   "outputs": [],
   "source": [
    "import stdpopsim\n",
    "species = stdpopsim.get_species(\"HomSap\")\n",
    "model = species.get_demographic_model(\"OutOfAfrica_3G09\")\n",
    "chrom = species.get_contig('1', length_multiplier=0.01)\n",
    "samples = model.get_samples(3, 3, 3)\n",
    "engine = stdpopsim.get_engine(\"msprime\")\n",
    "ts = engine.simulate(model, chrom, samples)\n",
    "\n",
    "G = ts.genotype_matrix().T\n",
    "# convert diploid to tensor\n",
    "G = np.array([[0, 0], [0, 1], [1, 1]])[G]\n",
    "\n",
    "rng = np.random.default_rng()\n",
    "p = G.mean((0, 2))\n",
    "F = ts.Fst([np.arange(3), np.arange(3, 6)])"
   ]
  },
  {
   "cell_type": "code",
   "execution_count": 11,
   "id": "53281895",
   "metadata": {},
   "outputs": [
    {
     "ename": "NameError",
     "evalue": "name 'aoeu' is not defined",
     "output_type": "error",
     "traceback": [
      "\u001b[0;31m---------------------------------------------------------------------------\u001b[0m",
      "\u001b[0;31mNameError\u001b[0m                                 Traceback (most recent call last)",
      "Cell \u001b[0;32mIn [11], line 1\u001b[0m\n\u001b[0;32m----> 1\u001b[0m gibbs_sampler(G, \u001b[38;5;241m3\u001b[39m, rng, p\u001b[38;5;241m=\u001b[39mp, F\u001b[38;5;241m=\u001b[39mF)\n",
      "Cell \u001b[0;32mIn [6], line 30\u001b[0m, in \u001b[0;36mgibbs_sampler\u001b[0;34m(G, K, rng, num_iterations, alpha, F, p)\u001b[0m\n\u001b[1;32m     27\u001b[0m \u001b[38;5;28;01mfor\u001b[39;00m iteration \u001b[38;5;129;01min\u001b[39;00m \u001b[38;5;28mrange\u001b[39m(num_iterations):\n\u001b[1;32m     28\u001b[0m     \u001b[38;5;66;03m# Update z\u001b[39;00m\n\u001b[1;32m     29\u001b[0m     \u001b[38;5;28mbreakpoint\u001b[39m()\n\u001b[0;32m---> 30\u001b[0m     \u001b[43maoeu\u001b[49m\n\u001b[1;32m     31\u001b[0m     probs \u001b[38;5;241m=\u001b[39m Q \u001b[38;5;241m*\u001b[39m P[G]\n\u001b[1;32m     32\u001b[0m     probs \u001b[38;5;241m/\u001b[39m\u001b[38;5;241m=\u001b[39m probs\u001b[38;5;241m.\u001b[39msum()\n",
      "\u001b[0;31mNameError\u001b[0m: name 'aoeu' is not defined"
     ]
    }
   ],
   "source": [
    "gibbs_sampler(G, 3, rng, p=p, F=F)"
   ]
  },
  {
   "cell_type": "code",
   "execution_count": 7,
   "id": "a468503d",
   "metadata": {},
   "outputs": [],
   "source": [
    "%load_ext line_profiler"
   ]
  },
  {
   "cell_type": "code",
   "execution_count": 11,
   "id": "b81cb9a3",
   "metadata": {},
   "outputs": [
    {
     "name": "stdout",
     "output_type": "stream",
     "text": [
      "Iteration 0\n",
      "\n",
      "*** Profile printout saved to text file 'prof0'. \n"
     ]
    },
    {
     "data": {
      "text/plain": [
       "Timer unit: 1e-09 s\n",
       "\n",
       "Total time: 57.593 s\n",
       "File: /var/folders/j8/n524q16s54l6y_vxh70gb9lr0000gs/T/ipykernel_39911/1030734579.py\n",
       "Function: gibbs_sampler at line 3\n",
       "\n",
       "Line #      Hits         Time  Per Hit   % Time  Line Contents\n",
       "==============================================================\n",
       "     3                                           def gibbs_sampler(G, K, rng, num_iterations=1000, alpha=1.0, F=.1, p=.1):\n",
       "     4                                               \"\"\"\n",
       "     5                                               Run Gibbs sampler for the STRUCTURE model.\n",
       "     6                                               \n",
       "     7                                               data: N x L x 2 array of genotype data\n",
       "     8                                               K: Number of populations\n",
       "     9                                               rng: Random number generator.\n",
       "    10                                               num_iterations: Number of Gibbs sampling iterations\n",
       "    11                                               alpha: Dirichlet prior parameter for q\n",
       "    12                                               F: estimate of Fst between populations.\n",
       "    13                                               p: mean allele frequency\n",
       "    14                                               \"\"\"\n",
       "    15         1       6000.0   6000.0      0.0      N, L, _ = G.shape\n",
       "    16         1       1000.0   1000.0      0.0      assert G.shape == (N, L, 2)\n",
       "    17                                               # Initialize parameters\n",
       "    18         1     842000.0 842000.0      0.0      Q = rng.dirichlet([alpha] * K, size=N)\n",
       "    19         1       3000.0   3000.0      0.0      f = (1 - F) / F\n",
       "    20         3     150000.0  50000.0      0.0      f, p = [np.broadcast_to(x, [K, L]) for x in [f, p]] \n",
       "    21         1     431000.0 431000.0      0.0      a_prior = f * p\n",
       "    22         1    3471000.0    3e+06      0.0      b_prior = f * (1. - p)\n",
       "    23         1   19332000.0    2e+07      0.0      P = rng.beta(a_prior, b_prior)   # balding-nichols model\n",
       "    24         1     705000.0 705000.0      0.0      P = np.stack([P, 1 - P], axis=2)\n",
       "    25                                               # Initialize z assignments randomly\n",
       "    26         1   14670000.0    1e+07      0.0      Z = rng.integers(0, K, size=(N, L, 2))\n",
       "    27         2       4000.0   2000.0      0.0      for iteration in range(num_iterations):\n",
       "    28                                                   # Update z\n",
       "    29        31      18000.0    580.6      0.0          for i in range(N):\n",
       "    30   1364400  312275000.0    228.9      0.5              for l in range(L):\n",
       "    31   4093110 1327963000.0    324.4      2.3                  for j in range(2):\n",
       "    32   2728740 5093432000.0   1866.6      8.8                      probs = Q[i] * P[:, l, G[i, l, j]]\n",
       "    33   2728740 7451202000.0   2730.6     12.9                      probs /= probs.sum()\n",
       "    34   2728740        4e+10  14524.6     68.8                      Z[i, l, j] = rng.choice(K, p=probs)\n",
       "    35                                                   # Update p\n",
       "    36         4       3000.0    750.0      0.0          for k in range(K):\n",
       "    37    136440   35394000.0    259.4      0.1              for l in range(L):\n",
       "    38    136437   72255000.0    529.6      0.1                  counts = np.zeros([2])\n",
       "    39    136437  870660000.0   6381.4      1.5                  idx = np.where(Z[:,l,:] == k)\n",
       "    40    136437  370292000.0   2714.0      0.6                  alleles = G[:,l,:][idx]\n",
       "    41    409311  119144000.0    291.1      0.2                  for a in range(2):\n",
       "    42    272874 1949334000.0   7143.7      3.4                      counts[a] = np.sum(alleles == a)\n",
       "    43    136437  312114000.0   2287.6      0.5                  P[k, l] = rng.beta(counts[0] + a_prior[k, l], counts[1] + b_prior[k, l])\n",
       "    44                                                   # Update q\n",
       "    45        31       5000.0    161.3      0.0          for i in range(N):\n",
       "    46        30      28000.0    933.3      0.0              counts = np.zeros(K)\n",
       "    47       120      31000.0    258.3      0.0              for k in range(K):\n",
       "    48        90    4892000.0  54355.6      0.0                  counts[k] = np.sum(Z[i,:,:] == k)\n",
       "    49        30     412000.0  13733.3      0.0              Q[i] = rng.dirichlet(counts + alpha)\n",
       "    50         1       2000.0   2000.0      0.0          if iteration % 100 == 0:\n",
       "    51         1     218000.0 218000.0      0.0              print(f\"Iteration {iteration}\")\n",
       "    52         1       3000.0   3000.0      0.0      return Q, P"
      ]
     },
     "metadata": {},
     "output_type": "display_data"
    }
   ],
   "source": [
    "%lprun -T prof0 -f gibbs_sampler gibbs_sampler(G, 3, rng, p=p, F=F, num_iterations=1)"
   ]
  },
  {
   "cell_type": "markdown",
   "id": "e6ee7f4b",
   "metadata": {},
   "source": [
    "### Example 2: Debugging NaNs\n",
    "\n",
    "- `NaN` (not a number) can crop up from time to time in numerical computations, especially if doing scientific computing.\n",
    "- `NaN`s in primal are usually pretty easy to debug.\n",
    "- `NaN`s in gradients are harder, but can usually still be figured out."
   ]
  },
  {
   "cell_type": "markdown",
   "id": "382ad926",
   "metadata": {},
   "source": [
    "### Debugging NaNs in Jax\n",
    "\n",
    "- `jax.config.update(\"jax_debug_nans\", True)` or `with jax.debug_nans(True):` ...\n",
    "- Limited use for backward pass NaNs.\n",
    "- Don`t rule out printf()-style debugging."
   ]
  },
  {
   "cell_type": "code",
   "execution_count": 17,
   "id": "c11e4d9c",
   "metadata": {},
   "outputs": [],
   "source": [
    "from jax import grad\n",
    "\n",
    "def f(x):\n",
    "    return x ** (1/3)\n",
    "\n",
    "x = 0.0\n",
    "primal_result = f(x)"
   ]
  },
  {
   "cell_type": "code",
   "execution_count": 35,
   "id": "509ca3e6",
   "metadata": {},
   "outputs": [
    {
     "ename": "FloatingPointError",
     "evalue": "invalid value (inf) encountered in jit(pow)",
     "output_type": "error",
     "traceback": [
      "\u001b[0;31m---------------------------------------------------------------------------\u001b[0m",
      "\u001b[0;31mFloatingPointError\u001b[0m                        Traceback (most recent call last)",
      "    \u001b[0;31m[... skipping hidden 1 frame]\u001b[0m\n",
      "File \u001b[0;32m~/opt/py39/lib/python3.9/site-packages/jax/_src/profiler.py:314\u001b[0m, in \u001b[0;36mannotate_function.<locals>.wrapper\u001b[0;34m(*args, **kwargs)\u001b[0m\n\u001b[1;32m    313\u001b[0m \u001b[38;5;28;01mwith\u001b[39;00m TraceAnnotation(name, \u001b[38;5;241m*\u001b[39m\u001b[38;5;241m*\u001b[39mdecorator_kwargs):\n\u001b[0;32m--> 314\u001b[0m   \u001b[38;5;28;01mreturn\u001b[39;00m \u001b[43mfunc\u001b[49m\u001b[43m(\u001b[49m\u001b[38;5;241;43m*\u001b[39;49m\u001b[43margs\u001b[49m\u001b[43m,\u001b[49m\u001b[43m \u001b[49m\u001b[38;5;241;43m*\u001b[39;49m\u001b[38;5;241;43m*\u001b[39;49m\u001b[43mkwargs\u001b[49m\u001b[43m)\u001b[49m\n\u001b[1;32m    315\u001b[0m \u001b[38;5;28;01mreturn\u001b[39;00m wrapper\n",
      "File \u001b[0;32m~/opt/py39/lib/python3.9/site-packages/jax/_src/interpreters/pxla.py:2114\u001b[0m, in \u001b[0;36mExecuteReplicated.__call__\u001b[0;34m(self, *args)\u001b[0m\n\u001b[1;32m   2113\u001b[0m       bufs \u001b[38;5;241m=\u001b[39m cast(xc\u001b[38;5;241m.\u001b[39mShardedBuffer, bufs)\u001b[38;5;241m.\u001b[39mget_device_buffers()\n\u001b[0;32m-> 2114\u001b[0m     \u001b[43mdispatch\u001b[49m\u001b[38;5;241;43m.\u001b[39;49m\u001b[43mcheck_special\u001b[49m\u001b[43m(\u001b[49m\u001b[38;5;28;43mself\u001b[39;49m\u001b[38;5;241;43m.\u001b[39;49m\u001b[43mname\u001b[49m\u001b[43m,\u001b[49m\u001b[43m \u001b[49m\u001b[43mbufs\u001b[49m\u001b[43m)\u001b[49m\n\u001b[1;32m   2115\u001b[0m \u001b[38;5;66;03m# TODO(yashkatariya): Remove once migration to Array is completed.\u001b[39;00m\n",
      "File \u001b[0;32m~/opt/py39/lib/python3.9/site-packages/jax/_src/dispatch.py:872\u001b[0m, in \u001b[0;36mcheck_special\u001b[0;34m(name, bufs)\u001b[0m\n\u001b[1;32m    871\u001b[0m \u001b[38;5;28;01mfor\u001b[39;00m buf \u001b[38;5;129;01min\u001b[39;00m bufs:\n\u001b[0;32m--> 872\u001b[0m   \u001b[43m_check_special\u001b[49m\u001b[43m(\u001b[49m\u001b[43mname\u001b[49m\u001b[43m,\u001b[49m\u001b[43m \u001b[49m\u001b[43mbuf\u001b[49m\u001b[38;5;241;43m.\u001b[39;49m\u001b[43mdtype\u001b[49m\u001b[43m,\u001b[49m\u001b[43m \u001b[49m\u001b[43mbuf\u001b[49m\u001b[43m)\u001b[49m\n",
      "File \u001b[0;32m~/opt/py39/lib/python3.9/site-packages/jax/_src/dispatch.py:879\u001b[0m, in \u001b[0;36m_check_special\u001b[0;34m(name, dtype, buf)\u001b[0m\n\u001b[1;32m    878\u001b[0m \u001b[38;5;28;01mif\u001b[39;00m config\u001b[38;5;241m.\u001b[39mjax_debug_infs \u001b[38;5;129;01mand\u001b[39;00m np\u001b[38;5;241m.\u001b[39many(np\u001b[38;5;241m.\u001b[39misinf(np\u001b[38;5;241m.\u001b[39masarray(buf))):\n\u001b[0;32m--> 879\u001b[0m   \u001b[38;5;28;01mraise\u001b[39;00m \u001b[38;5;167;01mFloatingPointError\u001b[39;00m(\u001b[38;5;124mf\u001b[39m\u001b[38;5;124m\"\u001b[39m\u001b[38;5;124minvalid value (inf) encountered in \u001b[39m\u001b[38;5;132;01m{\u001b[39;00mname\u001b[38;5;132;01m}\u001b[39;00m\u001b[38;5;124m\"\u001b[39m)\n",
      "\u001b[0;31mFloatingPointError\u001b[0m: invalid value (inf) encountered in jit(_power)",
      "\nDuring handling of the above exception, another exception occurred:\n",
      "\u001b[0;31mJaxStackTraceBeforeTransformation\u001b[0m         Traceback (most recent call last)",
      "File \u001b[0;32m/Library/Developer/CommandLineTools/Library/Frameworks/Python3.framework/Versions/3.9/lib/python3.9/runpy.py:197\u001b[0m, in \u001b[0;36m_run_module_as_main\u001b[0;34m(***failed resolving arguments***)\u001b[0m\n\u001b[1;32m    196\u001b[0m     sys\u001b[38;5;241m.\u001b[39margv[\u001b[38;5;241m0\u001b[39m] \u001b[38;5;241m=\u001b[39m mod_spec\u001b[38;5;241m.\u001b[39morigin\n\u001b[0;32m--> 197\u001b[0m \u001b[38;5;28;01mreturn\u001b[39;00m _run_code(code, main_globals, \u001b[38;5;28;01mNone\u001b[39;00m,\n\u001b[1;32m    198\u001b[0m                  \u001b[38;5;124m\"\u001b[39m\u001b[38;5;124m__main__\u001b[39m\u001b[38;5;124m\"\u001b[39m, mod_spec)\n",
      "File \u001b[0;32m/Library/Developer/CommandLineTools/Library/Frameworks/Python3.framework/Versions/3.9/lib/python3.9/runpy.py:87\u001b[0m, in \u001b[0;36m_run_code\u001b[0;34m(***failed resolving arguments***)\u001b[0m\n\u001b[1;32m     80\u001b[0m run_globals\u001b[38;5;241m.\u001b[39mupdate(\u001b[38;5;18m__name__\u001b[39m \u001b[38;5;241m=\u001b[39m mod_name,\n\u001b[1;32m     81\u001b[0m                    \u001b[38;5;18m__file__\u001b[39m \u001b[38;5;241m=\u001b[39m fname,\n\u001b[1;32m     82\u001b[0m                    __cached__ \u001b[38;5;241m=\u001b[39m cached,\n\u001b[0;32m   (...)\u001b[0m\n\u001b[1;32m     85\u001b[0m                    __package__ \u001b[38;5;241m=\u001b[39m pkg_name,\n\u001b[1;32m     86\u001b[0m                    __spec__ \u001b[38;5;241m=\u001b[39m mod_spec)\n\u001b[0;32m---> 87\u001b[0m exec(code, run_globals)\n\u001b[1;32m     88\u001b[0m \u001b[38;5;28;01mreturn\u001b[39;00m run_globals\n",
      "File \u001b[0;32m~/opt/py39/lib/python3.9/site-packages/ipykernel_launcher.py:17\u001b[0m\n\u001b[1;32m     15\u001b[0m \u001b[38;5;28;01mfrom\u001b[39;00m \u001b[38;5;21;01mipykernel\u001b[39;00m \u001b[38;5;28;01mimport\u001b[39;00m kernelapp \u001b[38;5;28;01mas\u001b[39;00m app\n\u001b[0;32m---> 17\u001b[0m app\u001b[38;5;241m.\u001b[39mlaunch_new_instance()\n",
      "File \u001b[0;32m~/opt/py39/lib/python3.9/site-packages/traitlets/config/application.py:978\u001b[0m, in \u001b[0;36mApplication.launch_instance\u001b[0;34m(***failed resolving arguments***)\u001b[0m\n\u001b[1;32m    977\u001b[0m app\u001b[38;5;241m.\u001b[39minitialize(argv)\n\u001b[0;32m--> 978\u001b[0m app\u001b[38;5;241m.\u001b[39mstart()\n",
      "File \u001b[0;32m~/opt/py39/lib/python3.9/site-packages/ipykernel/kernelapp.py:712\u001b[0m, in \u001b[0;36mIPKernelApp.start\u001b[0;34m(***failed resolving arguments***)\u001b[0m\n\u001b[1;32m    711\u001b[0m \u001b[38;5;28;01mtry\u001b[39;00m:\n\u001b[0;32m--> 712\u001b[0m     \u001b[38;5;28mself\u001b[39m\u001b[38;5;241m.\u001b[39mio_loop\u001b[38;5;241m.\u001b[39mstart()\n\u001b[1;32m    713\u001b[0m \u001b[38;5;28;01mexcept\u001b[39;00m \u001b[38;5;167;01mKeyboardInterrupt\u001b[39;00m:\n",
      "File \u001b[0;32m~/opt/py39/lib/python3.9/site-packages/tornado/platform/asyncio.py:215\u001b[0m, in \u001b[0;36mBaseAsyncIOLoop.start\u001b[0;34m(***failed resolving arguments***)\u001b[0m\n\u001b[1;32m    214\u001b[0m     asyncio\u001b[38;5;241m.\u001b[39mset_event_loop(\u001b[38;5;28mself\u001b[39m\u001b[38;5;241m.\u001b[39masyncio_loop)\n\u001b[0;32m--> 215\u001b[0m     \u001b[38;5;28mself\u001b[39m\u001b[38;5;241m.\u001b[39masyncio_loop\u001b[38;5;241m.\u001b[39mrun_forever()\n\u001b[1;32m    216\u001b[0m \u001b[38;5;28;01mfinally\u001b[39;00m:\n",
      "File \u001b[0;32m/Library/Developer/CommandLineTools/Library/Frameworks/Python3.framework/Versions/3.9/lib/python3.9/asyncio/base_events.py:596\u001b[0m, in \u001b[0;36mBaseEventLoop.run_forever\u001b[0;34m(***failed resolving arguments***)\u001b[0m\n\u001b[1;32m    595\u001b[0m \u001b[38;5;28;01mwhile\u001b[39;00m \u001b[38;5;28;01mTrue\u001b[39;00m:\n\u001b[0;32m--> 596\u001b[0m     \u001b[38;5;28mself\u001b[39m\u001b[38;5;241m.\u001b[39m_run_once()\n\u001b[1;32m    597\u001b[0m     \u001b[38;5;28;01mif\u001b[39;00m \u001b[38;5;28mself\u001b[39m\u001b[38;5;241m.\u001b[39m_stopping:\n",
      "File \u001b[0;32m/Library/Developer/CommandLineTools/Library/Frameworks/Python3.framework/Versions/3.9/lib/python3.9/asyncio/base_events.py:1890\u001b[0m, in \u001b[0;36mBaseEventLoop._run_once\u001b[0;34m(***failed resolving arguments***)\u001b[0m\n\u001b[1;32m   1889\u001b[0m     \u001b[38;5;28;01melse\u001b[39;00m:\n\u001b[0;32m-> 1890\u001b[0m         handle\u001b[38;5;241m.\u001b[39m_run()\n\u001b[1;32m   1891\u001b[0m handle \u001b[38;5;241m=\u001b[39m \u001b[38;5;28;01mNone\u001b[39;00m\n",
      "File \u001b[0;32m/Library/Developer/CommandLineTools/Library/Frameworks/Python3.framework/Versions/3.9/lib/python3.9/asyncio/events.py:80\u001b[0m, in \u001b[0;36mHandle._run\u001b[0;34m(***failed resolving arguments***)\u001b[0m\n\u001b[1;32m     79\u001b[0m \u001b[38;5;28;01mtry\u001b[39;00m:\n\u001b[0;32m---> 80\u001b[0m     \u001b[38;5;28mself\u001b[39m\u001b[38;5;241m.\u001b[39m_context\u001b[38;5;241m.\u001b[39mrun(\u001b[38;5;28mself\u001b[39m\u001b[38;5;241m.\u001b[39m_callback, \u001b[38;5;241m*\u001b[39m\u001b[38;5;28mself\u001b[39m\u001b[38;5;241m.\u001b[39m_args)\n\u001b[1;32m     81\u001b[0m \u001b[38;5;28;01mexcept\u001b[39;00m (\u001b[38;5;167;01mSystemExit\u001b[39;00m, \u001b[38;5;167;01mKeyboardInterrupt\u001b[39;00m):\n",
      "File \u001b[0;32m~/opt/py39/lib/python3.9/site-packages/ipykernel/kernelbase.py:510\u001b[0m, in \u001b[0;36mKernel.dispatch_queue\u001b[0;34m(***failed resolving arguments***)\u001b[0m\n\u001b[1;32m    509\u001b[0m \u001b[38;5;28;01mtry\u001b[39;00m:\n\u001b[0;32m--> 510\u001b[0m     \u001b[38;5;28;01mawait\u001b[39;00m \u001b[38;5;28mself\u001b[39m\u001b[38;5;241m.\u001b[39mprocess_one()\n\u001b[1;32m    511\u001b[0m \u001b[38;5;28;01mexcept\u001b[39;00m \u001b[38;5;167;01mException\u001b[39;00m:\n",
      "File \u001b[0;32m~/opt/py39/lib/python3.9/site-packages/ipykernel/kernelbase.py:499\u001b[0m, in \u001b[0;36mKernel.process_one\u001b[0;34m(***failed resolving arguments***)\u001b[0m\n\u001b[1;32m    498\u001b[0m         \u001b[38;5;28;01mreturn\u001b[39;00m \u001b[38;5;28;01mNone\u001b[39;00m\n\u001b[0;32m--> 499\u001b[0m \u001b[38;5;28;01mawait\u001b[39;00m dispatch(\u001b[38;5;241m*\u001b[39margs)\n",
      "File \u001b[0;32m~/opt/py39/lib/python3.9/site-packages/ipykernel/kernelbase.py:406\u001b[0m, in \u001b[0;36mKernel.dispatch_shell\u001b[0;34m(***failed resolving arguments***)\u001b[0m\n\u001b[1;32m    405\u001b[0m     \u001b[38;5;28;01mif\u001b[39;00m inspect\u001b[38;5;241m.\u001b[39misawaitable(result):\n\u001b[0;32m--> 406\u001b[0m         \u001b[38;5;28;01mawait\u001b[39;00m result\n\u001b[1;32m    407\u001b[0m \u001b[38;5;28;01mexcept\u001b[39;00m \u001b[38;5;167;01mException\u001b[39;00m:\n",
      "File \u001b[0;32m~/opt/py39/lib/python3.9/site-packages/ipykernel/kernelbase.py:730\u001b[0m, in \u001b[0;36mKernel.execute_request\u001b[0;34m(***failed resolving arguments***)\u001b[0m\n\u001b[1;32m    729\u001b[0m \u001b[38;5;28;01mif\u001b[39;00m inspect\u001b[38;5;241m.\u001b[39misawaitable(reply_content):\n\u001b[0;32m--> 730\u001b[0m     reply_content \u001b[38;5;241m=\u001b[39m \u001b[38;5;28;01mawait\u001b[39;00m reply_content\n\u001b[1;32m    732\u001b[0m \u001b[38;5;66;03m# Flush output before sending the reply.\u001b[39;00m\n",
      "File \u001b[0;32m~/opt/py39/lib/python3.9/site-packages/ipykernel/ipkernel.py:383\u001b[0m, in \u001b[0;36mIPythonKernel.do_execute\u001b[0;34m(***failed resolving arguments***)\u001b[0m\n\u001b[1;32m    382\u001b[0m \u001b[38;5;28;01mif\u001b[39;00m with_cell_id:\n\u001b[0;32m--> 383\u001b[0m     res \u001b[38;5;241m=\u001b[39m shell\u001b[38;5;241m.\u001b[39mrun_cell(\n\u001b[1;32m    384\u001b[0m         code,\n\u001b[1;32m    385\u001b[0m         store_history\u001b[38;5;241m=\u001b[39mstore_history,\n\u001b[1;32m    386\u001b[0m         silent\u001b[38;5;241m=\u001b[39msilent,\n\u001b[1;32m    387\u001b[0m         cell_id\u001b[38;5;241m=\u001b[39mcell_id,\n\u001b[1;32m    388\u001b[0m     )\n\u001b[1;32m    389\u001b[0m \u001b[38;5;28;01melse\u001b[39;00m:\n",
      "File \u001b[0;32m~/opt/py39/lib/python3.9/site-packages/ipykernel/zmqshell.py:528\u001b[0m, in \u001b[0;36mZMQInteractiveShell.run_cell\u001b[0;34m(***failed resolving arguments***)\u001b[0m\n\u001b[1;32m    527\u001b[0m \u001b[38;5;28mself\u001b[39m\u001b[38;5;241m.\u001b[39m_last_traceback \u001b[38;5;241m=\u001b[39m \u001b[38;5;28;01mNone\u001b[39;00m\n\u001b[0;32m--> 528\u001b[0m \u001b[38;5;28;01mreturn\u001b[39;00m \u001b[38;5;28msuper\u001b[39m()\u001b[38;5;241m.\u001b[39mrun_cell(\u001b[38;5;241m*\u001b[39margs, \u001b[38;5;241m*\u001b[39m\u001b[38;5;241m*\u001b[39mkwargs)\n",
      "File \u001b[0;32m~/opt/py39/lib/python3.9/site-packages/IPython/core/interactiveshell.py:2885\u001b[0m, in \u001b[0;36mInteractiveShell.run_cell\u001b[0;34m(***failed resolving arguments***)\u001b[0m\n\u001b[1;32m   2884\u001b[0m \u001b[38;5;28;01mtry\u001b[39;00m:\n\u001b[0;32m-> 2885\u001b[0m     result \u001b[38;5;241m=\u001b[39m \u001b[38;5;28mself\u001b[39m\u001b[38;5;241m.\u001b[39m_run_cell(\n\u001b[1;32m   2886\u001b[0m         raw_cell, store_history, silent, shell_futures, cell_id\n\u001b[1;32m   2887\u001b[0m     )\n\u001b[1;32m   2888\u001b[0m \u001b[38;5;28;01mfinally\u001b[39;00m:\n",
      "File \u001b[0;32m~/opt/py39/lib/python3.9/site-packages/IPython/core/interactiveshell.py:2940\u001b[0m, in \u001b[0;36mInteractiveShell._run_cell\u001b[0;34m(***failed resolving arguments***)\u001b[0m\n\u001b[1;32m   2939\u001b[0m \u001b[38;5;28;01mtry\u001b[39;00m:\n\u001b[0;32m-> 2940\u001b[0m     \u001b[38;5;28;01mreturn\u001b[39;00m runner(coro)\n\u001b[1;32m   2941\u001b[0m \u001b[38;5;28;01mexcept\u001b[39;00m \u001b[38;5;167;01mBaseException\u001b[39;00m \u001b[38;5;28;01mas\u001b[39;00m e:\n",
      "File \u001b[0;32m~/opt/py39/lib/python3.9/site-packages/IPython/core/async_helpers.py:129\u001b[0m, in \u001b[0;36m_pseudo_sync_runner\u001b[0;34m(***failed resolving arguments***)\u001b[0m\n\u001b[1;32m    128\u001b[0m \u001b[38;5;28;01mtry\u001b[39;00m:\n\u001b[0;32m--> 129\u001b[0m     coro\u001b[38;5;241m.\u001b[39msend(\u001b[38;5;28;01mNone\u001b[39;00m)\n\u001b[1;32m    130\u001b[0m \u001b[38;5;28;01mexcept\u001b[39;00m \u001b[38;5;167;01mStopIteration\u001b[39;00m \u001b[38;5;28;01mas\u001b[39;00m exc:\n",
      "File \u001b[0;32m~/opt/py39/lib/python3.9/site-packages/IPython/core/interactiveshell.py:3139\u001b[0m, in \u001b[0;36mInteractiveShell.run_cell_async\u001b[0;34m(***failed resolving arguments***)\u001b[0m\n\u001b[1;32m   3137\u001b[0m interactivity \u001b[38;5;241m=\u001b[39m \u001b[38;5;124m\"\u001b[39m\u001b[38;5;124mnone\u001b[39m\u001b[38;5;124m\"\u001b[39m \u001b[38;5;28;01mif\u001b[39;00m silent \u001b[38;5;28;01melse\u001b[39;00m \u001b[38;5;28mself\u001b[39m\u001b[38;5;241m.\u001b[39mast_node_interactivity\n\u001b[0;32m-> 3139\u001b[0m has_raised \u001b[38;5;241m=\u001b[39m \u001b[38;5;28;01mawait\u001b[39;00m \u001b[38;5;28mself\u001b[39m\u001b[38;5;241m.\u001b[39mrun_ast_nodes(code_ast\u001b[38;5;241m.\u001b[39mbody, cell_name,\n\u001b[1;32m   3140\u001b[0m        interactivity\u001b[38;5;241m=\u001b[39minteractivity, compiler\u001b[38;5;241m=\u001b[39mcompiler, result\u001b[38;5;241m=\u001b[39mresult)\n\u001b[1;32m   3142\u001b[0m \u001b[38;5;28mself\u001b[39m\u001b[38;5;241m.\u001b[39mlast_execution_succeeded \u001b[38;5;241m=\u001b[39m \u001b[38;5;129;01mnot\u001b[39;00m has_raised\n",
      "File \u001b[0;32m~/opt/py39/lib/python3.9/site-packages/IPython/core/interactiveshell.py:3318\u001b[0m, in \u001b[0;36mInteractiveShell.run_ast_nodes\u001b[0;34m(***failed resolving arguments***)\u001b[0m\n\u001b[1;32m   3317\u001b[0m     asy \u001b[38;5;241m=\u001b[39m compare(code)\n\u001b[0;32m-> 3318\u001b[0m \u001b[38;5;28;01mif\u001b[39;00m \u001b[38;5;28;01mawait\u001b[39;00m \u001b[38;5;28mself\u001b[39m\u001b[38;5;241m.\u001b[39mrun_code(code, result, async_\u001b[38;5;241m=\u001b[39masy):\n\u001b[1;32m   3319\u001b[0m     \u001b[38;5;28;01mreturn\u001b[39;00m \u001b[38;5;28;01mTrue\u001b[39;00m\n",
      "File \u001b[0;32m~/opt/py39/lib/python3.9/site-packages/IPython/core/interactiveshell.py:3378\u001b[0m, in \u001b[0;36mInteractiveShell.run_code\u001b[0;34m(***failed resolving arguments***)\u001b[0m\n\u001b[1;32m   3377\u001b[0m     \u001b[38;5;28;01melse\u001b[39;00m:\n\u001b[0;32m-> 3378\u001b[0m         exec(code_obj, \u001b[38;5;28mself\u001b[39m\u001b[38;5;241m.\u001b[39muser_global_ns, \u001b[38;5;28mself\u001b[39m\u001b[38;5;241m.\u001b[39muser_ns)\n\u001b[1;32m   3379\u001b[0m \u001b[38;5;28;01mfinally\u001b[39;00m:\n\u001b[1;32m   3380\u001b[0m     \u001b[38;5;66;03m# Reset our crash handler in place\u001b[39;00m\n",
      "Cell \u001b[0;32mIn [19], line 8\u001b[0m\n\u001b[1;32m      7\u001b[0m primal_result \u001b[38;5;241m=\u001b[39m f(x)\n\u001b[0;32m----> 8\u001b[0m gradient_result \u001b[38;5;241m=\u001b[39m grad(f)(x)\n",
      "Cell \u001b[0;32mIn [19], line 4\u001b[0m, in \u001b[0;36mf\u001b[0;34m(***failed resolving arguments***)\u001b[0m\n\u001b[1;32m      3\u001b[0m \u001b[38;5;28;01mdef\u001b[39;00m \u001b[38;5;21mf\u001b[39m(x):\n\u001b[0;32m----> 4\u001b[0m     \u001b[38;5;28;01mreturn\u001b[39;00m x \u001b[38;5;241m*\u001b[39m\u001b[38;5;241m*\u001b[39m (\u001b[38;5;241m1\u001b[39m\u001b[38;5;241m/\u001b[39m\u001b[38;5;241m3\u001b[39m)\n",
      "File \u001b[0;32m~/opt/py39/lib/python3.9/site-packages/jax/_src/numpy/lax_numpy.py:5071\u001b[0m, in \u001b[0;36m_defer_to_unrecognized_arg.<locals>.deferring_binary_op\u001b[0;34m(***failed resolving arguments***)\u001b[0m\n\u001b[1;32m   5070\u001b[0m \u001b[38;5;28;01mif\u001b[39;00m \u001b[38;5;28misinstance\u001b[39m(other, _accepted_binop_types):\n\u001b[0;32m-> 5071\u001b[0m   \u001b[38;5;28;01mreturn\u001b[39;00m binary_op(\u001b[38;5;241m*\u001b[39margs)\n\u001b[1;32m   5072\u001b[0m \u001b[38;5;28;01mif\u001b[39;00m \u001b[38;5;28misinstance\u001b[39m(other, _rejected_binop_types):\n",
      "File \u001b[0;32m~/opt/py39/lib/python3.9/site-packages/jax/_src/numpy/ufuncs.py:347\u001b[0m, in \u001b[0;36mpower\u001b[0;34m(***failed resolving arguments***)\u001b[0m\n\u001b[1;32m    346\u001b[0m     \u001b[38;5;28;01mreturn\u001b[39;00m lax\u001b[38;5;241m.\u001b[39minteger_pow(x1, x2)\n\u001b[0;32m--> 347\u001b[0m \u001b[38;5;28;01mreturn\u001b[39;00m _power(x1, x2)\n",
      "File \u001b[0;32m~/opt/py39/lib/python3.9/site-packages/jax/_src/numpy/ufuncs.py:315\u001b[0m, in \u001b[0;36m_power\u001b[0;34m(***failed resolving arguments***)\u001b[0m\n\u001b[1;32m    314\u001b[0m \u001b[38;5;28;01mif\u001b[39;00m \u001b[38;5;129;01mnot\u001b[39;00m dtypes\u001b[38;5;241m.\u001b[39missubdtype(dtype, np\u001b[38;5;241m.\u001b[39minteger):\n\u001b[0;32m--> 315\u001b[0m   \u001b[38;5;28;01mreturn\u001b[39;00m lax\u001b[38;5;241m.\u001b[39mpow(x1, x2)\n\u001b[1;32m    317\u001b[0m \u001b[38;5;66;03m# Integer power => use binary exponentiation.\u001b[39;00m\n\u001b[1;32m    318\u001b[0m \n\u001b[1;32m    319\u001b[0m \u001b[38;5;66;03m# TODO(phawkins): add integer pow support to XLA.\u001b[39;00m\n",
      "\u001b[0;31mJaxStackTraceBeforeTransformation\u001b[0m: FloatingPointError: invalid value (inf) encountered in jit(pow)\n\nThe preceding stack trace is the source of the JAX operation that, once transformed by JAX, triggered the following exception.\n\n--------------------",
      "\nThe above exception was the direct cause of the following exception:\n",
      "\u001b[0;31mFloatingPointError\u001b[0m                        Traceback (most recent call last)",
      "Cell \u001b[0;32mIn [35], line 4\u001b[0m\n\u001b[1;32m      1\u001b[0m \u001b[38;5;28;01mimport\u001b[39;00m \u001b[38;5;21;01mjax\u001b[39;00m\n\u001b[1;32m      3\u001b[0m \u001b[38;5;28;01mwith\u001b[39;00m jax\u001b[38;5;241m.\u001b[39mdebug_infs(\u001b[38;5;28;01mTrue\u001b[39;00m):\n\u001b[0;32m----> 4\u001b[0m     jax\u001b[38;5;241m.\u001b[39mgrad(f)(x)\n",
      "    \u001b[0;31m[... skipping hidden 10 frame]\u001b[0m\n",
      "Cell \u001b[0;32mIn [34], line 4\u001b[0m, in \u001b[0;36mf\u001b[0;34m(x)\u001b[0m\n\u001b[1;32m      3\u001b[0m \u001b[38;5;28;01mdef\u001b[39;00m \u001b[38;5;21mf\u001b[39m(x):\n\u001b[0;32m----> 4\u001b[0m     \u001b[38;5;28;01mreturn\u001b[39;00m \u001b[43mx\u001b[49m\u001b[43m \u001b[49m\u001b[38;5;241;43m*\u001b[39;49m\u001b[38;5;241;43m*\u001b[39;49m\u001b[43m \u001b[49m\u001b[43m(\u001b[49m\u001b[38;5;241;43m1\u001b[39;49m\u001b[38;5;241;43m/\u001b[39;49m\u001b[38;5;241;43m3\u001b[39;49m\u001b[43m)\u001b[49m\n",
      "    \u001b[0;31m[... skipping hidden 1 frame]\u001b[0m\n",
      "File \u001b[0;32m~/opt/py39/lib/python3.9/site-packages/jax/_src/numpy/lax_numpy.py:5071\u001b[0m, in \u001b[0;36m_defer_to_unrecognized_arg.<locals>.deferring_binary_op\u001b[0;34m(self, other)\u001b[0m\n\u001b[1;32m   5069\u001b[0m args \u001b[38;5;241m=\u001b[39m (other, \u001b[38;5;28mself\u001b[39m) \u001b[38;5;28;01mif\u001b[39;00m swap \u001b[38;5;28;01melse\u001b[39;00m (\u001b[38;5;28mself\u001b[39m, other)\n\u001b[1;32m   5070\u001b[0m \u001b[38;5;28;01mif\u001b[39;00m \u001b[38;5;28misinstance\u001b[39m(other, _accepted_binop_types):\n\u001b[0;32m-> 5071\u001b[0m   \u001b[38;5;28;01mreturn\u001b[39;00m \u001b[43mbinary_op\u001b[49m\u001b[43m(\u001b[49m\u001b[38;5;241;43m*\u001b[39;49m\u001b[43margs\u001b[49m\u001b[43m)\u001b[49m\n\u001b[1;32m   5072\u001b[0m \u001b[38;5;28;01mif\u001b[39;00m \u001b[38;5;28misinstance\u001b[39m(other, _rejected_binop_types):\n\u001b[1;32m   5073\u001b[0m   \u001b[38;5;28;01mraise\u001b[39;00m \u001b[38;5;167;01mTypeError\u001b[39;00m(\u001b[38;5;124mf\u001b[39m\u001b[38;5;124m\"\u001b[39m\u001b[38;5;124munsupported operand type(s) for \u001b[39m\u001b[38;5;132;01m{\u001b[39;00mopchar\u001b[38;5;132;01m}\u001b[39;00m\u001b[38;5;124m: \u001b[39m\u001b[38;5;124m\"\u001b[39m\n\u001b[1;32m   5074\u001b[0m                   \u001b[38;5;124mf\u001b[39m\u001b[38;5;124m\"\u001b[39m\u001b[38;5;132;01m{\u001b[39;00m\u001b[38;5;28mtype\u001b[39m(args[\u001b[38;5;241m0\u001b[39m])\u001b[38;5;241m.\u001b[39m\u001b[38;5;18m__name__\u001b[39m\u001b[38;5;132;01m!r}\u001b[39;00m\u001b[38;5;124m and \u001b[39m\u001b[38;5;132;01m{\u001b[39;00m\u001b[38;5;28mtype\u001b[39m(args[\u001b[38;5;241m1\u001b[39m])\u001b[38;5;241m.\u001b[39m\u001b[38;5;18m__name__\u001b[39m\u001b[38;5;132;01m!r}\u001b[39;00m\u001b[38;5;124m\"\u001b[39m)\n",
      "File \u001b[0;32m~/opt/py39/lib/python3.9/site-packages/jax/_src/numpy/ufuncs.py:347\u001b[0m, in \u001b[0;36mpower\u001b[0;34m(x1, x2)\u001b[0m\n\u001b[1;32m    345\u001b[0m     x1, \u001b[38;5;241m=\u001b[39m _promote_dtypes_numeric(x1)\n\u001b[1;32m    346\u001b[0m     \u001b[38;5;28;01mreturn\u001b[39;00m lax\u001b[38;5;241m.\u001b[39minteger_pow(x1, x2)\n\u001b[0;32m--> 347\u001b[0m \u001b[38;5;28;01mreturn\u001b[39;00m \u001b[43m_power\u001b[49m\u001b[43m(\u001b[49m\u001b[43mx1\u001b[49m\u001b[43m,\u001b[49m\u001b[43m \u001b[49m\u001b[43mx2\u001b[49m\u001b[43m)\u001b[49m\n",
      "    \u001b[0;31m[... skipping hidden 25 frame]\u001b[0m\n",
      "File \u001b[0;32m~/opt/py39/lib/python3.9/site-packages/jax/_src/dispatch.py:879\u001b[0m, in \u001b[0;36m_check_special\u001b[0;34m(name, dtype, buf)\u001b[0m\n\u001b[1;32m    877\u001b[0m   \u001b[38;5;28;01mraise\u001b[39;00m \u001b[38;5;167;01mFloatingPointError\u001b[39;00m(\u001b[38;5;124mf\u001b[39m\u001b[38;5;124m\"\u001b[39m\u001b[38;5;124minvalid value (nan) encountered in \u001b[39m\u001b[38;5;132;01m{\u001b[39;00mname\u001b[38;5;132;01m}\u001b[39;00m\u001b[38;5;124m\"\u001b[39m)\n\u001b[1;32m    878\u001b[0m \u001b[38;5;28;01mif\u001b[39;00m config\u001b[38;5;241m.\u001b[39mjax_debug_infs \u001b[38;5;129;01mand\u001b[39;00m np\u001b[38;5;241m.\u001b[39many(np\u001b[38;5;241m.\u001b[39misinf(np\u001b[38;5;241m.\u001b[39masarray(buf))):\n\u001b[0;32m--> 879\u001b[0m   \u001b[38;5;28;01mraise\u001b[39;00m \u001b[38;5;167;01mFloatingPointError\u001b[39;00m(\u001b[38;5;124mf\u001b[39m\u001b[38;5;124m\"\u001b[39m\u001b[38;5;124minvalid value (inf) encountered in \u001b[39m\u001b[38;5;132;01m{\u001b[39;00mname\u001b[38;5;132;01m}\u001b[39;00m\u001b[38;5;124m\"\u001b[39m)\n",
      "\u001b[0;31mFloatingPointError\u001b[0m: invalid value (inf) encountered in jit(pow)"
     ]
    }
   ],
   "source": [
    "import jax\n",
    "\n",
    "with jax.debug_infs(True):\n",
    "    jax.grad(f)(x)"
   ]
  },
  {
   "cell_type": "code",
   "execution_count": 36,
   "id": "ebbbbbd3",
   "metadata": {},
   "outputs": [
    {
     "name": "stdout",
     "output_type": "stream",
     "text": [
      "> \u001b[0;32m/Users/terhorst/opt/py39/lib/python3.9/site-packages/jax/_src/dispatch.py\u001b[0m(879)\u001b[0;36m_check_special\u001b[0;34m()\u001b[0m\n",
      "\u001b[0;32m    877 \u001b[0;31m      \u001b[0;32mraise\u001b[0m \u001b[0mFloatingPointError\u001b[0m\u001b[0;34m(\u001b[0m\u001b[0;34mf\"invalid value (nan) encountered in {name}\"\u001b[0m\u001b[0;34m)\u001b[0m\u001b[0;34m\u001b[0m\u001b[0;34m\u001b[0m\u001b[0m\n",
      "\u001b[0m\u001b[0;32m    878 \u001b[0;31m    \u001b[0;32mif\u001b[0m \u001b[0mconfig\u001b[0m\u001b[0;34m.\u001b[0m\u001b[0mjax_debug_infs\u001b[0m \u001b[0;32mand\u001b[0m \u001b[0mnp\u001b[0m\u001b[0;34m.\u001b[0m\u001b[0many\u001b[0m\u001b[0;34m(\u001b[0m\u001b[0mnp\u001b[0m\u001b[0;34m.\u001b[0m\u001b[0misinf\u001b[0m\u001b[0;34m(\u001b[0m\u001b[0mnp\u001b[0m\u001b[0;34m.\u001b[0m\u001b[0masarray\u001b[0m\u001b[0;34m(\u001b[0m\u001b[0mbuf\u001b[0m\u001b[0;34m)\u001b[0m\u001b[0;34m)\u001b[0m\u001b[0;34m)\u001b[0m\u001b[0;34m:\u001b[0m\u001b[0;34m\u001b[0m\u001b[0;34m\u001b[0m\u001b[0m\n",
      "\u001b[0m\u001b[0;32m--> 879 \u001b[0;31m      \u001b[0;32mraise\u001b[0m \u001b[0mFloatingPointError\u001b[0m\u001b[0;34m(\u001b[0m\u001b[0;34mf\"invalid value (inf) encountered in {name}\"\u001b[0m\u001b[0;34m)\u001b[0m\u001b[0;34m\u001b[0m\u001b[0;34m\u001b[0m\u001b[0m\n",
      "\u001b[0m\u001b[0;32m    880 \u001b[0;31m\u001b[0;34m\u001b[0m\u001b[0m\n",
      "\u001b[0m\u001b[0;32m    881 \u001b[0;31mdef _add_tokens(has_unordered_effects: bool, ordered_effects: List[core.Effect],\n",
      "\u001b[0m\n",
      "ipdb> up\n",
      "> \u001b[0;32m/Users/terhorst/opt/py39/lib/python3.9/site-packages/jax/_src/numpy/ufuncs.py\u001b[0m(347)\u001b[0;36mpower\u001b[0;34m()\u001b[0m\n",
      "\u001b[0;32m    345 \u001b[0;31m      \u001b[0mx1\u001b[0m\u001b[0;34m,\u001b[0m \u001b[0;34m=\u001b[0m \u001b[0m_promote_dtypes_numeric\u001b[0m\u001b[0;34m(\u001b[0m\u001b[0mx1\u001b[0m\u001b[0;34m)\u001b[0m\u001b[0;34m\u001b[0m\u001b[0;34m\u001b[0m\u001b[0m\n",
      "\u001b[0m\u001b[0;32m    346 \u001b[0;31m      \u001b[0;32mreturn\u001b[0m \u001b[0mlax\u001b[0m\u001b[0;34m.\u001b[0m\u001b[0minteger_pow\u001b[0m\u001b[0;34m(\u001b[0m\u001b[0mx1\u001b[0m\u001b[0;34m,\u001b[0m \u001b[0mx2\u001b[0m\u001b[0;34m)\u001b[0m\u001b[0;34m\u001b[0m\u001b[0;34m\u001b[0m\u001b[0m\n",
      "\u001b[0m\u001b[0;32m--> 347 \u001b[0;31m  \u001b[0;32mreturn\u001b[0m \u001b[0m_power\u001b[0m\u001b[0;34m(\u001b[0m\u001b[0mx1\u001b[0m\u001b[0;34m,\u001b[0m \u001b[0mx2\u001b[0m\u001b[0;34m)\u001b[0m\u001b[0;34m\u001b[0m\u001b[0;34m\u001b[0m\u001b[0m\n",
      "\u001b[0m\u001b[0;32m    348 \u001b[0;31m\u001b[0;34m\u001b[0m\u001b[0m\n",
      "\u001b[0m\u001b[0;32m    349 \u001b[0;31m\u001b[0;34m\u001b[0m\u001b[0m\n",
      "\u001b[0m\n",
      "\u001b[0;31m    [... skipped 25 hidden frame(s)]\u001b[0m\n",
      "\n",
      "ipdb> p x1\n",
      "Traced<ConcreteArray(0.0, dtype=float32, weak_type=True)>with<JVPTrace(level=2/0)> with\n",
      "  primal = 0.0\n",
      "  tangent = Traced<ShapedArray(float32[], weak_type=True)>with<JaxprTrace(level=1/0)> with\n",
      "    pval = (ShapedArray(float32[], weak_type=True), None)\n",
      "    recipe = LambdaBinding()\n",
      "ipdb> p x2\n",
      "0.3333333333333333\n",
      "ipdb> up\n",
      "> \u001b[0;32m/Users/terhorst/opt/py39/lib/python3.9/site-packages/jax/_src/numpy/lax_numpy.py\u001b[0m(5071)\u001b[0;36mdeferring_binary_op\u001b[0;34m()\u001b[0m\n",
      "\u001b[0;32m   5069 \u001b[0;31m    \u001b[0margs\u001b[0m \u001b[0;34m=\u001b[0m \u001b[0;34m(\u001b[0m\u001b[0mother\u001b[0m\u001b[0;34m,\u001b[0m \u001b[0mself\u001b[0m\u001b[0;34m)\u001b[0m \u001b[0;32mif\u001b[0m \u001b[0mswap\u001b[0m \u001b[0;32melse\u001b[0m \u001b[0;34m(\u001b[0m\u001b[0mself\u001b[0m\u001b[0;34m,\u001b[0m \u001b[0mother\u001b[0m\u001b[0;34m)\u001b[0m\u001b[0;34m\u001b[0m\u001b[0;34m\u001b[0m\u001b[0m\n",
      "\u001b[0m\u001b[0;32m   5070 \u001b[0;31m    \u001b[0;32mif\u001b[0m \u001b[0misinstance\u001b[0m\u001b[0;34m(\u001b[0m\u001b[0mother\u001b[0m\u001b[0;34m,\u001b[0m \u001b[0m_accepted_binop_types\u001b[0m\u001b[0;34m)\u001b[0m\u001b[0;34m:\u001b[0m\u001b[0;34m\u001b[0m\u001b[0;34m\u001b[0m\u001b[0m\n",
      "\u001b[0m\u001b[0;32m-> 5071 \u001b[0;31m      \u001b[0;32mreturn\u001b[0m \u001b[0mbinary_op\u001b[0m\u001b[0;34m(\u001b[0m\u001b[0;34m*\u001b[0m\u001b[0margs\u001b[0m\u001b[0;34m)\u001b[0m\u001b[0;34m\u001b[0m\u001b[0;34m\u001b[0m\u001b[0m\n",
      "\u001b[0m\u001b[0;32m   5072 \u001b[0;31m    \u001b[0;32mif\u001b[0m \u001b[0misinstance\u001b[0m\u001b[0;34m(\u001b[0m\u001b[0mother\u001b[0m\u001b[0;34m,\u001b[0m \u001b[0m_rejected_binop_types\u001b[0m\u001b[0;34m)\u001b[0m\u001b[0;34m:\u001b[0m\u001b[0;34m\u001b[0m\u001b[0;34m\u001b[0m\u001b[0m\n",
      "\u001b[0m\u001b[0;32m   5073 \u001b[0;31m      raise TypeError(f\"unsupported operand type(s) for {opchar}: \"\n",
      "\u001b[0m\n",
      "ipdb> up\n",
      "> \u001b[0;32m/var/folders/b1/jjpl1p_53jxggrgr9nn841nm0000gn/T/ipykernel_76927/3042905035.py\u001b[0m(4)\u001b[0;36mf\u001b[0;34m()\u001b[0m\n",
      "\u001b[0;32m      2 \u001b[0;31m\u001b[0;34m\u001b[0m\u001b[0m\n",
      "\u001b[0m\u001b[0;32m      3 \u001b[0;31m\u001b[0;32mdef\u001b[0m \u001b[0mf\u001b[0m\u001b[0;34m(\u001b[0m\u001b[0mx\u001b[0m\u001b[0;34m)\u001b[0m\u001b[0;34m:\u001b[0m\u001b[0;34m\u001b[0m\u001b[0;34m\u001b[0m\u001b[0m\n",
      "\u001b[0m\u001b[0;32m----> 4 \u001b[0;31m    \u001b[0;32mreturn\u001b[0m \u001b[0mx\u001b[0m \u001b[0;34m**\u001b[0m \u001b[0;34m(\u001b[0m\u001b[0;36m1\u001b[0m\u001b[0;34m/\u001b[0m\u001b[0;36m3\u001b[0m\u001b[0;34m)\u001b[0m\u001b[0;34m\u001b[0m\u001b[0;34m\u001b[0m\u001b[0m\n",
      "\u001b[0m\u001b[0;32m      5 \u001b[0;31m\u001b[0;34m\u001b[0m\u001b[0m\n",
      "\u001b[0m\u001b[0;32m      6 \u001b[0;31m\u001b[0mx\u001b[0m \u001b[0;34m=\u001b[0m \u001b[0;36m0.0\u001b[0m\u001b[0;34m\u001b[0m\u001b[0;34m\u001b[0m\u001b[0m\n",
      "\u001b[0m\n",
      "\u001b[0;31m    [... skipped 1 hidden frame(s)]\u001b[0m\n",
      "\n",
      "ipdb> p x\n",
      "Traced<ConcreteArray(0.0, dtype=float32, weak_type=True)>with<JVPTrace(level=2/0)> with\n",
      "  primal = 0.0\n",
      "  tangent = Traced<ShapedArray(float32[], weak_type=True)>with<JaxprTrace(level=1/0)> with\n",
      "    pval = (ShapedArray(float32[], weak_type=True), None)\n",
      "    recipe = LambdaBinding()\n",
      "ipdb> q\n"
     ]
    }
   ],
   "source": [
    "%debug"
   ]
  },
  {
   "cell_type": "code",
   "execution_count": 41,
   "id": "935a6a70",
   "metadata": {},
   "outputs": [],
   "source": [
    "import jax.numpy as jnp\n",
    "\n",
    "def f(x):\n",
    "    return x * jnp.log(x)\n"
   ]
  },
  {
   "cell_type": "code",
   "execution_count": 42,
   "id": "9dbb1b61",
   "metadata": {},
   "outputs": [
    {
     "name": "stdout",
     "output_type": "stream",
     "text": [
      "Invalid nan value encountered in the output of a C++-jit/pmap function. Calling the de-optimized version.\n"
     ]
    },
    {
     "ename": "FloatingPointError",
     "evalue": "invalid value (nan) encountered in jit(mul)",
     "output_type": "error",
     "traceback": [
      "\u001b[0;31m---------------------------------------------------------------------------\u001b[0m",
      "\u001b[0;31mFloatingPointError\u001b[0m                        Traceback (most recent call last)",
      "File \u001b[0;32m~/opt/py39/lib/python3.9/site-packages/jax/_src/api.py:134\u001b[0m, in \u001b[0;36m_nan_check_posthook\u001b[0;34m(fun, args, kwargs, output)\u001b[0m\n\u001b[1;32m    133\u001b[0m \u001b[38;5;28;01mif\u001b[39;00m jax\u001b[38;5;241m.\u001b[39mconfig\u001b[38;5;241m.\u001b[39mjax_jit_pjit_api_merge:\n\u001b[0;32m--> 134\u001b[0m   \u001b[43mdispatch\u001b[49m\u001b[38;5;241;43m.\u001b[39;49m\u001b[43mcheck_special\u001b[49m\u001b[43m(\u001b[49m\u001b[43mpjit\u001b[49m\u001b[38;5;241;43m.\u001b[39;49m\u001b[43mpjit_p\u001b[49m\u001b[43m,\u001b[49m\u001b[43m \u001b[49m\u001b[43mbuffers\u001b[49m\u001b[43m)\u001b[49m\n\u001b[1;32m    135\u001b[0m \u001b[38;5;28;01melse\u001b[39;00m:\n",
      "File \u001b[0;32m~/opt/py39/lib/python3.9/site-packages/jax/_src/dispatch.py:872\u001b[0m, in \u001b[0;36mcheck_special\u001b[0;34m(name, bufs)\u001b[0m\n\u001b[1;32m    871\u001b[0m \u001b[38;5;28;01mfor\u001b[39;00m buf \u001b[38;5;129;01min\u001b[39;00m bufs:\n\u001b[0;32m--> 872\u001b[0m   \u001b[43m_check_special\u001b[49m\u001b[43m(\u001b[49m\u001b[43mname\u001b[49m\u001b[43m,\u001b[49m\u001b[43m \u001b[49m\u001b[43mbuf\u001b[49m\u001b[38;5;241;43m.\u001b[39;49m\u001b[43mdtype\u001b[49m\u001b[43m,\u001b[49m\u001b[43m \u001b[49m\u001b[43mbuf\u001b[49m\u001b[43m)\u001b[49m\n",
      "File \u001b[0;32m~/opt/py39/lib/python3.9/site-packages/jax/_src/dispatch.py:877\u001b[0m, in \u001b[0;36m_check_special\u001b[0;34m(name, dtype, buf)\u001b[0m\n\u001b[1;32m    876\u001b[0m \u001b[38;5;28;01mif\u001b[39;00m config\u001b[38;5;241m.\u001b[39mjax_debug_nans \u001b[38;5;129;01mand\u001b[39;00m np\u001b[38;5;241m.\u001b[39many(np\u001b[38;5;241m.\u001b[39misnan(np\u001b[38;5;241m.\u001b[39masarray(buf))):\n\u001b[0;32m--> 877\u001b[0m   \u001b[38;5;28;01mraise\u001b[39;00m \u001b[38;5;167;01mFloatingPointError\u001b[39;00m(\u001b[38;5;124mf\u001b[39m\u001b[38;5;124m\"\u001b[39m\u001b[38;5;124minvalid value (nan) encountered in \u001b[39m\u001b[38;5;132;01m{\u001b[39;00mname\u001b[38;5;132;01m}\u001b[39;00m\u001b[38;5;124m\"\u001b[39m)\n\u001b[1;32m    878\u001b[0m \u001b[38;5;28;01mif\u001b[39;00m config\u001b[38;5;241m.\u001b[39mjax_debug_infs \u001b[38;5;129;01mand\u001b[39;00m np\u001b[38;5;241m.\u001b[39many(np\u001b[38;5;241m.\u001b[39misinf(np\u001b[38;5;241m.\u001b[39masarray(buf))):\n",
      "\u001b[0;31mFloatingPointError\u001b[0m: invalid value (nan) encountered in pjit",
      "\nDuring handling of the above exception, another exception occurred:\n",
      "\u001b[0;31mFloatingPointError\u001b[0m                        Traceback (most recent call last)",
      "    \u001b[0;31m[... skipping hidden 1 frame]\u001b[0m\n",
      "File \u001b[0;32m~/opt/py39/lib/python3.9/site-packages/jax/_src/profiler.py:314\u001b[0m, in \u001b[0;36mannotate_function.<locals>.wrapper\u001b[0;34m(*args, **kwargs)\u001b[0m\n\u001b[1;32m    313\u001b[0m \u001b[38;5;28;01mwith\u001b[39;00m TraceAnnotation(name, \u001b[38;5;241m*\u001b[39m\u001b[38;5;241m*\u001b[39mdecorator_kwargs):\n\u001b[0;32m--> 314\u001b[0m   \u001b[38;5;28;01mreturn\u001b[39;00m \u001b[43mfunc\u001b[49m\u001b[43m(\u001b[49m\u001b[38;5;241;43m*\u001b[39;49m\u001b[43margs\u001b[49m\u001b[43m,\u001b[49m\u001b[43m \u001b[49m\u001b[38;5;241;43m*\u001b[39;49m\u001b[38;5;241;43m*\u001b[39;49m\u001b[43mkwargs\u001b[49m\u001b[43m)\u001b[49m\n\u001b[1;32m    315\u001b[0m \u001b[38;5;28;01mreturn\u001b[39;00m wrapper\n",
      "File \u001b[0;32m~/opt/py39/lib/python3.9/site-packages/jax/_src/interpreters/pxla.py:2114\u001b[0m, in \u001b[0;36mExecuteReplicated.__call__\u001b[0;34m(self, *args)\u001b[0m\n\u001b[1;32m   2113\u001b[0m       bufs \u001b[38;5;241m=\u001b[39m cast(xc\u001b[38;5;241m.\u001b[39mShardedBuffer, bufs)\u001b[38;5;241m.\u001b[39mget_device_buffers()\n\u001b[0;32m-> 2114\u001b[0m     \u001b[43mdispatch\u001b[49m\u001b[38;5;241;43m.\u001b[39;49m\u001b[43mcheck_special\u001b[49m\u001b[43m(\u001b[49m\u001b[38;5;28;43mself\u001b[39;49m\u001b[38;5;241;43m.\u001b[39;49m\u001b[43mname\u001b[49m\u001b[43m,\u001b[49m\u001b[43m \u001b[49m\u001b[43mbufs\u001b[49m\u001b[43m)\u001b[49m\n\u001b[1;32m   2115\u001b[0m \u001b[38;5;66;03m# TODO(yashkatariya): Remove once migration to Array is completed.\u001b[39;00m\n",
      "File \u001b[0;32m~/opt/py39/lib/python3.9/site-packages/jax/_src/dispatch.py:872\u001b[0m, in \u001b[0;36mcheck_special\u001b[0;34m(name, bufs)\u001b[0m\n\u001b[1;32m    871\u001b[0m \u001b[38;5;28;01mfor\u001b[39;00m buf \u001b[38;5;129;01min\u001b[39;00m bufs:\n\u001b[0;32m--> 872\u001b[0m   \u001b[43m_check_special\u001b[49m\u001b[43m(\u001b[49m\u001b[43mname\u001b[49m\u001b[43m,\u001b[49m\u001b[43m \u001b[49m\u001b[43mbuf\u001b[49m\u001b[38;5;241;43m.\u001b[39;49m\u001b[43mdtype\u001b[49m\u001b[43m,\u001b[49m\u001b[43m \u001b[49m\u001b[43mbuf\u001b[49m\u001b[43m)\u001b[49m\n",
      "File \u001b[0;32m~/opt/py39/lib/python3.9/site-packages/jax/_src/dispatch.py:877\u001b[0m, in \u001b[0;36m_check_special\u001b[0;34m(name, dtype, buf)\u001b[0m\n\u001b[1;32m    876\u001b[0m \u001b[38;5;28;01mif\u001b[39;00m config\u001b[38;5;241m.\u001b[39mjax_debug_nans \u001b[38;5;129;01mand\u001b[39;00m np\u001b[38;5;241m.\u001b[39many(np\u001b[38;5;241m.\u001b[39misnan(np\u001b[38;5;241m.\u001b[39masarray(buf))):\n\u001b[0;32m--> 877\u001b[0m   \u001b[38;5;28;01mraise\u001b[39;00m \u001b[38;5;167;01mFloatingPointError\u001b[39;00m(\u001b[38;5;124mf\u001b[39m\u001b[38;5;124m\"\u001b[39m\u001b[38;5;124minvalid value (nan) encountered in \u001b[39m\u001b[38;5;132;01m{\u001b[39;00mname\u001b[38;5;132;01m}\u001b[39;00m\u001b[38;5;124m\"\u001b[39m)\n\u001b[1;32m    878\u001b[0m \u001b[38;5;28;01mif\u001b[39;00m config\u001b[38;5;241m.\u001b[39mjax_debug_infs \u001b[38;5;129;01mand\u001b[39;00m np\u001b[38;5;241m.\u001b[39many(np\u001b[38;5;241m.\u001b[39misinf(np\u001b[38;5;241m.\u001b[39masarray(buf))):\n",
      "\u001b[0;31mFloatingPointError\u001b[0m: invalid value (nan) encountered in jit(fn)",
      "\nDuring handling of the above exception, another exception occurred:\n",
      "\u001b[0;31mJaxStackTraceBeforeTransformation\u001b[0m         Traceback (most recent call last)",
      "File \u001b[0;32m/Library/Developer/CommandLineTools/Library/Frameworks/Python3.framework/Versions/3.9/lib/python3.9/runpy.py:197\u001b[0m, in \u001b[0;36m_run_module_as_main\u001b[0;34m(***failed resolving arguments***)\u001b[0m\n\u001b[1;32m    196\u001b[0m     sys\u001b[38;5;241m.\u001b[39margv[\u001b[38;5;241m0\u001b[39m] \u001b[38;5;241m=\u001b[39m mod_spec\u001b[38;5;241m.\u001b[39morigin\n\u001b[0;32m--> 197\u001b[0m \u001b[38;5;28;01mreturn\u001b[39;00m _run_code(code, main_globals, \u001b[38;5;28;01mNone\u001b[39;00m,\n\u001b[1;32m    198\u001b[0m                  \u001b[38;5;124m\"\u001b[39m\u001b[38;5;124m__main__\u001b[39m\u001b[38;5;124m\"\u001b[39m, mod_spec)\n",
      "File \u001b[0;32m/Library/Developer/CommandLineTools/Library/Frameworks/Python3.framework/Versions/3.9/lib/python3.9/runpy.py:87\u001b[0m, in \u001b[0;36m_run_code\u001b[0;34m(***failed resolving arguments***)\u001b[0m\n\u001b[1;32m     80\u001b[0m run_globals\u001b[38;5;241m.\u001b[39mupdate(\u001b[38;5;18m__name__\u001b[39m \u001b[38;5;241m=\u001b[39m mod_name,\n\u001b[1;32m     81\u001b[0m                    \u001b[38;5;18m__file__\u001b[39m \u001b[38;5;241m=\u001b[39m fname,\n\u001b[1;32m     82\u001b[0m                    __cached__ \u001b[38;5;241m=\u001b[39m cached,\n\u001b[0;32m   (...)\u001b[0m\n\u001b[1;32m     85\u001b[0m                    __package__ \u001b[38;5;241m=\u001b[39m pkg_name,\n\u001b[1;32m     86\u001b[0m                    __spec__ \u001b[38;5;241m=\u001b[39m mod_spec)\n\u001b[0;32m---> 87\u001b[0m exec(code, run_globals)\n\u001b[1;32m     88\u001b[0m \u001b[38;5;28;01mreturn\u001b[39;00m run_globals\n",
      "File \u001b[0;32m~/opt/py39/lib/python3.9/site-packages/ipykernel_launcher.py:17\u001b[0m\n\u001b[1;32m     15\u001b[0m \u001b[38;5;28;01mfrom\u001b[39;00m \u001b[38;5;21;01mipykernel\u001b[39;00m \u001b[38;5;28;01mimport\u001b[39;00m kernelapp \u001b[38;5;28;01mas\u001b[39;00m app\n\u001b[0;32m---> 17\u001b[0m app\u001b[38;5;241m.\u001b[39mlaunch_new_instance()\n",
      "File \u001b[0;32m~/opt/py39/lib/python3.9/site-packages/traitlets/config/application.py:978\u001b[0m, in \u001b[0;36mApplication.launch_instance\u001b[0;34m(***failed resolving arguments***)\u001b[0m\n\u001b[1;32m    977\u001b[0m app\u001b[38;5;241m.\u001b[39minitialize(argv)\n\u001b[0;32m--> 978\u001b[0m app\u001b[38;5;241m.\u001b[39mstart()\n",
      "File \u001b[0;32m~/opt/py39/lib/python3.9/site-packages/ipykernel/kernelapp.py:712\u001b[0m, in \u001b[0;36mIPKernelApp.start\u001b[0;34m(***failed resolving arguments***)\u001b[0m\n\u001b[1;32m    711\u001b[0m \u001b[38;5;28;01mtry\u001b[39;00m:\n\u001b[0;32m--> 712\u001b[0m     \u001b[38;5;28mself\u001b[39m\u001b[38;5;241m.\u001b[39mio_loop\u001b[38;5;241m.\u001b[39mstart()\n\u001b[1;32m    713\u001b[0m \u001b[38;5;28;01mexcept\u001b[39;00m \u001b[38;5;167;01mKeyboardInterrupt\u001b[39;00m:\n",
      "File \u001b[0;32m~/opt/py39/lib/python3.9/site-packages/tornado/platform/asyncio.py:215\u001b[0m, in \u001b[0;36mBaseAsyncIOLoop.start\u001b[0;34m(***failed resolving arguments***)\u001b[0m\n\u001b[1;32m    214\u001b[0m     asyncio\u001b[38;5;241m.\u001b[39mset_event_loop(\u001b[38;5;28mself\u001b[39m\u001b[38;5;241m.\u001b[39masyncio_loop)\n\u001b[0;32m--> 215\u001b[0m     \u001b[38;5;28mself\u001b[39m\u001b[38;5;241m.\u001b[39masyncio_loop\u001b[38;5;241m.\u001b[39mrun_forever()\n\u001b[1;32m    216\u001b[0m \u001b[38;5;28;01mfinally\u001b[39;00m:\n",
      "File \u001b[0;32m/Library/Developer/CommandLineTools/Library/Frameworks/Python3.framework/Versions/3.9/lib/python3.9/asyncio/base_events.py:596\u001b[0m, in \u001b[0;36mBaseEventLoop.run_forever\u001b[0;34m(***failed resolving arguments***)\u001b[0m\n\u001b[1;32m    595\u001b[0m \u001b[38;5;28;01mwhile\u001b[39;00m \u001b[38;5;28;01mTrue\u001b[39;00m:\n\u001b[0;32m--> 596\u001b[0m     \u001b[38;5;28mself\u001b[39m\u001b[38;5;241m.\u001b[39m_run_once()\n\u001b[1;32m    597\u001b[0m     \u001b[38;5;28;01mif\u001b[39;00m \u001b[38;5;28mself\u001b[39m\u001b[38;5;241m.\u001b[39m_stopping:\n",
      "File \u001b[0;32m/Library/Developer/CommandLineTools/Library/Frameworks/Python3.framework/Versions/3.9/lib/python3.9/asyncio/base_events.py:1890\u001b[0m, in \u001b[0;36mBaseEventLoop._run_once\u001b[0;34m(***failed resolving arguments***)\u001b[0m\n\u001b[1;32m   1889\u001b[0m     \u001b[38;5;28;01melse\u001b[39;00m:\n\u001b[0;32m-> 1890\u001b[0m         handle\u001b[38;5;241m.\u001b[39m_run()\n\u001b[1;32m   1891\u001b[0m handle \u001b[38;5;241m=\u001b[39m \u001b[38;5;28;01mNone\u001b[39;00m\n",
      "File \u001b[0;32m/Library/Developer/CommandLineTools/Library/Frameworks/Python3.framework/Versions/3.9/lib/python3.9/asyncio/events.py:80\u001b[0m, in \u001b[0;36mHandle._run\u001b[0;34m(***failed resolving arguments***)\u001b[0m\n\u001b[1;32m     79\u001b[0m \u001b[38;5;28;01mtry\u001b[39;00m:\n\u001b[0;32m---> 80\u001b[0m     \u001b[38;5;28mself\u001b[39m\u001b[38;5;241m.\u001b[39m_context\u001b[38;5;241m.\u001b[39mrun(\u001b[38;5;28mself\u001b[39m\u001b[38;5;241m.\u001b[39m_callback, \u001b[38;5;241m*\u001b[39m\u001b[38;5;28mself\u001b[39m\u001b[38;5;241m.\u001b[39m_args)\n\u001b[1;32m     81\u001b[0m \u001b[38;5;28;01mexcept\u001b[39;00m (\u001b[38;5;167;01mSystemExit\u001b[39;00m, \u001b[38;5;167;01mKeyboardInterrupt\u001b[39;00m):\n",
      "File \u001b[0;32m~/opt/py39/lib/python3.9/site-packages/ipykernel/kernelbase.py:510\u001b[0m, in \u001b[0;36mKernel.dispatch_queue\u001b[0;34m(***failed resolving arguments***)\u001b[0m\n\u001b[1;32m    509\u001b[0m \u001b[38;5;28;01mtry\u001b[39;00m:\n\u001b[0;32m--> 510\u001b[0m     \u001b[38;5;28;01mawait\u001b[39;00m \u001b[38;5;28mself\u001b[39m\u001b[38;5;241m.\u001b[39mprocess_one()\n\u001b[1;32m    511\u001b[0m \u001b[38;5;28;01mexcept\u001b[39;00m \u001b[38;5;167;01mException\u001b[39;00m:\n",
      "File \u001b[0;32m~/opt/py39/lib/python3.9/site-packages/ipykernel/kernelbase.py:499\u001b[0m, in \u001b[0;36mKernel.process_one\u001b[0;34m(***failed resolving arguments***)\u001b[0m\n\u001b[1;32m    498\u001b[0m         \u001b[38;5;28;01mreturn\u001b[39;00m \u001b[38;5;28;01mNone\u001b[39;00m\n\u001b[0;32m--> 499\u001b[0m \u001b[38;5;28;01mawait\u001b[39;00m dispatch(\u001b[38;5;241m*\u001b[39margs)\n",
      "File \u001b[0;32m~/opt/py39/lib/python3.9/site-packages/ipykernel/kernelbase.py:406\u001b[0m, in \u001b[0;36mKernel.dispatch_shell\u001b[0;34m(***failed resolving arguments***)\u001b[0m\n\u001b[1;32m    405\u001b[0m     \u001b[38;5;28;01mif\u001b[39;00m inspect\u001b[38;5;241m.\u001b[39misawaitable(result):\n\u001b[0;32m--> 406\u001b[0m         \u001b[38;5;28;01mawait\u001b[39;00m result\n\u001b[1;32m    407\u001b[0m \u001b[38;5;28;01mexcept\u001b[39;00m \u001b[38;5;167;01mException\u001b[39;00m:\n",
      "File \u001b[0;32m~/opt/py39/lib/python3.9/site-packages/ipykernel/kernelbase.py:730\u001b[0m, in \u001b[0;36mKernel.execute_request\u001b[0;34m(***failed resolving arguments***)\u001b[0m\n\u001b[1;32m    729\u001b[0m \u001b[38;5;28;01mif\u001b[39;00m inspect\u001b[38;5;241m.\u001b[39misawaitable(reply_content):\n\u001b[0;32m--> 730\u001b[0m     reply_content \u001b[38;5;241m=\u001b[39m \u001b[38;5;28;01mawait\u001b[39;00m reply_content\n\u001b[1;32m    732\u001b[0m \u001b[38;5;66;03m# Flush output before sending the reply.\u001b[39;00m\n",
      "File \u001b[0;32m~/opt/py39/lib/python3.9/site-packages/ipykernel/ipkernel.py:383\u001b[0m, in \u001b[0;36mIPythonKernel.do_execute\u001b[0;34m(***failed resolving arguments***)\u001b[0m\n\u001b[1;32m    382\u001b[0m \u001b[38;5;28;01mif\u001b[39;00m with_cell_id:\n\u001b[0;32m--> 383\u001b[0m     res \u001b[38;5;241m=\u001b[39m shell\u001b[38;5;241m.\u001b[39mrun_cell(\n\u001b[1;32m    384\u001b[0m         code,\n\u001b[1;32m    385\u001b[0m         store_history\u001b[38;5;241m=\u001b[39mstore_history,\n\u001b[1;32m    386\u001b[0m         silent\u001b[38;5;241m=\u001b[39msilent,\n\u001b[1;32m    387\u001b[0m         cell_id\u001b[38;5;241m=\u001b[39mcell_id,\n\u001b[1;32m    388\u001b[0m     )\n\u001b[1;32m    389\u001b[0m \u001b[38;5;28;01melse\u001b[39;00m:\n",
      "File \u001b[0;32m~/opt/py39/lib/python3.9/site-packages/ipykernel/zmqshell.py:528\u001b[0m, in \u001b[0;36mZMQInteractiveShell.run_cell\u001b[0;34m(***failed resolving arguments***)\u001b[0m\n\u001b[1;32m    527\u001b[0m \u001b[38;5;28mself\u001b[39m\u001b[38;5;241m.\u001b[39m_last_traceback \u001b[38;5;241m=\u001b[39m \u001b[38;5;28;01mNone\u001b[39;00m\n\u001b[0;32m--> 528\u001b[0m \u001b[38;5;28;01mreturn\u001b[39;00m \u001b[38;5;28msuper\u001b[39m()\u001b[38;5;241m.\u001b[39mrun_cell(\u001b[38;5;241m*\u001b[39margs, \u001b[38;5;241m*\u001b[39m\u001b[38;5;241m*\u001b[39mkwargs)\n",
      "File \u001b[0;32m~/opt/py39/lib/python3.9/site-packages/IPython/core/interactiveshell.py:2885\u001b[0m, in \u001b[0;36mInteractiveShell.run_cell\u001b[0;34m(***failed resolving arguments***)\u001b[0m\n\u001b[1;32m   2884\u001b[0m \u001b[38;5;28;01mtry\u001b[39;00m:\n\u001b[0;32m-> 2885\u001b[0m     result \u001b[38;5;241m=\u001b[39m \u001b[38;5;28mself\u001b[39m\u001b[38;5;241m.\u001b[39m_run_cell(\n\u001b[1;32m   2886\u001b[0m         raw_cell, store_history, silent, shell_futures, cell_id\n\u001b[1;32m   2887\u001b[0m     )\n\u001b[1;32m   2888\u001b[0m \u001b[38;5;28;01mfinally\u001b[39;00m:\n",
      "File \u001b[0;32m~/opt/py39/lib/python3.9/site-packages/IPython/core/interactiveshell.py:2940\u001b[0m, in \u001b[0;36mInteractiveShell._run_cell\u001b[0;34m(***failed resolving arguments***)\u001b[0m\n\u001b[1;32m   2939\u001b[0m \u001b[38;5;28;01mtry\u001b[39;00m:\n\u001b[0;32m-> 2940\u001b[0m     \u001b[38;5;28;01mreturn\u001b[39;00m runner(coro)\n\u001b[1;32m   2941\u001b[0m \u001b[38;5;28;01mexcept\u001b[39;00m \u001b[38;5;167;01mBaseException\u001b[39;00m \u001b[38;5;28;01mas\u001b[39;00m e:\n",
      "File \u001b[0;32m~/opt/py39/lib/python3.9/site-packages/IPython/core/async_helpers.py:129\u001b[0m, in \u001b[0;36m_pseudo_sync_runner\u001b[0;34m(***failed resolving arguments***)\u001b[0m\n\u001b[1;32m    128\u001b[0m \u001b[38;5;28;01mtry\u001b[39;00m:\n\u001b[0;32m--> 129\u001b[0m     coro\u001b[38;5;241m.\u001b[39msend(\u001b[38;5;28;01mNone\u001b[39;00m)\n\u001b[1;32m    130\u001b[0m \u001b[38;5;28;01mexcept\u001b[39;00m \u001b[38;5;167;01mStopIteration\u001b[39;00m \u001b[38;5;28;01mas\u001b[39;00m exc:\n",
      "File \u001b[0;32m~/opt/py39/lib/python3.9/site-packages/IPython/core/interactiveshell.py:3139\u001b[0m, in \u001b[0;36mInteractiveShell.run_cell_async\u001b[0;34m(***failed resolving arguments***)\u001b[0m\n\u001b[1;32m   3137\u001b[0m interactivity \u001b[38;5;241m=\u001b[39m \u001b[38;5;124m\"\u001b[39m\u001b[38;5;124mnone\u001b[39m\u001b[38;5;124m\"\u001b[39m \u001b[38;5;28;01mif\u001b[39;00m silent \u001b[38;5;28;01melse\u001b[39;00m \u001b[38;5;28mself\u001b[39m\u001b[38;5;241m.\u001b[39mast_node_interactivity\n\u001b[0;32m-> 3139\u001b[0m has_raised \u001b[38;5;241m=\u001b[39m \u001b[38;5;28;01mawait\u001b[39;00m \u001b[38;5;28mself\u001b[39m\u001b[38;5;241m.\u001b[39mrun_ast_nodes(code_ast\u001b[38;5;241m.\u001b[39mbody, cell_name,\n\u001b[1;32m   3140\u001b[0m        interactivity\u001b[38;5;241m=\u001b[39minteractivity, compiler\u001b[38;5;241m=\u001b[39mcompiler, result\u001b[38;5;241m=\u001b[39mresult)\n\u001b[1;32m   3142\u001b[0m \u001b[38;5;28mself\u001b[39m\u001b[38;5;241m.\u001b[39mlast_execution_succeeded \u001b[38;5;241m=\u001b[39m \u001b[38;5;129;01mnot\u001b[39;00m has_raised\n",
      "File \u001b[0;32m~/opt/py39/lib/python3.9/site-packages/IPython/core/interactiveshell.py:3318\u001b[0m, in \u001b[0;36mInteractiveShell.run_ast_nodes\u001b[0;34m(***failed resolving arguments***)\u001b[0m\n\u001b[1;32m   3317\u001b[0m     asy \u001b[38;5;241m=\u001b[39m compare(code)\n\u001b[0;32m-> 3318\u001b[0m \u001b[38;5;28;01mif\u001b[39;00m \u001b[38;5;28;01mawait\u001b[39;00m \u001b[38;5;28mself\u001b[39m\u001b[38;5;241m.\u001b[39mrun_code(code, result, async_\u001b[38;5;241m=\u001b[39masy):\n\u001b[1;32m   3319\u001b[0m     \u001b[38;5;28;01mreturn\u001b[39;00m \u001b[38;5;28;01mTrue\u001b[39;00m\n",
      "File \u001b[0;32m~/opt/py39/lib/python3.9/site-packages/IPython/core/interactiveshell.py:3378\u001b[0m, in \u001b[0;36mInteractiveShell.run_code\u001b[0;34m(***failed resolving arguments***)\u001b[0m\n\u001b[1;32m   3377\u001b[0m     \u001b[38;5;28;01melse\u001b[39;00m:\n\u001b[0;32m-> 3378\u001b[0m         exec(code_obj, \u001b[38;5;28mself\u001b[39m\u001b[38;5;241m.\u001b[39muser_global_ns, \u001b[38;5;28mself\u001b[39m\u001b[38;5;241m.\u001b[39muser_ns)\n\u001b[1;32m   3379\u001b[0m \u001b[38;5;28;01mfinally\u001b[39;00m:\n\u001b[1;32m   3380\u001b[0m     \u001b[38;5;66;03m# Reset our crash handler in place\u001b[39;00m\n",
      "Cell \u001b[0;32mIn [40], line 6\u001b[0m\n\u001b[1;32m      4\u001b[0m     \u001b[38;5;28;01mreturn\u001b[39;00m x \u001b[38;5;241m*\u001b[39m jnp\u001b[38;5;241m.\u001b[39mlog(x)\n\u001b[0;32m----> 6\u001b[0m f(\u001b[38;5;241m0.\u001b[39m)\n",
      "Cell \u001b[0;32mIn [40], line 4\u001b[0m, in \u001b[0;36mf\u001b[0;34m(***failed resolving arguments***)\u001b[0m\n\u001b[1;32m      3\u001b[0m \u001b[38;5;28;01mdef\u001b[39;00m \u001b[38;5;21mf\u001b[39m(x):\n\u001b[0;32m----> 4\u001b[0m     \u001b[38;5;28;01mreturn\u001b[39;00m x \u001b[38;5;241m*\u001b[39m jnp\u001b[38;5;241m.\u001b[39mlog(x)\n",
      "File \u001b[0;32m~/opt/py39/lib/python3.9/site-packages/jax/_src/numpy/lax_numpy.py:5071\u001b[0m, in \u001b[0;36m_defer_to_unrecognized_arg.<locals>.deferring_binary_op\u001b[0;34m(***failed resolving arguments***)\u001b[0m\n\u001b[1;32m   5070\u001b[0m \u001b[38;5;28;01mif\u001b[39;00m \u001b[38;5;28misinstance\u001b[39m(other, _accepted_binop_types):\n\u001b[0;32m-> 5071\u001b[0m   \u001b[38;5;28;01mreturn\u001b[39;00m binary_op(\u001b[38;5;241m*\u001b[39margs)\n\u001b[1;32m   5072\u001b[0m \u001b[38;5;28;01mif\u001b[39;00m \u001b[38;5;28misinstance\u001b[39m(other, _rejected_binop_types):\n",
      "File \u001b[0;32m~/opt/py39/lib/python3.9/site-packages/jax/_src/numpy/ufuncs.py:98\u001b[0m, in \u001b[0;36m_maybe_bool_binop.<locals>.fn\u001b[0;34m(***failed resolving arguments***)\u001b[0m\n\u001b[1;32m     97\u001b[0m x1, x2 \u001b[38;5;241m=\u001b[39m _promote_args(numpy_fn\u001b[38;5;241m.\u001b[39m\u001b[38;5;18m__name__\u001b[39m, x1, x2)\n\u001b[0;32m---> 98\u001b[0m \u001b[38;5;28;01mreturn\u001b[39;00m lax_fn(x1, x2) \u001b[38;5;28;01mif\u001b[39;00m x1\u001b[38;5;241m.\u001b[39mdtype \u001b[38;5;241m!=\u001b[39m np\u001b[38;5;241m.\u001b[39mbool_ \u001b[38;5;28;01melse\u001b[39;00m bool_lax_fn(x1, x2)\n",
      "\u001b[0;31mJaxStackTraceBeforeTransformation\u001b[0m: FloatingPointError: invalid value (nan) encountered in jit(mul)\n\nThe preceding stack trace is the source of the JAX operation that, once transformed by JAX, triggered the following exception.\n\n--------------------",
      "\nThe above exception was the direct cause of the following exception:\n",
      "\u001b[0;31mFloatingPointError\u001b[0m                        Traceback (most recent call last)",
      "Cell \u001b[0;32mIn [42], line 2\u001b[0m\n\u001b[1;32m      1\u001b[0m \u001b[38;5;28;01mwith\u001b[39;00m jax\u001b[38;5;241m.\u001b[39mdebug_nans(\u001b[38;5;28;01mTrue\u001b[39;00m):\n\u001b[0;32m----> 2\u001b[0m     f(\u001b[38;5;241m0.\u001b[39m)\n",
      "Cell \u001b[0;32mIn [41], line 4\u001b[0m, in \u001b[0;36mf\u001b[0;34m(x)\u001b[0m\n\u001b[1;32m      3\u001b[0m \u001b[38;5;28;01mdef\u001b[39;00m \u001b[38;5;21mf\u001b[39m(x):\n\u001b[0;32m----> 4\u001b[0m     \u001b[38;5;28;01mreturn\u001b[39;00m \u001b[43mx\u001b[49m\u001b[43m \u001b[49m\u001b[38;5;241;43m*\u001b[39;49m\u001b[43m \u001b[49m\u001b[43mjnp\u001b[49m\u001b[38;5;241;43m.\u001b[39;49m\u001b[43mlog\u001b[49m\u001b[43m(\u001b[49m\u001b[43mx\u001b[49m\u001b[43m)\u001b[49m\n",
      "File \u001b[0;32m~/opt/py39/lib/python3.9/site-packages/jax/_src/numpy/lax_numpy.py:5071\u001b[0m, in \u001b[0;36m_defer_to_unrecognized_arg.<locals>.deferring_binary_op\u001b[0;34m(self, other)\u001b[0m\n\u001b[1;32m   5069\u001b[0m args \u001b[38;5;241m=\u001b[39m (other, \u001b[38;5;28mself\u001b[39m) \u001b[38;5;28;01mif\u001b[39;00m swap \u001b[38;5;28;01melse\u001b[39;00m (\u001b[38;5;28mself\u001b[39m, other)\n\u001b[1;32m   5070\u001b[0m \u001b[38;5;28;01mif\u001b[39;00m \u001b[38;5;28misinstance\u001b[39m(other, _accepted_binop_types):\n\u001b[0;32m-> 5071\u001b[0m   \u001b[38;5;28;01mreturn\u001b[39;00m \u001b[43mbinary_op\u001b[49m\u001b[43m(\u001b[49m\u001b[38;5;241;43m*\u001b[39;49m\u001b[43margs\u001b[49m\u001b[43m)\u001b[49m\n\u001b[1;32m   5072\u001b[0m \u001b[38;5;28;01mif\u001b[39;00m \u001b[38;5;28misinstance\u001b[39m(other, _rejected_binop_types):\n\u001b[1;32m   5073\u001b[0m   \u001b[38;5;28;01mraise\u001b[39;00m \u001b[38;5;167;01mTypeError\u001b[39;00m(\u001b[38;5;124mf\u001b[39m\u001b[38;5;124m\"\u001b[39m\u001b[38;5;124munsupported operand type(s) for \u001b[39m\u001b[38;5;132;01m{\u001b[39;00mopchar\u001b[38;5;132;01m}\u001b[39;00m\u001b[38;5;124m: \u001b[39m\u001b[38;5;124m\"\u001b[39m\n\u001b[1;32m   5074\u001b[0m                   \u001b[38;5;124mf\u001b[39m\u001b[38;5;124m\"\u001b[39m\u001b[38;5;132;01m{\u001b[39;00m\u001b[38;5;28mtype\u001b[39m(args[\u001b[38;5;241m0\u001b[39m])\u001b[38;5;241m.\u001b[39m\u001b[38;5;18m__name__\u001b[39m\u001b[38;5;132;01m!r}\u001b[39;00m\u001b[38;5;124m and \u001b[39m\u001b[38;5;132;01m{\u001b[39;00m\u001b[38;5;28mtype\u001b[39m(args[\u001b[38;5;241m1\u001b[39m])\u001b[38;5;241m.\u001b[39m\u001b[38;5;18m__name__\u001b[39m\u001b[38;5;132;01m!r}\u001b[39;00m\u001b[38;5;124m\"\u001b[39m)\n",
      "File \u001b[0;32m~/opt/py39/lib/python3.9/site-packages/jax/_src/api.py:142\u001b[0m, in \u001b[0;36m_nan_check_posthook\u001b[0;34m(fun, args, kwargs, output)\u001b[0m\n\u001b[1;32m    139\u001b[0m \u001b[38;5;28;01massert\u001b[39;00m config\u001b[38;5;241m.\u001b[39mjax_debug_nans \u001b[38;5;129;01mor\u001b[39;00m config\u001b[38;5;241m.\u001b[39mjax_debug_infs\n\u001b[1;32m    140\u001b[0m \u001b[38;5;28mprint\u001b[39m(\u001b[38;5;124m\"\u001b[39m\u001b[38;5;124mInvalid nan value encountered in the output of a C++-jit/pmap \u001b[39m\u001b[38;5;124m\"\u001b[39m\n\u001b[1;32m    141\u001b[0m       \u001b[38;5;124m\"\u001b[39m\u001b[38;5;124mfunction. Calling the de-optimized version.\u001b[39m\u001b[38;5;124m\"\u001b[39m)\n\u001b[0;32m--> 142\u001b[0m \u001b[43mfun\u001b[49m\u001b[38;5;241;43m.\u001b[39;49m\u001b[43m_cache_miss\u001b[49m\u001b[43m(\u001b[49m\u001b[38;5;241;43m*\u001b[39;49m\u001b[43margs\u001b[49m\u001b[43m,\u001b[49m\u001b[43m \u001b[49m\u001b[38;5;241;43m*\u001b[39;49m\u001b[38;5;241;43m*\u001b[39;49m\u001b[43mkwargs\u001b[49m\u001b[43m)\u001b[49m[\u001b[38;5;241m0\u001b[39m]\n",
      "    \u001b[0;31m[... skipping hidden 17 frame]\u001b[0m\n",
      "File \u001b[0;32m~/opt/py39/lib/python3.9/site-packages/jax/_src/dispatch.py:877\u001b[0m, in \u001b[0;36m_check_special\u001b[0;34m(name, dtype, buf)\u001b[0m\n\u001b[1;32m    875\u001b[0m \u001b[38;5;28;01mif\u001b[39;00m dtypes\u001b[38;5;241m.\u001b[39missubdtype(dtype, np\u001b[38;5;241m.\u001b[39minexact):\n\u001b[1;32m    876\u001b[0m   \u001b[38;5;28;01mif\u001b[39;00m config\u001b[38;5;241m.\u001b[39mjax_debug_nans \u001b[38;5;129;01mand\u001b[39;00m np\u001b[38;5;241m.\u001b[39many(np\u001b[38;5;241m.\u001b[39misnan(np\u001b[38;5;241m.\u001b[39masarray(buf))):\n\u001b[0;32m--> 877\u001b[0m     \u001b[38;5;28;01mraise\u001b[39;00m \u001b[38;5;167;01mFloatingPointError\u001b[39;00m(\u001b[38;5;124mf\u001b[39m\u001b[38;5;124m\"\u001b[39m\u001b[38;5;124minvalid value (nan) encountered in \u001b[39m\u001b[38;5;132;01m{\u001b[39;00mname\u001b[38;5;132;01m}\u001b[39;00m\u001b[38;5;124m\"\u001b[39m)\n\u001b[1;32m    878\u001b[0m   \u001b[38;5;28;01mif\u001b[39;00m config\u001b[38;5;241m.\u001b[39mjax_debug_infs \u001b[38;5;129;01mand\u001b[39;00m np\u001b[38;5;241m.\u001b[39many(np\u001b[38;5;241m.\u001b[39misinf(np\u001b[38;5;241m.\u001b[39masarray(buf))):\n\u001b[1;32m    879\u001b[0m     \u001b[38;5;28;01mraise\u001b[39;00m \u001b[38;5;167;01mFloatingPointError\u001b[39;00m(\u001b[38;5;124mf\u001b[39m\u001b[38;5;124m\"\u001b[39m\u001b[38;5;124minvalid value (inf) encountered in \u001b[39m\u001b[38;5;132;01m{\u001b[39;00mname\u001b[38;5;132;01m}\u001b[39;00m\u001b[38;5;124m\"\u001b[39m)\n",
      "\u001b[0;31mFloatingPointError\u001b[0m: invalid value (nan) encountered in jit(mul)"
     ]
    }
   ],
   "source": [
    "with jax.debug_nans(True):\n",
    "    f(0.)"
   ]
  },
  {
   "cell_type": "code",
   "execution_count": 43,
   "id": "a8e9d28e",
   "metadata": {},
   "outputs": [
    {
     "data": {
      "text/plain": [
       "Array(nan, dtype=float32, weak_type=True)"
      ]
     },
     "execution_count": 43,
     "metadata": {},
     "output_type": "execute_result"
    }
   ],
   "source": [
    "import jax.scipy\n",
    "\n",
    "jax.grad(f)(0.)"
   ]
  },
  {
   "cell_type": "markdown",
   "id": "0c308588",
   "metadata": {},
   "source": [
    "Exploding/vanisishing gradients can occur in neural networks with many layers, or RNNs. For example:"
   ]
  },
  {
   "cell_type": "markdown",
   "id": "cc887031-4d11-477f-8250-46f25c6e93e7",
   "metadata": {},
   "source": [
    "NOTE: could also define a custom backwards derivative in torch/jax and have it print out"
   ]
  },
  {
   "cell_type": "code",
   "execution_count": 60,
   "id": "eaefb0a7",
   "metadata": {},
   "outputs": [
    {
     "data": {
      "text/plain": [
       "Array(41.20715, dtype=float32)"
      ]
     },
     "execution_count": 60,
     "metadata": {},
     "output_type": "execute_result"
    }
   ],
   "source": [
    "import jax\n",
    "import jax.numpy as jnp\n",
    "\n",
    "def compute_rnn_loss(inputs, targets, W):\n",
    "    W_h, W_x = W\n",
    "    def f(accum, xy):\n",
    "        h, loss = accum\n",
    "        x, y = xy\n",
    "        h = jax.nn.relu(W_h @ h + W_x @ x)\n",
    "        loss += jnp.sum((h - y) ** 2)\n",
    "        return (h, loss), None\n",
    "    \n",
    "    h0 = jnp.zeros(W_h.shape[0])\n",
    "    (_, loss), _ = jax.lax.scan(f, (h0, 0.), (inputs, targets))\n",
    "    return loss\n",
    "\n",
    "# Initialize weights with large values\n",
    "n = 100\n",
    "inputs = jnp.ones([1000, n])\n",
    "targets = jnp.zeros_like(inputs)\n",
    "\n",
    "def loss(W):\n",
    "    return compute_rnn_loss(inputs, targets, W)\n",
    "\n",
    "W0 = np.random.normal(size=(2, n, n)) / np.sqrt(1000 * n)\n",
    "\n",
    "loss(W0)"
   ]
  },
  {
   "cell_type": "code",
   "execution_count": 61,
   "id": "932baba5",
   "metadata": {},
   "outputs": [
    {
     "data": {
      "text/plain": [
       "Array([[[-7.1936997e-04,  2.5338116e-03,  1.7132886e-03, ...,\n",
       "          1.5326979e-03, -2.1151325e-03,  1.7426903e-03],\n",
       "        [-4.6431349e-04, -1.1227080e-03, -5.7782046e-03, ...,\n",
       "         -4.7274847e-05, -1.6010848e-04,  3.7446495e-03],\n",
       "        [ 3.6421118e-03,  5.6044938e-04,  3.4370569e-03, ...,\n",
       "         -2.7548911e-03,  4.1265483e-03,  3.3906966e-03],\n",
       "        ...,\n",
       "        [-1.8593601e-03, -3.8566182e-03,  4.5611490e-03, ...,\n",
       "          7.6865316e-03, -4.1736653e-03,  3.7536228e-03],\n",
       "        [ 5.4711392e-03,  4.0740641e-03, -2.1023150e-03, ...,\n",
       "          2.0873668e-03,  1.1653560e-03, -1.8014332e-03],\n",
       "        [-2.2329125e-03, -5.1090471e-03, -6.3343003e-05, ...,\n",
       "         -9.0829906e-04,  1.1893467e-03, -8.1428597e-03]],\n",
       "\n",
       "       [[ 2.8177295e-03,  6.5748650e-04,  2.9932056e-03, ...,\n",
       "          4.4896286e-03, -2.2861490e-03,  1.5127858e-03],\n",
       "        [ 1.6115031e-03, -2.6692047e-03,  3.5574629e-03, ...,\n",
       "         -7.5662305e-04, -4.5344550e-03, -5.0266176e-03],\n",
       "        [-1.3363195e-03,  3.7281155e-03, -6.4811874e-03, ...,\n",
       "          1.2029742e-03,  3.0100024e-03,  1.3705819e-04],\n",
       "        ...,\n",
       "        [-3.7250665e-03,  4.3668370e-03,  2.0620152e-03, ...,\n",
       "         -3.0752008e-03, -5.4043229e-04, -5.7602557e-04],\n",
       "        [ 8.4038796e-03,  5.5208284e-04, -8.4472261e-04, ...,\n",
       "          9.5059274e-04,  5.5488944e-04,  3.2009303e-03],\n",
       "        [-4.2182384e-03, -2.1320344e-03, -4.7995355e-03, ...,\n",
       "         -3.7025567e-03, -3.6422699e-03,  4.3959497e-04]]], dtype=float32)"
      ]
     },
     "execution_count": 61,
     "metadata": {},
     "output_type": "execute_result"
    }
   ],
   "source": [
    "import jaxopt\n",
    "\n",
    "jax.config.update('jax_enable_x64', False)\n",
    "\n",
    "res = jaxopt.GradientDescent(loss).run(W0)\n",
    "Wstar = res.params\n",
    "Wstar"
   ]
  },
  {
   "cell_type": "markdown",
   "id": "cf3fa7b8",
   "metadata": {},
   "source": [
    "### Example 3: Test-first implementation of a numerical algorithm\n",
    "\n",
    "\n",
    "Consider the following problem:\n",
    "\n",
    "- Two particles execute continuous time random walk around a graph. \n",
    "- The rate of going from node $n$ to node $m$ is given by the edge weight $w_{nm}$.\n",
    "- Whenever they are in the same node $n$, the are both absorbed into a state `crypt`, from which there is no exit, with rate node-specific rate $c_n$. \n",
    "- Let $T_\\text{crypt}$ be the first hitting time to the `crypt` state.\n",
    "- Problem: compute $\\mathbb{P}(T_\\text{crypt} > t)$."
   ]
  },
  {
   "cell_type": "code",
   "execution_count": 66,
   "id": "631df552",
   "metadata": {},
   "outputs": [],
   "source": [
    "import networkx as nx\n",
    "\n",
    "k = 2\n",
    "G = nx.grid_graph((2, 2))\n",
    "\n",
    "for n in G.nodes():\n",
    "    G.nodes[n]['weight'] = np.random.exponential()\n",
    "\n",
    "for e in G.edges():\n",
    "    G.edges[e]['weight'] = np.random.exponential()"
   ]
  },
  {
   "cell_type": "code",
   "execution_count": 68,
   "id": "99efc1c0",
   "metadata": {},
   "outputs": [
    {
     "name": "stderr",
     "output_type": "stream",
     "text": [
      "/var/folders/b1/jjpl1p_53jxggrgr9nn841nm0000gn/T/ipykernel_76927/1675820238.py:1: FutureWarning: adjacency_matrix will return a scipy.sparse array instead of a matrix in Networkx 3.0.\n",
      "  Q = nx.adjacency_matrix(G).todense()\n"
     ]
    },
    {
     "data": {
      "text/plain": [
       "matrix([[0.        , 2.53035439, 3.66323364, 0.        ],\n",
       "        [2.53035439, 0.        , 0.        , 0.90976091],\n",
       "        [3.66323364, 0.        , 0.        , 0.82560733],\n",
       "        [0.        , 0.90976091, 0.82560733, 0.        ]])"
      ]
     },
     "execution_count": 68,
     "metadata": {},
     "output_type": "execute_result"
    }
   ],
   "source": [
    "Q = nx.adjacency_matrix(G).todense()\n",
    "\n"
   ]
  },
  {
   "cell_type": "markdown",
   "id": "cf7b38e9",
   "metadata": {},
   "source": [
    "## Computing $\\mathbb{P}(T > t)$\n",
    "\n",
    "- Let $S(t),c(t)) \\in \\mathbb{R}^{k\\times k} \\times \\mathbb{R}$ be the overall state of the system.\n",
    "- Then \n",
    "\n",
    "\\begin{align}\n",
    "\\frac{dS_{ij}(t)}{dt} &= \\sum_x w_{xi}S_{xj} + w_{xj}S_{ix} - S_{ij}(w_{ix} + w_{xj}) - \\mathbf{1}(i=j) c_i \\\\\n",
    "\\frac{dc(t)}{dt} &= \\sum_i S_{ii} c_i\n",
    "\\end{align}"
   ]
  },
  {
   "cell_type": "code",
   "execution_count": null,
   "id": "b331c228-5c75-49d0-88a5-3399c5aa1e7c",
   "metadata": {},
   "outputs": [],
   "source": [
    "def dS(t, S):\n",
    "    ...\n",
    "\n",
    "def test_dS():\n",
    "    k = 10\n",
    "    S = np.random.dro"
   ]
  },
  {
   "cell_type": "code",
   "execution_count": null,
   "id": "06f98e1e",
   "metadata": {},
   "outputs": [],
   "source": [
    "def dS(t, S):\n",
    "    ...\n",
    "    \n",
    "def test_dS():\n",
    "    k = 10\n",
    "    S = np.random.dirichlet([1.] * 10)\n",
    "    t = np.random.rand()\n",
    "    assert dS(t, S).sum() == 0.\n",
    "    \n",
    "def test_absorbing():\n",
    "    t1, dt = np.random.rand(2)\n",
    "    t2 = t1 + dt\n",
    "    S1 = solve_ode(S0, t1)\n",
    "    S2 = solve_ode(S0, t2)\n",
    "    assert S1[-1] <= S2[-1]\n",
    "\n",
    "def test_solve_ode():\n",
    "    S0 = np.random.dirichlet([1.] * 10)\n",
    "    t1 = np.random.rand()\n",
    "    S1 = solve_ode(S0, t1)\n",
    "    assert np.isclose(S1.sum(), 1.)\n"
   ]
  },
  {
   "cell_type": "code",
   "execution_count": 83,
   "id": "c7a2c408",
   "metadata": {},
   "outputs": [
    {
     "data": {
      "text/plain": [
       "array([[0.        , 2.53035439, 3.66323364, 0.        ],\n",
       "       [2.53035439, 0.        , 0.        , 0.90976091],\n",
       "       [3.66323364, 0.        , 0.        , 0.82560733],\n",
       "       [0.        , 0.90976091, 0.82560733, 0.        ]])"
      ]
     },
     "execution_count": 83,
     "metadata": {},
     "output_type": "execute_result"
    }
   ],
   "source": [
    "c = np.random.exponential(size=Q.shape[0])\n",
    "n = 4\n",
    "y0 = np.random.dirichlet(np.ones(n ** 2 + 1))\n",
    "Q = np.array(Q)\n",
    "Q"
   ]
  },
  {
   "cell_type": "code",
   "execution_count": 88,
   "id": "7a112b9e",
   "metadata": {},
   "outputs": [
    {
     "data": {
      "text/plain": [
       "Array([-1.6211667e+00,  2.5633267e-01,  7.1935260e-01, -6.7024809e-01,\n",
       "       -1.6417135e-01, -3.9275709e-01, -1.3409510e-01,  4.7105369e-01,\n",
       "        4.4172296e-01,  4.0247972e-04,  1.1420314e-01,  2.8007287e-01,\n",
       "        3.7421206e-01, -3.2054934e-01,  8.3529130e-02, -1.7456809e-01,\n",
       "        7.3667407e-01], dtype=float32)"
      ]
     },
     "execution_count": 88,
     "metadata": {},
     "output_type": "execute_result"
    }
   ],
   "source": [
    "def f(Q, y):\n",
    "    # yshape == (n ** 2 + 1,)\n",
    "    # assert Q.shape == (n, n)\n",
    "    # assert c.shape == (n,)\n",
    "\n",
    "    Q1 = Q.sum(0)[:, None] + Q.sum(1)[None, :]\n",
    "    yn = y[:-1].reshape(n, n)\n",
    "    yd = jnp.diag(yn)\n",
    "    yc = y[-1]\n",
    "    ret = Q @ yn + yn @ Q.T  # upper left\n",
    "    \n",
    "    ret -= Q1 * yn\n",
    "    ret -= jnp.diag(c * yd)\n",
    "    return jnp.append(ret.reshape(n ** 2), c.dot(yd))\n",
    "\n",
    "f(Q, y0)"
   ]
  },
  {
   "cell_type": "code",
   "execution_count": null,
   "id": "0d8f969e",
   "metadata": {},
   "outputs": [],
   "source": [
    "y = "
   ]
  },
  {
   "cell_type": "code",
   "execution_count": 94,
   "id": "47bf2d0b",
   "metadata": {},
   "outputs": [],
   "source": [
    "n = 4\n",
    "\n",
    "def test_dS():\n",
    "    k = 10\n",
    "    y = np.random.dirichlet([1.] * (n ** 2 + 1))\n",
    "    np.testing.assert_allclose(f(Q, y).sum(), 0., atol=1e-6)"
   ]
  },
  {
   "cell_type": "code",
   "execution_count": 106,
   "id": "c786b31c",
   "metadata": {},
   "outputs": [],
   "source": [
    "from scipy.integrate import solve_ivp\n",
    "\n",
    "def S(y0, t):\n",
    "    return solve_ivp(lambda _, y: f(Q, y), [0., 1.], y0).y[:, 0]\n",
    "\n",
    "def test_absorbing():\n",
    "    y0 = np.random.dirichlet([1.] * (n ** 2 + 1))\n",
    "    t1, dt = np.random.rand(2)\n",
    "    t2 = t1 + dt\n",
    "    S1 = S(y0, t1)\n",
    "    S2 = S(y0, t2)\n",
    "    assert S1[-1] <= S2[-1]\n",
    "\n",
    "test_absorbing()\n",
    "\n",
    "\n",
    "def test_solve_ode():\n",
    "    y0 = np.random.dirichlet([1.] * (n ** 2 + 1))\n",
    "    t1, dt = np.random.rand(2)\n",
    "    t2 = t1 + dt\n",
    "    S1 = S(y0, t1)\n",
    "    S2 = S(y0, t2)\n",
    "    np.testing.assert_allclose(S1.sum(), 1.)\n",
    "    np.testing.assert_allclose(S2.sum(), 1.)\n",
    "    \n",
    "test_solve_ode()\n",
    "\n"
   ]
  }
 ],
 "metadata": {
  "kernelspec": {
   "display_name": "Python 3 (ipykernel)",
   "language": "python",
   "name": "python3"
  },
  "language_info": {
   "codemirror_mode": {
    "name": "ipython",
    "version": 3
   },
   "file_extension": ".py",
   "mimetype": "text/x-python",
   "name": "python",
   "nbconvert_exporter": "python",
   "pygments_lexer": "ipython3",
   "version": "3.10.12"
  }
 },
 "nbformat": 4,
 "nbformat_minor": 5
}
