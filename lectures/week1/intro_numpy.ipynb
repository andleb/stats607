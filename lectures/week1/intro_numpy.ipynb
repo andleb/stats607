{
 "cells": [
  {
   "cell_type": "code",
   "execution_count": null,
   "id": "3b748ea8",
   "metadata": {
    "slideshow": {
     "slide_type": "notes"
    }
   },
   "outputs": [],
   "source": [
    "# pip install git+git://github.com/xapharius/cppmagic. \n",
    "%load_ext cppmagic"
   ]
  },
  {
   "cell_type": "code",
   "execution_count": 23,
   "id": "5cabd17d",
   "metadata": {
    "slideshow": {
     "slide_type": "notes"
    }
   },
   "outputs": [],
   "source": [
    "import numpy as np\n",
    "np.random.seed(0)  # seed for reproducibility"
   ]
  },
  {
   "cell_type": "markdown",
   "id": "92aea869",
   "metadata": {
    "slideshow": {
     "slide_type": "slide"
    }
   },
   "source": [
    "# STATS 607: Advanced statistical programming\n",
    "##### Instructor\n",
    "JT <jonth@umich><br/>\n",
    "##### Office hours\n",
    "Tuesday/Thursday 4-5pm, or by appointment\n",
    "##### Grading\n",
    "- Three problem sets, each worth 25%, can work in pairs, due approximately every two weeks.\n",
    "- Individual final project, also worth 25%.\n",
    "##### Important links:\n",
    "- https://umich.instructure.com/courses/717115 (Canvas site)\n",
    "- Slack workspace (in progress)"
   ]
  },
  {
   "cell_type": "markdown",
   "id": "4e6a4251",
   "metadata": {
    "slideshow": {
     "slide_type": "slide"
    }
   },
   "source": [
    "### Goals of this class\n",
    "- Learn how to effectively use things like array programming, autodiff, GPUs, etc. to write better/faster/more stable research code.\n",
    "- \"Double dipping\" is encouraged: final project should ideally be something related to your research. \n",
    "- If there are particular topics or skills that would be useful for your research, **please let me know**.\n",
    "- **Ideal outcome**: this class helps you move your research forward.\n"
   ]
  },
  {
   "cell_type": "code",
   "execution_count": 1,
   "id": "3da2be4a",
   "metadata": {
    "slideshow": {
     "slide_type": "notes"
    }
   },
   "outputs": [],
   "source": [
    "from IPython.display import IFrame\n",
    "sched = 'https://docs.google.com/spreadsheets/d/e/2PACX-1vRw5hr7idg1jHvsOd1YT2tFzzM07P1Lrcwx-fB54_ojeXZr_-Wz0Dk2j-Cpa7n0oXyjRyZlYZw5ezXz/pubhtml?gid=0&amp;single=true&amp;widget=true&amp;headers=false'"
   ]
  },
  {
   "cell_type": "code",
   "execution_count": null,
   "id": "f631569d",
   "metadata": {
    "slideshow": {
     "slide_type": "slide"
    }
   },
   "outputs": [],
   "source": [
    "IFrame(sched, width=1200, height=600)"
   ]
  },
  {
   "cell_type": "markdown",
   "id": "6cc97f63",
   "metadata": {
    "slideshow": {
     "slide_type": "slide"
    }
   },
   "source": [
    "# Python\n",
    "\n",
    "![](https://upload.wikimedia.org/wikipedia/commons/c/c3/Python-logo-notext.svg)\n",
    "\n",
    "- I will assume some basic familiarity with Python.\n",
    "- You do not need to know a lot of Python.\n",
    "- You should be able to read things like this and get the general idea:\n",
    "\n",
    "```\n",
    "def mystery_function(numbers: list[int]) -> int:\n",
    "    result = 0\n",
    "    for num in numbers:\n",
    "        if num % 2 == 0:\n",
    "            result += num ** 2\n",
    "    return result\n",
    "```"
   ]
  },
  {
   "cell_type": "markdown",
   "id": "6f5a4741",
   "metadata": {
    "slideshow": {
     "slide_type": "slide"
    }
   },
   "source": [
    "# Numpy\n",
    "- The first two weeks of this class will focus on mastering Numpy.\n",
    "- Mastering Numpy is absolutely essential if you want to write efficient data/statistical code (in Python).\n",
    "    - PyTorch, Tensorflow, Jax, Numba, Dask, etc. all copied the NumPy API.\n",
    "    - Pandas, SciPy, sklearn run on top of NumPy.\n",
    "- Other competitors: R, MATLAB, Julia.\n",
    "- We will end up using NumPy for every subsequent lesson, so it's worth investing some time to learn it well."
   ]
  },
  {
   "attachments": {
    "image.png": {
     "image/png": "[encoded data removed]"
    }
   },
   "cell_type": "markdown",
   "id": "7f5c8908",
   "metadata": {
    "slideshow": {
     "slide_type": "slide"
    }
   },
   "source": [
    "# How the computer sees data\n",
    "- Effective data-driven science and computation requires understanding how data is stored and manipulated.\n",
    "- First we will start with an example to motivate the basic ideas.\n",
    "\n",
    "![image.png](attachment:image.png)"
   ]
  },
  {
   "cell_type": "markdown",
   "id": "44044f7e",
   "metadata": {},
   "source": [
    "Let's write a function to add up all the positive integers from 1 to $n$:"
   ]
  },
  {
   "cell_type": "code",
   "execution_count": null,
   "id": "a07a1b23",
   "metadata": {},
   "outputs": [],
   "source": [
    "# add up the numbers\n",
    "def sum_n(n):\n",
    "    'add up numbers from 1 to n'\n",
    "    ..."
   ]
  },
  {
   "cell_type": "markdown",
   "id": "bbffb54b",
   "metadata": {},
   "source": [
    "(Of course we already know how to do this in closed form, but humor me.)"
   ]
  },
  {
   "cell_type": "markdown",
   "id": "3fc68328",
   "metadata": {},
   "source": [
    "For small $n$ this function works great. But what about for large $n$?"
   ]
  },
  {
   "cell_type": "code",
   "execution_count": null,
   "id": "149d5682",
   "metadata": {},
   "outputs": [],
   "source": [
    "%timeit sum_n(10_000_000)"
   ]
  },
  {
   "cell_type": "markdown",
   "id": "1f396bce",
   "metadata": {},
   "source": [
    "Now, let's see what happens when we write the same function in a low-level lanuage."
   ]
  },
  {
   "cell_type": "code",
   "execution_count": null,
   "id": "71d45126",
   "metadata": {},
   "outputs": [],
   "source": [
    "%%cpp\n",
    "\n",
    "// C implementation"
   ]
  },
  {
   "cell_type": "markdown",
   "id": "f1f651a8",
   "metadata": {},
   "source": [
    "- On my machine, the C version takes 30ms, and the Python version takes 490ms;\n",
    "- So C is about $16\\times$ faster.\n",
    "- Why?"
   ]
  },
  {
   "cell_type": "markdown",
   "id": "e2edf5a3",
   "metadata": {},
   "source": [
    "Finally, let's try the same thing using Numpy:"
   ]
  },
  {
   "cell_type": "code",
   "execution_count": null,
   "id": "2ce69f85",
   "metadata": {},
   "outputs": [],
   "source": [
    "import numpy as np\n",
    "\n",
    "def sum_n_np(n):\n",
    "    return np.arange(1, n + 1).sum()"
   ]
  },
  {
   "cell_type": "code",
   "execution_count": null,
   "id": "b74aa1cf",
   "metadata": {},
   "outputs": [],
   "source": [
    "%%timeit\n",
    "sum_n_np(10_000_000)"
   ]
  },
  {
   "cell_type": "markdown",
   "id": "4051168c",
   "metadata": {},
   "source": [
    "- Numpy is faster than C."
   ]
  },
  {
   "cell_type": "markdown",
   "id": "c51e9d3e",
   "metadata": {},
   "source": [
    "Finally, let's try one more attempt:"
   ]
  },
  {
   "cell_type": "code",
   "execution_count": null,
   "id": "80a2b173",
   "metadata": {},
   "outputs": [],
   "source": [
    "v = np.arange(1, 10_000_000 + 1)\n",
    "%timeit v.sum()"
   ]
  },
  {
   "cell_type": "markdown",
   "id": "ce4e0480",
   "metadata": {},
   "source": [
    "- Much faster than C!\n",
    "- But much easier to read and write!"
   ]
  },
  {
   "attachments": {
    "image.png": {
     "image/png": "[encoded data removed]"
    }
   },
   "cell_type": "markdown",
   "id": "fd595e83",
   "metadata": {
    "slideshow": {
     "slide_type": "slide"
    }
   },
   "source": [
    "# Why is C fast?\n",
    "![image.png](attachment:image.png)"
   ]
  },
  {
   "cell_type": "markdown",
   "id": "dfa133df",
   "metadata": {
    "slideshow": {
     "slide_type": "slide"
    }
   },
   "source": [
    "# Why is Python slow?\n",
    "\n",
    "- Every Python object is simply a cleverly-disguised C structure, which contains not only its value, but other information as well. \n",
    "- For example, when we define an integer in Python, such as ``x = 10000``, ``x`` is not just a \"raw\" integer. It's actually a pointer to a compound C structure, which contains several values.\n",
    "\n",
    "```C\n",
    "struct _longobject {\n",
    "    long ob_refcnt;\n",
    "    PyTypeObject *ob_type;\n",
    "    size_t ob_size;\n",
    "    long ob_digit[1];\n",
    "};\n",
    "```\n",
    "\n",
    "- Benefits: extra information in the Python integer structure is what allows Python to be coded so freely and dynamically. \n",
    "- Drawback: Extra overhead in storing an integer in Python as compared to an integer in a compiled language like C.\n"
   ]
  },
  {
   "cell_type": "markdown",
   "id": "9c138e1d",
   "metadata": {
    "slideshow": {
     "slide_type": "slide"
    }
   },
   "source": [
    "# Another example: storing a list"
   ]
  },
  {
   "cell_type": "code",
   "execution_count": 3,
   "id": "ca48090a",
   "metadata": {},
   "outputs": [
    {
     "data": {
      "text/plain": [
       "[0, 1, 2, 3, 4, 5, 6, 7, 8, 9]"
      ]
     },
     "execution_count": 3,
     "metadata": {},
     "output_type": "execute_result"
    }
   ],
   "source": [
    "L = list(range(10))\n",
    "L"
   ]
  },
  {
   "cell_type": "code",
   "execution_count": 6,
   "id": "5c121647",
   "metadata": {},
   "outputs": [
    {
     "data": {
      "text/plain": [
       "[bool, str, float, int]"
      ]
     },
     "execution_count": 6,
     "metadata": {},
     "output_type": "execute_result"
    }
   ],
   "source": [
    "L2 = [True, \"2\", 3.0, 4]\n",
    "[type(item) for item in L2]"
   ]
  },
  {
   "cell_type": "markdown",
   "id": "11a5f06e",
   "metadata": {
    "slideshow": {
     "slide_type": "notes"
    }
   },
   "source": [
    "- This flexibility comes at a cost: each item in the list must contain its own type info, reference count, and other information–that is, each item is a complete Python object. \n",
    "- In the special case that all variables are of the same type, much of this information is redundant: it can be much more efficient to store data in a fixed-type array. "
   ]
  },
  {
   "attachments": {
    "image.png": {
     "image/png": "[encoded data removed]"
    }
   },
   "cell_type": "markdown",
   "id": "7d2a81c9",
   "metadata": {
    "slideshow": {
     "slide_type": "slide"
    }
   },
   "source": [
    "# Why is Numpy almost as fast as C?\n",
    "\n",
    "![image.png](attachment:image.png)\n",
    "\n",
    "\n",
    "\n",
    "\n",
    "\n",
    "\n",
    "\n",
    "\n",
    "\n",
    "\n",
    "\n",
    "\n"
   ]
  },
  {
   "cell_type": "markdown",
   "id": "799ed47d",
   "metadata": {
    "slideshow": {
     "slide_type": "slide"
    }
   },
   "source": [
    "## Down with `for` loops!\n",
    "- Since almost all data science and statistics problems essentially boil down to manipulating arrays of floating point numbers, we'll exclusively prefer the Numpy-style of working with lists.\n",
    "- Do not use Python `for` loops except in special cases to be described later!"
   ]
  },
  {
   "cell_type": "markdown",
   "id": "7ec5d5fc",
   "metadata": {
    "slideshow": {
     "slide_type": "slide"
    }
   },
   "source": [
    "## Creating Arrays from Python Lists\n",
    "\n",
    "First, we can use ``np.array`` to create arrays from Python lists:"
   ]
  },
  {
   "cell_type": "code",
   "execution_count": 10,
   "id": "859f2f2e",
   "metadata": {},
   "outputs": [
    {
     "data": {
      "text/plain": [
       "array([1, 4, 2, 5, 3])"
      ]
     },
     "execution_count": 10,
     "metadata": {},
     "output_type": "execute_result"
    }
   ],
   "source": [
    "# integer array:\n",
    "np.array([1, 4, 2, 5, 3])"
   ]
  },
  {
   "cell_type": "markdown",
   "id": "cfd77774",
   "metadata": {
    "slideshow": {
     "slide_type": "slide"
    }
   },
   "source": [
    "Remember that unlike Python lists, NumPy is constrained to arrays that all contain the same type.\n",
    "If types do not match, NumPy will upcast if possible (here, integers are up-cast to floating point):"
   ]
  },
  {
   "cell_type": "code",
   "execution_count": 11,
   "id": "5eb6afe8",
   "metadata": {},
   "outputs": [
    {
     "data": {
      "text/plain": [
       "array([3.14, 4.  , 2.  , 3.  ])"
      ]
     },
     "execution_count": 11,
     "metadata": {},
     "output_type": "execute_result"
    }
   ],
   "source": [
    "np.array([3.14, 4, 2, 3])"
   ]
  },
  {
   "cell_type": "markdown",
   "id": "f8471ac2",
   "metadata": {},
   "source": [
    "```\n",
    "array([3.14, 4.  , 2.  , 3.  ])\n",
    "```\n",
    "\n",
    "\n",
    "\n",
    "\n",
    "\n",
    "\n",
    "\n"
   ]
  },
  {
   "cell_type": "markdown",
   "id": "db9fbfa0",
   "metadata": {
    "slideshow": {
     "slide_type": "slide"
    }
   },
   "source": [
    "If we want to explicitly set the data type of the resulting array, we can use the dtype keyword:\n",
    "\n",
    "\n",
    "\n",
    "\n",
    "\n",
    "\n",
    "\n",
    "\n",
    "\n",
    "\n",
    "\n",
    "\n",
    "\n"
   ]
  },
  {
   "cell_type": "code",
   "execution_count": 12,
   "id": "dd37eb76",
   "metadata": {},
   "outputs": [
    {
     "data": {
      "text/plain": [
       "array([1., 2., 3., 4.], dtype=float32)"
      ]
     },
     "execution_count": 12,
     "metadata": {},
     "output_type": "execute_result"
    }
   ],
   "source": [
    "np.array([1, 2, 3, 4], dtype='float32')"
   ]
  },
  {
   "cell_type": "markdown",
   "id": "7146715e",
   "metadata": {
    "slideshow": {
     "slide_type": "slide"
    }
   },
   "source": [
    "## Creating Arrays from Scratch¶\n",
    "\n"
   ]
  },
  {
   "cell_type": "markdown",
   "id": "9d4b62cb",
   "metadata": {
    "slideshow": {
     "slide_type": "-"
    }
   },
   "source": [
    "Especially for larger arrays, it is more efficient to create arrays from scratch using routines built into NumPy:\n",
    "\n",
    "\n",
    "\n",
    "\n",
    "\n",
    "\n",
    "\n",
    "\n",
    "\n",
    "\n",
    "\n"
   ]
  },
  {
   "cell_type": "code",
   "execution_count": 14,
   "id": "0464ea19",
   "metadata": {},
   "outputs": [
    {
     "data": {
      "text/plain": [
       "array([0, 0, 0, 0, 0, 0, 0, 0, 0, 0])"
      ]
     },
     "execution_count": 14,
     "metadata": {},
     "output_type": "execute_result"
    }
   ],
   "source": [
    "np.zeros(10, dtype=int)"
   ]
  },
  {
   "cell_type": "code",
   "execution_count": 15,
   "id": "e089c024",
   "metadata": {
    "slideshow": {
     "slide_type": "slide"
    }
   },
   "outputs": [
    {
     "data": {
      "text/plain": [
       "array([[1., 1., 1., 1., 1.],\n",
       "       [1., 1., 1., 1., 1.],\n",
       "       [1., 1., 1., 1., 1.]])"
      ]
     },
     "execution_count": 15,
     "metadata": {},
     "output_type": "execute_result"
    }
   ],
   "source": [
    "np.ones((3, 5), dtype=float)"
   ]
  },
  {
   "cell_type": "code",
   "execution_count": 16,
   "id": "79b52df8",
   "metadata": {
    "slideshow": {
     "slide_type": "slide"
    }
   },
   "outputs": [
    {
     "data": {
      "text/plain": [
       "array([0.  , 0.25, 0.5 , 0.75, 1.  ])"
      ]
     },
     "execution_count": 16,
     "metadata": {},
     "output_type": "execute_result"
    }
   ],
   "source": [
    "np.linspace(0, 1, 5)"
   ]
  },
  {
   "cell_type": "code",
   "execution_count": 17,
   "id": "8f11ae0f",
   "metadata": {
    "slideshow": {
     "slide_type": "slide"
    }
   },
   "outputs": [
    {
     "data": {
      "text/plain": [
       "array([[0.80954592, 0.69225934, 0.327852  ],\n",
       "       [0.4205031 , 0.30228211, 0.69309193],\n",
       "       [0.46141987, 0.81724961, 0.00089825]])"
      ]
     },
     "execution_count": 17,
     "metadata": {},
     "output_type": "execute_result"
    }
   ],
   "source": [
    "np.random.random((3, 3))"
   ]
  },
  {
   "cell_type": "code",
   "execution_count": 26,
   "id": "6c606c16",
   "metadata": {
    "slideshow": {
     "slide_type": "slide"
    }
   },
   "outputs": [
    {
     "data": {
      "text/plain": [
       "array([[1., 0., 0.],\n",
       "       [0., 1., 0.],\n",
       "       [0., 0., 1.]])"
      ]
     },
     "execution_count": 26,
     "metadata": {},
     "output_type": "execute_result"
    }
   ],
   "source": [
    "np.eye(3)"
   ]
  },
  {
   "cell_type": "markdown",
   "id": "456ddba1",
   "metadata": {},
   "source": [
    "```\n",
    "array([[1., 0., 0.],\n",
    "       [0., 1., 0.],\n",
    "       [0., 0., 1.]])\n",
    "```\n",
    "\n",
    "\n",
    "\n",
    "\n",
    "\n",
    "\n",
    "\n",
    "\n",
    "\n"
   ]
  },
  {
   "cell_type": "markdown",
   "id": "e0b1e562",
   "metadata": {
    "slideshow": {
     "slide_type": "notes"
    }
   },
   "source": [
    "Note that we just created a bunch of two-dimensional arrays. You know these as matrices. For the most part, however, NumPy functions are agnostic to the dimensionality of the array -- they work regardless of the number of dimensions."
   ]
  },
  {
   "cell_type": "markdown",
   "id": "337be4cd",
   "metadata": {
    "slideshow": {
     "slide_type": "slide"
    }
   },
   "source": [
    "## NumPy Standard Data Types¶\n",
    "\n"
   ]
  },
  {
   "cell_type": "markdown",
   "id": "eb60d565",
   "metadata": {},
   "source": [
    "| Data type\t    | Description |\n",
    "|---------------|-------------|\n",
    "| ``bool_``     | Boolean (True or False) stored as a byte |\n",
    "| ``int_``      | Default integer type (same as C ``long``; normally either ``int64`` or ``int32``)| \n",
    "| ``intc``      | Identical to C ``int`` (normally ``int32`` or ``int64``)| \n",
    "| ``intp``      | Integer used for indexing (same as C ``ssize_t``; normally either ``int32`` or ``int64``)| \n",
    "| ``int8``      | Byte (-128 to 127)| \n",
    "| ``int16``     | Integer (-32768 to 32767)|\n",
    "| ``int32``     | Integer (-2147483648 to 2147483647)|\n",
    "| ``int64``     | Integer (-9223372036854775808 to 9223372036854775807)| \n",
    "| ``uint8``     | Unsigned integer (0 to 255)| \n",
    "| ``uint16``    | Unsigned integer (0 to 65535)| \n",
    "| ``uint32``    | Unsigned integer (0 to 4294967295)| \n",
    "| ``uint64``    | Unsigned integer (0 to 18446744073709551615)| \n",
    "| ``float_``    | Shorthand for ``float64``.| \n",
    "| ``float16``   | Half precision float: sign bit, 5 bits exponent, 10 bits mantissa| \n",
    "| ``float32``   | Single precision float: sign bit, 8 bits exponent, 23 bits mantissa| \n",
    "| ``float64``   | Double precision float: sign bit, 11 bits exponent, 52 bits mantissa| \n",
    "| ``complex_``  | Shorthand for ``complex128``.| \n",
    "| ``complex64`` | Complex number, represented by two 32-bit floats| \n",
    "| ``complex128``| Complex number, represented by two 64-bit floats| "
   ]
  },
  {
   "cell_type": "markdown",
   "id": "dc236976",
   "metadata": {
    "slideshow": {
     "slide_type": "slide"
    }
   },
   "source": [
    "## Aside: representing big integers\n",
    "- Unlike floating point numbers, it's possible to represent integers exactly in the computer.\n",
    "- You are only limited by the number of bits you can store.\n",
    "- In Numpy, that's either 8, 16, 32, or 64 bits.\n",
    "- However, in Python there is no limit."
   ]
  },
  {
   "cell_type": "code",
   "execution_count": 20,
   "id": "1255cb7f",
   "metadata": {},
   "outputs": [
    {
     "data": {
      "text/plain": [
       "100000000000000000000000000000000000000000000000000000000000000000000000000000000000000000000000000000000000000000000000000000000000000000000000000000000000000000000000000000000000000000000000000000000"
      ]
     },
     "execution_count": 20,
     "metadata": {},
     "output_type": "execute_result"
    }
   ],
   "source": [
    "100 ** 100  # one google in Python"
   ]
  },
  {
   "cell_type": "code",
   "execution_count": 22,
   "id": "0fa1d343",
   "metadata": {},
   "outputs": [
    {
     "ename": "OverflowError",
     "evalue": "Python int too large to convert to C long",
     "output_type": "error",
     "traceback": [
      "\u001b[0;31m---------------------------------------------------------------------------\u001b[0m",
      "\u001b[0;31mOverflowError\u001b[0m                             Traceback (most recent call last)",
      "Cell \u001b[0;32mIn[22], line 1\u001b[0m\n\u001b[0;32m----> 1\u001b[0m \u001b[43mnp\u001b[49m\u001b[38;5;241;43m.\u001b[39;49m\u001b[43marray\u001b[49m\u001b[43m(\u001b[49m\u001b[43m[\u001b[49m\u001b[38;5;241;43m100\u001b[39;49m\u001b[43m \u001b[49m\u001b[38;5;241;43m*\u001b[39;49m\u001b[38;5;241;43m*\u001b[39;49m\u001b[43m \u001b[49m\u001b[38;5;241;43m100\u001b[39;49m\u001b[43m]\u001b[49m\u001b[43m,\u001b[49m\u001b[43m \u001b[49m\u001b[43mdtype\u001b[49m\u001b[38;5;241;43m=\u001b[39;49m\u001b[38;5;28;43mint\u001b[39;49m\u001b[43m)\u001b[49m\n",
      "\u001b[0;31mOverflowError\u001b[0m: Python int too large to convert to C long"
     ]
    }
   ],
   "source": [
    "np.array([100 ** 100], dtype=int)"
   ]
  },
  {
   "cell_type": "markdown",
   "id": "8e2dcaf7",
   "metadata": {
    "slideshow": {
     "slide_type": "notes"
    }
   },
   "source": [
    "- One area where I've found this useful is working with probabilistic models that have big combinatorial coefficients.\n",
    "- In combination with the `fractions` module, you can do exact arithmetic over the rationals, which sometimes matters for numerical reasons."
   ]
  },
  {
   "cell_type": "markdown",
   "id": "03c9492f",
   "metadata": {
    "slideshow": {
     "slide_type": "slide"
    }
   },
   "source": [
    "## Using Numpy for data\n",
    "Let's generate a random data matrix `X` and response variable `y`:"
   ]
  },
  {
   "cell_type": "code",
   "execution_count": 81,
   "id": "5f0798f2",
   "metadata": {},
   "outputs": [
    {
     "data": {
      "text/plain": [
       "array([[ 0.08005446,  0.78434854, -0.52804012],\n",
       "       [-0.07206382, -1.47326498,  0.69425051],\n",
       "       [ 0.12691414,  0.57424606, -1.39986389],\n",
       "       [-1.17776427, -0.00296789, -0.09398183],\n",
       "       [-0.91474475, -0.46396012,  0.77226147],\n",
       "       [ 0.98284063, -0.46648391,  1.52728053],\n",
       "       [-0.64507625, -1.07795117,  0.49618274],\n",
       "       [-0.06196525, -0.23583356,  0.47121957],\n",
       "       [ 0.70020667, -0.30431435, -0.7947927 ],\n",
       "       [-0.25068502, -0.67153647,  0.74512865]])"
      ]
     },
     "execution_count": 81,
     "metadata": {},
     "output_type": "execute_result"
    }
   ],
   "source": [
    "n = 10  # observations\n",
    "p = 3  # predictors\n",
    "X = np.random.normal(size=(n, p))\n",
    "y = np.random.normal(size=n)\n",
    "X"
   ]
  },
  {
   "cell_type": "markdown",
   "id": "fa9e79fe",
   "metadata": {
    "slideshow": {
     "slide_type": "slide"
    }
   },
   "source": [
    "## Basic questions about arrays\n",
    "- What type of data is it?"
   ]
  },
  {
   "cell_type": "code",
   "execution_count": 82,
   "id": "d4f882bd",
   "metadata": {},
   "outputs": [
    {
     "data": {
      "text/plain": [
       "dtype('float64')"
      ]
     },
     "execution_count": 82,
     "metadata": {},
     "output_type": "execute_result"
    }
   ],
   "source": [
    "X.dtype"
   ]
  },
  {
   "cell_type": "markdown",
   "id": "afdf07d6",
   "metadata": {
    "slideshow": {
     "slide_type": "slide"
    }
   },
   "source": [
    "What are its dimensions?"
   ]
  },
  {
   "cell_type": "code",
   "execution_count": 83,
   "id": "8ed69cf9",
   "metadata": {},
   "outputs": [
    {
     "data": {
      "text/plain": [
       "(10, 3)"
      ]
     },
     "execution_count": 83,
     "metadata": {},
     "output_type": "execute_result"
    }
   ],
   "source": [
    "X.shape"
   ]
  },
  {
   "cell_type": "markdown",
   "id": "37a09c03",
   "metadata": {
    "slideshow": {
     "slide_type": "slide"
    }
   },
   "source": [
    "How many elements does it have?"
   ]
  },
  {
   "cell_type": "code",
   "execution_count": 84,
   "id": "0c3df189",
   "metadata": {},
   "outputs": [
    {
     "data": {
      "text/plain": [
       "30"
      ]
     },
     "execution_count": 84,
     "metadata": {},
     "output_type": "execute_result"
    }
   ],
   "source": [
    "X.size"
   ]
  },
  {
   "cell_type": "markdown",
   "id": "7d694574",
   "metadata": {
    "slideshow": {
     "slide_type": "slide"
    }
   },
   "source": [
    "How much memory does it take up?"
   ]
  },
  {
   "cell_type": "code",
   "execution_count": 86,
   "id": "0ec6a38d",
   "metadata": {},
   "outputs": [
    {
     "data": {
      "text/plain": [
       "240"
      ]
     },
     "execution_count": 86,
     "metadata": {},
     "output_type": "execute_result"
    }
   ],
   "source": [
    "X.nbytes"
   ]
  },
  {
   "cell_type": "markdown",
   "id": "89cd4c93",
   "metadata": {
    "slideshow": {
     "slide_type": "slide"
    }
   },
   "source": [
    "# Aggregations\n",
    "- Aggregations summarize arrays into lower-dimensional ones. \n",
    "- The show up everywhere in statistics and data science."
   ]
  },
  {
   "cell_type": "code",
   "execution_count": 117,
   "id": "4a63c0b3",
   "metadata": {
    "slideshow": {
     "slide_type": "slide"
    }
   },
   "outputs": [
    {
     "data": {
      "text/plain": [
       "(-1.5264108394754112,\n",
       " -0.05088036131584704,\n",
       " -1.4732649800064743,\n",
       " 1.5272805306099055,\n",
       " 0.7800054032368305)"
      ]
     },
     "execution_count": 117,
     "metadata": {},
     "output_type": "execute_result"
    }
   ],
   "source": [
    "X.sum(), X.mean(), X.min(), X.max(), X.std()"
   ]
  },
  {
   "cell_type": "markdown",
   "id": "c52f85d1",
   "metadata": {
    "slideshow": {
     "slide_type": "slide"
    }
   },
   "source": [
    "Some aggregations are called using the `np` library instead of as object methods:"
   ]
  },
  {
   "cell_type": "code",
   "execution_count": 127,
   "id": "d6575c09",
   "metadata": {},
   "outputs": [
    {
     "data": {
      "text/plain": [
       "-0.08302282535439112"
      ]
     },
     "execution_count": 127,
     "metadata": {},
     "output_type": "execute_result"
    }
   ],
   "source": [
    "np.median(X)"
   ]
  },
  {
   "cell_type": "code",
   "execution_count": 132,
   "id": "96268c60",
   "metadata": {},
   "outputs": [
    {
     "data": {
      "text/plain": [
       "array([[ 1.        ,  0.35876949, -0.16693096],\n",
       "       [ 0.35876949,  1.        , -0.66362509],\n",
       "       [-0.16693096, -0.66362509,  1.        ]])"
      ]
     },
     "execution_count": 132,
     "metadata": {},
     "output_type": "execute_result"
    }
   ],
   "source": [
    "np.corrcoef(X, rowvar=False)"
   ]
  },
  {
   "cell_type": "markdown",
   "id": "479a74af",
   "metadata": {
    "slideshow": {
     "slide_type": "slide"
    }
   },
   "source": [
    "# Gotcha: Python vs. NumPy aggregations\n",
    "- Python also has built in aggregations like `sum()`, `min()`, and `max()`. \n",
    "- Don't use these on NumPy arrays! They are slow."
   ]
  },
  {
   "cell_type": "code",
   "execution_count": 124,
   "id": "8c510e62",
   "metadata": {},
   "outputs": [
    {
     "name": "stdout",
     "output_type": "stream",
     "text": [
      "5.98 µs ± 10.8 ns per loop (mean ± std. dev. of 7 runs, 100,000 loops each)\n"
     ]
    }
   ],
   "source": [
    "%timeit sum(X)"
   ]
  },
  {
   "cell_type": "code",
   "execution_count": 125,
   "id": "ddb5721f",
   "metadata": {},
   "outputs": [
    {
     "name": "stdout",
     "output_type": "stream",
     "text": [
      "1.22 µs ± 11.3 ns per loop (mean ± std. dev. of 7 runs, 1,000,000 loops each)\n"
     ]
    }
   ],
   "source": [
    "%timeit X.sum()"
   ]
  },
  {
   "cell_type": "markdown",
   "id": "2186b2ca",
   "metadata": {
    "slideshow": {
     "slide_type": "slide"
    }
   },
   "source": [
    "### Multi dimensional aggregates\n",
    "\n",
    "- One common type of aggregation operation is an aggregate along a row or column.\n",
    "- Most NumPy aggregation functions have an `axis=` parameter that takes one or more axes and aggregates along them.\n",
    "- The `.shape` of the resulting array is all the axis that remain."
   ]
  },
  {
   "cell_type": "code",
   "execution_count": 133,
   "id": "eaf76354",
   "metadata": {},
   "outputs": [
    {
     "data": {
      "text/plain": [
       "array([-0.00783379, -0.33377178,  0.18896449])"
      ]
     },
     "execution_count": 133,
     "metadata": {},
     "output_type": "execute_result"
    }
   ],
   "source": [
    "X.mean(0)  # aggregate along axis 0 (the n axis)"
   ]
  },
  {
   "cell_type": "code",
   "execution_count": 135,
   "id": "ba91cec6",
   "metadata": {},
   "outputs": [
    {
     "data": {
      "text/plain": [
       "array([ 0.49676947, -0.28369276, -0.23290123, -0.42490466, -0.2021478 ,\n",
       "        0.68121242, -0.40894823,  0.05780692, -0.13296679, -0.05903095])"
      ]
     },
     "execution_count": 135,
     "metadata": {},
     "output_type": "execute_result"
    }
   ],
   "source": [
    "X.mean(1)  # aggregate along axis 1 (the p axis)"
   ]
  },
  {
   "cell_type": "markdown",
   "id": "2f4d2b8c",
   "metadata": {
    "slideshow": {
     "slide_type": "slide"
    }
   },
   "source": [
    "# Math with arrays: universal functions (UFuncs)\n",
    "\n",
    "- Let's perform a common operation with our array: standardize each predictor.\n",
    "- In order to do that, we need to subtract the mean from each column, and divide by the standard deviation.\n"
   ]
  },
  {
   "cell_type": "code",
   "execution_count": 138,
   "id": "e8bd1260",
   "metadata": {},
   "outputs": [
    {
     "data": {
      "text/plain": [
       "array([-0.00783379, -0.33377178,  0.18896449])"
      ]
     },
     "execution_count": 138,
     "metadata": {},
     "output_type": "execute_result"
    }
   ],
   "source": [
    "X.mean(0)  # column means"
   ]
  },
  {
   "cell_type": "code",
   "execution_count": 139,
   "id": "c67715d5",
   "metadata": {},
   "outputs": [
    {
     "data": {
      "text/plain": [
       "array([0.7554072 , 0.64772483, 0.83404537])"
      ]
     },
     "execution_count": 139,
     "metadata": {},
     "output_type": "execute_result"
    }
   ],
   "source": [
    "X.std(0)  # column std devs"
   ]
  },
  {
   "cell_type": "markdown",
   "id": "f5e7a4a7",
   "metadata": {
    "slideshow": {
     "slide_type": "slide"
    }
   },
   "source": [
    "## The wrong way"
   ]
  },
  {
   "cell_type": "code",
   "execution_count": 140,
   "id": "81e203cf",
   "metadata": {},
   "outputs": [],
   "source": [
    "# using for loops"
   ]
  },
  {
   "cell_type": "markdown",
   "id": "fec92347",
   "metadata": {
    "slideshow": {
     "slide_type": "slide"
    }
   },
   "source": [
    "- As we learned earlier in lecture, if we find ourseles writing a Python `for` loop, there is generally a corresponding NumPy operation that has already implemented that.\n",
    "- This is known as a vectorized operation.\n",
    "- Vectorized operations in NumPy are implemented via ufuncs, whose main purpose is to quickly execute repeated operations on values in NumPy arrays.\n"
   ]
  },
  {
   "cell_type": "code",
   "execution_count": 142,
   "id": "7993f3a2",
   "metadata": {
    "slideshow": {
     "slide_type": "slide"
    }
   },
   "outputs": [
    {
     "data": {
      "text/plain": [
       "array([0.16666667, 1.        , 0.25      , 0.25      , 0.125     ])"
      ]
     },
     "execution_count": 142,
     "metadata": {},
     "output_type": "execute_result"
    }
   ],
   "source": [
    "import numpy as np\n",
    "np.random.seed(0)\n",
    "\n",
    "def compute_reciprocals(values):\n",
    "    output = np.empty(len(values))\n",
    "    for i in range(len(values)):\n",
    "        output[i] = 1.0 / values[i]\n",
    "    return output\n",
    "        \n",
    "values = np.random.randint(1, 10, size=5)\n",
    "compute_reciprocals(values)"
   ]
  },
  {
   "cell_type": "code",
   "execution_count": 143,
   "id": "78aef95a",
   "metadata": {},
   "outputs": [
    {
     "name": "stdout",
     "output_type": "stream",
     "text": [
      "1.21 s ± 4.11 ms per loop (mean ± std. dev. of 7 runs, 1 loop each)\n"
     ]
    }
   ],
   "source": [
    "big_array = np.random.randint(1, 100, size=1000000)\n",
    "%timeit compute_reciprocals(big_array)"
   ]
  },
  {
   "cell_type": "code",
   "execution_count": 144,
   "id": "482ba523",
   "metadata": {
    "slideshow": {
     "slide_type": "slide"
    }
   },
   "outputs": [
    {
     "name": "stdout",
     "output_type": "stream",
     "text": [
      "[0.16666667 1.         0.25       0.25       0.125     ]\n",
      "[0.16666667 1.         0.25       0.25       0.125     ]\n"
     ]
    }
   ],
   "source": [
    "print(compute_reciprocals(values))\n",
    "print(1.0 / values)"
   ]
  },
  {
   "cell_type": "code",
   "execution_count": 145,
   "id": "637a73ca",
   "metadata": {},
   "outputs": [
    {
     "name": "stdout",
     "output_type": "stream",
     "text": [
      "1.13 ms ± 2.73 µs per loop (mean ± std. dev. of 7 runs, 1,000 loops each)\n"
     ]
    }
   ],
   "source": [
    "%timeit (1.0 / big_array)"
   ]
  },
  {
   "cell_type": "markdown",
   "id": "cf0c2927",
   "metadata": {
    "slideshow": {
     "slide_type": "slide"
    }
   },
   "source": [
    "- There are ufuncs for every math/trig function you need. \n",
    "- (For research-y special functions, see `scipy.special`.)"
   ]
  },
  {
   "cell_type": "markdown",
   "id": "d964c741",
   "metadata": {
    "slideshow": {
     "slide_type": "slide"
    }
   },
   "source": [
    "## The less wrong way"
   ]
  },
  {
   "cell_type": "code",
   "execution_count": 141,
   "id": "4e88c88c",
   "metadata": {},
   "outputs": [],
   "source": [
    "# for loop using ufuncs"
   ]
  },
  {
   "cell_type": "markdown",
   "id": "a18fe8c9",
   "metadata": {
    "slideshow": {
     "slide_type": "slide"
    }
   },
   "source": [
    "# The right way: broadcasting\n",
    "- Another means of vectorizing operations is to use NumPy's broadcasting functionality.\n",
    "- Broadcasting is simply a set of rules for applying binary ufuncs (e.g., addition, subtraction, multiplication, etc.) on arrays of different sizes.\n",
    "- (If you've used R, it has similar broadcasting semantics, with one important exception which is discussed below.)"
   ]
  },
  {
   "cell_type": "markdown",
   "id": "4e830c51",
   "metadata": {
    "slideshow": {
     "slide_type": "slide"
    }
   },
   "source": [
    "Recall that for arrays of the same size, binary operations are performed on an element-by-element basis:\n",
    "\n",
    "\n",
    "\n",
    "\n",
    "\n",
    "\n",
    "\n",
    "\n",
    "\n",
    "\n",
    "\n"
   ]
  },
  {
   "cell_type": "code",
   "execution_count": 146,
   "id": "2091247a",
   "metadata": {},
   "outputs": [
    {
     "data": {
      "text/plain": [
       "array([5, 6, 7])"
      ]
     },
     "execution_count": 146,
     "metadata": {},
     "output_type": "execute_result"
    }
   ],
   "source": [
    "a = np.array([0, 1, 2])\n",
    "b = np.array([5, 5, 5])\n",
    "a + b"
   ]
  },
  {
   "cell_type": "markdown",
   "id": "40248ddd",
   "metadata": {
    "slideshow": {
     "slide_type": "slide"
    }
   },
   "source": [
    "Broadcasting allows these types of binary operations to be performed on arrays of different sizes:\n",
    "\n",
    "\n",
    "\n",
    "\n",
    "\n",
    "\n",
    "\n",
    "\n",
    "\n",
    "\n",
    "\n",
    "\n",
    "\n"
   ]
  },
  {
   "cell_type": "code",
   "execution_count": 147,
   "id": "80d0f258",
   "metadata": {},
   "outputs": [
    {
     "data": {
      "text/plain": [
       "array([5, 6, 7])"
      ]
     },
     "execution_count": 147,
     "metadata": {},
     "output_type": "execute_result"
    }
   ],
   "source": [
    "a + 5"
   ]
  },
  {
   "cell_type": "markdown",
   "id": "0b352cbf",
   "metadata": {
    "slideshow": {
     "slide_type": "notes"
    }
   },
   "source": [
    "We can think of this as an operation that stretches or duplicates the value 5 into the array [5, 5, 5], and adds the results; the advantage of NumPy's broadcasting is that this duplication of values does not actually take place.\n",
    "\n",
    "\n",
    "\n",
    "\n",
    "\n",
    "\n",
    "\n",
    "\n",
    "\n",
    "\n",
    "\n",
    "\n",
    "\n"
   ]
  },
  {
   "cell_type": "markdown",
   "id": "3d2893b7",
   "metadata": {
    "slideshow": {
     "slide_type": "slide"
    }
   },
   "source": [
    "We can similarly extend this to arrays of higher dimensions:"
   ]
  },
  {
   "cell_type": "code",
   "execution_count": 148,
   "id": "cf5e31ce",
   "metadata": {},
   "outputs": [
    {
     "data": {
      "text/plain": [
       "array([[1., 1., 1.],\n",
       "       [1., 1., 1.],\n",
       "       [1., 1., 1.]])"
      ]
     },
     "execution_count": 148,
     "metadata": {},
     "output_type": "execute_result"
    }
   ],
   "source": [
    "M = np.ones((3, 3)); M"
   ]
  },
  {
   "cell_type": "code",
   "execution_count": 149,
   "id": "6cf94980",
   "metadata": {},
   "outputs": [
    {
     "data": {
      "text/plain": [
       "array([[1., 2., 3.],\n",
       "       [1., 2., 3.],\n",
       "       [1., 2., 3.]])"
      ]
     },
     "execution_count": 149,
     "metadata": {},
     "output_type": "execute_result"
    }
   ],
   "source": [
    "M + a"
   ]
  },
  {
   "cell_type": "markdown",
   "id": "d04c1d31",
   "metadata": {},
   "source": [
    "## Rules of Broadcasting\n",
    "- Rule 1: If the two arrays differ in their number of dimensions, the shape of the one with fewer dimensions is *padded* with ones on its leading (left) side.\n",
    "- Rule 2: If the shape of the two arrays does not match in any dimension, the array with shape equal to 1 in that dimension is stretched to match the other shape.\n",
    "- Rule 3: If in any dimension the sizes disagree and neither is equal to 1, an error is raised.  (**Different from R**)."
   ]
  },
  {
   "attachments": {
    "image.png": {
     "image/png": "[encoded data removed]"
    }
   },
   "cell_type": "markdown",
   "id": "a1878afa",
   "metadata": {},
   "source": [
    "![image.png](attachment:image.png)"
   ]
  },
  {
   "cell_type": "markdown",
   "id": "32b9fc71",
   "metadata": {
    "slideshow": {
     "slide_type": "slide"
    }
   },
   "source": [
    "## Example: rank-1 matrix\n",
    "\n",
    "Consider the outer product $u v^\\intercal$ where $u,v$ are vectors of the same dimension."
   ]
  },
  {
   "cell_type": "code",
   "execution_count": 155,
   "id": "79039664",
   "metadata": {},
   "outputs": [],
   "source": [
    "u = np.arange(3)\n",
    "v = np.arange(3)"
   ]
  },
  {
   "cell_type": "markdown",
   "id": "7c2b2a10",
   "metadata": {
    "slideshow": {
     "slide_type": "slide"
    }
   },
   "source": [
    "You might naively hope that expressing $u v^\\intercal$ as matrix multiplication would work as God intended."
   ]
  },
  {
   "cell_type": "code",
   "execution_count": 156,
   "id": "6e10683a",
   "metadata": {},
   "outputs": [
    {
     "data": {
      "text/plain": [
       "5"
      ]
     },
     "execution_count": 156,
     "metadata": {},
     "output_type": "execute_result"
    }
   ],
   "source": [
    "u @ v.T"
   ]
  },
  {
   "cell_type": "markdown",
   "id": "b9f4cb23",
   "metadata": {},
   "source": [
    "You would be wrong."
   ]
  },
  {
   "cell_type": "markdown",
   "id": "e6443c92",
   "metadata": {
    "slideshow": {
     "slide_type": "slide"
    }
   },
   "source": [
    "To get this to work, we need to add axes, which is done using either `np.newaxis`, or more idiomatically, `None`:"
   ]
  },
  {
   "cell_type": "code",
   "execution_count": 159,
   "id": "90b17505",
   "metadata": {},
   "outputs": [
    {
     "data": {
      "text/plain": [
       "array([[0, 0, 0],\n",
       "       [0, 1, 2],\n",
       "       [0, 2, 4]])"
      ]
     },
     "execution_count": 159,
     "metadata": {},
     "output_type": "execute_result"
    }
   ],
   "source": [
    "u[:, None] @ v[:, None].T"
   ]
  },
  {
   "cell_type": "markdown",
   "id": "b93e638b",
   "metadata": {
    "slideshow": {
     "slide_type": "slide"
    }
   },
   "source": [
    "## Standardizing  the right way"
   ]
  },
  {
   "cell_type": "code",
   "execution_count": 162,
   "id": "f2d0ede8",
   "metadata": {},
   "outputs": [
    {
     "data": {
      "text/plain": [
       "(3,)"
      ]
     },
     "execution_count": 162,
     "metadata": {},
     "output_type": "execute_result"
    }
   ],
   "source": [
    "X.mean(0).shape"
   ]
  },
  {
   "cell_type": "code",
   "execution_count": 164,
   "id": "9fbf76a8",
   "metadata": {},
   "outputs": [
    {
     "data": {
      "text/plain": [
       "array([[ 1.64392633,  1.72622737, -0.85967099],\n",
       "       [-0.08502702, -1.75922421,  0.60582557],\n",
       "       [ 0.17837787,  1.40185741, -1.90496637],\n",
       "       [-1.54874149,  0.51071671, -0.33924572],\n",
       "       [-1.20055905, -0.20099327,  0.69935881],\n",
       "       [ 1.31144423, -0.20488966,  1.6046082 ],\n",
       "       [-0.84357476, -1.14891286,  0.36834716],\n",
       "       [-0.07165865,  0.15120344,  0.33841694],\n",
       "       [ 0.93729641,  0.04547832, -1.17950082],\n",
       "       [-0.32148386, -0.52146324,  0.66682723]])"
      ]
     },
     "execution_count": 164,
     "metadata": {},
     "output_type": "execute_result"
    }
   ],
   "source": [
    "(X - X.mean(0)) / X.std(0)"
   ]
  },
  {
   "cell_type": "markdown",
   "id": "180178d9",
   "metadata": {
    "slideshow": {
     "slide_type": "slide"
    }
   },
   "source": [
    "# Reshaping of Arrays\n",
    "- Often it can be useful to change the shape of an array without modifying the underlying data.\n",
    "- This is done using the `.reshape()` function.\n",
    "- The new shape must have the same size as the old shape."
   ]
  },
  {
   "cell_type": "code",
   "execution_count": 168,
   "id": "bd282d60",
   "metadata": {},
   "outputs": [
    {
     "data": {
      "text/plain": [
       "array([[ 1.234     ,  0.78434854, -0.52804012, -0.07206382, -1.47326498,\n",
       "         0.69425051,  0.12691414,  0.57424606, -1.39986389, -1.17776427],\n",
       "       [-0.00296789, -0.09398183, -0.91474475, -0.46396012,  0.77226147,\n",
       "         0.98284063, -0.46648391,  1.52728053, -0.64507625, -1.07795117],\n",
       "       [ 0.49618274, -0.06196525, -0.23583356,  0.47121957,  0.70020667,\n",
       "        -0.30431435, -0.7947927 , -0.25068502, -0.67153647,  0.74512865]])"
      ]
     },
     "execution_count": 168,
     "metadata": {},
     "output_type": "execute_result"
    }
   ],
   "source": [
    "X.shape\n",
    "X.reshape(3, 10)"
   ]
  },
  {
   "cell_type": "markdown",
   "id": "633dcc1e",
   "metadata": {
    "slideshow": {
     "slide_type": "slide"
    }
   },
   "source": [
    "- `.reshape()` takes a special argument, `-1`, which will absorb any remaining unspecified dimensions.\n",
    "- In particular, `.reshape(-1)` flattens the whole array into a vector."
   ]
  },
  {
   "cell_type": "code",
   "execution_count": 172,
   "id": "a992c45a",
   "metadata": {},
   "outputs": [
    {
     "data": {
      "text/plain": [
       "array([ 1.234     ,  0.78434854, -0.52804012, -0.07206382, -1.47326498,\n",
       "        0.69425051,  0.12691414,  0.57424606, -1.39986389, -1.17776427,\n",
       "       -0.00296789, -0.09398183, -0.91474475, -0.46396012,  0.77226147,\n",
       "        0.98284063, -0.46648391,  1.52728053, -0.64507625, -1.07795117,\n",
       "        0.49618274, -0.06196525, -0.23583356,  0.47121957,  0.70020667,\n",
       "       -0.30431435, -0.7947927 , -0.25068502, -0.67153647,  0.74512865])"
      ]
     },
     "execution_count": 172,
     "metadata": {},
     "output_type": "execute_result"
    }
   ],
   "source": [
    "X.reshape(-1)  \n",
    "X.reshape(10 * 3)"
   ]
  },
  {
   "cell_type": "markdown",
   "id": "88dcef16",
   "metadata": {
    "slideshow": {
     "slide_type": "slide"
    }
   },
   "source": [
    "## Uses of reshape\n",
    "- Often useful for grouping or stratifying data.\n",
    "- Suppose our $n$ samples are naturally stratified into pairs: $(1, 2), (3, 4), \\dots, (9, 10)$.\n",
    "- We can reshape our $10\\times 3$ data matrix into a $5 \\times 2 \\times 3$ array:"
   ]
  },
  {
   "cell_type": "code",
   "execution_count": 173,
   "id": "cee249c2",
   "metadata": {
    "slideshow": {
     "slide_type": "-"
    }
   },
   "outputs": [
    {
     "data": {
      "text/plain": [
       "array([[ 1.234     ,  0.78434854, -0.52804012],\n",
       "       [-0.07206382, -1.47326498,  0.69425051]])"
      ]
     },
     "execution_count": 173,
     "metadata": {},
     "output_type": "execute_result"
    }
   ],
   "source": [
    "X.reshape(5, 2, 3)[0]  # first two rows of X"
   ]
  },
  {
   "cell_type": "markdown",
   "id": "79e46e94",
   "metadata": {
    "slideshow": {
     "slide_type": "slide"
    }
   },
   "source": [
    "Why is this useful? \n",
    "- Suppose we wanted to compute the mean predictor within each group.\n",
    "- This returns a view, so no copying takes place, so it's very fast."
   ]
  },
  {
   "cell_type": "code",
   "execution_count": 174,
   "id": "500ab074",
   "metadata": {},
   "outputs": [
    {
     "data": {
      "text/plain": [
       "array([[ 0.58096809, -0.34445822,  0.08310519],\n",
       "       [-0.52542507,  0.28563908, -0.74692286],\n",
       "       [ 0.03404794, -0.46522201,  1.149771  ],\n",
       "       [-0.35352075, -0.65689237,  0.48370115],\n",
       "       [ 0.22476082, -0.48792541, -0.02483202]])"
      ]
     },
     "execution_count": 174,
     "metadata": {},
     "output_type": "execute_result"
    }
   ],
   "source": [
    "X.reshape(5, 2, 3).mean(axis=1)"
   ]
  },
  {
   "cell_type": "markdown",
   "id": "78d69dc9",
   "metadata": {
    "slideshow": {
     "slide_type": "slide"
    }
   },
   "source": [
    "## Array Slicing: Accessing Subarrays\n",
    "- Just as we can use square brackets to access individual array elements, we can also use them to access subarrays with the slice notation, marked by the colon (:) character.\n",
    "- The NumPy slicing syntax follows that of the standard Python list; to access a slice of an array x, use this:\n",
    "\n",
    "```\n",
    "x[start:stop:step]\n",
    "\n",
    "```\n",
    "- If any of these are unspecified, they default to the values start=0, stop=size of dimension, step=1."
   ]
  },
  {
   "cell_type": "markdown",
   "id": "ea76ee6a",
   "metadata": {
    "slideshow": {
     "slide_type": "slide"
    }
   },
   "source": [
    "### One-dimensional subarrays"
   ]
  },
  {
   "cell_type": "code",
   "execution_count": 94,
   "id": "33dfdcb1",
   "metadata": {},
   "outputs": [
    {
     "data": {
      "text/plain": [
       "array([-0.69746464, -0.04752447,  0.71744105,  0.70070289, -0.50653514])"
      ]
     },
     "execution_count": 94,
     "metadata": {},
     "output_type": "execute_result"
    }
   ],
   "source": [
    "y[:5]  # first five elements"
   ]
  },
  {
   "cell_type": "code",
   "execution_count": 95,
   "id": "e4b7a7ab",
   "metadata": {},
   "outputs": [
    {
     "data": {
      "text/plain": [
       "array([ 0.56344361, -1.11513262,  0.97993314, -0.11486581,  0.99367934])"
      ]
     },
     "execution_count": 95,
     "metadata": {},
     "output_type": "execute_result"
    }
   ],
   "source": [
    "y[5:]  # elements after index 5"
   ]
  },
  {
   "cell_type": "code",
   "execution_count": 96,
   "id": "f8a85650",
   "metadata": {
    "slideshow": {
     "slide_type": "-"
    }
   },
   "outputs": [
    {
     "data": {
      "text/plain": [
       "array([-0.69746464,  0.71744105, -0.50653514, -1.11513262, -0.11486581])"
      ]
     },
     "execution_count": 96,
     "metadata": {},
     "output_type": "execute_result"
    }
   ],
   "source": [
    "y[::2]  # every other element"
   ]
  },
  {
   "cell_type": "markdown",
   "id": "55dc74b5",
   "metadata": {
    "slideshow": {
     "slide_type": "slide"
    }
   },
   "source": [
    "- A potentially confusing case is when the step value is negative.\n",
    "- In this case, the defaults for start and stop are swapped: start=size of dimension, stop=0.\n",
    "- This becomes a convenient way to reverse an array:\n",
    "\n",
    "\n",
    "\n",
    "\n",
    "\n",
    "\n",
    "\n",
    "\n",
    "\n",
    "\n",
    "\n",
    "\n",
    "\n",
    "\n",
    "\n",
    "\n",
    "\n"
   ]
  },
  {
   "cell_type": "code",
   "execution_count": 97,
   "id": "847b92e2",
   "metadata": {},
   "outputs": [
    {
     "data": {
      "text/plain": [
       "array([ 0.99367934, -0.11486581,  0.97993314, -1.11513262,  0.56344361,\n",
       "       -0.50653514,  0.70070289,  0.71744105, -0.04752447, -0.69746464])"
      ]
     },
     "execution_count": 97,
     "metadata": {},
     "output_type": "execute_result"
    }
   ],
   "source": [
    "y[::-1]  # all elements, reversed"
   ]
  },
  {
   "cell_type": "code",
   "execution_count": 98,
   "id": "0b2cdb61",
   "metadata": {},
   "outputs": [
    {
     "data": {
      "text/plain": [
       "array([ 0.56344361,  0.70070289, -0.04752447])"
      ]
     },
     "execution_count": 98,
     "metadata": {},
     "output_type": "execute_result"
    }
   ],
   "source": [
    "y[5::-2]  # reversed every other from index 5"
   ]
  },
  {
   "cell_type": "markdown",
   "id": "b122e4d8",
   "metadata": {
    "slideshow": {
     "slide_type": "slide"
    }
   },
   "source": [
    "### Multi-dimensional subarrays¶\n",
    "\n"
   ]
  },
  {
   "cell_type": "markdown",
   "id": "bad9e511",
   "metadata": {},
   "source": [
    "Multi-dimensional slices work in the same way, with multiple slices separated by commas:\n",
    "\n",
    "\n",
    "\n",
    "\n",
    "\n",
    "\n",
    "\n",
    "\n",
    "\n",
    "\n",
    "\n"
   ]
  },
  {
   "cell_type": "code",
   "execution_count": 99,
   "id": "3c40b07c",
   "metadata": {},
   "outputs": [
    {
     "data": {
      "text/plain": [
       "array([[ 3.00000000e+00,  7.84348539e-01, -5.28040116e-01],\n",
       "       [-7.20638186e-02, -1.47326498e+00,  6.94250505e-01],\n",
       "       [ 1.26914136e-01,  5.74246060e-01, -1.39986389e+00],\n",
       "       [-1.17776427e+00, -2.96789351e-03, -9.39818321e-02],\n",
       "       [-9.14744748e-01, -4.63960118e-01,  7.72261466e-01],\n",
       "       [ 9.82840627e-01, -4.66483906e-01,  1.52728053e+00],\n",
       "       [-6.45076246e-01, -1.07795117e+00,  4.96182737e-01],\n",
       "       [-6.19652495e-02, -2.35833563e-01,  4.71219572e-01],\n",
       "       [ 7.00206665e-01, -3.04314345e-01, -7.94792699e-01],\n",
       "       [-2.50685018e-01, -6.71536473e-01,  7.45128651e-01]])"
      ]
     },
     "execution_count": 99,
     "metadata": {},
     "output_type": "execute_result"
    }
   ],
   "source": [
    "X "
   ]
  },
  {
   "cell_type": "code",
   "execution_count": 101,
   "id": "4991be6a",
   "metadata": {},
   "outputs": [
    {
     "data": {
      "text/plain": [
       "array([[ 3.        ,  0.78434854, -0.52804012],\n",
       "       [-0.07206382, -1.47326498,  0.69425051]])"
      ]
     },
     "execution_count": 101,
     "metadata": {},
     "output_type": "execute_result"
    }
   ],
   "source": [
    "X[:2, :3]  # two rows, three columns"
   ]
  },
  {
   "cell_type": "code",
   "execution_count": 102,
   "id": "47fcd0ad",
   "metadata": {},
   "outputs": [
    {
     "data": {
      "text/plain": [
       "array([[ 3.        , -0.52804012],\n",
       "       [-0.07206382,  0.69425051],\n",
       "       [ 0.12691414, -1.39986389]])"
      ]
     },
     "execution_count": 102,
     "metadata": {},
     "output_type": "execute_result"
    }
   ],
   "source": [
    "X[:3, ::2]  # all rows, every other column"
   ]
  },
  {
   "cell_type": "markdown",
   "id": "3d36f73b",
   "metadata": {
    "slideshow": {
     "slide_type": "slide"
    }
   },
   "source": [
    "One commonly needed routine is accessing of single rows or columns of an array:\n",
    "\n",
    "\n",
    "\n",
    "\n",
    "\n",
    "\n",
    "\n",
    "\n",
    "\n",
    "\n",
    "\n"
   ]
  },
  {
   "cell_type": "code",
   "execution_count": 103,
   "id": "ebb0745b",
   "metadata": {},
   "outputs": [
    {
     "data": {
      "text/plain": [
       "array([ 3.        , -0.07206382,  0.12691414, -1.17776427, -0.91474475,\n",
       "        0.98284063, -0.64507625, -0.06196525,  0.70020667, -0.25068502])"
      ]
     },
     "execution_count": 103,
     "metadata": {},
     "output_type": "execute_result"
    }
   ],
   "source": [
    "X[:, 0]  # first predictor"
   ]
  },
  {
   "cell_type": "markdown",
   "id": "6d3c4482",
   "metadata": {
    "slideshow": {
     "slide_type": "slide"
    }
   },
   "source": [
    "### Subarrays as no-copy views"
   ]
  },
  {
   "cell_type": "markdown",
   "id": "2eb3368b",
   "metadata": {
    "slideshow": {
     "slide_type": "slide"
    }
   },
   "source": [
    "- One important–and extremely useful–thing to know about array slices is that they return views rather than copies of the array data.\n",
    "- This is one area in which NumPy array slicing differs from Python list slicing: in lists, slices will be copies."
   ]
  },
  {
   "cell_type": "code",
   "execution_count": 104,
   "id": "40fb5e0f",
   "metadata": {},
   "outputs": [
    {
     "data": {
      "text/plain": [
       "array([[ 3.        ,  0.78434854],\n",
       "       [-0.07206382, -1.47326498]])"
      ]
     },
     "execution_count": 104,
     "metadata": {},
     "output_type": "execute_result"
    }
   ],
   "source": [
    "X_sub = X[:2, :2]; X_sub"
   ]
  },
  {
   "cell_type": "code",
   "execution_count": 106,
   "id": "1acb71aa",
   "metadata": {},
   "outputs": [
    {
     "data": {
      "text/plain": [
       "array([[ 1.234     ,  0.78434854, -0.52804012],\n",
       "       [-0.07206382, -1.47326498,  0.69425051],\n",
       "       [ 0.12691414,  0.57424606, -1.39986389],\n",
       "       [-1.17776427, -0.00296789, -0.09398183],\n",
       "       [-0.91474475, -0.46396012,  0.77226147],\n",
       "       [ 0.98284063, -0.46648391,  1.52728053],\n",
       "       [-0.64507625, -1.07795117,  0.49618274],\n",
       "       [-0.06196525, -0.23583356,  0.47121957],\n",
       "       [ 0.70020667, -0.30431435, -0.7947927 ],\n",
       "       [-0.25068502, -0.67153647,  0.74512865]])"
      ]
     },
     "execution_count": 106,
     "metadata": {},
     "output_type": "execute_result"
    }
   ],
   "source": [
    "X_sub[0, 0] = 1.234 # if we modify this subarray, the original array is changed too\n",
    "X"
   ]
  },
  {
   "cell_type": "markdown",
   "id": "1730ea30",
   "metadata": {
    "slideshow": {
     "slide_type": "slide"
    }
   },
   "source": [
    "# Comparisons, Masks, and Boolean Logic\n",
    "- Masking comes up when you want to extract, modify, count, or otherwise manipulate values in an array based on some criterion: \n",
    "- for example, you might wish to count all values greater than a certain value, or perhaps remove all outliers that are above some threshold.\n",
    "- In NumPy, Boolean masking is often the most efficient way to accomplish these types of tasks.\n",
    "- Boolean masking works similar to R."
   ]
  },
  {
   "cell_type": "markdown",
   "id": "95b0eb72",
   "metadata": {
    "slideshow": {
     "slide_type": "slide"
    }
   },
   "source": [
    "Comparison operators are ufuncs that return a special type of array called boolean (True/False).\n",
    "\n",
    "\n",
    "\n",
    "\n",
    "\n",
    "\n",
    "\n",
    "\n",
    "\n",
    "\n",
    "\n",
    "\n",
    "\n"
   ]
  },
  {
   "cell_type": "code",
   "execution_count": 179,
   "id": "39875538",
   "metadata": {},
   "outputs": [
    {
     "data": {
      "text/plain": [
       "array([False, False,  True,  True, False,  True, False,  True, False,\n",
       "        True])"
      ]
     },
     "execution_count": 179,
     "metadata": {},
     "output_type": "execute_result"
    }
   ],
   "source": [
    "y > .1"
   ]
  },
  {
   "cell_type": "code",
   "execution_count": null,
   "id": "2268fb01",
   "metadata": {
    "slideshow": {
     "slide_type": "slide"
    }
   },
   "outputs": [],
   "source": [
    "These can be used to index (like in R):"
   ]
  },
  {
   "cell_type": "code",
   "execution_count": 184,
   "id": "38f164dc",
   "metadata": {},
   "outputs": [
    {
     "data": {
      "text/plain": [
       "array([0.71744105, 0.70070289, 0.56344361, 0.97993314, 0.99367934])"
      ]
     },
     "execution_count": 184,
     "metadata": {},
     "output_type": "execute_result"
    }
   ],
   "source": [
    "y[y > .1]  # all responses that were greater than .1"
   ]
  },
  {
   "cell_type": "markdown",
   "id": "89f21180",
   "metadata": {
    "slideshow": {
     "slide_type": "slide"
    }
   },
   "source": [
    "If you pass a boolean vector to a multidimensional array, it will index along the leading axis:"
   ]
  },
  {
   "cell_type": "code",
   "execution_count": 187,
   "id": "bb205b37",
   "metadata": {},
   "outputs": [
    {
     "data": {
      "text/plain": [
       "array([[ 0.12691414,  0.57424606, -1.39986389],\n",
       "       [-1.17776427, -0.00296789, -0.09398183],\n",
       "       [ 0.98284063, -0.46648391,  1.52728053],\n",
       "       [-0.06196525, -0.23583356,  0.47121957],\n",
       "       [-0.25068502, -0.67153647,  0.74512865]])"
      ]
     },
     "execution_count": 187,
     "metadata": {},
     "output_type": "execute_result"
    }
   ],
   "source": [
    "X[y > .1]  # data rows for the y > .1 observations"
   ]
  },
  {
   "cell_type": "code",
   "execution_count": 190,
   "id": "7f3d03e4",
   "metadata": {
    "slideshow": {
     "slide_type": "slide"
    }
   },
   "outputs": [
    {
     "ename": "SyntaxError",
     "evalue": "invalid syntax (919959463.py, line 3)",
     "output_type": "error",
     "traceback": [
      "\u001b[0;36m  Cell \u001b[0;32mIn[190], line 3\u001b[0;36m\u001b[0m\n\u001b[0;31m    - For example, keep all the predictors that had a stddev of > .8.\u001b[0m\n\u001b[0m          ^\u001b[0m\n\u001b[0;31mSyntaxError\u001b[0m\u001b[0;31m:\u001b[0m invalid syntax\n"
     ]
    }
   ],
   "source": [
    "## Placeholders\n",
    "- What if we wanted to filter on columns instead of rows?\n",
    "- For example, keep all the predictors that had a stddev of > .8."
   ]
  },
  {
   "cell_type": "code",
   "execution_count": 192,
   "id": "b8598251",
   "metadata": {},
   "outputs": [
    {
     "ename": "IndexError",
     "evalue": "boolean index did not match indexed array along dimension 0; dimension is 10 but corresponding boolean dimension is 3",
     "output_type": "error",
     "traceback": [
      "\u001b[0;31m---------------------------------------------------------------------------\u001b[0m",
      "\u001b[0;31mIndexError\u001b[0m                                Traceback (most recent call last)",
      "Cell \u001b[0;32mIn[192], line 1\u001b[0m\n\u001b[0;32m----> 1\u001b[0m \u001b[43mX\u001b[49m\u001b[43m[\u001b[49m\u001b[43mX\u001b[49m\u001b[38;5;241;43m.\u001b[39;49m\u001b[43mstd\u001b[49m\u001b[43m(\u001b[49m\u001b[38;5;241;43m0\u001b[39;49m\u001b[43m)\u001b[49m\u001b[43m \u001b[49m\u001b[38;5;241;43m>\u001b[39;49m\u001b[43m \u001b[49m\u001b[38;5;241;43m.8\u001b[39;49m\u001b[43m]\u001b[49m\n",
      "\u001b[0;31mIndexError\u001b[0m: boolean index did not match indexed array along dimension 0; dimension is 10 but corresponding boolean dimension is 3"
     ]
    }
   ],
   "source": [
    "X[X.std(0) > .8]"
   ]
  },
  {
   "cell_type": "markdown",
   "id": "34800049",
   "metadata": {
    "slideshow": {
     "slide_type": "slide"
    }
   },
   "source": [
    "# Fancy Indexing¶\n",
    "\n"
   ]
  },
  {
   "cell_type": "markdown",
   "id": "f0123b90",
   "metadata": {},
   "source": [
    "We saw how to access and modify portions of arrays using simple indices (e.g., arr[0]), slices (e.g., arr[:5]), and Boolean masks (e.g., arr[arr > 0]).\n",
    "\n",
    "\n",
    "\n",
    "\n",
    "\n"
   ]
  },
  {
   "cell_type": "markdown",
   "id": "540d898b",
   "metadata": {},
   "source": [
    "We'll look at another style of array indexing, known as fancy indexing, that is like the simple indexing we've already seen, but we pass arrays of indices in place of single scalars.\n",
    "\n",
    "\n",
    "\n",
    "\n",
    "\n",
    "\n",
    "\n",
    "\n",
    "\n",
    "\n",
    "\n"
   ]
  },
  {
   "cell_type": "markdown",
   "id": "3d19762f",
   "metadata": {},
   "source": [
    "Fancy indexing is conceptually simple: it means passing an array of indices to access multiple array elements at once:\n",
    "\n",
    "\n",
    "\n",
    "\n",
    "\n",
    "\n",
    "\n",
    "\n",
    "\n",
    "\n",
    "\n"
   ]
  },
  {
   "cell_type": "markdown",
   "id": "63522e63",
   "metadata": {},
   "source": [
    "```\n",
    "rand = np.random.RandomState(42)\n",
    "\n",
    "x = rand.randint(100, size=10)\n",
    "x\n",
    "\n",
    "```\n",
    "\n",
    "\n",
    "\n",
    "\n",
    "\n",
    "\n",
    "\n",
    "\n",
    "\n",
    "\n",
    "\n",
    "\n",
    "\n",
    "\n",
    "\n",
    "\n",
    "\n",
    "\n",
    "\n",
    "\n",
    "\n",
    "\n",
    "\n",
    "\n",
    "\n",
    "\n",
    "\n",
    "\n",
    "\n",
    "\n",
    "\n",
    "\n",
    "\n",
    "\n",
    "\n",
    "\n",
    "\n",
    "\n",
    "\n",
    "\n",
    "\n",
    "\n",
    "\n",
    "\n",
    "\n",
    "\n",
    "\n",
    "\n",
    "\n",
    "\n",
    "\n",
    "\n",
    "\n",
    "\n",
    "\n",
    "\n",
    "\n"
   ]
  },
  {
   "cell_type": "markdown",
   "id": "448fdf1a",
   "metadata": {},
   "source": [
    "```\n",
    "array([51, 92, 14, 71, 60, 20, 82, 86, 74, 74])\n",
    "```\n",
    "\n",
    "\n",
    "\n",
    "\n",
    "\n",
    "\n",
    "\n",
    "\n",
    "\n",
    "\n",
    "\n"
   ]
  },
  {
   "cell_type": "markdown",
   "id": "e3958303",
   "metadata": {},
   "source": [
    "```\n",
    "[x[3], x[7], x[2]] # Suppose we want to access three different elements.\n",
    "\n",
    "```\n",
    "\n",
    "\n",
    "\n",
    "\n",
    "\n",
    "\n",
    "\n",
    "\n",
    "\n",
    "\n",
    "\n",
    "\n",
    "\n",
    "\n",
    "\n",
    "\n",
    "\n",
    "\n",
    "\n",
    "\n",
    "\n",
    "\n",
    "\n",
    "\n",
    "\n",
    "\n",
    "\n",
    "\n",
    "\n",
    "\n",
    "\n",
    "\n",
    "\n",
    "\n",
    "\n",
    "\n",
    "\n",
    "\n",
    "\n"
   ]
  },
  {
   "cell_type": "markdown",
   "id": "043058f1",
   "metadata": {},
   "source": [
    "```\n",
    "[71, 86, 14]\n",
    "```\n",
    "\n",
    "\n",
    "\n",
    "\n",
    "\n",
    "\n",
    "\n",
    "\n",
    "\n",
    "\n",
    "\n"
   ]
  },
  {
   "cell_type": "markdown",
   "id": "db41c8ef",
   "metadata": {},
   "source": [
    "```\n",
    "ind = [3, 7, 4]\n",
    "x[ind] # Alternatively, we can pass a single list or array of indices\n",
    "\n",
    "```\n",
    "\n",
    "\n",
    "\n",
    "\n",
    "\n",
    "\n",
    "\n",
    "\n",
    "\n",
    "\n",
    "\n",
    "\n",
    "\n",
    "\n",
    "\n",
    "\n",
    "\n",
    "\n",
    "\n",
    "\n",
    "\n",
    "\n",
    "\n",
    "\n",
    "\n",
    "\n",
    "\n",
    "\n",
    "\n",
    "\n",
    "\n",
    "\n",
    "\n",
    "\n",
    "\n",
    "\n",
    "\n",
    "\n",
    "\n"
   ]
  },
  {
   "cell_type": "markdown",
   "id": "04e036f5",
   "metadata": {},
   "source": [
    "```\n",
    "array([71, 86, 60])\n",
    "```\n",
    "\n",
    "\n",
    "\n",
    "\n",
    "\n",
    "\n",
    "\n",
    "\n",
    "\n"
   ]
  },
  {
   "cell_type": "markdown",
   "id": "90676541",
   "metadata": {},
   "source": [
    "When using fancy indexing, the shape of the result reflects the shape of the index arrays rather than the shape of the array being indexed:\n",
    "\n",
    "\n",
    "\n",
    "\n",
    "\n",
    "\n",
    "\n",
    "\n",
    "\n",
    "\n",
    "\n"
   ]
  },
  {
   "cell_type": "markdown",
   "id": "b770dc3b",
   "metadata": {},
   "source": [
    "```\n",
    "ind = np.array([[3, 7],\n",
    "                [4, 5]])\n",
    "x[ind]\n",
    "\n",
    "```\n",
    "\n",
    "\n",
    "\n",
    "\n",
    "\n",
    "\n",
    "\n",
    "\n",
    "\n",
    "\n",
    "\n",
    "\n",
    "\n",
    "\n",
    "\n",
    "\n",
    "\n",
    "\n",
    "\n",
    "\n",
    "\n",
    "\n",
    "\n",
    "\n",
    "\n",
    "\n",
    "\n",
    "\n",
    "\n",
    "\n",
    "\n",
    "\n",
    "\n",
    "\n",
    "\n",
    "\n",
    "\n",
    "\n",
    "\n",
    "\n",
    "\n",
    "\n",
    "\n",
    "\n",
    "\n",
    "\n",
    "\n",
    "\n",
    "\n"
   ]
  },
  {
   "cell_type": "markdown",
   "id": "c3fc5710",
   "metadata": {},
   "source": [
    "```\n",
    "array([[71, 86],\n",
    "       [60, 20]])\n",
    "```\n",
    "\n",
    "\n",
    "\n",
    "\n",
    "\n",
    "\n",
    "\n",
    "\n",
    "\n"
   ]
  },
  {
   "cell_type": "markdown",
   "id": "15049da3",
   "metadata": {},
   "source": [
    "Fancy indexing also works in multiple dimensions:\n",
    "\n",
    "\n",
    "\n",
    "\n",
    "\n",
    "\n",
    "\n",
    "\n",
    "\n",
    "\n",
    "\n"
   ]
  },
  {
   "cell_type": "markdown",
   "id": "324b1455",
   "metadata": {},
   "source": [
    "```\n",
    "X = np.arange(12).reshape((3, 4))\n",
    "X\n",
    "\n",
    "```\n",
    "\n",
    "\n",
    "\n",
    "\n",
    "\n",
    "\n",
    "\n",
    "\n",
    "\n",
    "\n",
    "\n",
    "\n",
    "\n",
    "\n",
    "\n",
    "\n",
    "\n",
    "\n",
    "\n",
    "\n",
    "\n",
    "\n",
    "\n",
    "\n",
    "\n",
    "\n",
    "\n",
    "\n",
    "\n",
    "\n",
    "\n",
    "\n",
    "\n",
    "\n",
    "\n",
    "\n",
    "\n",
    "\n",
    "\n",
    "\n",
    "\n",
    "\n",
    "\n"
   ]
  },
  {
   "cell_type": "markdown",
   "id": "27e99c76",
   "metadata": {},
   "source": [
    "```\n",
    "array([[ 0,  1,  2,  3],\n",
    "       [ 4,  5,  6,  7],\n",
    "       [ 8,  9, 10, 11]])\n",
    "```\n",
    "\n",
    "\n",
    "\n",
    "\n",
    "\n",
    "\n",
    "\n"
   ]
  },
  {
   "cell_type": "markdown",
   "id": "ae3bbdec",
   "metadata": {},
   "source": [
    "Like with standard indexing, the first index refers to the row, and the second to the column:\n",
    "\n",
    "\n",
    "\n",
    "\n",
    "\n",
    "\n",
    "\n",
    "\n",
    "\n",
    "\n",
    "\n"
   ]
  },
  {
   "cell_type": "markdown",
   "id": "e541b104",
   "metadata": {},
   "source": [
    "```\n",
    "row = np.array([0, 1, 2])\n",
    "col = np.array([2, 1, 3])\n",
    "X[row, col]\n",
    "\n",
    "```\n",
    "\n",
    "\n",
    "\n",
    "\n",
    "\n",
    "\n",
    "\n",
    "\n",
    "\n",
    "\n",
    "\n",
    "\n",
    "\n",
    "\n",
    "\n",
    "\n",
    "\n",
    "\n",
    "\n",
    "\n",
    "\n",
    "\n",
    "\n",
    "\n",
    "\n",
    "\n",
    "\n",
    "\n",
    "\n",
    "\n",
    "\n",
    "\n",
    "\n",
    "\n",
    "\n",
    "\n",
    "\n",
    "\n",
    "\n",
    "\n",
    "\n",
    "\n",
    "\n",
    "\n",
    "\n",
    "\n",
    "\n",
    "\n",
    "\n",
    "\n",
    "\n",
    "\n",
    "\n",
    "\n",
    "\n",
    "\n",
    "\n",
    "\n",
    "\n",
    "\n",
    "\n",
    "\n",
    "\n",
    "\n",
    "\n",
    "\n",
    "\n",
    "\n",
    "\n",
    "\n",
    "\n"
   ]
  },
  {
   "cell_type": "markdown",
   "id": "44c55243",
   "metadata": {},
   "source": [
    "```\n",
    "array([ 2,  5, 11])\n",
    "```\n",
    "\n",
    "\n",
    "\n",
    "\n",
    "\n",
    "\n",
    "\n",
    "\n",
    "\n"
   ]
  },
  {
   "cell_type": "markdown",
   "id": "50f30115",
   "metadata": {},
   "source": [
    "The pairing of indices in fancy indexing follows all the broadcasting rules that we've already seen:\n",
    "\n",
    "\n",
    "\n",
    "\n",
    "\n",
    "\n",
    "\n",
    "\n",
    "\n",
    "\n",
    "\n"
   ]
  },
  {
   "cell_type": "markdown",
   "id": "1d0465d2",
   "metadata": {},
   "source": [
    "```\n",
    "X[row[:, np.newaxis], col]\n",
    "\n",
    "```\n",
    "\n",
    "\n",
    "\n",
    "\n",
    "\n",
    "\n",
    "\n",
    "\n",
    "\n",
    "\n",
    "\n",
    "\n",
    "\n",
    "\n",
    "\n",
    "\n",
    "\n",
    "\n",
    "\n",
    "\n",
    "\n",
    "\n",
    "\n",
    "\n",
    "\n",
    "\n",
    "\n",
    "\n",
    "\n",
    "\n",
    "\n"
   ]
  },
  {
   "cell_type": "markdown",
   "id": "f99f277a",
   "metadata": {},
   "source": [
    "```\n",
    "array([[ 2,  1,  3],\n",
    "       [ 6,  5,  7],\n",
    "       [10,  9, 11]])\n",
    "```\n",
    "\n",
    "\n",
    "\n",
    "\n",
    "\n",
    "\n",
    "\n"
   ]
  },
  {
   "cell_type": "markdown",
   "id": "2c8d7c33",
   "metadata": {},
   "source": [
    "each row value is matched with each column vector, exactly as we saw in broadcasting of arithmetic operations\n",
    "\n",
    "\n",
    "\n",
    "\n",
    "\n",
    "\n",
    "\n",
    "\n",
    "\n",
    "\n",
    "\n"
   ]
  },
  {
   "cell_type": "markdown",
   "id": "20877e93",
   "metadata": {},
   "source": [
    "```\n",
    "row[:, np.newaxis] * col\n",
    "\n",
    "```\n",
    "\n",
    "\n",
    "\n",
    "\n",
    "\n",
    "\n",
    "\n",
    "\n",
    "\n",
    "\n",
    "\n",
    "\n",
    "\n",
    "\n",
    "\n",
    "\n",
    "\n",
    "\n",
    "\n",
    "\n",
    "\n",
    "\n",
    "\n",
    "\n",
    "\n",
    "\n",
    "\n"
   ]
  },
  {
   "cell_type": "markdown",
   "id": "bcd5d9a9",
   "metadata": {},
   "source": [
    "```\n",
    "array([[0, 0, 0],\n",
    "       [2, 1, 3],\n",
    "       [4, 2, 6]])\n",
    "```\n",
    "\n",
    "\n",
    "\n",
    "\n",
    "\n",
    "\n",
    "\n"
   ]
  },
  {
   "cell_type": "markdown",
   "id": "7a11787c",
   "metadata": {},
   "source": [
    "Remember: with fancy indexing that the return value reflects the broadcasted shape of the indices, rather than the shape of the array being indexed.\n",
    "\n",
    "\n",
    "\n",
    "\n",
    "\n",
    "\n",
    "\n",
    "\n",
    "\n",
    "\n",
    "\n",
    "\n",
    "\n"
   ]
  },
  {
   "cell_type": "markdown",
   "id": "c940c898",
   "metadata": {},
   "source": [
    "## Combined Indexing¶\n",
    "\n"
   ]
  },
  {
   "cell_type": "markdown",
   "id": "22f3a38a",
   "metadata": {},
   "source": [
    "For even more powerful operations, fancy indexing can be combined with the other indexing schemes we've seen:\n",
    "\n",
    "\n",
    "\n",
    "\n",
    "\n",
    "\n",
    "\n",
    "\n",
    "\n",
    "\n",
    "\n"
   ]
  },
  {
   "cell_type": "markdown",
   "id": "5b435177",
   "metadata": {},
   "source": [
    "```\n",
    "X\n",
    "\n",
    "```\n",
    "\n",
    "\n",
    "\n",
    "\n",
    "\n",
    "\n",
    "\n",
    "\n",
    "\n",
    "\n",
    "\n",
    "\n",
    "\n"
   ]
  },
  {
   "cell_type": "markdown",
   "id": "e6456862",
   "metadata": {},
   "source": [
    "```\n",
    "array([[ 0,  1,  2,  3],\n",
    "       [ 4,  5,  6,  7],\n",
    "       [ 8,  9, 10, 11]])\n",
    "```\n",
    "\n",
    "\n",
    "\n",
    "\n",
    "\n",
    "\n",
    "\n",
    "\n",
    "\n",
    "\n",
    "\n"
   ]
  },
  {
   "cell_type": "markdown",
   "id": "c811111b",
   "metadata": {},
   "source": [
    "```\n",
    "X[2, [2, 0, 1]] # combine fancy and simple indices\n",
    "\n",
    "```\n",
    "\n",
    "\n",
    "\n",
    "\n",
    "\n",
    "\n",
    "\n",
    "\n",
    "\n",
    "\n",
    "\n",
    "\n",
    "\n",
    "\n",
    "\n",
    "\n",
    "\n",
    "\n",
    "\n",
    "\n",
    "\n",
    "\n",
    "\n",
    "\n",
    "\n",
    "\n",
    "\n",
    "\n",
    "\n",
    "\n",
    "\n",
    "\n",
    "\n",
    "\n",
    "\n"
   ]
  },
  {
   "cell_type": "markdown",
   "id": "cd77adff",
   "metadata": {},
   "source": [
    "```\n",
    "array([10,  8,  9])\n",
    "```\n",
    "\n",
    "\n",
    "\n",
    "\n",
    "\n",
    "\n",
    "\n",
    "\n",
    "\n",
    "\n",
    "\n"
   ]
  },
  {
   "cell_type": "markdown",
   "id": "2049f47c",
   "metadata": {},
   "source": [
    "```\n",
    "X[1:, [2, 0, 1]] # combine fancy indexing with slicing\n",
    "\n",
    "```\n",
    "\n",
    "\n",
    "\n",
    "\n",
    "\n",
    "\n",
    "\n",
    "\n",
    "\n",
    "\n",
    "\n",
    "\n",
    "\n",
    "\n",
    "\n",
    "\n",
    "\n",
    "\n",
    "\n",
    "\n",
    "\n",
    "\n",
    "\n",
    "\n",
    "\n",
    "\n",
    "\n",
    "\n",
    "\n",
    "\n",
    "\n",
    "\n",
    "\n",
    "\n",
    "\n"
   ]
  },
  {
   "cell_type": "markdown",
   "id": "8da1c3e0",
   "metadata": {},
   "source": [
    "```\n",
    "array([[ 6,  4,  5],\n",
    "       [10,  8,  9]])\n",
    "```\n",
    "\n",
    "\n",
    "\n",
    "\n",
    "\n",
    "\n",
    "\n",
    "\n",
    "\n",
    "\n",
    "\n"
   ]
  },
  {
   "cell_type": "markdown",
   "id": "30f2cd2e",
   "metadata": {},
   "source": [
    "```\n",
    "mask = np.array([1, 0, 1, 0], dtype=bool)\n",
    "X[row[:, np.newaxis], mask] # combine fancy indexing with masking\n",
    "\n",
    "```\n",
    "\n",
    "\n",
    "\n",
    "\n",
    "\n",
    "\n",
    "\n",
    "\n",
    "\n",
    "\n",
    "\n",
    "\n",
    "\n",
    "\n",
    "\n",
    "\n",
    "\n",
    "\n",
    "\n",
    "\n",
    "\n",
    "\n",
    "\n",
    "\n",
    "\n",
    "\n",
    "\n",
    "\n",
    "\n",
    "\n",
    "\n",
    "\n",
    "\n",
    "\n",
    "\n",
    "\n",
    "\n",
    "\n",
    "\n",
    "\n",
    "\n",
    "\n",
    "\n",
    "\n",
    "\n",
    "\n",
    "\n",
    "\n",
    "\n",
    "\n",
    "\n",
    "\n",
    "\n",
    "\n",
    "\n",
    "\n",
    "\n",
    "\n",
    "\n",
    "\n",
    "\n",
    "\n",
    "\n",
    "\n",
    "\n",
    "\n",
    "\n",
    "\n",
    "\n"
   ]
  },
  {
   "cell_type": "markdown",
   "id": "10e18fdd",
   "metadata": {},
   "source": [
    "```\n",
    "array([[ 0,  2],\n",
    "       [ 4,  6],\n",
    "       [ 8, 10]])\n",
    "```\n",
    "\n",
    "\n",
    "\n",
    "\n",
    "\n",
    "\n",
    "\n",
    "\n",
    "\n"
   ]
  },
  {
   "cell_type": "markdown",
   "id": "be2df495",
   "metadata": {},
   "source": [
    "## Example: Selecting Random Points¶\n",
    "\n"
   ]
  },
  {
   "cell_type": "markdown",
   "id": "37e93251",
   "metadata": {},
   "source": [
    "One common use of fancy indexing is the selection of subsets of rows from a matrix."
   ]
  },
  {
   "cell_type": "markdown",
   "id": "5d9f0f26",
   "metadata": {},
   "source": [
    "For example, we might have an $N$ by $D$ matrix representing $N$ points in $D$ dimensions, such as the following points drawn from a two-dimensional normal distribution:\n",
    "\n",
    "\n",
    "\n",
    "\n",
    "\n",
    "\n",
    "\n",
    "\n",
    "\n",
    "\n",
    "\n"
   ]
  },
  {
   "cell_type": "markdown",
   "id": "08613150",
   "metadata": {},
   "source": [
    "```\n",
    "mean = [0, 0]\n",
    "cov = [[1, 2],\n",
    "       [2, 5]]\n",
    "X = rand.multivariate_normal(mean, cov, 100)\n",
    "X.shape\n",
    "\n",
    "```\n",
    "\n",
    "\n",
    "\n",
    "\n",
    "\n",
    "\n",
    "\n",
    "\n",
    "\n",
    "\n",
    "\n",
    "\n",
    "\n",
    "\n",
    "\n",
    "\n",
    "\n",
    "\n",
    "\n",
    "\n",
    "\n",
    "\n",
    "\n",
    "\n",
    "\n",
    "\n",
    "\n",
    "\n",
    "\n",
    "\n",
    "\n",
    "\n",
    "\n",
    "\n",
    "\n",
    "\n",
    "\n",
    "\n",
    "\n",
    "\n",
    "\n",
    "\n",
    "\n",
    "\n",
    "\n",
    "\n",
    "\n",
    "\n",
    "\n",
    "\n",
    "\n",
    "\n",
    "\n",
    "\n",
    "\n",
    "\n",
    "\n",
    "\n",
    "\n",
    "\n",
    "\n",
    "\n",
    "\n",
    "\n",
    "\n",
    "\n",
    "\n",
    "\n",
    "\n",
    "\n",
    "\n",
    "\n",
    "\n",
    "\n",
    "\n",
    "\n",
    "\n",
    "\n",
    "\n"
   ]
  },
  {
   "cell_type": "markdown",
   "id": "46d7dd77",
   "metadata": {},
   "source": [
    "```\n",
    "(100, 2)\n",
    "```\n",
    "\n",
    "\n",
    "\n",
    "\n",
    "\n",
    "\n",
    "\n",
    "\n",
    "\n",
    "\n",
    "\n",
    "\n",
    "\n"
   ]
  },
  {
   "cell_type": "markdown",
   "id": "ac12e72b",
   "metadata": {},
   "source": [
    "```\n",
    "plt.scatter(X[:, 0], X[:, 1]);\n",
    "\n",
    "```\n",
    "\n",
    "\n",
    "\n",
    "\n",
    "\n",
    "\n",
    "\n",
    "\n",
    "\n",
    "\n",
    "\n",
    "\n",
    "\n",
    "\n",
    "\n",
    "\n",
    "\n",
    "\n",
    "\n",
    "\n",
    "\n",
    "\n",
    "\n",
    "\n",
    "\n",
    "\n",
    "\n",
    "\n",
    "\n",
    "\n",
    "\n",
    "\n",
    "\n",
    "\n",
    "\n"
   ]
  },
  {
   "cell_type": "markdown",
   "id": "ec8c8d07",
   "metadata": {},
   "source": [
    "Let's use fancy indexing to select 20 random points. We'll do this by first choosing 20 random indices with no repeats, and use these indices to select a portion of the original array:\n",
    "\n",
    "\n",
    "\n",
    "\n",
    "\n",
    "\n",
    "\n",
    "\n",
    "\n",
    "\n",
    "\n"
   ]
  },
  {
   "cell_type": "markdown",
   "id": "a9935282",
   "metadata": {},
   "source": [
    "```\n",
    "indices = np.random.choice(X.shape[0], 20, replace=False)\n",
    "indices\n",
    "\n",
    "```\n",
    "\n",
    "\n",
    "\n",
    "\n",
    "\n",
    "\n",
    "\n",
    "\n",
    "\n",
    "\n",
    "\n",
    "\n",
    "\n",
    "\n",
    "\n",
    "\n",
    "\n",
    "\n",
    "\n",
    "\n",
    "\n",
    "\n",
    "\n",
    "\n",
    "\n",
    "\n",
    "\n",
    "\n",
    "\n",
    "\n",
    "\n",
    "\n",
    "\n",
    "\n",
    "\n",
    "\n",
    "\n",
    "\n",
    "\n",
    "\n",
    "\n",
    "\n",
    "\n",
    "\n",
    "\n",
    "\n",
    "\n",
    "\n",
    "\n",
    "\n",
    "\n",
    "\n",
    "\n"
   ]
  },
  {
   "cell_type": "markdown",
   "id": "502cac76",
   "metadata": {},
   "source": [
    "```\n",
    "array([22, 56, 83, 30, 58, 32, 78, 14, 36, 33,  8, 98, 25,  6, 41, 84, 13,\n",
    "       92,  7, 34])\n",
    "```\n",
    "\n",
    "\n",
    "\n",
    "\n",
    "\n",
    "\n",
    "\n",
    "\n",
    "\n",
    "\n",
    "\n"
   ]
  },
  {
   "cell_type": "markdown",
   "id": "5c46c484",
   "metadata": {},
   "source": [
    "```\n",
    "selection = X[indices]  # fancy indexing here\n",
    "selection.shape\n",
    "\n",
    "```\n",
    "\n",
    "\n",
    "\n",
    "\n",
    "\n",
    "\n",
    "\n",
    "\n",
    "\n",
    "\n",
    "\n",
    "\n",
    "\n",
    "\n",
    "\n",
    "\n",
    "\n",
    "\n",
    "\n",
    "\n",
    "\n",
    "\n",
    "\n",
    "\n",
    "\n",
    "\n",
    "\n",
    "\n",
    "\n",
    "\n",
    "\n"
   ]
  },
  {
   "cell_type": "markdown",
   "id": "8859b884",
   "metadata": {},
   "source": [
    "```\n",
    "(20, 2)\n",
    "```\n",
    "\n",
    "\n",
    "\n",
    "\n",
    "\n",
    "\n",
    "\n",
    "\n",
    "\n"
   ]
  },
  {
   "cell_type": "markdown",
   "id": "09813112",
   "metadata": {},
   "source": [
    "Now to see which points were selected, let's over-plot large circles at the locations of the selected points:\n",
    "\n",
    "\n",
    "\n",
    "\n",
    "\n",
    "\n",
    "\n",
    "\n",
    "\n",
    "\n",
    "\n"
   ]
  },
  {
   "cell_type": "markdown",
   "id": "288877d9",
   "metadata": {},
   "source": [
    "```\n",
    "plt.scatter(X[:, 0], X[:, 1], alpha=0.3);\n",
    "\n",
    "```\n",
    "\n",
    "\n",
    "\n",
    "\n",
    "\n",
    "\n",
    "\n",
    "\n",
    "\n",
    "\n",
    "\n",
    "\n",
    "\n",
    "\n",
    "\n",
    "\n",
    "\n",
    "\n",
    "\n",
    "\n",
    "\n",
    "\n",
    "\n",
    "\n",
    "\n",
    "\n",
    "\n",
    "\n",
    "\n",
    "\n",
    "\n",
    "\n",
    "\n",
    "\n",
    "\n",
    "\n",
    "\n",
    "\n",
    "\n",
    "\n",
    "\n",
    "\n",
    "\n"
   ]
  },
  {
   "cell_type": "markdown",
   "id": "07c0909c",
   "metadata": {},
   "source": [
    "## Modifying Values with Fancy Indexing¶\n",
    "\n"
   ]
  },
  {
   "cell_type": "markdown",
   "id": "8ec4d787",
   "metadata": {},
   "source": [
    "Fancy indexing it can also be used to modify parts of an array:\n",
    "\n",
    "\n",
    "\n",
    "\n",
    "\n",
    "\n",
    "\n",
    "\n",
    "\n",
    "\n",
    "\n"
   ]
  },
  {
   "cell_type": "markdown",
   "id": "4132bdec",
   "metadata": {},
   "source": [
    "```\n",
    "x = np.arange(10)\n",
    "i = np.array([2, 1, 8, 4])\n",
    "x[i] = 99\n",
    "x\n",
    "\n",
    "```\n",
    "\n",
    "\n",
    "\n",
    "\n",
    "\n",
    "\n",
    "\n",
    "\n",
    "\n",
    "\n",
    "\n",
    "\n",
    "\n",
    "\n",
    "\n",
    "\n",
    "\n",
    "\n",
    "\n",
    "\n",
    "\n",
    "\n",
    "\n",
    "\n",
    "\n",
    "\n",
    "\n",
    "\n",
    "\n",
    "\n",
    "\n",
    "\n",
    "\n",
    "\n",
    "\n",
    "\n",
    "\n",
    "\n",
    "\n",
    "\n",
    "\n",
    "\n",
    "\n",
    "\n",
    "\n",
    "\n",
    "\n",
    "\n",
    "\n",
    "\n",
    "\n",
    "\n",
    "\n",
    "\n",
    "\n",
    "\n",
    "\n",
    "\n",
    "\n",
    "\n",
    "\n",
    "\n",
    "\n",
    "\n",
    "\n",
    "\n",
    "\n",
    "\n",
    "\n"
   ]
  },
  {
   "cell_type": "markdown",
   "id": "d32e6f42",
   "metadata": {},
   "source": [
    "```\n",
    "array([ 0, 99, 99,  3, 99,  5,  6,  7, 99,  9])\n",
    "```\n",
    "\n",
    "\n",
    "\n",
    "\n",
    "\n",
    "\n",
    "\n",
    "\n",
    "\n",
    "\n",
    "\n"
   ]
  },
  {
   "cell_type": "markdown",
   "id": "814d2974",
   "metadata": {},
   "source": [
    "```\n",
    "x[i] -= 10 # use any assignment-type operator for this\n",
    "x\n",
    "\n",
    "```\n",
    "\n",
    "\n",
    "\n",
    "\n",
    "\n",
    "\n",
    "\n",
    "\n",
    "\n",
    "\n",
    "\n",
    "\n",
    "\n",
    "\n",
    "\n",
    "\n",
    "\n",
    "\n",
    "\n",
    "\n",
    "\n",
    "\n",
    "\n",
    "\n",
    "\n",
    "\n",
    "\n"
   ]
  },
  {
   "cell_type": "markdown",
   "id": "4f718ee7",
   "metadata": {},
   "source": [
    "```\n",
    "array([ 0, 89, 89,  3, 89,  5,  6,  7, 89,  9])\n",
    "```\n",
    "\n",
    "\n",
    "\n",
    "\n",
    "\n",
    "\n",
    "\n",
    "\n",
    "\n"
   ]
  },
  {
   "cell_type": "markdown",
   "id": "234cd5be",
   "metadata": {},
   "source": [
    "Notice, though, that repeated indices with these operations can cause some potentially unexpected results:\n",
    "\n",
    "\n",
    "\n",
    "\n",
    "\n",
    "\n",
    "\n",
    "\n",
    "\n",
    "\n",
    "\n"
   ]
  },
  {
   "cell_type": "markdown",
   "id": "9b358429",
   "metadata": {},
   "source": [
    "```\n",
    "x = np.zeros(10)\n",
    "x[[0, 0]] = [4, 6]\n",
    "x\n",
    "\n",
    "```\n",
    "\n",
    "\n",
    "\n",
    "\n",
    "\n",
    "\n",
    "\n",
    "\n",
    "\n",
    "\n",
    "\n",
    "\n",
    "\n",
    "\n",
    "\n",
    "\n",
    "\n",
    "\n",
    "\n",
    "\n",
    "\n",
    "\n",
    "\n",
    "\n",
    "\n",
    "\n",
    "\n",
    "\n",
    "\n",
    "\n",
    "\n",
    "\n",
    "\n",
    "\n",
    "\n",
    "\n",
    "\n",
    "\n",
    "\n",
    "\n",
    "\n",
    "\n",
    "\n",
    "\n",
    "\n",
    "\n",
    "\n",
    "\n",
    "\n",
    "\n",
    "\n",
    "\n",
    "\n"
   ]
  },
  {
   "cell_type": "markdown",
   "id": "14c77fac",
   "metadata": {},
   "source": [
    "```\n",
    "array([6., 0., 0., 0., 0., 0., 0., 0., 0., 0.])\n",
    "```\n",
    "\n",
    "\n",
    "\n",
    "\n",
    "\n",
    "\n",
    "\n"
   ]
  },
  {
   "cell_type": "markdown",
   "id": "a373d824",
   "metadata": {},
   "source": [
    "Where did the 4 go? The result of this operation is to first assign x[0] = 4, followed by x[0] = 6.\n",
    "The result, of course, is that x[0] contains the value 6.\n",
    "\n",
    "\n",
    "\n",
    "\n",
    "\n",
    "\n",
    "\n",
    "\n",
    "\n",
    "\n",
    "\n",
    "\n",
    "\n",
    "\n",
    "\n",
    "\n",
    "\n",
    "\n",
    "\n"
   ]
  },
  {
   "cell_type": "markdown",
   "id": "dc3cb67c",
   "metadata": {},
   "source": [
    "```\n",
    "i = [2, 3, 3, 4, 4, 4]\n",
    "x[i] += 1\n",
    "x\n",
    "\n",
    "```\n",
    "\n",
    "\n",
    "\n",
    "\n",
    "\n",
    "\n",
    "\n",
    "\n",
    "\n",
    "\n",
    "\n",
    "\n",
    "\n",
    "\n",
    "\n",
    "\n",
    "\n",
    "\n",
    "\n",
    "\n",
    "\n",
    "\n",
    "\n",
    "\n",
    "\n",
    "\n",
    "\n",
    "\n",
    "\n",
    "\n",
    "\n",
    "\n",
    "\n",
    "\n",
    "\n",
    "\n",
    "\n",
    "\n",
    "\n",
    "\n",
    "\n",
    "\n",
    "\n",
    "\n",
    "\n",
    "\n",
    "\n",
    "\n",
    "\n",
    "\n",
    "\n",
    "\n",
    "\n",
    "\n",
    "\n"
   ]
  },
  {
   "cell_type": "markdown",
   "id": "30800f7b",
   "metadata": {},
   "source": [
    "```\n",
    "array([6., 0., 1., 1., 1., 0., 0., 0., 0., 0.])\n",
    "```\n",
    "\n",
    "\n",
    "\n",
    "\n",
    "\n",
    "\n",
    "\n"
   ]
  },
  {
   "cell_type": "markdown",
   "id": "e3a8dd74",
   "metadata": {},
   "source": [
    "You might expect that x[3] would contain the value 2, and x[4] would contain the value 3, as this is how many times each index is repeated. Why is this not the case?\n",
    "\n",
    "\n",
    "\n"
   ]
  },
  {
   "cell_type": "markdown",
   "id": "83ad4f67",
   "metadata": {},
   "source": [
    "Conceptually, this is because x[i] += 1 is meant as a shorthand of x[i] = x[i] + 1. x[i] + 1 is evaluated, and then the result is assigned to the indices in x.\n",
    "\n",
    "\n",
    "\n",
    "\n",
    "\n"
   ]
  },
  {
   "cell_type": "markdown",
   "id": "026cc54f",
   "metadata": {},
   "source": [
    "With this in mind, it is not the augmentation that happens multiple times, but the assignment, which leads to the rather nonintuitive results.\n",
    "\n",
    "\n",
    "\n",
    "\n",
    "\n",
    "\n",
    "\n",
    "\n",
    "\n",
    "\n",
    "\n",
    "\n",
    "\n"
   ]
  },
  {
   "cell_type": "markdown",
   "id": "bcd3cd58",
   "metadata": {},
   "source": [
    "```\n",
    "x = np.zeros(10)\n",
    "np.add.at(x, i, 1)\n",
    "x\n",
    "\n",
    "```\n",
    "\n",
    "\n",
    "\n",
    "\n",
    "\n",
    "\n",
    "\n",
    "\n",
    "\n",
    "\n",
    "\n",
    "\n",
    "\n",
    "\n",
    "\n",
    "\n",
    "\n",
    "\n",
    "\n",
    "\n",
    "\n",
    "\n",
    "\n",
    "\n",
    "\n",
    "\n",
    "\n",
    "\n",
    "\n",
    "\n",
    "\n",
    "\n",
    "\n",
    "\n",
    "\n",
    "\n",
    "\n",
    "\n",
    "\n",
    "\n",
    "\n",
    "\n",
    "\n",
    "\n",
    "\n",
    "\n",
    "\n",
    "\n",
    "\n",
    "\n",
    "\n",
    "\n",
    "\n"
   ]
  },
  {
   "cell_type": "markdown",
   "id": "e6b58240",
   "metadata": {},
   "source": [
    "```\n",
    "array([0., 0., 1., 2., 3., 0., 0., 0., 0., 0.])\n",
    "```\n",
    "\n",
    "\n",
    "\n",
    "\n",
    "\n",
    "\n",
    "\n"
   ]
  },
  {
   "cell_type": "markdown",
   "id": "34a3625f",
   "metadata": {},
   "source": [
    "The at() method does an in-place application of the given operator at the specified indices (here, i) with the specified value (here, 1).\n",
    "Another method that is similar in spirit is the reduceat() method of ufuncs, which you can read about in the NumPy documentation.\n",
    "\n",
    "\n",
    "\n",
    "\n",
    "\n",
    "\n",
    "\n",
    "\n",
    "\n",
    "\n",
    "\n",
    "\n",
    "\n",
    "\n",
    "\n"
   ]
  },
  {
   "cell_type": "markdown",
   "id": "0252dc6a",
   "metadata": {},
   "source": [
    "## Example: Binning Data¶\n",
    "\n"
   ]
  },
  {
   "cell_type": "markdown",
   "id": "5fa60455",
   "metadata": {},
   "source": [
    "You can use these ideas to efficiently bin data to create a histogram by hand.\n",
    "For example, imagine we have 1,000 values and would like to quickly find where they fall within an array of bins.\n",
    "We could compute it using ufunc.at like this:\n",
    "\n",
    "\n",
    "\n",
    "\n",
    "\n",
    "\n",
    "\n",
    "\n",
    "\n",
    "\n",
    "\n",
    "\n",
    "\n"
   ]
  },
  {
   "cell_type": "markdown",
   "id": "41822cda",
   "metadata": {},
   "source": [
    "```\n",
    "np.random.seed(42)\n",
    "x = np.random.randn(100)\n",
    "\n",
    "# compute a histogram by hand\n",
    "bins = np.linspace(-5, 5, 20)\n",
    "counts = np.zeros_like(bins)\n",
    "\n",
    "# find the appropriate bin for each x\n",
    "i = np.searchsorted(bins, x)\n",
    "\n",
    "# add 1 to each of these bins\n",
    "np.add.at(counts, i, 1)\n",
    "\n",
    "```\n",
    "\n",
    "\n",
    "\n",
    "\n",
    "\n",
    "\n",
    "\n",
    "\n",
    "\n",
    "\n",
    "\n",
    "\n",
    "\n",
    "\n",
    "\n",
    "\n",
    "\n",
    "\n",
    "\n",
    "\n",
    "\n",
    "\n",
    "\n",
    "\n",
    "\n",
    "\n",
    "\n",
    "\n",
    "\n",
    "\n",
    "\n",
    "\n",
    "\n",
    "\n",
    "\n",
    "\n",
    "\n",
    "\n",
    "\n",
    "\n",
    "\n",
    "\n",
    "\n",
    "\n",
    "\n",
    "\n",
    "\n",
    "\n",
    "\n",
    "\n",
    "\n",
    "\n",
    "\n",
    "\n",
    "\n",
    "\n",
    "\n",
    "\n",
    "\n",
    "\n",
    "\n",
    "\n",
    "\n",
    "\n",
    "\n",
    "\n",
    "\n",
    "\n",
    "\n",
    "\n",
    "\n",
    "\n",
    "\n",
    "\n",
    "\n",
    "\n",
    "\n",
    "\n",
    "\n",
    "\n",
    "\n",
    "\n",
    "\n",
    "\n",
    "\n",
    "\n",
    "\n",
    "\n",
    "\n",
    "\n",
    "\n",
    "\n",
    "\n",
    "\n",
    "\n",
    "\n",
    "\n",
    "\n",
    "\n",
    "\n",
    "\n",
    "\n",
    "\n",
    "\n",
    "\n",
    "\n",
    "\n",
    "\n",
    "\n",
    "\n",
    "\n",
    "\n",
    "\n",
    "\n",
    "\n",
    "\n",
    "\n",
    "\n",
    "\n",
    "\n",
    "\n",
    "\n",
    "\n",
    "\n",
    "\n",
    "\n",
    "\n",
    "\n",
    "\n",
    "\n",
    "\n",
    "\n",
    "\n",
    "\n",
    "\n",
    "\n",
    "\n",
    "\n",
    "\n",
    "\n",
    "\n",
    "\n",
    "\n"
   ]
  },
  {
   "cell_type": "markdown",
   "id": "5884964e",
   "metadata": {},
   "source": [
    "```\n",
    "# The counts now reflect the number of points \n",
    "# within each bin–in other words, a histogram:\n",
    "line, = plt.plot(bins, counts);\n",
    "line.set_drawstyle(\"steps\") \n",
    "\n",
    "```\n",
    "\n",
    "\n",
    "\n",
    "\n",
    "\n",
    "\n",
    "\n",
    "\n",
    "\n",
    "\n",
    "\n",
    "\n",
    "\n",
    "\n",
    "\n",
    "\n",
    "\n",
    "\n",
    "\n",
    "\n",
    "\n",
    "\n",
    "\n",
    "\n",
    "\n",
    "\n",
    "\n",
    "\n",
    "\n",
    "\n",
    "\n",
    "\n",
    "\n",
    "\n",
    "\n",
    "\n",
    "\n",
    "\n",
    "\n",
    "\n",
    "\n",
    "\n",
    "\n",
    "\n",
    "\n",
    "\n",
    "\n",
    "\n",
    "\n"
   ]
  },
  {
   "cell_type": "markdown",
   "id": "32f9b970",
   "metadata": {},
   "source": [
    "```\n",
    "print(\"NumPy routine:\")\n",
    "%timeit counts, edges = np.histogram(x, bins)\n",
    "\n",
    "print(\"Custom routine:\")\n",
    "%timeit np.add.at(counts, np.searchsorted(bins, x), 1)\n",
    "\n",
    "```\n",
    "\n",
    "\n",
    "\n",
    "\n",
    "\n",
    "\n",
    "\n",
    "\n",
    "\n",
    "\n",
    "\n",
    "\n",
    "\n",
    "\n",
    "\n",
    "\n",
    "\n",
    "\n",
    "\n",
    "\n",
    "\n",
    "\n",
    "\n",
    "\n",
    "\n",
    "\n",
    "\n",
    "\n",
    "\n",
    "\n",
    "\n",
    "\n",
    "\n",
    "\n",
    "\n"
   ]
  },
  {
   "cell_type": "markdown",
   "id": "656cec40",
   "metadata": {},
   "source": [
    "```\n",
    "NumPy routine:\n",
    "35.1 µs ± 209 ns per loop (mean ± std. dev. of 7 runs, 10000 loops each)\n",
    "Custom routine:\n",
    "18.5 µs ± 405 ns per loop (mean ± std. dev. of 7 runs, 100000 loops each)\n",
    "\n",
    "```\n",
    "\n",
    "\n",
    "\n",
    "\n",
    "\n",
    "\n",
    "\n"
   ]
  },
  {
   "cell_type": "markdown",
   "id": "967b646c",
   "metadata": {},
   "source": [
    "Our own one-line algorithm is several times faster than the optimized algorithm in NumPy! How can this be?\n",
    "If you dig into the np.histogram source code (you can do this in IPython by typing np.histogram??), you'll see that it's quite a bit more involved than the simple search-and-count that we've done; this is because NumPy's algorithm is more flexible, and particularly is designed for better performance when the number of data points becomes large...\n",
    "\n",
    "\n",
    "\n",
    "\n",
    "\n",
    "\n",
    "\n",
    "\n",
    "\n",
    "\n",
    "\n",
    "\n",
    "\n",
    "\n",
    "\n",
    "\n",
    "\n"
   ]
  },
  {
   "cell_type": "markdown",
   "id": "91af0ffa",
   "metadata": {},
   "source": [
    "```\n",
    "x = np.random.randn(1000000)\n",
    "print(\"NumPy routine:\")\n",
    "%timeit counts, edges = np.histogram(x, bins)\n",
    "\n",
    "print(\"Custom routine:\")\n",
    "%timeit np.add.at(counts, np.searchsorted(bins, x), 1)\n",
    "\n",
    "```\n",
    "\n",
    "\n",
    "\n",
    "\n",
    "\n",
    "\n",
    "\n",
    "\n",
    "\n",
    "\n",
    "\n",
    "\n",
    "\n",
    "\n",
    "\n",
    "\n",
    "\n",
    "\n",
    "\n",
    "\n",
    "\n",
    "\n",
    "\n",
    "\n",
    "\n",
    "\n",
    "\n",
    "\n",
    "\n",
    "\n",
    "\n",
    "\n",
    "\n",
    "\n",
    "\n",
    "\n",
    "\n",
    "\n",
    "\n",
    "\n",
    "\n",
    "\n",
    "\n",
    "\n",
    "\n",
    "\n",
    "\n",
    "\n",
    "\n",
    "\n",
    "\n",
    "\n",
    "\n",
    "\n",
    "\n"
   ]
  },
  {
   "cell_type": "markdown",
   "id": "97758249",
   "metadata": {},
   "source": [
    "```\n",
    "NumPy routine:\n",
    "95.9 ms ± 1.17 ms per loop (mean ± std. dev. of 7 runs, 10 loops each)\n",
    "Custom routine:\n",
    "142 ms ± 115 µs per loop (mean ± std. dev. of 7 runs, 10 loops each)\n",
    "\n",
    "```\n",
    "\n",
    "\n",
    "\n",
    "\n",
    "\n",
    "\n",
    "\n"
   ]
  },
  {
   "cell_type": "markdown",
   "id": "c94c7722",
   "metadata": {},
   "source": [
    "What this comparison shows is that algorithmic efficiency is almost never a simple question. An algorithm efficient for large datasets will not always be the best choice for small datasets, and vice versa."
   ]
  },
  {
   "cell_type": "markdown",
   "id": "df0463e5",
   "metadata": {},
   "source": [
    "The key to efficiently using Python in data-intensive applications is knowing about general convenience routines like np.histogram and when they're appropriate, but also knowing how to make use of lower-level functionality when you need more pointed behavior.\n",
    "\n",
    "\n",
    "\n",
    "\n",
    "\n",
    "\n",
    "\n",
    "\n",
    "\n",
    "\n",
    "\n",
    "\n",
    "\n"
   ]
  },
  {
   "cell_type": "markdown",
   "id": "045981f4",
   "metadata": {},
   "source": [
    "# Sorting Arrays¶\n",
    "\n"
   ]
  },
  {
   "cell_type": "markdown",
   "id": "db2c8231",
   "metadata": {},
   "source": [
    "Up to this point we have been concerned mainly with tools to access and operate on array data with NumPy.\n",
    "This section covers algorithms related to sorting values in NumPy arrays.\n",
    "\n",
    "\n",
    "\n",
    "\n",
    "\n",
    "\n",
    "\n",
    "\n",
    "\n"
   ]
  },
  {
   "cell_type": "markdown",
   "id": "752553f7",
   "metadata": {},
   "source": [
    "## Fast Sorting in NumPy: np.sort and np.argsort¶\n",
    "\n",
    "\n",
    "\n",
    "\n",
    "\n"
   ]
  },
  {
   "cell_type": "markdown",
   "id": "70d7dd86",
   "metadata": {},
   "source": [
    "Although Python has built-in sort and sorted functions to work with lists, NumPy's np.sort function turns out to be much more efficient and useful.\n",
    "\n",
    "\n",
    "\n",
    "\n",
    "\n"
   ]
  },
  {
   "cell_type": "markdown",
   "id": "09aa0fc1",
   "metadata": {},
   "source": [
    "To return a sorted version of the array without modifying the input, you can use np.sort:\n",
    "\n",
    "\n",
    "\n",
    "\n",
    "\n",
    "\n",
    "\n",
    "\n",
    "\n",
    "\n",
    "\n",
    "\n",
    "\n",
    "\n",
    "\n"
   ]
  },
  {
   "cell_type": "markdown",
   "id": "604a2d1a",
   "metadata": {},
   "source": [
    "```\n",
    "x = np.array([2, 1, 4, 3, 5])\n",
    "np.sort(x)\n",
    "\n",
    "```\n",
    "\n",
    "\n",
    "\n",
    "\n",
    "\n",
    "\n",
    "\n",
    "\n",
    "\n",
    "\n",
    "\n",
    "\n",
    "\n",
    "\n",
    "\n",
    "\n",
    "\n",
    "\n",
    "\n",
    "\n",
    "\n",
    "\n",
    "\n",
    "\n",
    "\n",
    "\n",
    "\n",
    "\n",
    "\n",
    "\n",
    "\n",
    "\n",
    "\n",
    "\n",
    "\n",
    "\n",
    "\n",
    "\n",
    "\n",
    "\n",
    "\n",
    "\n",
    "\n",
    "\n",
    "\n",
    "\n",
    "\n",
    "\n",
    "\n",
    "\n",
    "\n",
    "\n",
    "\n",
    "\n",
    "\n"
   ]
  },
  {
   "cell_type": "markdown",
   "id": "c2612d33",
   "metadata": {},
   "source": [
    "```\n",
    "array([1, 2, 3, 4, 5])\n",
    "```\n",
    "\n",
    "\n",
    "\n",
    "\n",
    "\n",
    "\n",
    "\n",
    "\n",
    "\n",
    "\n",
    "\n"
   ]
  },
  {
   "cell_type": "markdown",
   "id": "15c3d195",
   "metadata": {},
   "source": [
    "```\n",
    "x\n",
    "\n",
    "```\n",
    "\n",
    "\n",
    "\n",
    "\n",
    "\n",
    "\n",
    "\n",
    "\n",
    "\n",
    "\n",
    "\n",
    "\n",
    "\n"
   ]
  },
  {
   "cell_type": "markdown",
   "id": "d325cbcd",
   "metadata": {},
   "source": [
    "```\n",
    "array([2, 1, 4, 3, 5])\n",
    "```\n",
    "\n",
    "\n",
    "\n",
    "\n",
    "\n",
    "\n",
    "\n",
    "\n",
    "\n"
   ]
  },
  {
   "cell_type": "markdown",
   "id": "dc365a45",
   "metadata": {},
   "source": [
    "A related function is argsort, which instead returns the indices of the sorted elements:\n",
    "\n",
    "\n",
    "\n",
    "\n",
    "\n",
    "\n",
    "\n",
    "\n",
    "\n",
    "\n",
    "\n",
    "\n",
    "\n",
    "\n",
    "\n"
   ]
  },
  {
   "cell_type": "markdown",
   "id": "c4d26f74",
   "metadata": {},
   "source": [
    "```\n",
    "i = np.argsort(x)\n",
    "i\n",
    "\n",
    "```\n",
    "\n",
    "\n",
    "\n",
    "\n",
    "\n",
    "\n",
    "\n",
    "\n",
    "\n",
    "\n",
    "\n",
    "\n",
    "\n",
    "\n",
    "\n",
    "\n",
    "\n",
    "\n",
    "\n",
    "\n",
    "\n",
    "\n",
    "\n",
    "\n",
    "\n",
    "\n",
    "\n",
    "\n",
    "\n"
   ]
  },
  {
   "cell_type": "markdown",
   "id": "0217c45e",
   "metadata": {},
   "source": [
    "```\n",
    "array([1, 0, 3, 2, 4])\n",
    "```\n",
    "\n",
    "\n",
    "\n",
    "\n",
    "\n",
    "\n",
    "\n"
   ]
  },
  {
   "cell_type": "markdown",
   "id": "2e80d4e4",
   "metadata": {},
   "source": [
    "The first element of this result gives the index of the smallest element, the second value gives the index of the second smallest, and so on."
   ]
  },
  {
   "cell_type": "markdown",
   "id": "1721b3df",
   "metadata": {},
   "source": [
    "These indices can then be used (via fancy indexing) to construct the sorted array if desired:\n",
    "\n",
    "\n",
    "\n",
    "\n",
    "\n",
    "\n",
    "\n",
    "\n",
    "\n",
    "\n",
    "\n"
   ]
  },
  {
   "cell_type": "markdown",
   "id": "eaf15ce4",
   "metadata": {},
   "source": [
    "```\n",
    "x[i]\n",
    "\n",
    "```\n",
    "\n",
    "\n",
    "\n",
    "\n",
    "\n",
    "\n",
    "\n",
    "\n",
    "\n",
    "\n",
    "\n",
    "\n",
    "\n",
    "\n",
    "\n",
    "\n",
    "\n",
    "\n",
    "\n"
   ]
  },
  {
   "cell_type": "markdown",
   "id": "e4a644c6",
   "metadata": {},
   "source": [
    "```\n",
    "array([1, 2, 3, 4, 5])\n",
    "```\n",
    "\n",
    "\n",
    "\n",
    "\n",
    "\n",
    "\n",
    "\n",
    "\n",
    "\n"
   ]
  },
  {
   "cell_type": "markdown",
   "id": "523e1ed5",
   "metadata": {},
   "source": [
    "### Sorting along rows or columns¶\n",
    "\n",
    "\n",
    "\n",
    "\n",
    "\n",
    "\n",
    "\n",
    "\n",
    "\n",
    "\n",
    "\n",
    "\n",
    "\n"
   ]
  },
  {
   "cell_type": "markdown",
   "id": "74bdbb12",
   "metadata": {},
   "source": [
    "```\n",
    "rand = np.random.RandomState(42)\n",
    "X = rand.randint(0, 10, (4, 6))\n",
    "X\n",
    "\n",
    "```\n",
    "\n",
    "\n",
    "\n",
    "\n",
    "\n",
    "\n",
    "\n",
    "\n",
    "\n",
    "\n",
    "\n",
    "\n",
    "\n",
    "\n",
    "\n",
    "\n",
    "\n",
    "\n",
    "\n",
    "\n",
    "\n",
    "\n",
    "\n",
    "\n",
    "\n",
    "\n",
    "\n",
    "\n",
    "\n",
    "\n",
    "\n",
    "\n",
    "\n",
    "\n",
    "\n",
    "\n",
    "\n",
    "\n",
    "\n",
    "\n",
    "\n",
    "\n",
    "\n",
    "\n",
    "\n",
    "\n",
    "\n",
    "\n",
    "\n",
    "\n",
    "\n",
    "\n",
    "\n",
    "\n",
    "\n",
    "\n",
    "\n",
    "\n",
    "\n",
    "\n",
    "\n",
    "\n",
    "\n"
   ]
  },
  {
   "cell_type": "markdown",
   "id": "9c9de223",
   "metadata": {},
   "source": [
    "```\n",
    "array([[6, 3, 7, 4, 6, 9],\n",
    "       [2, 6, 7, 4, 3, 7],\n",
    "       [7, 2, 5, 4, 1, 7],\n",
    "       [5, 1, 4, 0, 9, 5]])\n",
    "```\n",
    "\n",
    "\n",
    "\n",
    "\n",
    "\n",
    "\n",
    "\n",
    "\n",
    "\n",
    "\n",
    "\n",
    "\n",
    "\n"
   ]
  },
  {
   "cell_type": "markdown",
   "id": "e2e8cdc5",
   "metadata": {},
   "source": [
    "```\n",
    "np.sort(X, axis=0) # sort each column of X\n",
    "\n",
    "```\n",
    "\n",
    "\n",
    "\n",
    "\n",
    "\n",
    "\n",
    "\n",
    "\n",
    "\n",
    "\n",
    "\n",
    "\n",
    "\n",
    "\n",
    "\n",
    "\n",
    "\n",
    "\n",
    "\n",
    "\n",
    "\n",
    "\n",
    "\n",
    "\n",
    "\n",
    "\n",
    "\n",
    "\n",
    "\n",
    "\n",
    "\n",
    "\n",
    "\n"
   ]
  },
  {
   "cell_type": "markdown",
   "id": "77815c48",
   "metadata": {},
   "source": [
    "```\n",
    "array([[2, 1, 4, 0, 1, 5],\n",
    "       [5, 2, 5, 4, 3, 7],\n",
    "       [6, 3, 7, 4, 6, 7],\n",
    "       [7, 6, 7, 4, 9, 9]])\n",
    "```\n",
    "\n",
    "\n",
    "\n",
    "\n",
    "\n",
    "\n",
    "\n",
    "\n",
    "\n",
    "\n",
    "\n"
   ]
  },
  {
   "cell_type": "markdown",
   "id": "3203e1a1",
   "metadata": {},
   "source": [
    "```\n",
    "np.sort(X, axis=1) # sort each row of X\n",
    "\n",
    "```\n",
    "\n",
    "\n",
    "\n",
    "\n",
    "\n",
    "\n",
    "\n",
    "\n",
    "\n",
    "\n",
    "\n",
    "\n",
    "\n",
    "\n",
    "\n",
    "\n",
    "\n",
    "\n",
    "\n",
    "\n",
    "\n",
    "\n",
    "\n",
    "\n",
    "\n",
    "\n",
    "\n",
    "\n",
    "\n",
    "\n",
    "\n",
    "\n",
    "\n"
   ]
  },
  {
   "cell_type": "markdown",
   "id": "04f2457d",
   "metadata": {},
   "source": [
    "```\n",
    "array([[3, 4, 6, 6, 7, 9],\n",
    "       [2, 3, 4, 6, 7, 7],\n",
    "       [1, 2, 4, 5, 7, 7],\n",
    "       [0, 1, 4, 5, 5, 9]])\n",
    "```\n",
    "\n",
    "\n",
    "\n",
    "\n",
    "\n",
    "\n",
    "\n"
   ]
  },
  {
   "cell_type": "markdown",
   "id": "53ade5ba",
   "metadata": {},
   "source": [
    "Keep in mind that this treats each row or column as an independent array, and any relationships between the row or column values will be lost!\n",
    "\n",
    "\n",
    "\n",
    "\n",
    "\n",
    "\n",
    "\n",
    "\n",
    "\n"
   ]
  },
  {
   "cell_type": "markdown",
   "id": "0b5f0d22",
   "metadata": {},
   "source": [
    "## Partial Sorts: Partitioning¶\n",
    "\n"
   ]
  },
  {
   "cell_type": "markdown",
   "id": "313f1cfb",
   "metadata": {},
   "source": [
    "Sometimes we're not interested in sorting the entire array, but simply want to find the k smallest values in the array. np.partition takes an array and a number K; the result is a new array with the smallest K values to the left of the partition, and the remaining values to the right, in arbitrary order:\n",
    "\n",
    "\n",
    "\n",
    "\n",
    "\n",
    "\n",
    "\n",
    "\n",
    "\n",
    "\n",
    "\n",
    "\n",
    "\n",
    "\n",
    "\n",
    "\n",
    "\n",
    "\n",
    "\n"
   ]
  },
  {
   "cell_type": "markdown",
   "id": "b2bf45a7",
   "metadata": {},
   "source": [
    "```\n",
    "x = np.array([7, 2, 3, 1, 6, 5, 4])\n",
    "np.partition(x, 3)\n",
    "\n",
    "```\n",
    "\n",
    "\n",
    "\n",
    "\n",
    "\n",
    "\n",
    "\n",
    "\n",
    "\n",
    "\n",
    "\n",
    "\n",
    "\n",
    "\n",
    "\n",
    "\n",
    "\n",
    "\n",
    "\n",
    "\n",
    "\n",
    "\n",
    "\n",
    "\n",
    "\n",
    "\n",
    "\n",
    "\n",
    "\n",
    "\n",
    "\n",
    "\n",
    "\n",
    "\n",
    "\n",
    "\n",
    "\n",
    "\n",
    "\n",
    "\n",
    "\n",
    "\n",
    "\n",
    "\n",
    "\n",
    "\n",
    "\n",
    "\n",
    "\n",
    "\n",
    "\n",
    "\n",
    "\n",
    "\n",
    "\n",
    "\n",
    "\n",
    "\n",
    "\n",
    "\n",
    "\n",
    "\n",
    "\n",
    "\n",
    "\n",
    "\n",
    "\n"
   ]
  },
  {
   "cell_type": "markdown",
   "id": "4a7c898f",
   "metadata": {},
   "source": [
    "```\n",
    "array([2, 1, 3, 4, 6, 5, 7])\n",
    "```\n",
    "\n",
    "\n",
    "\n",
    "\n",
    "\n",
    "\n",
    "\n"
   ]
  },
  {
   "cell_type": "markdown",
   "id": "08a2c1fb",
   "metadata": {},
   "source": [
    "Note that the first three values in the resulting array are the three smallest in the array, and the remaining array positions contain the remaining values."
   ]
  },
  {
   "cell_type": "markdown",
   "id": "f87ca9d9",
   "metadata": {},
   "source": [
    "Within the two partitions, the elements have arbitrary order.\n",
    "\n",
    "\n",
    "\n",
    "\n",
    "\n",
    "\n",
    "\n",
    "\n",
    "\n",
    "\n",
    "\n"
   ]
  },
  {
   "cell_type": "markdown",
   "id": "80a2be39",
   "metadata": {},
   "source": [
    "Similarly to sorting, we can partition along an arbitrary axis of a multidimensional array:\n",
    "\n",
    "\n",
    "\n",
    "\n",
    "\n",
    "\n",
    "\n",
    "\n",
    "\n",
    "\n",
    "\n"
   ]
  },
  {
   "cell_type": "markdown",
   "id": "22556cd4",
   "metadata": {},
   "source": [
    "```\n",
    "np.partition(X, 2, axis=1)\n",
    "\n",
    "```\n",
    "\n",
    "\n",
    "\n",
    "\n",
    "\n",
    "\n",
    "\n",
    "\n",
    "\n",
    "\n",
    "\n",
    "\n",
    "\n",
    "\n",
    "\n",
    "\n",
    "\n",
    "\n",
    "\n",
    "\n",
    "\n",
    "\n",
    "\n",
    "\n",
    "\n",
    "\n",
    "\n",
    "\n",
    "\n",
    "\n",
    "\n",
    "\n",
    "\n",
    "\n",
    "\n"
   ]
  },
  {
   "cell_type": "markdown",
   "id": "0061e06b",
   "metadata": {},
   "source": [
    "```\n",
    "array([[3, 4, 6, 7, 6, 9],\n",
    "       [2, 3, 4, 7, 6, 7],\n",
    "       [1, 2, 4, 5, 7, 7],\n",
    "       [0, 1, 4, 5, 9, 5]])\n",
    "```\n",
    "\n",
    "\n",
    "\n",
    "\n",
    "\n",
    "\n",
    "\n"
   ]
  },
  {
   "cell_type": "markdown",
   "id": "be137607",
   "metadata": {},
   "source": [
    "The result is an array where the first two slots in each row contain the smallest values from that row, with the remaining values filling the remaining slots."
   ]
  },
  {
   "cell_type": "markdown",
   "id": "b9f34015",
   "metadata": {},
   "source": [
    "Finally, just as there is a np.argsort that computes indices of the sort, there is a np.argpartition that computes indices of the partition.\n",
    "\n",
    "\n",
    "\n",
    "\n",
    "\n",
    "\n",
    "\n",
    "\n",
    "\n",
    "\n",
    "\n",
    "\n",
    "\n"
   ]
  },
  {
   "cell_type": "markdown",
   "id": "a39ecbcc",
   "metadata": {},
   "source": [
    "## Example: k-Nearest Neighbors¶\n",
    "\n"
   ]
  },
  {
   "cell_type": "markdown",
   "id": "9a30a8a7",
   "metadata": {},
   "source": [
    "Let's quickly see how we might use this argsort function along multiple axes to find the nearest neighbors of each point in a set.\n",
    "\n"
   ]
  },
  {
   "cell_type": "markdown",
   "id": "0570bff8",
   "metadata": {},
   "source": [
    "We'll start by creating a random set of 10 points on a two-dimensional plane:\n",
    "\n",
    "\n",
    "\n",
    "\n",
    "\n",
    "\n",
    "\n",
    "\n",
    "\n",
    "\n",
    "\n"
   ]
  },
  {
   "cell_type": "markdown",
   "id": "921463cd",
   "metadata": {},
   "source": [
    "```\n",
    "X = rand.rand(50, 2)\n",
    "\n",
    "```\n",
    "\n",
    "\n",
    "\n",
    "\n",
    "\n",
    "\n",
    "\n",
    "\n",
    "\n",
    "\n",
    "\n",
    "\n",
    "\n",
    "\n",
    "\n",
    "\n",
    "\n",
    "\n",
    "\n",
    "\n",
    "\n",
    "\n",
    "\n",
    "\n",
    "\n",
    "\n",
    "\n",
    "\n",
    "\n",
    "\n",
    "\n",
    "\n",
    "\n"
   ]
  },
  {
   "cell_type": "markdown",
   "id": "26461496",
   "metadata": {},
   "source": [
    "```\n",
    "plt.scatter(X[:, 0], X[:, 1], s=100);\n",
    "\n",
    "```\n",
    "\n",
    "\n",
    "\n",
    "\n",
    "\n",
    "\n",
    "\n",
    "\n",
    "\n",
    "\n",
    "\n",
    "\n",
    "\n",
    "\n",
    "\n",
    "\n",
    "\n",
    "\n",
    "\n",
    "\n",
    "\n",
    "\n",
    "\n",
    "\n",
    "\n",
    "\n",
    "\n",
    "\n",
    "\n",
    "\n",
    "\n",
    "\n",
    "\n",
    "\n",
    "\n",
    "\n",
    "\n",
    "\n",
    "\n",
    "\n",
    "\n",
    "\n",
    "\n"
   ]
  },
  {
   "cell_type": "markdown",
   "id": "cf423f79",
   "metadata": {},
   "source": [
    "![](data:image/png;base64,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\n",
    ")\n",
    "\n",
    "\n",
    "\n",
    "\n",
    "\n",
    "\n",
    "\n",
    "\n",
    "\n",
    "\n",
    "\n",
    "\n",
    "\n"
   ]
  },
  {
   "cell_type": "markdown",
   "id": "f80c9a56",
   "metadata": {},
   "source": [
    "```\n",
    "# compute the distance between each pair of points\n",
    "dist_sq = np.sum((X[:, np.newaxis, :] - X[np.newaxis, :, :]) ** 2, axis=-1)\n",
    "dist_sq.shape, np.all(dist_sq.diagonal() == 0)\n",
    "\n",
    "```\n",
    "\n",
    "\n",
    "\n",
    "\n",
    "\n",
    "\n",
    "\n",
    "\n",
    "\n",
    "\n",
    "\n",
    "\n",
    "\n",
    "\n",
    "\n",
    "\n",
    "\n",
    "\n",
    "\n",
    "\n",
    "\n",
    "\n",
    "\n",
    "\n",
    "\n",
    "\n",
    "\n",
    "\n",
    "\n",
    "\n",
    "\n",
    "\n",
    "\n",
    "\n",
    "\n",
    "\n",
    "\n",
    "\n",
    "\n",
    "\n",
    "\n",
    "\n",
    "\n",
    "\n",
    "\n",
    "\n",
    "\n",
    "\n",
    "\n",
    "\n",
    "\n",
    "\n",
    "\n",
    "\n",
    "\n",
    "\n",
    "\n",
    "\n",
    "\n",
    "\n",
    "\n",
    "\n",
    "\n",
    "\n",
    "\n",
    "\n",
    "\n",
    "\n",
    "\n",
    "\n",
    "\n",
    "\n",
    "\n",
    "\n",
    "\n",
    "\n",
    "\n",
    "\n",
    "\n",
    "\n",
    "\n",
    "\n",
    "\n",
    "\n",
    "\n",
    "\n",
    "\n",
    "\n",
    "\n",
    "\n",
    "\n",
    "\n",
    "\n",
    "\n",
    "\n",
    "\n",
    "\n",
    "\n",
    "\n",
    "\n",
    "\n"
   ]
  },
  {
   "cell_type": "markdown",
   "id": "60dcb71e",
   "metadata": {},
   "source": [
    "```\n",
    "((50, 50), True)\n",
    "```\n",
    "\n",
    "\n",
    "\n",
    "\n",
    "\n",
    "\n",
    "\n"
   ]
  },
  {
   "cell_type": "markdown",
   "id": "6c84b59e",
   "metadata": {},
   "source": [
    "With the pairwise square-distances converted, we can now use np.argsort to sort along each row.\n",
    "\n"
   ]
  },
  {
   "cell_type": "markdown",
   "id": "c4ae5785",
   "metadata": {},
   "source": [
    "The leftmost columns will then give the indices of the nearest neighbors:\n",
    "\n",
    "\n",
    "\n",
    "\n",
    "\n",
    "\n",
    "\n",
    "\n",
    "\n",
    "\n",
    "\n"
   ]
  },
  {
   "cell_type": "markdown",
   "id": "310f38d5",
   "metadata": {},
   "source": [
    "```\n",
    "nearest = np.argsort(dist_sq, axis=1)\n",
    "nearest[:,0]\n",
    "\n",
    "```\n",
    "\n",
    "\n",
    "\n",
    "\n",
    "\n",
    "\n",
    "\n",
    "\n",
    "\n",
    "\n",
    "\n",
    "\n",
    "\n",
    "\n",
    "\n",
    "\n",
    "\n",
    "\n",
    "\n",
    "\n",
    "\n",
    "\n",
    "\n",
    "\n",
    "\n",
    "\n",
    "\n",
    "\n",
    "\n",
    "\n",
    "\n",
    "\n",
    "\n",
    "\n",
    "\n",
    "\n",
    "\n",
    "\n",
    "\n",
    "\n",
    "\n",
    "\n",
    "\n"
   ]
  },
  {
   "cell_type": "markdown",
   "id": "d371ee9a",
   "metadata": {},
   "source": [
    "```\n",
    "array([ 0,  1,  2,  3,  4,  5,  6,  7,  8,  9, 10, 11, 12, 13, 14, 15, 16,\n",
    "       17, 18, 19, 20, 21, 22, 23, 24, 25, 26, 27, 28, 29, 30, 31, 32, 33,\n",
    "       34, 35, 36, 37, 38, 39, 40, 41, 42, 43, 44, 45, 46, 47, 48, 49])\n",
    "```\n",
    "\n",
    "\n",
    "\n",
    "\n",
    "\n",
    "\n",
    "\n"
   ]
  },
  {
   "cell_type": "markdown",
   "id": "92c8a91f",
   "metadata": {},
   "source": [
    "Notice that the first column is order because each point's closest neighbor is itself.\n",
    "\n",
    "\n",
    "\n",
    "\n",
    "\n",
    "\n",
    "\n",
    "\n",
    "\n"
   ]
  },
  {
   "cell_type": "markdown",
   "id": "37a6d008",
   "metadata": {},
   "source": [
    "If we're simply interested in the nearest $k$ neighbors, all we need is to partition each row so that the smallest $k + 1$ squared distances come first, with larger distances filling the remaining positions of the array:\n",
    "\n",
    "\n",
    "\n",
    "\n",
    "\n",
    "\n",
    "\n",
    "\n",
    "\n",
    "\n",
    "\n"
   ]
  },
  {
   "cell_type": "markdown",
   "id": "42491a0d",
   "metadata": {},
   "source": [
    "```\n",
    "K = 2\n",
    "nearest_partition = np.argpartition(dist_sq, K + 1, axis=1)\n",
    "\n",
    "```\n",
    "\n",
    "\n",
    "\n",
    "\n",
    "\n",
    "\n",
    "\n",
    "\n",
    "\n",
    "\n",
    "\n",
    "\n",
    "\n",
    "\n",
    "\n",
    "\n",
    "\n",
    "\n",
    "\n",
    "\n",
    "\n",
    "\n",
    "\n",
    "\n",
    "\n",
    "\n",
    "\n",
    "\n",
    "\n",
    "\n",
    "\n",
    "\n",
    "\n",
    "\n",
    "\n",
    "\n",
    "\n",
    "\n",
    "\n",
    "\n",
    "\n",
    "\n",
    "\n",
    "\n",
    "\n",
    "\n",
    "\n",
    "\n",
    "\n",
    "\n",
    "\n"
   ]
  },
  {
   "cell_type": "markdown",
   "id": "39ea3fff",
   "metadata": {},
   "source": [
    "```\n",
    "plt.scatter(X[:, 0], X[:, 1], s=100)\n",
    "K = 2 # draw lines from each point to its two nearest neighbors\n",
    "for i in range(X.shape[0]):\n",
    "    for j in nearest_partition[i, :K+1]:\n",
    "        plt.plot(*zip(X[j], X[i]), color='black')\n",
    "\n",
    "```\n",
    "\n",
    "\n",
    "\n",
    "\n",
    "\n",
    "\n",
    "\n",
    "\n",
    "\n",
    "\n",
    "\n",
    "\n",
    "\n",
    "\n",
    "\n",
    "\n",
    "\n",
    "\n",
    "\n",
    "\n",
    "\n",
    "\n",
    "\n",
    "\n",
    "\n",
    "\n",
    "\n",
    "\n",
    "\n",
    "\n",
    "\n",
    "\n",
    "\n",
    "\n",
    "\n",
    "\n",
    "\n",
    "\n",
    "\n",
    "\n",
    "\n",
    "\n",
    "\n",
    "\n",
    "\n",
    "\n",
    "\n",
    "\n",
    "\n",
    "\n",
    "\n",
    "\n",
    "\n",
    "\n",
    "\n",
    "\n",
    "\n",
    "\n",
    "\n",
    "\n",
    "\n",
    "\n",
    "\n",
    "\n",
    "\n",
    "\n",
    "\n",
    "\n",
    "\n",
    "\n",
    "\n",
    "\n",
    "\n",
    "\n",
    "\n",
    "\n",
    "\n",
    "\n",
    "\n",
    "\n",
    "\n",
    "\n",
    "\n",
    "\n",
    "\n",
    "\n",
    "\n",
    "\n",
    "\n",
    "\n",
    "\n",
    "\n",
    "\n",
    "\n",
    "\n",
    "\n",
    "\n",
    "\n",
    "\n",
    "\n",
    "\n",
    "\n",
    "\n",
    "\n",
    "\n",
    "\n",
    "\n",
    "\n",
    "\n",
    "\n",
    "\n",
    "\n",
    "\n",
    "\n",
    "\n",
    "\n",
    "\n",
    "\n",
    "\n",
    "\n",
    "\n",
    "\n",
    "\n",
    "\n",
    "\n",
    "\n",
    "\n",
    "\n",
    "\n",
    "\n",
    "\n",
    "\n",
    "\n",
    "\n",
    "\n"
   ]
  },
  {
   "cell_type": "markdown",
   "id": "ceb87583",
   "metadata": {},
   "source": [
    "![](data:image/png;base64,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\n",
    ")\n",
    "\n",
    "\n",
    "\n",
    "\n",
    "\n",
    "\n",
    "\n",
    "\n",
    "\n"
   ]
  },
  {
   "cell_type": "markdown",
   "id": "7a0efa87",
   "metadata": {},
   "source": [
    "At first glance, it might seem strange that some of the points have more than two lines coming out of them: this is due to the fact that if point A is one of the two nearest neighbors of point B, this does not necessarily imply that point B is one of the two nearest neighbors of point A."
   ]
  },
  {
   "cell_type": "markdown",
   "id": "1d91cf6a",
   "metadata": {},
   "source": [
    "You might be tempted to do the same type of operation by manually looping through the data and sorting each set of neighbors individually. The beauty of our approach is that it's written in a way that's agnostic to the size of the input data: we could just as easily compute the neighbors among 100 or 1,000,000 points in any number of dimensions, and the code would look the same.\n",
    "\n",
    "\n",
    "\n",
    "\n"
   ]
  }
 ],
 "metadata": {
  "celltoolbar": "Slideshow",
  "jupytext": {
   "cell_metadata_filter": "-all",
   "formats": "md,ipynb",
   "main_language": "python"
  },
  "kernelspec": {
   "display_name": "Python 3 (ipykernel)",
   "language": "python",
   "name": "python3"
  },
  "language_info": {
   "codemirror_mode": {
    "name": "ipython",
    "version": 3
   },
   "file_extension": ".py",
   "mimetype": "text/x-python",
   "name": "python",
   "nbconvert_exporter": "python",
   "pygments_lexer": "ipython3",
   "version": "3.10.12"
  }
 },
 "nbformat": 4,
 "nbformat_minor": 5
}
