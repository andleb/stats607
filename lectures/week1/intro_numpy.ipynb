{
 "cells": [
  {
   "cell_type": "code",
   "execution_count": 203,
   "id": "3b748ea8",
   "metadata": {
    "slideshow": {
     "slide_type": "notes"
    }
   },
   "outputs": [
    {
     "name": "stdout",
     "output_type": "stream",
     "text": [
      "The cppmagic extension is already loaded. To reload it, use:\n",
      "  %reload_ext cppmagic\n"
     ]
    }
   ],
   "source": [
    "\n",
    "# pip install git+git://github.com/xapharius/cppmagic. \n",
    "%load_ext cppmagic"
   ]
  },
  {
   "cell_type": "code",
   "execution_count": 23,
   "id": "4e615002",
   "metadata": {
    "slideshow": {
     "slide_type": "notes"
    }
   },
   "outputs": [],
   "source": [
    "import numpy as np\n",
    "np.random.seed(0)  # seed for reproducibility"
   ]
  },
  {
   "cell_type": "markdown",
   "id": "92aea869",
   "metadata": {
    "slideshow": {
     "slide_type": "slide"
    }
   },
   "source": [
    "# STATS 607: Advanced statistical programming\n",
    "##### Instructor\n",
    "JT <jonth@umich><br/>\n",
    "##### Office hours\n",
    "Tuesday/Thursday 4-5pm, or by appointment\n",
    "##### Grading\n",
    "- Three problem sets, each worth 25%, can work in pairs, due approximately every two weeks.\n",
    "- Individual final project, also worth 25%.\n",
    "##### Important links:\n",
    "- https://umich.instructure.com/courses/717115 (Canvas site)\n",
    "- Slack workspace (in progress)"
   ]
  },
  {
   "cell_type": "markdown",
   "id": "95f99376",
   "metadata": {
    "slideshow": {
     "slide_type": "slide"
    }
   },
   "source": [
    "### Goals of this class\n",
    "- Learn how to effectively use things like array programming, autodiff, GPUs, etc. to write better/faster/more stable research code.\n",
    "- \"Double dipping\" is encouraged: final project should ideally be something related to your research. \n",
    "- If there are particular topics or skills that would be useful for your research, **please let me know**.\n",
    "- **Ideal outcome**: this class helps you move your research forward.\n"
   ]
  },
  {
   "cell_type": "code",
   "execution_count": 1,
   "id": "3da2be4a",
   "metadata": {
    "slideshow": {
     "slide_type": "notes"
    }
   },
   "outputs": [],
   "source": [
    "from IPython.display import IFrame\n",
    "sched = 'https://docs.google.com/spreadsheets/d/e/2PACX-1vRw5hr7idg1jHvsOd1YT2tFzzM07P1Lrcwx-fB54_ojeXZr_-Wz0Dk2j-Cpa7n0oXyjRyZlYZw5ezXz/pubhtml?gid=0&amp;single=true&amp;widget=true&amp;headers=false'"
   ]
  },
  {
   "cell_type": "code",
   "execution_count": 194,
   "id": "f631569d",
   "metadata": {
    "slideshow": {
     "slide_type": "slide"
    }
   },
   "outputs": [
    {
     "data": {
      "text/html": [
       "\n",
       "        <iframe\n",
       "            width=\"1200\"\n",
       "            height=\"600\"\n",
       "            src=\"https://docs.google.com/spreadsheets/d/e/2PACX-1vRw5hr7idg1jHvsOd1YT2tFzzM07P1Lrcwx-fB54_ojeXZr_-Wz0Dk2j-Cpa7n0oXyjRyZlYZw5ezXz/pubhtml?gid=0&amp;single=true&amp;widget=true&amp;headers=false\"\n",
       "            frameborder=\"0\"\n",
       "            allowfullscreen\n",
       "            \n",
       "        ></iframe>\n",
       "        "
      ],
      "text/plain": [
       "<IPython.lib.display.IFrame at 0x7fa6be0e17e0>"
      ]
     },
     "execution_count": 194,
     "metadata": {},
     "output_type": "execute_result"
    }
   ],
   "source": [
    "IFrame(sched, width=1200, height=600)"
   ]
  },
  {
   "cell_type": "markdown",
   "id": "6cc97f63",
   "metadata": {
    "slideshow": {
     "slide_type": "slide"
    }
   },
   "source": [
    "# Python\n",
    "\n",
    "![](https://upload.wikimedia.org/wikipedia/commons/c/c3/Python-logo-notext.svg)\n",
    "\n",
    "- I will assume some basic familiarity with Python.\n",
    "- You do not need to know a lot of Python.\n",
    "- You should be able to read things like this and get the general idea:\n",
    "\n",
    "```\n",
    "def mystery_function(numbers: list[int]) -> int:\n",
    "    result = 0\n",
    "    for num in numbers:\n",
    "        if num % 2 == 0:\n",
    "            result += num ** 2\n",
    "    return result\n",
    "```"
   ]
  },
  {
   "cell_type": "markdown",
   "id": "6f5a4741",
   "metadata": {
    "slideshow": {
     "slide_type": "slide"
    }
   },
   "source": [
    "# Numpy\n",
    "- The first two weeks of this class will focus on mastering Numpy.\n",
    "- Mastering Numpy is absolutely essential if you want to write efficient data/statistical code (in Python).\n",
    "    - PyTorch, Tensorflow, Jax, Numba, Dask, etc. all copied the NumPy API.\n",
    "    - Pandas, SciPy, sklearn run on top of NumPy.\n",
    "- Other competitors: R, MATLAB, Julia.\n",
    "- We will end up using NumPy for every subsequent lesson, so it's worth investing some time to learn it well."
   ]
  },
  {
   "attachments": {
    "image.png": {
     "image/png": "[encoded data removed]"
    }
   },
   "cell_type": "markdown",
   "id": "7f5c8908",
   "metadata": {
    "slideshow": {
     "slide_type": "slide"
    }
   },
   "source": [
    "# How the computer sees data\n",
    "- Effective data-driven science and computation requires understanding how data is stored and manipulated.\n",
    "- First we will start with an example to motivate the basic ideas.\n",
    "\n",
    "![image.png](attachment:image.png)"
   ]
  },
  {
   "cell_type": "markdown",
   "id": "44044f7e",
   "metadata": {},
   "source": [
    "Let's write a function to add up all the positive integers from 1 to $n$:"
   ]
  },
  {
   "cell_type": "code",
   "execution_count": 197,
   "id": "a07a1b23",
   "metadata": {
    "slideshow": {
     "slide_type": "slide"
    }
   },
   "outputs": [
    {
     "data": {
      "text/plain": [
       "50005000"
      ]
     },
     "execution_count": 197,
     "metadata": {},
     "output_type": "execute_result"
    }
   ],
   "source": [
    "# add up the numbers\n",
    "def sum_n(n):\n",
    "    'add up numbers from 1 to n'\n",
    "    res = 0\n",
    "    for i in range(1, n + 1):\n",
    "        res += i\n",
    "    return res\n",
    "    \n",
    "sum_n(10_000)"
   ]
  },
  {
   "cell_type": "markdown",
   "id": "bbffb54b",
   "metadata": {},
   "source": [
    "(Of course we already know how to do this in closed form, but humor me.)"
   ]
  },
  {
   "cell_type": "markdown",
   "id": "3fc68328",
   "metadata": {},
   "source": [
    "For small $n$ this function works great. But what about for large $n$?"
   ]
  },
  {
   "cell_type": "code",
   "execution_count": 200,
   "id": "149d5682",
   "metadata": {
    "slideshow": {
     "slide_type": "slide"
    }
   },
   "outputs": [
    {
     "name": "stdout",
     "output_type": "stream",
     "text": [
      "4.67 s ± 46.3 ms per loop (mean ± std. dev. of 7 runs, 1 loop each)\n"
     ]
    }
   ],
   "source": [
    "%timeit sum_n(100_000_000)"
   ]
  },
  {
   "cell_type": "markdown",
   "id": "1f396bce",
   "metadata": {
    "slideshow": {
     "slide_type": "slide"
    }
   },
   "source": [
    "Now, let's see what happens when we write the same function in a low-level lanuage."
   ]
  },
  {
   "cell_type": "code",
   "execution_count": 209,
   "id": "71d45126",
   "metadata": {},
   "outputs": [
    {
     "data": {
      "text/plain": [
       "<TimeitResult : 29.8 ms ± 1.19 ms per loop (mean ± std. dev. of 7 runs, 10 loops each)>"
      ]
     },
     "execution_count": 209,
     "metadata": {},
     "output_type": "execute_result"
    }
   ],
   "source": [
    "%%cpp -t\n",
    "\n",
    "// C implementation\n",
    "\n",
    "#include <cstdio>\n",
    "\n",
    "int sum_n(int n) {\n",
    "    int res = 0;\n",
    "    for (int i = 0 ; i < n; ++i)\n",
    "        res += (i + 1);\n",
    "    return res;\n",
    "}\n",
    "\n",
    "int main(int, char**) {\n",
    "    sum_n(10000000);\n",
    "}"
   ]
  },
  {
   "cell_type": "markdown",
   "id": "f1f651a8",
   "metadata": {
    "slideshow": {
     "slide_type": "slide"
    }
   },
   "source": [
    "- On my machine, the C version takes 30ms, and the Python version takes 490ms;\n",
    "- So C is about $16\\times$ faster.\n",
    "- Why?"
   ]
  },
  {
   "cell_type": "markdown",
   "id": "e2edf5a3",
   "metadata": {},
   "source": [
    "Finally, let's try the same thing using Numpy:"
   ]
  },
  {
   "cell_type": "code",
   "execution_count": 215,
   "id": "2ce69f85",
   "metadata": {},
   "outputs": [],
   "source": [
    "import numpy as np\n",
    "\n",
    "v = np.arange(1, n + 1)\n",
    "\n",
    "def sum_n_np(n):    \n",
    "    return v.sum()"
   ]
  },
  {
   "cell_type": "code",
   "execution_count": 216,
   "id": "b74aa1cf",
   "metadata": {},
   "outputs": [
    {
     "name": "stdout",
     "output_type": "stream",
     "text": [
      "1.18 µs ± 12.3 ns per loop (mean ± std. dev. of 7 runs, 1,000,000 loops each)\n"
     ]
    }
   ],
   "source": [
    "%%timeit\n",
    "sum_n_np(10_000_000)"
   ]
  },
  {
   "cell_type": "markdown",
   "id": "4051168c",
   "metadata": {},
   "source": [
    "- Numpy is faster than C."
   ]
  },
  {
   "cell_type": "markdown",
   "id": "c51e9d3e",
   "metadata": {
    "slideshow": {
     "slide_type": "slide"
    }
   },
   "source": [
    "Finally, let's try one more attempt:"
   ]
  },
  {
   "cell_type": "code",
   "execution_count": 214,
   "id": "80a2b173",
   "metadata": {},
   "outputs": [
    {
     "name": "stdout",
     "output_type": "stream",
     "text": [
      "5.71 ms ± 63.4 µs per loop (mean ± std. dev. of 7 runs, 100 loops each)\n"
     ]
    }
   ],
   "source": [
    "v = np.arange(1, 10_000_000 + 1).sum()\n",
    "%timeit v.sum()"
   ]
  },
  {
   "cell_type": "markdown",
   "id": "ce4e0480",
   "metadata": {},
   "source": [
    "- Much faster than C!\n",
    "- But much easier to read and write!"
   ]
  },
  {
   "attachments": {
    "image.png": {
     "image/png": "[encoded data removed]"
    }
   },
   "cell_type": "markdown",
   "id": "bbea0e93",
   "metadata": {
    "slideshow": {
     "slide_type": "slide"
    }
   },
   "source": [
    "# Why is C fast?\n",
    "![image.png](attachment:image.png)"
   ]
  },
  {
   "cell_type": "markdown",
   "id": "dfa133df",
   "metadata": {
    "slideshow": {
     "slide_type": "slide"
    }
   },
   "source": [
    "# Why is Python slow?\n",
    "\n",
    "- Every Python object is simply a cleverly-disguised C structure, which contains not only its value, but other information as well. \n",
    "- For example, when we define an integer in Python, such as ``x = 10000``, ``x`` is not just a \"raw\" integer. It's actually a pointer to a compound C structure, which contains several values.\n",
    "\n",
    "```C\n",
    "struct _longobject {\n",
    "    long ob_refcnt;\n",
    "    PyTypeObject *ob_type;\n",
    "    size_t ob_size;\n",
    "    long ob_digit[1];\n",
    "};\n",
    "```\n",
    "\n",
    "- Benefits: extra information in the Python integer structure is what allows Python to be coded so freely and dynamically. \n",
    "- Drawback: Extra overhead in storing an integer in Python as compared to an integer in a compiled language like C.\n"
   ]
  },
  {
   "cell_type": "markdown",
   "id": "10e13b9d",
   "metadata": {
    "slideshow": {
     "slide_type": "slide"
    }
   },
   "source": [
    "# Another example: storing a list"
   ]
  },
  {
   "cell_type": "code",
   "execution_count": 217,
   "id": "6500585d",
   "metadata": {},
   "outputs": [
    {
     "data": {
      "text/plain": [
       "[0, 1, 2, 3, 4, 5, 6, 7, 8, 9]"
      ]
     },
     "execution_count": 217,
     "metadata": {},
     "output_type": "execute_result"
    }
   ],
   "source": [
    "L = list(range(10))\n",
    "L"
   ]
  },
  {
   "cell_type": "code",
   "execution_count": 219,
   "id": "bc88b340",
   "metadata": {},
   "outputs": [
    {
     "ename": "TypeError",
     "evalue": "unsupported operand type(s) for +: 'int' and 'str'",
     "output_type": "error",
     "traceback": [
      "\u001b[0;31m---------------------------------------------------------------------------\u001b[0m",
      "\u001b[0;31mTypeError\u001b[0m                                 Traceback (most recent call last)",
      "Cell \u001b[0;32mIn[219], line 4\u001b[0m\n\u001b[1;32m      1\u001b[0m L2 \u001b[38;5;241m=\u001b[39m [\u001b[38;5;28;01mTrue\u001b[39;00m, \u001b[38;5;124m\"\u001b[39m\u001b[38;5;124m2\u001b[39m\u001b[38;5;124m\"\u001b[39m, \u001b[38;5;241m3.0\u001b[39m, \u001b[38;5;241m4\u001b[39m]\n\u001b[1;32m      2\u001b[0m [\u001b[38;5;28mtype\u001b[39m(item) \u001b[38;5;28;01mfor\u001b[39;00m item \u001b[38;5;129;01min\u001b[39;00m L2]\n\u001b[0;32m----> 4\u001b[0m \u001b[38;5;28;43msum\u001b[39;49m\u001b[43m(\u001b[49m\u001b[43mL2\u001b[49m\u001b[43m)\u001b[49m\n",
      "\u001b[0;31mTypeError\u001b[0m: unsupported operand type(s) for +: 'int' and 'str'"
     ]
    }
   ],
   "source": [
    "L2 = [True, \"2\", 3.0, 4]\n",
    "[type(item) for item in L2]\n",
    "\n",
    "sum(L2)"
   ]
  },
  {
   "cell_type": "markdown",
   "id": "a0b9440c",
   "metadata": {
    "slideshow": {
     "slide_type": "notes"
    }
   },
   "source": [
    "- This flexibility comes at a cost: each item in the list must contain its own type info, reference count, and other information–that is, each item is a complete Python object. \n",
    "- In the special case that all variables are of the same type, much of this information is redundant: it can be much more efficient to store data in a fixed-type array. "
   ]
  },
  {
   "attachments": {
    "image.png": {
     "image/png": "[encoded data removed]"
    }
   },
   "cell_type": "markdown",
   "id": "7d2a81c9",
   "metadata": {
    "slideshow": {
     "slide_type": "slide"
    }
   },
   "source": [
    "# Why is Numpy almost as fast as C?\n",
    "\n",
    "![image.png](attachment:image.png)\n",
    "\n",
    "\n",
    "\n",
    "\n",
    "\n",
    "\n",
    "\n",
    "\n",
    "\n",
    "\n",
    "\n",
    "\n"
   ]
  },
  {
   "cell_type": "markdown",
   "id": "b4cbe068",
   "metadata": {
    "slideshow": {
     "slide_type": "slide"
    }
   },
   "source": [
    "## Down with `for` loops!\n",
    "- Since almost all data science and statistics problems essentially boil down to manipulating arrays of floating point numbers, we'll exclusively prefer the Numpy-style of working with lists.\n",
    "- Do not use Python `for` loops except in special cases to be described later!"
   ]
  },
  {
   "cell_type": "markdown",
   "id": "eacd37ee",
   "metadata": {
    "slideshow": {
     "slide_type": "slide"
    }
   },
   "source": [
    "## Creating Arrays from Python Lists\n",
    "\n",
    "First, we can use ``np.array`` to create arrays from Python lists:"
   ]
  },
  {
   "cell_type": "code",
   "execution_count": 10,
   "id": "46cd9ff7",
   "metadata": {},
   "outputs": [
    {
     "data": {
      "text/plain": [
       "array([1, 4, 2, 5, 3])"
      ]
     },
     "execution_count": 10,
     "metadata": {},
     "output_type": "execute_result"
    }
   ],
   "source": [
    "# integer array:\n",
    "np.array([1, 4, 2, 5, 3])"
   ]
  },
  {
   "cell_type": "markdown",
   "id": "cfd77774",
   "metadata": {
    "slideshow": {
     "slide_type": "slide"
    }
   },
   "source": [
    "Remember that unlike Python lists, NumPy is constrained to arrays that all contain the same type.\n",
    "If types do not match, NumPy will upcast if possible (here, integers are up-cast to floating point):"
   ]
  },
  {
   "cell_type": "code",
   "execution_count": 11,
   "id": "9eaf3ca6",
   "metadata": {},
   "outputs": [
    {
     "data": {
      "text/plain": [
       "array([3.14, 4.  , 2.  , 3.  ])"
      ]
     },
     "execution_count": 11,
     "metadata": {},
     "output_type": "execute_result"
    }
   ],
   "source": [
    "np.array([3.14, 4, 2, 3])"
   ]
  },
  {
   "cell_type": "markdown",
   "id": "f8471ac2",
   "metadata": {},
   "source": [
    "```\n",
    "array([3.14, 4.  , 2.  , 3.  ])\n",
    "```\n",
    "\n",
    "\n",
    "\n",
    "\n",
    "\n",
    "\n",
    "\n"
   ]
  },
  {
   "cell_type": "markdown",
   "id": "db9fbfa0",
   "metadata": {
    "slideshow": {
     "slide_type": "slide"
    }
   },
   "source": [
    "If we want to explicitly set the data type of the resulting array, we can use the dtype keyword:\n",
    "\n",
    "\n",
    "\n",
    "\n",
    "\n",
    "\n",
    "\n",
    "\n",
    "\n",
    "\n",
    "\n",
    "\n",
    "\n"
   ]
  },
  {
   "cell_type": "code",
   "execution_count": 12,
   "id": "6fdfcde8",
   "metadata": {},
   "outputs": [
    {
     "data": {
      "text/plain": [
       "array([1., 2., 3., 4.], dtype=float32)"
      ]
     },
     "execution_count": 12,
     "metadata": {},
     "output_type": "execute_result"
    }
   ],
   "source": [
    "np.array([1, 2, 3, 4], dtype='float32')"
   ]
  },
  {
   "cell_type": "markdown",
   "id": "7146715e",
   "metadata": {
    "slideshow": {
     "slide_type": "slide"
    }
   },
   "source": [
    "## Creating Arrays from Scratch¶\n",
    "\n"
   ]
  },
  {
   "cell_type": "markdown",
   "id": "9d4b62cb",
   "metadata": {
    "slideshow": {
     "slide_type": "-"
    }
   },
   "source": [
    "Especially for larger arrays, it is more efficient to create arrays from scratch using routines built into NumPy:\n",
    "\n",
    "\n",
    "\n",
    "\n",
    "\n",
    "\n",
    "\n",
    "\n",
    "\n",
    "\n",
    "\n"
   ]
  },
  {
   "cell_type": "code",
   "execution_count": 14,
   "id": "9e9127de",
   "metadata": {},
   "outputs": [
    {
     "data": {
      "text/plain": [
       "array([0, 0, 0, 0, 0, 0, 0, 0, 0, 0])"
      ]
     },
     "execution_count": 14,
     "metadata": {},
     "output_type": "execute_result"
    }
   ],
   "source": [
    "np.zeros(10, dtype=int)"
   ]
  },
  {
   "cell_type": "code",
   "execution_count": 15,
   "id": "e37645a4",
   "metadata": {
    "slideshow": {
     "slide_type": "slide"
    }
   },
   "outputs": [
    {
     "data": {
      "text/plain": [
       "array([[1., 1., 1., 1., 1.],\n",
       "       [1., 1., 1., 1., 1.],\n",
       "       [1., 1., 1., 1., 1.]])"
      ]
     },
     "execution_count": 15,
     "metadata": {},
     "output_type": "execute_result"
    }
   ],
   "source": [
    "np.ones((3, 5), dtype=float)"
   ]
  },
  {
   "cell_type": "code",
   "execution_count": 16,
   "id": "26b1633d",
   "metadata": {
    "slideshow": {
     "slide_type": "slide"
    }
   },
   "outputs": [
    {
     "data": {
      "text/plain": [
       "array([0.  , 0.25, 0.5 , 0.75, 1.  ])"
      ]
     },
     "execution_count": 16,
     "metadata": {},
     "output_type": "execute_result"
    }
   ],
   "source": [
    "np.linspace(0, 1, 5)"
   ]
  },
  {
   "cell_type": "code",
   "execution_count": 17,
   "id": "271a43d5",
   "metadata": {
    "slideshow": {
     "slide_type": "slide"
    }
   },
   "outputs": [
    {
     "data": {
      "text/plain": [
       "array([[0.80954592, 0.69225934, 0.327852  ],\n",
       "       [0.4205031 , 0.30228211, 0.69309193],\n",
       "       [0.46141987, 0.81724961, 0.00089825]])"
      ]
     },
     "execution_count": 17,
     "metadata": {},
     "output_type": "execute_result"
    }
   ],
   "source": [
    "np.random.random((3, 3))"
   ]
  },
  {
   "cell_type": "code",
   "execution_count": 26,
   "id": "f0cca0c8",
   "metadata": {
    "slideshow": {
     "slide_type": "slide"
    }
   },
   "outputs": [
    {
     "data": {
      "text/plain": [
       "array([[1., 0., 0.],\n",
       "       [0., 1., 0.],\n",
       "       [0., 0., 1.]])"
      ]
     },
     "execution_count": 26,
     "metadata": {},
     "output_type": "execute_result"
    }
   ],
   "source": [
    "np.eye(3)"
   ]
  },
  {
   "cell_type": "markdown",
   "id": "456ddba1",
   "metadata": {},
   "source": [
    "```\n",
    "array([[1., 0., 0.],\n",
    "       [0., 1., 0.],\n",
    "       [0., 0., 1.]])\n",
    "```\n",
    "\n",
    "\n",
    "\n",
    "\n",
    "\n",
    "\n",
    "\n",
    "\n",
    "\n"
   ]
  },
  {
   "cell_type": "markdown",
   "id": "1e833e96",
   "metadata": {
    "slideshow": {
     "slide_type": "notes"
    }
   },
   "source": [
    "Note that we just created a bunch of two-dimensional arrays. You know these as matrices. For the most part, however, NumPy functions are agnostic to the dimensionality of the array -- they work regardless of the number of dimensions."
   ]
  },
  {
   "cell_type": "markdown",
   "id": "337be4cd",
   "metadata": {
    "slideshow": {
     "slide_type": "slide"
    }
   },
   "source": [
    "## NumPy Standard Data Types¶\n",
    "\n"
   ]
  },
  {
   "cell_type": "markdown",
   "id": "76ae5585",
   "metadata": {},
   "source": [
    "| Data type\t    | Description |\n",
    "|---------------|-------------|\n",
    "| ``bool_``     | Boolean (True or False) stored as a byte |\n",
    "| ``int_``      | Default integer type (same as C ``long``; normally either ``int64`` or ``int32``)| \n",
    "| ``intc``      | Identical to C ``int`` (normally ``int32`` or ``int64``)| \n",
    "| ``intp``      | Integer used for indexing (same as C ``ssize_t``; normally either ``int32`` or ``int64``)| \n",
    "| ``int8``      | Byte (-128 to 127)| \n",
    "| ``int16``     | Integer (-32768 to 32767)|\n",
    "| ``int32``     | Integer (-2147483648 to 2147483647)|\n",
    "| ``int64``     | Integer (-9223372036854775808 to 9223372036854775807)| \n",
    "| ``uint8``     | Unsigned integer (0 to 255)| \n",
    "| ``uint16``    | Unsigned integer (0 to 65535)| \n",
    "| ``uint32``    | Unsigned integer (0 to 4294967295)| \n",
    "| ``uint64``    | Unsigned integer (0 to 18446744073709551615)| \n",
    "| ``float_``    | Shorthand for ``float64``.| \n",
    "| ``float16``   | Half precision float: sign bit, 5 bits exponent, 10 bits mantissa| \n",
    "| ``float32``   | Single precision float: sign bit, 8 bits exponent, 23 bits mantissa| \n",
    "| ``float64``   | Double precision float: sign bit, 11 bits exponent, 52 bits mantissa| \n",
    "| ``complex_``  | Shorthand for ``complex128``.| \n",
    "| ``complex64`` | Complex number, represented by two 32-bit floats| \n",
    "| ``complex128``| Complex number, represented by two 64-bit floats| "
   ]
  },
  {
   "cell_type": "markdown",
   "id": "a58f4c60",
   "metadata": {
    "slideshow": {
     "slide_type": "slide"
    }
   },
   "source": [
    "## Aside: representing big integers\n",
    "- Unlike floating point numbers, it's possible to represent integers exactly in the computer.\n",
    "- You are only limited by the number of bits you can store.\n",
    "- In Numpy, that's either 8, 16, 32, or 64 bits.\n",
    "- However, in Python there is no limit."
   ]
  },
  {
   "cell_type": "code",
   "execution_count": 20,
   "id": "a90a0b7c",
   "metadata": {},
   "outputs": [
    {
     "data": {
      "text/plain": [
       "100000000000000000000000000000000000000000000000000000000000000000000000000000000000000000000000000000000000000000000000000000000000000000000000000000000000000000000000000000000000000000000000000000000"
      ]
     },
     "execution_count": 20,
     "metadata": {},
     "output_type": "execute_result"
    }
   ],
   "source": [
    "100 ** 100  # one google in Python"
   ]
  },
  {
   "cell_type": "code",
   "execution_count": 22,
   "id": "dffbf8aa",
   "metadata": {},
   "outputs": [
    {
     "ename": "OverflowError",
     "evalue": "Python int too large to convert to C long",
     "output_type": "error",
     "traceback": [
      "\u001b[0;31m---------------------------------------------------------------------------\u001b[0m",
      "\u001b[0;31mOverflowError\u001b[0m                             Traceback (most recent call last)",
      "Cell \u001b[0;32mIn[22], line 1\u001b[0m\n\u001b[0;32m----> 1\u001b[0m \u001b[43mnp\u001b[49m\u001b[38;5;241;43m.\u001b[39;49m\u001b[43marray\u001b[49m\u001b[43m(\u001b[49m\u001b[43m[\u001b[49m\u001b[38;5;241;43m100\u001b[39;49m\u001b[43m \u001b[49m\u001b[38;5;241;43m*\u001b[39;49m\u001b[38;5;241;43m*\u001b[39;49m\u001b[43m \u001b[49m\u001b[38;5;241;43m100\u001b[39;49m\u001b[43m]\u001b[49m\u001b[43m,\u001b[49m\u001b[43m \u001b[49m\u001b[43mdtype\u001b[49m\u001b[38;5;241;43m=\u001b[39;49m\u001b[38;5;28;43mint\u001b[39;49m\u001b[43m)\u001b[49m\n",
      "\u001b[0;31mOverflowError\u001b[0m: Python int too large to convert to C long"
     ]
    }
   ],
   "source": [
    "np.array([100 ** 100], dtype=int)"
   ]
  },
  {
   "cell_type": "markdown",
   "id": "4ac4604e",
   "metadata": {
    "slideshow": {
     "slide_type": "notes"
    }
   },
   "source": [
    "- One area where I've found this useful is working with probabilistic models that have big combinatorial coefficients.\n",
    "- In combination with the `fractions` module, you can do exact arithmetic over the rationals, which sometimes matters for numerical reasons."
   ]
  },
  {
   "cell_type": "markdown",
   "id": "5d9becaf",
   "metadata": {
    "slideshow": {
     "slide_type": "slide"
    }
   },
   "source": [
    "## Using Numpy for data\n",
    "Let's generate a random data matrix `X` and response variable `y`:"
   ]
  },
  {
   "cell_type": "code",
   "execution_count": 223,
   "id": "56af878b",
   "metadata": {},
   "outputs": [
    {
     "data": {
      "text/plain": [
       "array([[ 0.20741927, -0.818192  , -0.42897125],\n",
       "       [-1.36719225, -1.68297273, -0.17023196],\n",
       "       [-1.86973442, -0.25328556, -0.52360728],\n",
       "       [-0.05603217,  0.25074436, -1.24273618],\n",
       "       [ 2.12841215, -0.18673398,  0.4787983 ],\n",
       "       [ 0.54449148, -0.10940624,  0.19319364],\n",
       "       [-0.33606702,  0.38832209,  0.0385322 ],\n",
       "       [ 0.22175497,  1.38498247,  0.95992625],\n",
       "       [-0.90809492, -0.20179897, -0.08992599],\n",
       "       [-1.26514005, -0.79524108,  0.6880202 ]])"
      ]
     },
     "execution_count": 223,
     "metadata": {},
     "output_type": "execute_result"
    }
   ],
   "source": [
    "n = 10  # observations\n",
    "p = 3  # predictors\n",
    "X = np.random.normal(size=(n, p))\n",
    "y = np.random.normal(size=n)\n",
    "\n",
    "X"
   ]
  },
  {
   "cell_type": "markdown",
   "id": "da4ca69a",
   "metadata": {
    "slideshow": {
     "slide_type": "slide"
    }
   },
   "source": [
    "## Basic questions about arrays\n",
    "- What type of data is it?"
   ]
  },
  {
   "cell_type": "code",
   "execution_count": 229,
   "id": "0569c9af",
   "metadata": {},
   "outputs": [
    {
     "data": {
      "text/plain": [
       "array([[ 0,  0,  0],\n",
       "       [-1, -1,  0],\n",
       "       [-1,  0,  0],\n",
       "       [ 0,  0, -1],\n",
       "       [ 2,  0,  0],\n",
       "       [ 0,  0,  0],\n",
       "       [ 0,  0,  0],\n",
       "       [ 0,  1,  0],\n",
       "       [ 0,  0,  0],\n",
       "       [-1,  0,  0]])"
      ]
     },
     "execution_count": 229,
     "metadata": {},
     "output_type": "execute_result"
    }
   ],
   "source": [
    "X.astype(int)"
   ]
  },
  {
   "cell_type": "markdown",
   "id": "f443faab",
   "metadata": {
    "slideshow": {
     "slide_type": "slide"
    }
   },
   "source": [
    "What are its dimensions?"
   ]
  },
  {
   "cell_type": "code",
   "execution_count": 230,
   "id": "ec54f565",
   "metadata": {},
   "outputs": [
    {
     "data": {
      "text/plain": [
       "(10, 3)"
      ]
     },
     "execution_count": 230,
     "metadata": {},
     "output_type": "execute_result"
    }
   ],
   "source": [
    "X.shape"
   ]
  },
  {
   "cell_type": "markdown",
   "id": "f90cc4c4",
   "metadata": {
    "slideshow": {
     "slide_type": "slide"
    }
   },
   "source": [
    "How many elements does it have?"
   ]
  },
  {
   "cell_type": "code",
   "execution_count": 231,
   "id": "eb513508",
   "metadata": {},
   "outputs": [
    {
     "data": {
      "text/plain": [
       "30"
      ]
     },
     "execution_count": 231,
     "metadata": {},
     "output_type": "execute_result"
    }
   ],
   "source": [
    "X.size"
   ]
  },
  {
   "cell_type": "markdown",
   "id": "69aa5834",
   "metadata": {
    "slideshow": {
     "slide_type": "slide"
    }
   },
   "source": [
    "How much memory does it take up?"
   ]
  },
  {
   "cell_type": "code",
   "execution_count": 232,
   "id": "86f32578",
   "metadata": {},
   "outputs": [
    {
     "data": {
      "text/plain": [
       "240"
      ]
     },
     "execution_count": 232,
     "metadata": {},
     "output_type": "execute_result"
    }
   ],
   "source": [
    "X.nbytes"
   ]
  },
  {
   "cell_type": "markdown",
   "id": "fc0d2797",
   "metadata": {
    "slideshow": {
     "slide_type": "slide"
    }
   },
   "source": [
    "# Aggregations\n",
    "- Aggregations summarize arrays into lower-dimensional ones. \n",
    "- They show up everywhere in statistics and data science."
   ]
  },
  {
   "cell_type": "code",
   "execution_count": 235,
   "id": "e5ddc321",
   "metadata": {
    "slideshow": {
     "slide_type": "slide"
    }
   },
   "outputs": [
    {
     "data": {
      "text/plain": [
       "-0.16069222258712526"
      ]
     },
     "execution_count": 235,
     "metadata": {},
     "output_type": "execute_result"
    }
   ],
   "source": [
    "X.sum(), X.mean(), X.min(), X.max(), X.std()\n",
    "\n",
    "np.mean(X)"
   ]
  },
  {
   "cell_type": "markdown",
   "id": "19921553",
   "metadata": {
    "slideshow": {
     "slide_type": "slide"
    }
   },
   "source": [
    "Some aggregations are called using the `np` library instead of as object methods:"
   ]
  },
  {
   "cell_type": "code",
   "execution_count": 127,
   "id": "1bb2752f",
   "metadata": {},
   "outputs": [
    {
     "data": {
      "text/plain": [
       "-0.08302282535439112"
      ]
     },
     "execution_count": 127,
     "metadata": {},
     "output_type": "execute_result"
    }
   ],
   "source": [
    "np.median(X)"
   ]
  },
  {
   "cell_type": "code",
   "execution_count": 132,
   "id": "b1456acc",
   "metadata": {},
   "outputs": [
    {
     "data": {
      "text/plain": [
       "array([[ 1.        ,  0.35876949, -0.16693096],\n",
       "       [ 0.35876949,  1.        , -0.66362509],\n",
       "       [-0.16693096, -0.66362509,  1.        ]])"
      ]
     },
     "execution_count": 132,
     "metadata": {},
     "output_type": "execute_result"
    }
   ],
   "source": [
    "np.corrcoef(X, rowvar=False)"
   ]
  },
  {
   "cell_type": "markdown",
   "id": "88d8fb92",
   "metadata": {
    "slideshow": {
     "slide_type": "slide"
    }
   },
   "source": [
    "# Gotcha: Python vs. NumPy aggregations\n",
    "- Python also has built in aggregations like `sum()`, `min()`, and `max()`. \n",
    "- Don't use these on NumPy arrays! They are slow."
   ]
  },
  {
   "cell_type": "code",
   "execution_count": 252,
   "id": "9d5620c2",
   "metadata": {},
   "outputs": [
    {
     "name": "stdout",
     "output_type": "stream",
     "text": [
      "6.02 µs ± 115 ns per loop (mean ± std. dev. of 7 runs, 100,000 loops each)\n"
     ]
    }
   ],
   "source": [
    "%timeit sum(X)"
   ]
  },
  {
   "cell_type": "code",
   "execution_count": 255,
   "id": "42547a98",
   "metadata": {},
   "outputs": [
    {
     "name": "stdout",
     "output_type": "stream",
     "text": [
      "1.38 µs ± 6.54 ns per loop (mean ± std. dev. of 7 runs, 1,000,000 loops each)\n"
     ]
    }
   ],
   "source": [
    "%timeit X.min()"
   ]
  },
  {
   "cell_type": "markdown",
   "id": "57a00f38",
   "metadata": {
    "slideshow": {
     "slide_type": "slide"
    }
   },
   "source": [
    "### Multi dimensional aggregates\n",
    "\n",
    "- One common type of aggregation operation is an aggregate along a row or column.\n",
    "- Most NumPy aggregation functions have an `axis=` parameter that takes one or more axes and aggregates along them.\n",
    "- The `.shape` of the resulting array is all the axis that remain."
   ]
  },
  {
   "cell_type": "code",
   "execution_count": 242,
   "id": "e274d698",
   "metadata": {},
   "outputs": [
    {
     "data": {
      "text/plain": [
       "-0.16069222258712526"
      ]
     },
     "execution_count": 242,
     "metadata": {},
     "output_type": "execute_result"
    }
   ],
   "source": [
    "X.mean()  # aggregate along axis 0 (the n axis)"
   ]
  },
  {
   "cell_type": "code",
   "execution_count": 244,
   "id": "c7d38d5f",
   "metadata": {},
   "outputs": [
    {
     "data": {
      "text/plain": [
       "array([1.09982391, 0.77513318, 0.60840655])"
      ]
     },
     "execution_count": 244,
     "metadata": {},
     "output_type": "execute_result"
    }
   ],
   "source": [
    "X.std(axis=0)  # aggregate along axis 1 (the p axis)"
   ]
  },
  {
   "cell_type": "markdown",
   "id": "058afc64",
   "metadata": {
    "slideshow": {
     "slide_type": "slide"
    }
   },
   "source": [
    "# Math with arrays: universal functions (UFuncs)\n",
    "\n",
    "- Let's perform a common operation with our array: standardize each predictor.\n",
    "- In order to do that, we need to subtract the mean from each column, and divide by the standard deviation.\n"
   ]
  },
  {
   "cell_type": "code",
   "execution_count": 138,
   "id": "73fcdee9",
   "metadata": {},
   "outputs": [
    {
     "data": {
      "text/plain": [
       "array([-0.00783379, -0.33377178,  0.18896449])"
      ]
     },
     "execution_count": 138,
     "metadata": {},
     "output_type": "execute_result"
    }
   ],
   "source": [
    "X.mean(0)  # column means"
   ]
  },
  {
   "cell_type": "code",
   "execution_count": 139,
   "id": "462a7644",
   "metadata": {},
   "outputs": [
    {
     "data": {
      "text/plain": [
       "array([0.7554072 , 0.64772483, 0.83404537])"
      ]
     },
     "execution_count": 139,
     "metadata": {},
     "output_type": "execute_result"
    }
   ],
   "source": [
    "X.std(0)  # column std devs"
   ]
  },
  {
   "cell_type": "markdown",
   "id": "50215260",
   "metadata": {
    "slideshow": {
     "slide_type": "slide"
    }
   },
   "source": [
    "## The wrong way"
   ]
  },
  {
   "cell_type": "code",
   "execution_count": 260,
   "id": "ef8c769c",
   "metadata": {},
   "outputs": [
    {
     "data": {
      "text/plain": [
       "array([1., 1., 1.])"
      ]
     },
     "execution_count": 260,
     "metadata": {},
     "output_type": "execute_result"
    }
   ],
   "source": [
    "# using for loops\n",
    "\n",
    "Xc = X.copy()\n",
    "mu = X.mean(0)\n",
    "sigma = X.std(0)\n",
    "\n",
    "for i in range(n):\n",
    "    for j in range(p):\n",
    "        Xc[i, j] = (X[i, j] - mu[j]) / sigma[j]\n",
    "        \n",
    "Xc.std(0)"
   ]
  },
  {
   "cell_type": "markdown",
   "id": "38285c4b",
   "metadata": {
    "slideshow": {
     "slide_type": "slide"
    }
   },
   "source": [
    "- As we learned earlier in lecture, if we find ourseles writing a Python `for` loop, there is generally a corresponding NumPy operation that has already implemented that.\n",
    "- This is known as a vectorized operation.\n",
    "- Vectorized operations in NumPy are implemented via ufuncs, whose main purpose is to quickly execute repeated operations on values in NumPy arrays.\n"
   ]
  },
  {
   "cell_type": "code",
   "execution_count": 261,
   "id": "624d03ce",
   "metadata": {
    "slideshow": {
     "slide_type": "slide"
    }
   },
   "outputs": [
    {
     "data": {
      "text/plain": [
       "array([0.16666667, 1.        , 0.25      , 0.25      , 0.125     ])"
      ]
     },
     "execution_count": 261,
     "metadata": {},
     "output_type": "execute_result"
    }
   ],
   "source": [
    "import numpy as np\n",
    "np.random.seed(0)\n",
    "\n",
    "def compute_reciprocals(values):\n",
    "    output = np.empty(len(values))\n",
    "    for i in range(len(values)):\n",
    "        output[i] = 1.0 / values[i]\n",
    "    return output\n",
    "        \n",
    "values = np.random.randint(1, 10, size=5)\n",
    "compute_reciprocals(values)"
   ]
  },
  {
   "cell_type": "code",
   "execution_count": 262,
   "id": "6478cb36",
   "metadata": {},
   "outputs": [
    {
     "name": "stdout",
     "output_type": "stream",
     "text": [
      "1.21 s ± 7.97 ms per loop (mean ± std. dev. of 7 runs, 1 loop each)\n"
     ]
    }
   ],
   "source": [
    "big_array = np.random.randint(1, 100, size=1_000_000)\n",
    "%timeit compute_reciprocals(big_array)"
   ]
  },
  {
   "cell_type": "code",
   "execution_count": 263,
   "id": "009c26ad",
   "metadata": {
    "slideshow": {
     "slide_type": "slide"
    }
   },
   "outputs": [
    {
     "name": "stdout",
     "output_type": "stream",
     "text": [
      "[0.16666667 1.         0.25       0.25       0.125     ]\n"
     ]
    }
   ],
   "source": [
    "# print(compute_reciprocals(values))\n",
    "print(1.0 / values)"
   ]
  },
  {
   "cell_type": "code",
   "execution_count": 264,
   "id": "67c182a1",
   "metadata": {},
   "outputs": [
    {
     "name": "stdout",
     "output_type": "stream",
     "text": [
      "1.16 ms ± 5.11 µs per loop (mean ± std. dev. of 7 runs, 1,000 loops each)\n"
     ]
    }
   ],
   "source": [
    "%timeit (1.0 / big_array)"
   ]
  },
  {
   "cell_type": "markdown",
   "id": "d7d8d645",
   "metadata": {
    "slideshow": {
     "slide_type": "slide"
    }
   },
   "source": [
    "- There are ufuncs for every math/trig function you need. \n",
    "- (For research-y special functions, see `scipy.special`.)"
   ]
  },
  {
   "cell_type": "markdown",
   "id": "047f58f1",
   "metadata": {
    "slideshow": {
     "slide_type": "slide"
    }
   },
   "source": [
    "## The less wrong way"
   ]
  },
  {
   "cell_type": "code",
   "execution_count": 269,
   "id": "7f6105af",
   "metadata": {},
   "outputs": [
    {
     "data": {
      "text/plain": [
       "array([-0.99759056, -1.91014217, -0.26385605])"
      ]
     },
     "execution_count": 269,
     "metadata": {},
     "output_type": "execute_result"
    }
   ],
   "source": [
    "(X[1] - mu) / sigma"
   ]
  },
  {
   "cell_type": "code",
   "execution_count": 272,
   "id": "6d8db2b1",
   "metadata": {},
   "outputs": [
    {
     "data": {
      "text/plain": [
       "array([ 3.33066907e-17,  0.00000000e+00, -2.22044605e-17])"
      ]
     },
     "execution_count": 272,
     "metadata": {},
     "output_type": "execute_result"
    }
   ],
   "source": [
    "# for loop using ufuncs\n",
    "\n",
    "# using for loops\n",
    "\n",
    "Xc = X.copy()\n",
    "mu = X.mean(0)\n",
    "sigma = X.std(0)\n",
    "\n",
    "Xc = (X - mu) / sigma\n",
    "\n",
    "Xc.mean(0)"
   ]
  },
  {
   "cell_type": "markdown",
   "id": "5afa7642",
   "metadata": {
    "slideshow": {
     "slide_type": "slide"
    }
   },
   "source": [
    "# The right way: broadcasting\n",
    "- Another means of vectorizing operations is to use NumPy's broadcasting functionality.\n",
    "- Broadcasting is simply a set of rules for applying binary ufuncs (e.g., addition, subtraction, multiplication, etc.) on arrays of different sizes.\n",
    "- (If you've used R, it has similar broadcasting semantics, with one important exception which is discussed below.)"
   ]
  },
  {
   "cell_type": "markdown",
   "id": "1a963d97",
   "metadata": {
    "slideshow": {
     "slide_type": "slide"
    }
   },
   "source": [
    "Recall that for arrays of the same size, binary operations are performed on an element-by-element basis:\n",
    "\n",
    "\n",
    "\n",
    "\n",
    "\n",
    "\n",
    "\n",
    "\n",
    "\n",
    "\n",
    "\n"
   ]
  },
  {
   "cell_type": "code",
   "execution_count": 273,
   "id": "ce8c99fb",
   "metadata": {},
   "outputs": [
    {
     "data": {
      "text/plain": [
       "array([5, 6, 7])"
      ]
     },
     "execution_count": 273,
     "metadata": {},
     "output_type": "execute_result"
    }
   ],
   "source": [
    "a = np.array([0, 1, 2])\n",
    "b = np.array([5, 5, 5])\n",
    "a + b"
   ]
  },
  {
   "cell_type": "markdown",
   "id": "f9d8ce6d",
   "metadata": {
    "slideshow": {
     "slide_type": "slide"
    }
   },
   "source": [
    "Broadcasting allows these types of binary operations to be performed on arrays of different sizes:\n",
    "\n",
    "\n",
    "\n",
    "\n",
    "\n",
    "\n",
    "\n",
    "\n",
    "\n",
    "\n",
    "\n",
    "\n",
    "\n"
   ]
  },
  {
   "cell_type": "code",
   "execution_count": 277,
   "id": "7d9aeaaf",
   "metadata": {},
   "outputs": [
    {
     "data": {
      "text/plain": [
       "array([5, 6, 7])"
      ]
     },
     "execution_count": 277,
     "metadata": {},
     "output_type": "execute_result"
    }
   ],
   "source": [
    "a + np.array([5, 5, 5])"
   ]
  },
  {
   "cell_type": "markdown",
   "id": "eb4a59d1",
   "metadata": {
    "slideshow": {
     "slide_type": "notes"
    }
   },
   "source": [
    "We can think of this as an operation that stretches or duplicates the value 5 into the array [5, 5, 5], and adds the results; the advantage of NumPy's broadcasting is that this duplication of values does not actually take place.\n",
    "\n",
    "\n",
    "\n",
    "\n",
    "\n",
    "\n",
    "\n",
    "\n",
    "\n",
    "\n",
    "\n",
    "\n",
    "\n"
   ]
  },
  {
   "cell_type": "markdown",
   "id": "06bb503e",
   "metadata": {
    "slideshow": {
     "slide_type": "slide"
    }
   },
   "source": [
    "We can similarly extend this to arrays of higher dimensions:"
   ]
  },
  {
   "cell_type": "code",
   "execution_count": 278,
   "id": "9f974080",
   "metadata": {},
   "outputs": [
    {
     "data": {
      "text/plain": [
       "array([[1., 1., 1.],\n",
       "       [1., 1., 1.],\n",
       "       [1., 1., 1.]])"
      ]
     },
     "execution_count": 278,
     "metadata": {},
     "output_type": "execute_result"
    }
   ],
   "source": [
    "M = np.ones((3, 3)); M"
   ]
  },
  {
   "cell_type": "code",
   "execution_count": 298,
   "id": "31c04af2",
   "metadata": {},
   "outputs": [
    {
     "data": {
      "text/plain": [
       "array([[1., 2., 3.],\n",
       "       [1., 2., 3.],\n",
       "       [1., 2., 3.]])"
      ]
     },
     "execution_count": 298,
     "metadata": {},
     "output_type": "execute_result"
    }
   ],
   "source": [
    "v = np.arange(3)\n",
    "v1 = v\n",
    "np.array([v] * 3) + M"
   ]
  },
  {
   "cell_type": "markdown",
   "id": "a622ec39",
   "metadata": {
    "slideshow": {
     "slide_type": "slide"
    }
   },
   "source": [
    "## Rules of Broadcasting\n",
    "- Rule 1: If the two arrays differ in their number of dimensions, the shape of the one with fewer dimensions is *padded* with ones on its leading (left) side.\n",
    "- Rule 2: If the shape of the two arrays does not match in any dimension, the array with shape equal to 1 in that dimension is stretched to match the other shape.\n",
    "- Rule 3: If in any dimension the sizes disagree and neither is equal to 1, an error is raised.  (**Different from R**)."
   ]
  },
  {
   "attachments": {
    "image.png": {
     "image/png": "[encoded data removed]"
    }
   },
   "cell_type": "markdown",
   "id": "4f1c5edc",
   "metadata": {},
   "source": [
    "![image.png](attachment:image.png)"
   ]
  },
  {
   "cell_type": "markdown",
   "id": "72d77ace",
   "metadata": {
    "slideshow": {
     "slide_type": "slide"
    }
   },
   "source": [
    "## Example: rank-1 matrix\n",
    "\n",
    "Consider the outer product $u v^\\intercal$ where $u,v$ are vectors of the same dimension."
   ]
  },
  {
   "cell_type": "code",
   "execution_count": 302,
   "id": "5bc8027a",
   "metadata": {},
   "outputs": [
    {
     "data": {
      "text/plain": [
       "(array([0, 1, 2]), array([3, 4, 5]))"
      ]
     },
     "execution_count": 302,
     "metadata": {},
     "output_type": "execute_result"
    }
   ],
   "source": [
    "u = np.arange(3)\n",
    "v = np.arange(3) + 3\n",
    "\n",
    "u, v"
   ]
  },
  {
   "cell_type": "markdown",
   "id": "35d0b844",
   "metadata": {
    "slideshow": {
     "slide_type": "slide"
    }
   },
   "source": [
    "You might naively hope that expressing $u v^\\intercal$ as matrix multiplication would work as God intended."
   ]
  },
  {
   "cell_type": "code",
   "execution_count": 309,
   "id": "d275d80f",
   "metadata": {},
   "outputs": [
    {
     "data": {
      "text/plain": [
       "14"
      ]
     },
     "execution_count": 309,
     "metadata": {},
     "output_type": "execute_result"
    }
   ],
   "source": [
    "u.dot(v.T)"
   ]
  },
  {
   "cell_type": "markdown",
   "id": "e54bce31",
   "metadata": {},
   "source": [
    "You would be wrong."
   ]
  },
  {
   "cell_type": "markdown",
   "id": "52701948",
   "metadata": {
    "slideshow": {
     "slide_type": "slide"
    }
   },
   "source": [
    "To get this to work, we need to add axes, which is done using either `np.newaxis`, or more idiomatically, `None`:"
   ]
  },
  {
   "cell_type": "code",
   "execution_count": 346,
   "id": "4c0b9d22",
   "metadata": {},
   "outputs": [
    {
     "data": {
      "text/plain": [
       "array([[ 0.20741927, -0.818192  ],\n",
       "       [-1.86973442, -0.25328556],\n",
       "       [ 2.12841215, -0.18673398],\n",
       "       [-0.33606702,  0.38832209],\n",
       "       [-0.90809492, -0.20179897]])"
      ]
     },
     "execution_count": 346,
     "metadata": {},
     "output_type": "execute_result"
    }
   ],
   "source": [
    "X[::2, :2]"
   ]
  },
  {
   "cell_type": "markdown",
   "id": "4e234262",
   "metadata": {
    "slideshow": {
     "slide_type": "slide"
    }
   },
   "source": [
    "## Standardizing  the right way"
   ]
  },
  {
   "cell_type": "code",
   "execution_count": 347,
   "id": "7e1239bf",
   "metadata": {},
   "outputs": [
    {
     "data": {
      "text/plain": [
       "(3,)"
      ]
     },
     "execution_count": 347,
     "metadata": {},
     "output_type": "execute_result"
    }
   ],
   "source": [
    "X.mean(0).shape"
   ]
  },
  {
   "cell_type": "code",
   "execution_count": 164,
   "id": "5d40c3b0",
   "metadata": {},
   "outputs": [
    {
     "data": {
      "text/plain": [
       "array([[ 1.64392633,  1.72622737, -0.85967099],\n",
       "       [-0.08502702, -1.75922421,  0.60582557],\n",
       "       [ 0.17837787,  1.40185741, -1.90496637],\n",
       "       [-1.54874149,  0.51071671, -0.33924572],\n",
       "       [-1.20055905, -0.20099327,  0.69935881],\n",
       "       [ 1.31144423, -0.20488966,  1.6046082 ],\n",
       "       [-0.84357476, -1.14891286,  0.36834716],\n",
       "       [-0.07165865,  0.15120344,  0.33841694],\n",
       "       [ 0.93729641,  0.04547832, -1.17950082],\n",
       "       [-0.32148386, -0.52146324,  0.66682723]])"
      ]
     },
     "execution_count": 164,
     "metadata": {},
     "output_type": "execute_result"
    }
   ],
   "source": [
    "(X - X.mean(0)) / X.std(0)"
   ]
  },
  {
   "cell_type": "markdown",
   "id": "180178d9",
   "metadata": {
    "slideshow": {
     "slide_type": "slide"
    }
   },
   "source": [
    "# Reshaping of Arrays\n",
    "- Often it can be useful to change the shape of an array without modifying the underlying data.\n",
    "- This is done using the `.reshape()` function.\n",
    "- The new shape must have the same size as the old shape."
   ]
  },
  {
   "cell_type": "code",
   "execution_count": 356,
   "id": "02045009",
   "metadata": {},
   "outputs": [
    {
     "data": {
      "text/plain": [
       "(5, 3)"
      ]
     },
     "execution_count": 356,
     "metadata": {},
     "output_type": "execute_result"
    }
   ],
   "source": [
    "X.reshape(5, 2, 3).mean(axis=1).shape"
   ]
  },
  {
   "cell_type": "markdown",
   "id": "b7cf53df",
   "metadata": {
    "slideshow": {
     "slide_type": "slide"
    }
   },
   "source": [
    "- `.reshape()` takes a special argument, `-1`, which will absorb any remaining unspecified dimensions.\n",
    "- In particular, `.reshape(-1)` flattens the whole array into a vector."
   ]
  },
  {
   "cell_type": "code",
   "execution_count": 172,
   "id": "a101c4f2",
   "metadata": {},
   "outputs": [
    {
     "data": {
      "text/plain": [
       "array([ 1.234     ,  0.78434854, -0.52804012, -0.07206382, -1.47326498,\n",
       "        0.69425051,  0.12691414,  0.57424606, -1.39986389, -1.17776427,\n",
       "       -0.00296789, -0.09398183, -0.91474475, -0.46396012,  0.77226147,\n",
       "        0.98284063, -0.46648391,  1.52728053, -0.64507625, -1.07795117,\n",
       "        0.49618274, -0.06196525, -0.23583356,  0.47121957,  0.70020667,\n",
       "       -0.30431435, -0.7947927 , -0.25068502, -0.67153647,  0.74512865])"
      ]
     },
     "execution_count": 172,
     "metadata": {},
     "output_type": "execute_result"
    }
   ],
   "source": [
    "X.reshape(-1)  \n",
    "X.reshape(10 * 3)"
   ]
  },
  {
   "cell_type": "markdown",
   "id": "a67bab5c",
   "metadata": {
    "slideshow": {
     "slide_type": "slide"
    }
   },
   "source": [
    "## Uses of reshape\n",
    "- Often useful for grouping or stratifying data.\n",
    "- Suppose our $n$ samples are naturally stratified into pairs: $(1, 2), (3, 4), \\dots, (9, 10)$.\n",
    "- We can reshape our $10\\times 3$ data matrix into a $5 \\times 2 \\times 3$ array:"
   ]
  },
  {
   "cell_type": "code",
   "execution_count": 173,
   "id": "8955bcbb",
   "metadata": {
    "slideshow": {
     "slide_type": "-"
    }
   },
   "outputs": [
    {
     "data": {
      "text/plain": [
       "array([[ 1.234     ,  0.78434854, -0.52804012],\n",
       "       [-0.07206382, -1.47326498,  0.69425051]])"
      ]
     },
     "execution_count": 173,
     "metadata": {},
     "output_type": "execute_result"
    }
   ],
   "source": [
    "X.reshape(5, 2, 3)[0]  # first two rows of X"
   ]
  },
  {
   "cell_type": "markdown",
   "id": "a95fc953",
   "metadata": {
    "slideshow": {
     "slide_type": "slide"
    }
   },
   "source": [
    "Why is this useful? \n",
    "- Suppose we wanted to compute the mean predictor within each group.\n",
    "- This returns a view, so no copying takes place, so it's very fast."
   ]
  },
  {
   "cell_type": "code",
   "execution_count": 174,
   "id": "11aaff23",
   "metadata": {},
   "outputs": [
    {
     "data": {
      "text/plain": [
       "array([[ 0.58096809, -0.34445822,  0.08310519],\n",
       "       [-0.52542507,  0.28563908, -0.74692286],\n",
       "       [ 0.03404794, -0.46522201,  1.149771  ],\n",
       "       [-0.35352075, -0.65689237,  0.48370115],\n",
       "       [ 0.22476082, -0.48792541, -0.02483202]])"
      ]
     },
     "execution_count": 174,
     "metadata": {},
     "output_type": "execute_result"
    }
   ],
   "source": [
    "X.reshape(5, 2, 3).mean(axis=1)"
   ]
  },
  {
   "cell_type": "markdown",
   "id": "95a52d2d",
   "metadata": {
    "slideshow": {
     "slide_type": "slide"
    }
   },
   "source": [
    "## Array Slicing: Accessing Subarrays\n",
    "- Just as we can use square brackets to access individual array elements, we can also use them to access subarrays with the slice notation, marked by the colon (:) character.\n",
    "- The NumPy slicing syntax follows that of the standard Python list; to access a slice of an array x, use this:\n",
    "\n",
    "```\n",
    "x[start:stop:step]\n",
    "\n",
    "```\n",
    "- If any of these are unspecified, they default to the values start=0, stop=size of dimension, step=1."
   ]
  },
  {
   "cell_type": "markdown",
   "id": "f8a746fb",
   "metadata": {
    "slideshow": {
     "slide_type": "slide"
    }
   },
   "source": [
    "### One-dimensional subarrays"
   ]
  },
  {
   "cell_type": "code",
   "execution_count": 94,
   "id": "57ca0c66",
   "metadata": {},
   "outputs": [
    {
     "data": {
      "text/plain": [
       "array([-0.69746464, -0.04752447,  0.71744105,  0.70070289, -0.50653514])"
      ]
     },
     "execution_count": 94,
     "metadata": {},
     "output_type": "execute_result"
    }
   ],
   "source": [
    "y[:5]  # first five elements"
   ]
  },
  {
   "cell_type": "code",
   "execution_count": 95,
   "id": "6bc98774",
   "metadata": {},
   "outputs": [
    {
     "data": {
      "text/plain": [
       "array([ 0.56344361, -1.11513262,  0.97993314, -0.11486581,  0.99367934])"
      ]
     },
     "execution_count": 95,
     "metadata": {},
     "output_type": "execute_result"
    }
   ],
   "source": [
    "y[5:]  # elements after index 5"
   ]
  },
  {
   "cell_type": "code",
   "execution_count": 96,
   "id": "055f40b9",
   "metadata": {
    "slideshow": {
     "slide_type": "-"
    }
   },
   "outputs": [
    {
     "data": {
      "text/plain": [
       "array([-0.69746464,  0.71744105, -0.50653514, -1.11513262, -0.11486581])"
      ]
     },
     "execution_count": 96,
     "metadata": {},
     "output_type": "execute_result"
    }
   ],
   "source": [
    "y[::2]  # every other element"
   ]
  },
  {
   "cell_type": "markdown",
   "id": "65a6e86c",
   "metadata": {
    "slideshow": {
     "slide_type": "slide"
    }
   },
   "source": [
    "- A potentially confusing case is when the step value is negative.\n",
    "- In this case, the defaults for start and stop are swapped: start=size of dimension, stop=0.\n",
    "- This becomes a convenient way to reverse an array:\n",
    "\n",
    "\n",
    "\n",
    "\n",
    "\n",
    "\n",
    "\n",
    "\n",
    "\n",
    "\n",
    "\n",
    "\n",
    "\n",
    "\n",
    "\n",
    "\n",
    "\n"
   ]
  },
  {
   "cell_type": "code",
   "execution_count": 97,
   "id": "67ca5e48",
   "metadata": {},
   "outputs": [
    {
     "data": {
      "text/plain": [
       "array([ 0.99367934, -0.11486581,  0.97993314, -1.11513262,  0.56344361,\n",
       "       -0.50653514,  0.70070289,  0.71744105, -0.04752447, -0.69746464])"
      ]
     },
     "execution_count": 97,
     "metadata": {},
     "output_type": "execute_result"
    }
   ],
   "source": [
    "y[::-1]  # all elements, reversed"
   ]
  },
  {
   "cell_type": "code",
   "execution_count": 98,
   "id": "46364a4e",
   "metadata": {},
   "outputs": [
    {
     "data": {
      "text/plain": [
       "array([ 0.56344361,  0.70070289, -0.04752447])"
      ]
     },
     "execution_count": 98,
     "metadata": {},
     "output_type": "execute_result"
    }
   ],
   "source": [
    "y[5::-2]  # reversed every other from index 5"
   ]
  },
  {
   "cell_type": "markdown",
   "id": "d5a95b78",
   "metadata": {
    "slideshow": {
     "slide_type": "slide"
    }
   },
   "source": [
    "### Multi-dimensional subarrays¶\n",
    "\n"
   ]
  },
  {
   "cell_type": "markdown",
   "id": "ad375afc",
   "metadata": {},
   "source": [
    "Multi-dimensional slices work in the same way, with multiple slices separated by commas:\n",
    "\n",
    "\n",
    "\n",
    "\n",
    "\n",
    "\n",
    "\n",
    "\n",
    "\n",
    "\n",
    "\n"
   ]
  },
  {
   "cell_type": "code",
   "execution_count": 99,
   "id": "ea2d944e",
   "metadata": {},
   "outputs": [
    {
     "data": {
      "text/plain": [
       "array([[ 3.00000000e+00,  7.84348539e-01, -5.28040116e-01],\n",
       "       [-7.20638186e-02, -1.47326498e+00,  6.94250505e-01],\n",
       "       [ 1.26914136e-01,  5.74246060e-01, -1.39986389e+00],\n",
       "       [-1.17776427e+00, -2.96789351e-03, -9.39818321e-02],\n",
       "       [-9.14744748e-01, -4.63960118e-01,  7.72261466e-01],\n",
       "       [ 9.82840627e-01, -4.66483906e-01,  1.52728053e+00],\n",
       "       [-6.45076246e-01, -1.07795117e+00,  4.96182737e-01],\n",
       "       [-6.19652495e-02, -2.35833563e-01,  4.71219572e-01],\n",
       "       [ 7.00206665e-01, -3.04314345e-01, -7.94792699e-01],\n",
       "       [-2.50685018e-01, -6.71536473e-01,  7.45128651e-01]])"
      ]
     },
     "execution_count": 99,
     "metadata": {},
     "output_type": "execute_result"
    }
   ],
   "source": [
    "X "
   ]
  },
  {
   "cell_type": "code",
   "execution_count": 101,
   "id": "4f5e4438",
   "metadata": {},
   "outputs": [
    {
     "data": {
      "text/plain": [
       "array([[ 3.        ,  0.78434854, -0.52804012],\n",
       "       [-0.07206382, -1.47326498,  0.69425051]])"
      ]
     },
     "execution_count": 101,
     "metadata": {},
     "output_type": "execute_result"
    }
   ],
   "source": [
    "X[:2, :3]  # two rows, three columns"
   ]
  },
  {
   "cell_type": "code",
   "execution_count": 102,
   "id": "822b15d7",
   "metadata": {},
   "outputs": [
    {
     "data": {
      "text/plain": [
       "array([[ 3.        , -0.52804012],\n",
       "       [-0.07206382,  0.69425051],\n",
       "       [ 0.12691414, -1.39986389]])"
      ]
     },
     "execution_count": 102,
     "metadata": {},
     "output_type": "execute_result"
    }
   ],
   "source": [
    "X[:3, ::2]  # all rows, every other column"
   ]
  },
  {
   "cell_type": "markdown",
   "id": "ea5ae1f2",
   "metadata": {
    "slideshow": {
     "slide_type": "slide"
    }
   },
   "source": [
    "One commonly needed routine is accessing of single rows or columns of an array:\n",
    "\n",
    "\n",
    "\n",
    "\n",
    "\n",
    "\n",
    "\n",
    "\n",
    "\n",
    "\n",
    "\n"
   ]
  },
  {
   "cell_type": "code",
   "execution_count": 487,
   "id": "bd81e014",
   "metadata": {},
   "outputs": [
    {
     "data": {
      "text/plain": [
       "(10, 1)"
      ]
     },
     "execution_count": 487,
     "metadata": {},
     "output_type": "execute_result"
    }
   ],
   "source": [
    "n = 10\n",
    "p = 5\n",
    "\n",
    "X = np.random.normal(size=(n, p))\n",
    "\n",
    "\n",
    "\n",
    "X[:, :1].shape  # first predictor"
   ]
  },
  {
   "cell_type": "markdown",
   "id": "e84cfcee",
   "metadata": {
    "slideshow": {
     "slide_type": "slide"
    }
   },
   "source": [
    "### Subarrays as no-copy views"
   ]
  },
  {
   "cell_type": "markdown",
   "id": "13b32475",
   "metadata": {
    "slideshow": {
     "slide_type": "slide"
    }
   },
   "source": [
    "- One important–and extremely useful–thing to know about array slices is that they return views rather than copies of the array data.\n",
    "- This is one area in which NumPy array slicing differs from Python list slicing: in lists, slices will be copies."
   ]
  },
  {
   "cell_type": "code",
   "execution_count": 491,
   "id": "e965f515",
   "metadata": {},
   "outputs": [],
   "source": [
    "X\n",
    "X_sub = X[:2, :2]"
   ]
  },
  {
   "cell_type": "code",
   "execution_count": 492,
   "id": "f514ba4b",
   "metadata": {},
   "outputs": [
    {
     "data": {
      "text/plain": [
       "array([[ 1.234     ,  1.234     ,  1.13793193,  2.02600695, -0.02920387],\n",
       "       [ 1.234     ,  1.234     , -3.21236515, -1.0564065 , -0.10708063],\n",
       "       [ 0.38101493, -1.2032865 ,  0.73506285, -0.24201158,  0.85567282],\n",
       "       [ 0.18847571, -0.69971381, -0.85169513,  0.98550726, -0.13635247],\n",
       "       [ 1.87888848, -1.24752692, -0.2644452 ,  0.28991339, -0.75663696],\n",
       "       [ 0.19540991,  0.21384274, -0.72142145,  0.43236906,  0.08325719],\n",
       "       [ 0.51679667,  0.07013717, -0.32429725,  1.97328666, -0.07206247],\n",
       "       [ 0.34983223,  0.4966692 , -0.24699005, -1.55308928,  0.82499552],\n",
       "       [ 0.0640416 ,  0.35655709,  0.34966871,  0.71370257,  1.59144689],\n",
       "       [-0.45779636,  1.70550991, -1.84156244,  0.94332984, -0.38075913]])"
      ]
     },
     "execution_count": 492,
     "metadata": {},
     "output_type": "execute_result"
    }
   ],
   "source": [
    "X_sub[:] = 1.234 # if we modify this subarray, the original array is changed too\n",
    "X"
   ]
  },
  {
   "cell_type": "markdown",
   "id": "1730ea30",
   "metadata": {
    "slideshow": {
     "slide_type": "slide"
    }
   },
   "source": [
    "# Comparisons, Masks, and Boolean Logic\n",
    "- Masking comes up when you want to extract, modify, count, or otherwise manipulate values in an array based on some criterion: \n",
    "- for example, you might wish to count all values greater than a certain value, or perhaps remove all outliers that are above some threshold.\n",
    "- In NumPy, Boolean masking is often the most efficient way to accomplish these types of tasks.\n",
    "- Boolean masking works similar to R."
   ]
  },
  {
   "cell_type": "markdown",
   "id": "95b0eb72",
   "metadata": {
    "slideshow": {
     "slide_type": "slide"
    }
   },
   "source": [
    "Comparison operators are ufuncs that return a special type of array called boolean (True/False).\n",
    "\n",
    "\n",
    "\n",
    "\n",
    "\n",
    "\n",
    "\n",
    "\n",
    "\n",
    "\n",
    "\n",
    "\n",
    "\n"
   ]
  },
  {
   "cell_type": "code",
   "execution_count": 497,
   "id": "e0477b75",
   "metadata": {},
   "outputs": [
    {
     "data": {
      "text/plain": [
       "array([0.21188038, 0.05964591, 1.19302456])"
      ]
     },
     "execution_count": 497,
     "metadata": {},
     "output_type": "execute_result"
    }
   ],
   "source": [
    "y[y > .01]"
   ]
  },
  {
   "cell_type": "code",
   "execution_count": null,
   "id": "06c6be8b",
   "metadata": {
    "slideshow": {
     "slide_type": "slide"
    }
   },
   "outputs": [],
   "source": [
    "These can be used to index (like in R):"
   ]
  },
  {
   "cell_type": "code",
   "execution_count": 184,
   "id": "f4c3f43c",
   "metadata": {},
   "outputs": [
    {
     "data": {
      "text/plain": [
       "array([0.71744105, 0.70070289, 0.56344361, 0.97993314, 0.99367934])"
      ]
     },
     "execution_count": 184,
     "metadata": {},
     "output_type": "execute_result"
    }
   ],
   "source": [
    "y[y > .1]  # all responses that were greater than .1"
   ]
  },
  {
   "cell_type": "markdown",
   "id": "02be5e21",
   "metadata": {
    "slideshow": {
     "slide_type": "slide"
    }
   },
   "source": [
    "If you pass a boolean vector to a multidimensional array, it will index along the leading axis:"
   ]
  },
  {
   "cell_type": "code",
   "execution_count": 503,
   "id": "f2641f91",
   "metadata": {},
   "outputs": [
    {
     "ename": "IndexError",
     "evalue": "boolean index did not match indexed array along dimension 1; dimension is 5 but corresponding boolean dimension is 10",
     "output_type": "error",
     "traceback": [
      "\u001b[0;31m---------------------------------------------------------------------------\u001b[0m",
      "\u001b[0;31mIndexError\u001b[0m                                Traceback (most recent call last)",
      "Cell \u001b[0;32mIn[503], line 3\u001b[0m\n\u001b[1;32m      1\u001b[0m (y \u001b[38;5;241m>\u001b[39m \u001b[38;5;241m.1\u001b[39m)\u001b[38;5;241m.\u001b[39msum()\n\u001b[0;32m----> 3\u001b[0m \u001b[43mX\u001b[49m\u001b[43m[\u001b[49m\u001b[43m:\u001b[49m\u001b[43m,\u001b[49m\u001b[43m \u001b[49m\u001b[43my\u001b[49m\u001b[43m \u001b[49m\u001b[38;5;241;43m>\u001b[39;49m\u001b[43m \u001b[49m\u001b[38;5;241;43m.1\u001b[39;49m\u001b[43m]\u001b[49m  \u001b[38;5;66;03m# data rows for the y > .1 observations\u001b[39;00m\n",
      "\u001b[0;31mIndexError\u001b[0m: boolean index did not match indexed array along dimension 1; dimension is 5 but corresponding boolean dimension is 10"
     ]
    }
   ],
   "source": [
    "(y > .1).sum()\n",
    "\n",
    "X[:, y > .1]  # data rows for the y > .1 observations"
   ]
  },
  {
   "cell_type": "markdown",
   "id": "596067e4",
   "metadata": {
    "slideshow": {
     "slide_type": "slide"
    }
   },
   "source": [
    "## Placeholders\n",
    "- What if we wanted to filter on columns instead of rows?\n",
    "- For example, keep all the predictors that had a stddev of > .8."
   ]
  },
  {
   "cell_type": "code",
   "execution_count": 364,
   "id": "e613093f",
   "metadata": {},
   "outputs": [
    {
     "ename": "IndexError",
     "evalue": "boolean index did not match indexed array along dimension 0; dimension is 10 but corresponding boolean dimension is 3",
     "output_type": "error",
     "traceback": [
      "\u001b[0;31m---------------------------------------------------------------------------\u001b[0m",
      "\u001b[0;31mIndexError\u001b[0m                                Traceback (most recent call last)",
      "Cell \u001b[0;32mIn[364], line 1\u001b[0m\n\u001b[0;32m----> 1\u001b[0m \u001b[43mX\u001b[49m\u001b[43m[\u001b[49m\u001b[43mX\u001b[49m\u001b[38;5;241;43m.\u001b[39;49m\u001b[43mstd\u001b[49m\u001b[43m(\u001b[49m\u001b[38;5;241;43m0\u001b[39;49m\u001b[43m)\u001b[49m\u001b[43m \u001b[49m\u001b[38;5;241;43m>\u001b[39;49m\u001b[43m \u001b[49m\u001b[38;5;241;43m.8\u001b[39;49m\u001b[43m]\u001b[49m\n",
      "\u001b[0;31mIndexError\u001b[0m: boolean index did not match indexed array along dimension 0; dimension is 10 but corresponding boolean dimension is 3"
     ]
    }
   ],
   "source": [
    "X[X.std(0) > .8]"
   ]
  },
  {
   "cell_type": "markdown",
   "id": "24d15796",
   "metadata": {
    "slideshow": {
     "slide_type": "slide"
    }
   },
   "source": [
    "To do this correctly we need to use placeholders, which will allow us to access \"deeper\" (further to the right) dimensions of the array:"
   ]
  },
  {
   "cell_type": "code",
   "execution_count": 365,
   "id": "feabb8c8",
   "metadata": {},
   "outputs": [
    {
     "data": {
      "text/plain": [
       "array([[ 0.20741927],\n",
       "       [-1.36719225],\n",
       "       [-1.86973442],\n",
       "       [-0.05603217],\n",
       "       [ 2.12841215],\n",
       "       [ 0.54449148],\n",
       "       [-0.33606702],\n",
       "       [ 0.22175497],\n",
       "       [-0.90809492],\n",
       "       [-1.26514005]])"
      ]
     },
     "execution_count": 365,
     "metadata": {},
     "output_type": "execute_result"
    }
   ],
   "source": [
    "X[:, X.std(0) > .8]"
   ]
  },
  {
   "cell_type": "markdown",
   "id": "34800049",
   "metadata": {
    "slideshow": {
     "slide_type": "slide"
    }
   },
   "source": [
    "# Fancy Indexing\n",
    "- We saw how to access and modify portions of arrays using simple indices (e.g., arr[0]), slices (e.g., arr[:5]), and Boolean masks (e.g., arr[arr > 0]).\n",
    "- We'll look at another style of array indexing, known as fancy indexing, that is like the simple indexing we've already seen, but we pass arrays of indices in place of single scalars."
   ]
  },
  {
   "cell_type": "markdown",
   "id": "3d19762f",
   "metadata": {
    "slideshow": {
     "slide_type": "slide"
    }
   },
   "source": [
    "Fancy indexing is conceptually simple: it means passing an array of indices to access multiple array elements at once:"
   ]
  },
  {
   "cell_type": "code",
   "execution_count": 504,
   "id": "524e7310",
   "metadata": {},
   "outputs": [
    {
     "data": {
      "text/plain": [
       "array([ 8, 77, 65, 43, 43, 85,  8, 69, 20,  9])"
      ]
     },
     "execution_count": 504,
     "metadata": {},
     "output_type": "execute_result"
    }
   ],
   "source": [
    "rng = np.random.default_rng(42)\n",
    "\n",
    "x = rng.integers(100, size=10)\n",
    "x"
   ]
  },
  {
   "cell_type": "code",
   "execution_count": 507,
   "id": "bbf92d1e",
   "metadata": {
    "slideshow": {
     "slide_type": "slide"
    }
   },
   "outputs": [
    {
     "data": {
      "text/plain": [
       "array([43, 69, 65])"
      ]
     },
     "execution_count": 507,
     "metadata": {},
     "output_type": "execute_result"
    }
   ],
   "source": [
    " # Suppose we want to access three different elements.\n",
    "\n",
    "[x[3], x[7], x[2]]\n",
    "\n",
    "x[np.array([3, 7, 2])]"
   ]
  },
  {
   "cell_type": "markdown",
   "id": "f0d51aa2",
   "metadata": {
    "slideshow": {
     "slide_type": "slide"
    }
   },
   "source": [
    "Alternatively, we can pass a single list or array of indices:"
   ]
  },
  {
   "cell_type": "code",
   "execution_count": 375,
   "id": "397f5b3b",
   "metadata": {},
   "outputs": [
    {
     "data": {
      "text/plain": [
       "array([43, 69, 43])"
      ]
     },
     "execution_count": 375,
     "metadata": {},
     "output_type": "execute_result"
    }
   ],
   "source": [
    "ind = [3, 7, 4]\n",
    "x[ind]"
   ]
  },
  {
   "cell_type": "markdown",
   "id": "90676541",
   "metadata": {
    "slideshow": {
     "slide_type": "slide"
    }
   },
   "source": [
    "When using fancy indexing, the shape of the result reflects the shape of the index arrays rather than the shape of the array being indexed:"
   ]
  },
  {
   "cell_type": "code",
   "execution_count": 376,
   "id": "cb16d2b1",
   "metadata": {},
   "outputs": [
    {
     "data": {
      "text/plain": [
       "array([[43, 69],\n",
       "       [43, 85]])"
      ]
     },
     "execution_count": 376,
     "metadata": {},
     "output_type": "execute_result"
    }
   ],
   "source": [
    "ind = np.array([[3, 7],\n",
    "                [4, 5]])\n",
    "x[ind]"
   ]
  },
  {
   "cell_type": "markdown",
   "id": "15049da3",
   "metadata": {
    "slideshow": {
     "slide_type": "slide"
    }
   },
   "source": [
    "Fancy indexing also works in multiple dimensions:\n",
    "\n",
    "\n",
    "\n",
    "\n",
    "\n",
    "\n",
    "\n",
    "\n",
    "\n",
    "\n",
    "\n"
   ]
  },
  {
   "cell_type": "code",
   "execution_count": 377,
   "id": "739b9c12",
   "metadata": {},
   "outputs": [
    {
     "data": {
      "text/plain": [
       "array([[ 0,  1,  2,  3],\n",
       "       [ 4,  5,  6,  7],\n",
       "       [ 8,  9, 10, 11]])"
      ]
     },
     "execution_count": 377,
     "metadata": {},
     "output_type": "execute_result"
    }
   ],
   "source": [
    "X = np.arange(12).reshape((3, 4))\n",
    "X"
   ]
  },
  {
   "cell_type": "markdown",
   "id": "ae3bbdec",
   "metadata": {
    "slideshow": {
     "slide_type": "slide"
    }
   },
   "source": [
    "Like with standard indexing, the first index refers to the row, and the second to the column:\n",
    "\n",
    "\n",
    "\n",
    "\n",
    "\n",
    "\n",
    "\n",
    "\n",
    "\n",
    "\n",
    "\n"
   ]
  },
  {
   "cell_type": "code",
   "execution_count": 510,
   "id": "3d01aa44",
   "metadata": {},
   "outputs": [
    {
     "data": {
      "text/plain": [
       "array([ 1.13793193,  1.234     , -0.24201158])"
      ]
     },
     "execution_count": 510,
     "metadata": {},
     "output_type": "execute_result"
    }
   ],
   "source": [
    "row = np.array([0, 1, 2])\n",
    "col = np.array([2, 1, 3])\n",
    "X[row, col]\n"
   ]
  },
  {
   "cell_type": "markdown",
   "id": "50f30115",
   "metadata": {
    "slideshow": {
     "slide_type": "slide"
    }
   },
   "source": [
    "The pairing of indices in fancy indexing follows all the broadcasting rules that we've already seen:\n",
    "\n",
    "\n",
    "\n",
    "\n",
    "\n",
    "\n",
    "\n",
    "\n",
    "\n",
    "\n",
    "\n"
   ]
  },
  {
   "cell_type": "code",
   "execution_count": 379,
   "id": "3b09ed4f",
   "metadata": {},
   "outputs": [
    {
     "data": {
      "text/plain": [
       "array([[ 2,  1,  3],\n",
       "       [ 6,  5,  7],\n",
       "       [10,  9, 11]])"
      ]
     },
     "execution_count": 379,
     "metadata": {},
     "output_type": "execute_result"
    }
   ],
   "source": [
    "X[row[:, np.newaxis], col]\n"
   ]
  },
  {
   "cell_type": "markdown",
   "id": "7a11787c",
   "metadata": {},
   "source": [
    "Remember: with fancy indexing that the return value reflects the broadcasted shape of the indices, rather than the shape of the array being indexed.\n",
    "\n",
    "\n",
    "\n",
    "\n",
    "\n",
    "\n",
    "\n",
    "\n",
    "\n",
    "\n",
    "\n",
    "\n",
    "\n"
   ]
  },
  {
   "cell_type": "markdown",
   "id": "9ce8bf07",
   "metadata": {
    "slideshow": {
     "slide_type": "slide"
    }
   },
   "source": [
    "## Example: Bootstrapping\n",
    "\n",
    "- Bootstrapping is an ideal use case for fancy indexing\n",
    "- Given two samples $X \\in \\mathbb{R}^{n_1}$ and $Y \\in \\mathbb{R}^{n_2}$, we want to assess whether $X$ came from a distribution with a lower (higher, different) median than $Y$.\n",
    "- Example: measuring height/weight between two groups?\n",
    "- How to test for significance?"
   ]
  },
  {
   "cell_type": "code",
   "execution_count": 520,
   "id": "0d4a9d23",
   "metadata": {
    "slideshow": {
     "slide_type": "-"
    }
   },
   "outputs": [
    {
     "data": {
      "text/plain": [
       "0.06951960913662791"
      ]
     },
     "execution_count": 520,
     "metadata": {},
     "output_type": "execute_result"
    }
   ],
   "source": [
    "X = rng.normal(5, 1, size=100)\n",
    "Y = rng.normal(5, 1, size=200)\n",
    "\n",
    "np.median(X) - np.median(Y) "
   ]
  },
  {
   "cell_type": "markdown",
   "id": "a9de0604",
   "metadata": {
    "slideshow": {
     "slide_type": "slide"
    }
   },
   "source": [
    "Nonparametrically bootstrap:"
   ]
  },
  {
   "cell_type": "code",
   "execution_count": 525,
   "id": "45adcc4d",
   "metadata": {},
   "outputs": [
    {
     "data": {
      "text/plain": [
       "array([-0.30076157,  0.88907749])"
      ]
     },
     "execution_count": 525,
     "metadata": {},
     "output_type": "execute_result"
    }
   ],
   "source": [
    "B = 100_000\n",
    "\n",
    "rng = np.random.default_rng(1)\n",
    "\n",
    "n1 = len(X)\n",
    "n2 = len(Y)\n",
    "\n",
    "X_inds = rng.choice(n1, size=(B, n1), replace=True)\n",
    "Y_inds = rng.choice(n2, size=(B, n2), replace=True)\n",
    "\n",
    "Xb = X[X_inds]  # (B, n1)\n",
    "Yb = Y[Y_inds]  # (B, n2)\n",
    "\n",
    "boots = np.median(Xb, axis=1) - np.median(Yb, axis=1)  # (B,)\n",
    "np.quantile(boots, [0.025, 1.0])\n",
    "\n",
    "# boots.min(), boots.max()"
   ]
  },
  {
   "cell_type": "markdown",
   "id": "c940c898",
   "metadata": {},
   "source": [
    "## Combined Indexing"
   ]
  },
  {
   "cell_type": "markdown",
   "id": "22f3a38a",
   "metadata": {},
   "source": [
    "For even more powerful operations, fancy indexing can be combined with the other indexing schemes we've seen:\n",
    "\n",
    "\n",
    "\n",
    "\n",
    "\n",
    "\n",
    "\n",
    "\n",
    "\n",
    "\n",
    "\n"
   ]
  },
  {
   "cell_type": "code",
   "execution_count": 380,
   "id": "14c0efae",
   "metadata": {},
   "outputs": [
    {
     "data": {
      "text/plain": [
       "array([10,  8,  9])"
      ]
     },
     "execution_count": 380,
     "metadata": {},
     "output_type": "execute_result"
    }
   ],
   "source": [
    "X[2, [2, 0, 1]] # combine fancy and simple indices"
   ]
  },
  {
   "cell_type": "code",
   "execution_count": 381,
   "id": "a07dceed",
   "metadata": {
    "slideshow": {
     "slide_type": "slide"
    }
   },
   "outputs": [
    {
     "data": {
      "text/plain": [
       "array([[ 6,  4,  5],\n",
       "       [10,  8,  9]])"
      ]
     },
     "execution_count": 381,
     "metadata": {},
     "output_type": "execute_result"
    }
   ],
   "source": [
    "X[1:, [2, 0, 1]] # combine fancy indexing with slicing"
   ]
  },
  {
   "cell_type": "code",
   "execution_count": 382,
   "id": "3bec95ff",
   "metadata": {
    "slideshow": {
     "slide_type": "slide"
    }
   },
   "outputs": [
    {
     "data": {
      "text/plain": [
       "array([[ 0,  2],\n",
       "       [ 4,  6],\n",
       "       [ 8, 10]])"
      ]
     },
     "execution_count": 382,
     "metadata": {},
     "output_type": "execute_result"
    }
   ],
   "source": [
    "mask = np.array([1, 0, 1, 0], dtype=bool)\n",
    "X[row[:, np.newaxis], mask] # combine fancy indexing with masking"
   ]
  },
  {
   "cell_type": "markdown",
   "id": "be2df495",
   "metadata": {},
   "source": [
    "## Example: Selecting Random Points"
   ]
  },
  {
   "cell_type": "markdown",
   "id": "5d9f0f26",
   "metadata": {},
   "source": [
    "Suppose we have an  $N \\times D$ matrix representing $N$ points in $D$ dimensions, such as the following points drawn from a two-dimensional normal distribution:\n",
    "\n",
    "\n",
    "\n",
    "\n",
    "\n",
    "\n",
    "\n",
    "\n",
    "\n",
    "\n",
    "\n"
   ]
  },
  {
   "cell_type": "code",
   "execution_count": 528,
   "id": "df0ed280",
   "metadata": {},
   "outputs": [
    {
     "data": {
      "text/plain": [
       "(10000, 2)"
      ]
     },
     "execution_count": 528,
     "metadata": {},
     "output_type": "execute_result"
    }
   ],
   "source": [
    "mean = [0, 0]\n",
    "cov = [[1, 2],\n",
    "       [2, 5]]\n",
    "X = rand.multivariate_normal(mean, cov, 10000)\n",
    "X.shape"
   ]
  },
  {
   "cell_type": "code",
   "execution_count": 530,
   "id": "033b76fc",
   "metadata": {
    "slideshow": {
     "slide_type": "slide"
    }
   },
   "outputs": [
    {
     "data": {
      "image/png": "[encoded data removed]",
      "text/plain": [
       "<Figure size 640x480 with 1 Axes>"
      ]
     },
     "metadata": {},
     "output_type": "display_data"
    }
   ],
   "source": [
    "import matplotlib.pyplot as plt\n",
    "plt.scatter(X[:, 0], X[:, 1], alpha=0.01); "
   ]
  },
  {
   "cell_type": "markdown",
   "id": "ec8c8d07",
   "metadata": {
    "slideshow": {
     "slide_type": "slide"
    }
   },
   "source": [
    "Let's use fancy indexing to select 20 random points. We'll do this by first choosing 20 random indices with no repeats, and use these indices to select a portion of the original array:"
   ]
  },
  {
   "cell_type": "code",
   "execution_count": 541,
   "id": "028c2f50",
   "metadata": {},
   "outputs": [
    {
     "data": {
      "text/plain": [
       "array([1718, 7378, 3027, 8057, 1737,  394, 2833,  883, 5796, 4141, 4511,\n",
       "       6878,  858, 3655, 2276,  817, 5276, 7269, 2671,  462, 5202, 3881,\n",
       "       7068, 8758, 1643, 7330, 5358, 4948, 5814, 7667, 3699, 3309, 2020,\n",
       "       2367, 1486, 5672,  166, 3323,  594, 6816, 4589, 5662, 4131, 2804,\n",
       "       8347, 6317, 6561, 9956, 2091, 3311, 9292,  733, 3499, 4523, 3913,\n",
       "       3018,  108, 6860, 6153, 1442, 9487, 5236, 1591, 7356, 8407, 8860,\n",
       "       9166, 9888, 5230, 8495, 2448, 6452,  292, 5390, 1192, 7604, 2880,\n",
       "       7656, 6928, 4574, 1855, 8984, 4587, 2542, 7492, 7194, 6471, 7542,\n",
       "       8762,  195,  727, 9428, 3685, 8155, 6550, 4516, 5616, 6492, 6792,\n",
       "       5449, 3039, 9123, 4227, 5161, 7812, 9331, 2623, 3769,  872,  427,\n",
       "       2025, 3304, 6212, 7077, 4145, 3140, 8343, 5164, 1535, 7289, 6093,\n",
       "       8309, 1350, 8745, 7633, 1158, 6345, 8446, 9567, 1918, 1484, 4726,\n",
       "       3101, 7886, 6343, 2075, 9722, 8756, 1548, 1572, 9730, 6641, 7371,\n",
       "       7725, 6141, 9571, 8730, 1946, 3144,  876, 3341,  297, 7803, 8063,\n",
       "       2554, 4946, 6677, 5280, 5058, 2898, 8191, 9827, 3103, 4154, 7203,\n",
       "       5156, 4525, 7561, 3006, 8052, 8749, 6572,  418, 6973, 1524, 1974,\n",
       "       7985, 4035, 6896, 5698,   29, 7373,  165, 3232,  988, 1195, 1872,\n",
       "       5345, 5491, 2732, 5489, 1242,  223, 7188, 5476, 9193, 3837, 2807,\n",
       "       1247, 2192])"
      ]
     },
     "execution_count": 541,
     "metadata": {},
     "output_type": "execute_result"
    }
   ],
   "source": [
    "indices = np.random.choice(X.shape[0], 200, replace=False)\n",
    "indices"
   ]
  },
  {
   "cell_type": "code",
   "execution_count": 543,
   "id": "0b587de6",
   "metadata": {
    "slideshow": {
     "slide_type": "slide"
    }
   },
   "outputs": [
    {
     "data": {
      "text/plain": [
       "(200, 2)"
      ]
     },
     "execution_count": 543,
     "metadata": {},
     "output_type": "execute_result"
    }
   ],
   "source": [
    "selection = X[indices]  # fancy indexing here\n",
    "selection.shape"
   ]
  },
  {
   "cell_type": "code",
   "execution_count": 544,
   "id": "8f72f785",
   "metadata": {},
   "outputs": [
    {
     "data": {
      "text/plain": [
       "<matplotlib.collections.PathCollection at 0x7fa6b87faf20>"
      ]
     },
     "execution_count": 544,
     "metadata": {},
     "output_type": "execute_result"
    },
    {
     "data": {
      "image/png": "[encoded data removed]",
      "text/plain": [
       "<Figure size 640x480 with 1 Axes>"
      ]
     },
     "metadata": {},
     "output_type": "display_data"
    }
   ],
   "source": [
    "plt.scatter(X[:, 0], X[:, 1], alpha=0.01)\n",
    "plt.scatter(selection[:, 0], selection[:, 1], color=\"red\")"
   ]
  },
  {
   "cell_type": "markdown",
   "id": "07c0909c",
   "metadata": {
    "slideshow": {
     "slide_type": "slide"
    }
   },
   "source": [
    "## Modifying Values with Fancy Indexing\n",
    "Fancy indexing it can also be used to modify parts of an array:\n"
   ]
  },
  {
   "cell_type": "code",
   "execution_count": 555,
   "id": "b2d1e9e6",
   "metadata": {},
   "outputs": [],
   "source": [
    "x = np.arange(10)\n",
    "i = np.array([[2, 1, 8, 4], [1, 7, 2, 3]])\n",
    "x[i] = np.arange(2)[:, None]"
   ]
  },
  {
   "cell_type": "markdown",
   "id": "234cd5be",
   "metadata": {
    "slideshow": {
     "slide_type": "slide"
    }
   },
   "source": [
    "Notice, though, that repeated indices with these operations can cause some potentially unexpected results:\n",
    "\n",
    "\n",
    "\n",
    "\n",
    "\n",
    "\n",
    "\n",
    "\n",
    "\n",
    "\n",
    "\n"
   ]
  },
  {
   "cell_type": "code",
   "execution_count": 429,
   "id": "8e779f86",
   "metadata": {},
   "outputs": [
    {
     "data": {
      "text/plain": [
       "array([6., 0., 0., 0., 0., 0., 0., 0., 0., 0.])"
      ]
     },
     "execution_count": 429,
     "metadata": {},
     "output_type": "execute_result"
    }
   ],
   "source": [
    "x = np.zeros(10)\n",
    "x[[0, 0]] = [4, 6]\n",
    "x"
   ]
  },
  {
   "cell_type": "markdown",
   "id": "a373d824",
   "metadata": {
    "slideshow": {
     "slide_type": "slide"
    }
   },
   "source": [
    "Where did the 4 go? The result of this operation is to first assign x[0] = 4, followed by x[0] = 6.\n",
    "The result, of course, is that x[0] contains the value 6.\n",
    "\n",
    "\n",
    "\n",
    "\n",
    "\n",
    "\n",
    "\n",
    "\n",
    "\n",
    "\n",
    "\n",
    "\n",
    "\n",
    "\n",
    "\n",
    "\n",
    "\n",
    "\n",
    "\n"
   ]
  },
  {
   "cell_type": "markdown",
   "id": "0f8a182c",
   "metadata": {
    "slideshow": {
     "slide_type": "slide"
    }
   },
   "source": [
    "Here is another example:"
   ]
  },
  {
   "cell_type": "code",
   "execution_count": 430,
   "id": "094edd59",
   "metadata": {},
   "outputs": [
    {
     "data": {
      "text/plain": [
       "array([6., 0., 1., 1., 1., 0., 0., 0., 0., 0.])"
      ]
     },
     "execution_count": 430,
     "metadata": {},
     "output_type": "execute_result"
    }
   ],
   "source": [
    "i = [2, 3, 3, 4, 4, 4]\n",
    "x[i] += 1\n",
    "x"
   ]
  },
  {
   "cell_type": "markdown",
   "id": "e3a8dd74",
   "metadata": {
    "slideshow": {
     "slide_type": "notes"
    }
   },
   "source": [
    "You might expect that x[3] would contain the value 2, and x[4] would contain the value 3, as this is how many times each index is repeated. Why is this not the case?\n",
    "\n",
    "\n",
    "\n"
   ]
  },
  {
   "cell_type": "markdown",
   "id": "83ad4f67",
   "metadata": {
    "slideshow": {
     "slide_type": "notes"
    }
   },
   "source": [
    "Conceptually, this is because x[i] += 1 is meant as a shorthand of x[i] = x[i] + 1. x[i] + 1 is evaluated, and then the result is assigned to the indices in x.\n",
    "\n",
    "\n",
    "\n",
    "\n",
    "\n"
   ]
  },
  {
   "cell_type": "markdown",
   "id": "026cc54f",
   "metadata": {
    "slideshow": {
     "slide_type": "notes"
    }
   },
   "source": [
    "With this in mind, it is not the augmentation that happens multiple times, but the assignment, which leads to the rather nonintuitive results.\n",
    "\n",
    "\n",
    "\n",
    "\n",
    "\n",
    "\n",
    "\n",
    "\n",
    "\n",
    "\n",
    "\n",
    "\n",
    "\n"
   ]
  },
  {
   "cell_type": "code",
   "execution_count": 432,
   "id": "557db86e",
   "metadata": {
    "slideshow": {
     "slide_type": "slide"
    }
   },
   "outputs": [
    {
     "data": {
      "text/plain": [
       "array([0., 0., 1., 2., 3., 0., 0., 0., 0., 0.])"
      ]
     },
     "execution_count": 432,
     "metadata": {},
     "output_type": "execute_result"
    }
   ],
   "source": [
    "x = np.zeros(10)\n",
    "np.add.at(x, i, 1)\n",
    "x"
   ]
  },
  {
   "cell_type": "markdown",
   "id": "34a3625f",
   "metadata": {},
   "source": [
    "The at() method does an in-place application of the given operator at the specified indices (here, i) with the specified value (here, 1).\n",
    "Another method that is similar in spirit is the reduceat() method of ufuncs, which you can read about in the NumPy documentation.\n",
    "\n",
    "\n",
    "\n",
    "\n",
    "\n",
    "\n",
    "\n",
    "\n",
    "\n",
    "\n",
    "\n",
    "\n",
    "\n",
    "\n",
    "\n"
   ]
  },
  {
   "cell_type": "markdown",
   "id": "045981f4",
   "metadata": {
    "slideshow": {
     "slide_type": "slide"
    }
   },
   "source": [
    "# Searching and sorting\n",
    "\n",
    "Up to this point we have been concerned mainly with tools to access and operate on array data with NumPy.\n",
    "This section covers algorithms related to sorting values in NumPy arrays."
   ]
  },
  {
   "cell_type": "markdown",
   "id": "a6a4a4ca",
   "metadata": {
    "slideshow": {
     "slide_type": "slide"
    }
   },
   "source": [
    "## Searching\n",
    "\n",
    "- `np.searchsorted(a, v)` returns the index into `a` that `v` would be inserted at.\n",
    "- (Some special arguments governing ties.)"
   ]
  },
  {
   "cell_type": "markdown",
   "id": "dc9faef9",
   "metadata": {
    "slideshow": {
     "slide_type": "slide"
    }
   },
   "source": [
    "## Example: weighted sampling\n",
    "\n",
    "- Suppose I want to sample from a biased 6-sided die.\n",
    "- $P(X=i) \\propto 1 / i,\\quad i=1,\\dots,6$\n",
    "- Inverse transform sampling: $X = F_X^{-1}(U)$ has distribution $F_X$."
   ]
  },
  {
   "cell_type": "code",
   "execution_count": 572,
   "id": "be4540a4",
   "metadata": {
    "slideshow": {
     "slide_type": "slide"
    }
   },
   "outputs": [],
   "source": [
    "# inverse transform\n",
    "i = np.arange(1, 7)\n",
    "p = 1 / i\n",
    "p /= p.sum()\n",
    "\n",
    "F = p.cumsum()\n",
    "\n",
    "B = 10_000\n",
    "U = np.random.uniform(size=B)\n",
    "\n",
    "X = np.searchsorted(F, U) + 1\n"
   ]
  },
  {
   "cell_type": "code",
   "execution_count": 579,
   "id": "1cf924f7",
   "metadata": {
    "slideshow": {
     "slide_type": "slide"
    }
   },
   "outputs": [
    {
     "data": {
      "text/plain": [
       "[<matplotlib.lines.Line2D at 0x7fa6be4ed270>]"
      ]
     },
     "execution_count": 579,
     "metadata": {},
     "output_type": "execute_result"
    },
    {
     "data": {
      "image/png": "[encoded data removed]",
      "text/plain": [
       "<Figure size 640x480 with 1 Axes>"
      ]
     },
     "metadata": {},
     "output_type": "display_data"
    }
   ],
   "source": [
    "h = np.bincount(X)\n",
    "h / h.sum(), p\n",
    "plt.bar(np.arange(1, 7), h[1:] / h.sum())\n",
    "x = np.linspace(0, 7, 1000)\n",
    "plt.plot(np.arange(1, 7), p, color=\"red\")"
   ]
  },
  {
   "cell_type": "markdown",
   "id": "03c28b79",
   "metadata": {
    "slideshow": {
     "slide_type": "slide"
    }
   },
   "source": [
    "## Example: Histogramming\n"
   ]
  },
  {
   "cell_type": "code",
   "execution_count": 433,
   "id": "96b7fb93",
   "metadata": {},
   "outputs": [],
   "source": [
    "np.random.seed(42)\n",
    "x = np.random.randn(100)\n",
    "\n",
    "# compute a histogram by hand\n",
    "bins = np.linspace(-5, 5, 20)\n",
    "counts = np.zeros_like(bins)\n",
    "\n",
    "# find the appropriate bin for each x\n",
    "i = np.searchsorted(bins, x)\n",
    "\n",
    "# add 1 to each of these bins\n",
    "np.add.at(counts, i, 1)"
   ]
  },
  {
   "cell_type": "code",
   "execution_count": 438,
   "id": "b6bb026c",
   "metadata": {
    "slideshow": {
     "slide_type": "slide"
    }
   },
   "outputs": [
    {
     "data": {
      "image/png": "[encoded data removed]",
      "text/plain": [
       "<Figure size 640x480 with 1 Axes>"
      ]
     },
     "metadata": {},
     "output_type": "display_data"
    }
   ],
   "source": [
    "# The counts now reflect the number of points \n",
    "# within each bin–in other words, a histogram:\n",
    "line, = plt.plot(bins, counts, drawstyle=\"steps-post\");"
   ]
  },
  {
   "cell_type": "code",
   "execution_count": 439,
   "id": "8b3596ae",
   "metadata": {
    "slideshow": {
     "slide_type": "slide"
    }
   },
   "outputs": [
    {
     "name": "stdout",
     "output_type": "stream",
     "text": [
      "NumPy routine:\n",
      "17.6 µs ± 1.27 µs per loop (mean ± std. dev. of 7 runs, 10,000 loops each)\n",
      "Custom routine:\n",
      "11.5 µs ± 111 ns per loop (mean ± std. dev. of 7 runs, 100,000 loops each)\n"
     ]
    }
   ],
   "source": [
    "print(\"NumPy routine:\")\n",
    "%timeit counts, edges = np.histogram(x, bins)\n",
    "\n",
    "print(\"Custom routine:\")\n",
    "%timeit np.add.at(counts, np.searchsorted(bins, x), 1)"
   ]
  },
  {
   "cell_type": "markdown",
   "id": "bc266a92",
   "metadata": {
    "slideshow": {
     "slide_type": "notes"
    }
   },
   "source": [
    "Our own one-line algorithm is several times faster than the optimized algorithm in NumPy! How can this be?\n",
    "If you dig into the np.histogram source code (you can do this in IPython by typing np.histogram??), you'll see that it's quite a bit more involved than the simple search-and-count that we've done; this is because NumPy's algorithm is more flexible, and particularly is designed for better performance when the number of data points becomes large...\n",
    "\n",
    "\n",
    "\n",
    "\n",
    "\n",
    "\n",
    "\n",
    "\n",
    "\n",
    "\n",
    "\n",
    "\n",
    "\n",
    "\n",
    "\n",
    "\n",
    "\n"
   ]
  },
  {
   "cell_type": "code",
   "execution_count": 440,
   "id": "08cc1df2",
   "metadata": {},
   "outputs": [
    {
     "name": "stdout",
     "output_type": "stream",
     "text": [
      "NumPy routine:\n",
      "8.02 ms ± 86.2 µs per loop (mean ± std. dev. of 7 runs, 100 loops each)\n",
      "Custom routine:\n",
      "87.4 ms ± 74.5 µs per loop (mean ± std. dev. of 7 runs, 10 loops each)\n"
     ]
    }
   ],
   "source": [
    "x = np.random.randn(1000000)\n",
    "print(\"NumPy routine:\")\n",
    "%timeit counts, edges = np.histogram(x, bins)\n",
    "\n",
    "print(\"Custom routine:\")\n",
    "%timeit np.add.at(counts, np.searchsorted(bins, x), 1)"
   ]
  },
  {
   "cell_type": "markdown",
   "id": "c926c6c7",
   "metadata": {
    "slideshow": {
     "slide_type": "notes"
    }
   },
   "source": [
    "What this comparison shows is that algorithmic efficiency is almost never a simple question. An algorithm efficient for large datasets will not always be the best choice for small datasets, and vice versa."
   ]
  },
  {
   "cell_type": "markdown",
   "id": "34d3ab59",
   "metadata": {
    "slideshow": {
     "slide_type": "notes"
    }
   },
   "source": [
    "The key to efficiently using Python in data-intensive applications is knowing about general convenience routines like np.histogram and when they're appropriate, but also knowing how to make use of lower-level functionality when you need more pointed behavior.\n",
    "\n",
    "\n",
    "\n",
    "\n",
    "\n",
    "\n",
    "\n",
    "\n",
    "\n",
    "\n",
    "\n",
    "\n",
    "\n"
   ]
  },
  {
   "cell_type": "markdown",
   "id": "629a87e1",
   "metadata": {
    "slideshow": {
     "slide_type": "slide"
    }
   },
   "source": [
    "## Example: Mann-Whitney U\n",
    "- Test whether $X \\in \\mathbb{R}^{n_1}$ and $Y \\in \\mathbb{R}^{n_2}$ have the same distribution.\n",
    "- Test statistic: $U = \\min(U_1,U_2)$ where\n",
    "\n",
    "    $$U_i = n_1 n_2 + \\binom{n_i+1}{2} - R_i$$\n",
    "    \n",
    "- $R_i$ is the sum of all the ranks for group $i$ when the full set of observations is ranked.\n",
    "- $U$ is asymptotically $\\mathcal{N}(n_1 n_2/2, \\sqrt{n_1 n_2 (n_1 + n_2 + 1)/12})$."
   ]
  },
  {
   "cell_type": "code",
   "execution_count": 607,
   "id": "e906ba10",
   "metadata": {
    "slideshow": {
     "slide_type": "slide"
    }
   },
   "outputs": [
    {
     "data": {
      "text/plain": [
       "-3.689517219560418"
      ]
     },
     "execution_count": 607,
     "metadata": {},
     "output_type": "execute_result"
    }
   ],
   "source": [
    "# mann whitney U\n",
    "\n",
    "X, Y = np.exp(rng.normal(size=(2, 100)))\n",
    "\n",
    "Y = rng.gamma(1, 1, size=100)\n",
    "# plt.hist(Y, alpha=.4)\n",
    "\n",
    "n1 = len(X)\n",
    "n2 = len(Y)\n",
    "\n",
    "ni = np.array([n1, n2])\n",
    "XY = np.concatenate([X, Y])\n",
    "XY.sort()\n",
    "Ri = np.searchsorted(XY, np.array([X, Y])).sum(axis=1)\n",
    "Ui = n1 * n2 + (ni + 1) * ni // 2 - Ri\n",
    "U = Ui.min()\n",
    "\n",
    "Z = (U - n1 * n2 / 2) / np.sqrt(n1 * n2 * (n1 + n2 + 1)/12)\n",
    "\n",
    "Z"
   ]
  },
  {
   "cell_type": "markdown",
   "id": "cc3c7f93",
   "metadata": {
    "slideshow": {
     "slide_type": "slide"
    }
   },
   "source": [
    "## Example: k-Nearest Neighbors\n",
    "\n",
    "- Given a set of points $X \\in \\mathbb{n \\times p}$, find the the set of $k$ nearest neighbors for each point.\n",
    "- What's the input?\n",
    "- What's the output?"
   ]
  },
  {
   "cell_type": "markdown",
   "id": "2fdfb334",
   "metadata": {
    "slideshow": {
     "slide_type": "slide"
    }
   },
   "source": [
    "We'll start by creating a random set of 10 points on a two-dimensional plane:"
   ]
  },
  {
   "cell_type": "code",
   "execution_count": 608,
   "id": "712f0b3f",
   "metadata": {},
   "outputs": [
    {
     "data": {
      "image/png": "[encoded data removed]",
      "text/plain": [
       "<Figure size 640x480 with 1 Axes>"
      ]
     },
     "metadata": {},
     "output_type": "display_data"
    }
   ],
   "source": [
    "n = 50\n",
    "X = np.random.rand(n, 2)\n",
    "plt.scatter(X[:, 0], X[:, 1], s=100);"
   ]
  },
  {
   "cell_type": "markdown",
   "id": "a1fc10ee",
   "metadata": {
    "slideshow": {
     "slide_type": "slide"
    }
   },
   "source": [
    "Compute the distance between each point to each other point:"
   ]
  },
  {
   "cell_type": "code",
   "execution_count": 664,
   "id": "19ec1b1a",
   "metadata": {},
   "outputs": [
    {
     "data": {
      "text/plain": [
       "(50, 2, 2)"
      ]
     },
     "execution_count": 664,
     "metadata": {},
     "output_type": "execute_result"
    }
   ],
   "source": [
    "D = np.linalg.norm(X[:, None] - X[None, :], axis=2)\n",
    "knn = (D + np.diag([np.inf] * n)).argpartition(2)[:, :2]\n",
    "\n",
    "plt.scatter(X[:, 0], X[:, 1])\n",
    "start = X\n",
    "segments = X[knn]\n",
    "\n",
    "plt.segments(start)"
   ]
  },
  {
   "cell_type": "markdown",
   "id": "e594d803",
   "metadata": {
    "slideshow": {
     "slide_type": "slide"
    }
   },
   "source": [
    "For each point, find its $k=2$ nearest neighbors:"
   ]
  },
  {
   "cell_type": "code",
   "execution_count": 400,
   "id": "d91c7dbe",
   "metadata": {},
   "outputs": [],
   "source": [
    "k = 2\n",
    "knn = np.zeros([n, k])\n",
    "for i in range(n):\n",
    "    knn[i] = sorted(X[i])[:k]"
   ]
  },
  {
   "cell_type": "markdown",
   "id": "1216b40e",
   "metadata": {
    "slideshow": {
     "slide_type": "slide"
    }
   },
   "source": [
    "Now need a function to compute the indices of the two smallest entries in each row:"
   ]
  },
  {
   "cell_type": "code",
   "execution_count": 404,
   "id": "ddad2039",
   "metadata": {},
   "outputs": [
    {
     "data": {
      "text/plain": [
       "array([ 0,  9, 20, 43, 36, 37, 31,  6, 11, 30, 16, 46, 23, 17, 33, 29, 27,\n",
       "       49, 40,  8, 48, 26, 22, 39, 15,  5,  3, 41, 32,  1, 13, 25, 28, 14,\n",
       "       24,  7, 38,  2, 34, 21, 45, 47, 12, 44, 19, 35,  4, 42, 18, 10])"
      ]
     },
     "execution_count": 404,
     "metadata": {},
     "output_type": "execute_result"
    }
   ],
   "source": [
    "D[0].argsort()"
   ]
  },
  {
   "cell_type": "markdown",
   "id": "d1c96201",
   "metadata": {},
   "source": [
    "Notice that the first column is order because each point's closest neighbor is itself.\n",
    "\n",
    "\n",
    "\n",
    "\n",
    "\n",
    "\n",
    "\n",
    "\n",
    "\n"
   ]
  },
  {
   "cell_type": "markdown",
   "id": "c892ad4d",
   "metadata": {
    "slideshow": {
     "slide_type": "slide"
    }
   },
   "source": [
    "If we're simply interested in the nearest $k$ neighbors, actually all we need is to partition each row so that the smallest $k + 1$ squared distances come first, with larger distances filling the remaining positions of the array:"
   ]
  },
  {
   "cell_type": "code",
   "execution_count": 666,
   "id": "8f53dfbb",
   "metadata": {},
   "outputs": [],
   "source": [
    "nearest_partition = np.argpartition(D, k + 1, axis=1)"
   ]
  },
  {
   "cell_type": "code",
   "execution_count": 667,
   "id": "d5ea5cb3",
   "metadata": {
    "slideshow": {
     "slide_type": "slide"
    }
   },
   "outputs": [
    {
     "data": {
      "image/png": "[encoded data removed]",
      "text/plain": [
       "<Figure size 640x480 with 1 Axes>"
      ]
     },
     "metadata": {},
     "output_type": "display_data"
    }
   ],
   "source": [
    "plt.scatter(X[:, 0], X[:, 1], s=100)\n",
    "K = 2 # draw lines from each point to its two nearest neighbors\n",
    "for i in range(X.shape[0]):\n",
    "    for j in nearest_partition[i, :K+1]:\n",
    "        plt.plot(*zip(X[j], X[i]), color='black')\n"
   ]
  },
  {
   "cell_type": "code",
   "execution_count": null,
   "id": "32dd53d6",
   "metadata": {},
   "outputs": [],
   "source": []
  },
  {
   "cell_type": "markdown",
   "id": "a098fef0",
   "metadata": {
    "slideshow": {
     "slide_type": "notes"
    }
   },
   "source": [
    "At first glance, it might seem strange that some of the points have more than two lines coming out of them: this is due to the fact that if point A is one of the two nearest neighbors of point B, this does not necessarily imply that point B is one of the two nearest neighbors of point A."
   ]
  },
  {
   "cell_type": "markdown",
   "id": "18b14755",
   "metadata": {
    "slideshow": {
     "slide_type": "notes"
    }
   },
   "source": [
    "You might be tempted to do the same type of operation by manually looping through the data and sorting each set of neighbors individually. The beauty of our approach is that it's written in a way that's agnostic to the size of the input data: we could just as easily compute the neighbors among 100 or 1,000,000 points in any number of dimensions, and the code would look the same.\n",
    "\n",
    "\n",
    "\n",
    "\n"
   ]
  },
  {
   "cell_type": "markdown",
   "id": "22aed91c",
   "metadata": {
    "slideshow": {
     "slide_type": "slide"
    }
   },
   "source": [
    "## Searching\n",
    "If we want to find the point where a value would be inserted into a sorted array, we can use `np.searchsorted()`."
   ]
  },
  {
   "cell_type": "code",
   "execution_count": null,
   "id": "26c0932b",
   "metadata": {},
   "outputs": [],
   "source": [
    "\n"
   ]
  },
  {
   "cell_type": "markdown",
   "id": "752553f7",
   "metadata": {
    "slideshow": {
     "slide_type": "slide"
    }
   },
   "source": [
    "## Fast Sorting in NumPy: np.sort and np.argsort\n",
    "Although Python has built-in sort and sorted functions to work with lists, NumPy's np.sort function turns out to be much more efficient and useful."
   ]
  },
  {
   "cell_type": "markdown",
   "id": "09aa0fc1",
   "metadata": {
    "slideshow": {
     "slide_type": "slide"
    }
   },
   "source": [
    "To return a sorted version of the array without modifying the input, you can use np.sort:\n",
    "\n",
    "\n",
    "\n",
    "\n",
    "\n",
    "\n",
    "\n",
    "\n",
    "\n",
    "\n",
    "\n",
    "\n",
    "\n",
    "\n",
    "\n"
   ]
  },
  {
   "cell_type": "code",
   "execution_count": 421,
   "id": "cc80d2c6",
   "metadata": {},
   "outputs": [
    {
     "data": {
      "text/plain": [
       "array([1, 2, 3, 4, 5, 6])"
      ]
     },
     "execution_count": 421,
     "metadata": {},
     "output_type": "execute_result"
    }
   ],
   "source": [
    "x = np.array([2, 1, 4, 3, 6, 5])\n",
    "np.sort(x)"
   ]
  },
  {
   "cell_type": "markdown",
   "id": "dc365a45",
   "metadata": {
    "slideshow": {
     "slide_type": "slide"
    }
   },
   "source": [
    "A related function is argsort, which instead returns the indices of the sorted elements:\n",
    "\n",
    "\n",
    "\n",
    "\n",
    "\n",
    "\n",
    "\n",
    "\n",
    "\n",
    "\n",
    "\n",
    "\n",
    "\n",
    "\n",
    "\n"
   ]
  },
  {
   "cell_type": "code",
   "execution_count": 422,
   "id": "1c0338ee",
   "metadata": {},
   "outputs": [
    {
     "data": {
      "text/plain": [
       "array([1, 0, 3, 2, 5, 4])"
      ]
     },
     "execution_count": 422,
     "metadata": {},
     "output_type": "execute_result"
    }
   ],
   "source": [
    "i = np.argsort(x)\n",
    "i"
   ]
  },
  {
   "cell_type": "markdown",
   "id": "2e80d4e4",
   "metadata": {
    "slideshow": {
     "slide_type": "slide"
    }
   },
   "source": [
    "This is a permutation that gives `x` in sort order:"
   ]
  },
  {
   "cell_type": "code",
   "execution_count": 427,
   "id": "891eac48",
   "metadata": {},
   "outputs": [
    {
     "data": {
      "text/plain": [
       "array([1, 2, 3, 4, 5, 6])"
      ]
     },
     "execution_count": 427,
     "metadata": {},
     "output_type": "execute_result"
    }
   ],
   "source": [
    "x[i]"
   ]
  },
  {
   "cell_type": "markdown",
   "id": "523e1ed5",
   "metadata": {},
   "source": [
    "### Sorting along rows or columns¶\n",
    "\n",
    "\n",
    "\n",
    "\n",
    "\n",
    "\n",
    "\n",
    "\n",
    "\n",
    "\n",
    "\n",
    "\n",
    "\n"
   ]
  },
  {
   "cell_type": "markdown",
   "id": "74bdbb12",
   "metadata": {},
   "source": [
    "```\n",
    "rand = np.random.RandomState(42)\n",
    "X = rand.randint(0, 10, (4, 6))\n",
    "X\n",
    "\n",
    "```\n",
    "\n",
    "\n",
    "\n",
    "\n",
    "\n",
    "\n",
    "\n",
    "\n",
    "\n",
    "\n",
    "\n",
    "\n",
    "\n",
    "\n",
    "\n",
    "\n",
    "\n",
    "\n",
    "\n",
    "\n",
    "\n",
    "\n",
    "\n",
    "\n",
    "\n",
    "\n",
    "\n",
    "\n",
    "\n",
    "\n",
    "\n",
    "\n",
    "\n",
    "\n",
    "\n",
    "\n",
    "\n",
    "\n",
    "\n",
    "\n",
    "\n",
    "\n",
    "\n",
    "\n",
    "\n",
    "\n",
    "\n",
    "\n",
    "\n",
    "\n",
    "\n",
    "\n",
    "\n",
    "\n",
    "\n",
    "\n",
    "\n",
    "\n",
    "\n",
    "\n",
    "\n",
    "\n",
    "\n"
   ]
  },
  {
   "cell_type": "markdown",
   "id": "9c9de223",
   "metadata": {},
   "source": [
    "```\n",
    "array([[6, 3, 7, 4, 6, 9],\n",
    "       [2, 6, 7, 4, 3, 7],\n",
    "       [7, 2, 5, 4, 1, 7],\n",
    "       [5, 1, 4, 0, 9, 5]])\n",
    "```\n",
    "\n",
    "\n",
    "\n",
    "\n",
    "\n",
    "\n",
    "\n",
    "\n",
    "\n",
    "\n",
    "\n",
    "\n",
    "\n"
   ]
  },
  {
   "cell_type": "markdown",
   "id": "e2e8cdc5",
   "metadata": {},
   "source": [
    "```\n",
    "np.sort(X, axis=0) # sort each column of X\n",
    "\n",
    "```\n",
    "\n",
    "\n",
    "\n",
    "\n",
    "\n",
    "\n",
    "\n",
    "\n",
    "\n",
    "\n",
    "\n",
    "\n",
    "\n",
    "\n",
    "\n",
    "\n",
    "\n",
    "\n",
    "\n",
    "\n",
    "\n",
    "\n",
    "\n",
    "\n",
    "\n",
    "\n",
    "\n",
    "\n",
    "\n",
    "\n",
    "\n",
    "\n",
    "\n"
   ]
  },
  {
   "cell_type": "markdown",
   "id": "77815c48",
   "metadata": {},
   "source": [
    "```\n",
    "array([[2, 1, 4, 0, 1, 5],\n",
    "       [5, 2, 5, 4, 3, 7],\n",
    "       [6, 3, 7, 4, 6, 7],\n",
    "       [7, 6, 7, 4, 9, 9]])\n",
    "```\n",
    "\n",
    "\n",
    "\n",
    "\n",
    "\n",
    "\n",
    "\n",
    "\n",
    "\n",
    "\n",
    "\n"
   ]
  },
  {
   "cell_type": "markdown",
   "id": "3203e1a1",
   "metadata": {},
   "source": [
    "```\n",
    "np.sort(X, axis=1) # sort each row of X\n",
    "\n",
    "```\n",
    "\n",
    "\n",
    "\n",
    "\n",
    "\n",
    "\n",
    "\n",
    "\n",
    "\n",
    "\n",
    "\n",
    "\n",
    "\n",
    "\n",
    "\n",
    "\n",
    "\n",
    "\n",
    "\n",
    "\n",
    "\n",
    "\n",
    "\n",
    "\n",
    "\n",
    "\n",
    "\n",
    "\n",
    "\n",
    "\n",
    "\n",
    "\n",
    "\n"
   ]
  },
  {
   "cell_type": "markdown",
   "id": "04f2457d",
   "metadata": {},
   "source": [
    "```\n",
    "array([[3, 4, 6, 6, 7, 9],\n",
    "       [2, 3, 4, 6, 7, 7],\n",
    "       [1, 2, 4, 5, 7, 7],\n",
    "       [0, 1, 4, 5, 5, 9]])\n",
    "```\n",
    "\n",
    "\n",
    "\n",
    "\n",
    "\n",
    "\n",
    "\n"
   ]
  },
  {
   "cell_type": "markdown",
   "id": "53ade5ba",
   "metadata": {},
   "source": [
    "Keep in mind that this treats each row or column as an independent array, and any relationships between the row or column values will be lost!\n",
    "\n",
    "\n",
    "\n",
    "\n",
    "\n",
    "\n",
    "\n",
    "\n",
    "\n"
   ]
  },
  {
   "cell_type": "markdown",
   "id": "0b5f0d22",
   "metadata": {},
   "source": [
    "## Partial Sorts: Partitioning¶\n",
    "\n"
   ]
  },
  {
   "cell_type": "markdown",
   "id": "313f1cfb",
   "metadata": {},
   "source": [
    "Sometimes we're not interested in sorting the entire array, but simply want to find the k smallest values in the array. np.partition takes an array and a number K; the result is a new array with the smallest K values to the left of the partition, and the remaining values to the right, in arbitrary order:\n",
    "\n",
    "\n",
    "\n",
    "\n",
    "\n",
    "\n",
    "\n",
    "\n",
    "\n",
    "\n",
    "\n",
    "\n",
    "\n",
    "\n",
    "\n",
    "\n",
    "\n",
    "\n",
    "\n"
   ]
  },
  {
   "cell_type": "markdown",
   "id": "b2bf45a7",
   "metadata": {},
   "source": [
    "```\n",
    "x = np.array([7, 2, 3, 1, 6, 5, 4])\n",
    "np.partition(x, 3)\n",
    "\n",
    "```\n",
    "\n",
    "\n",
    "\n",
    "\n",
    "\n",
    "\n",
    "\n",
    "\n",
    "\n",
    "\n",
    "\n",
    "\n",
    "\n",
    "\n",
    "\n",
    "\n",
    "\n",
    "\n",
    "\n",
    "\n",
    "\n",
    "\n",
    "\n",
    "\n",
    "\n",
    "\n",
    "\n",
    "\n",
    "\n",
    "\n",
    "\n",
    "\n",
    "\n",
    "\n",
    "\n",
    "\n",
    "\n",
    "\n",
    "\n",
    "\n",
    "\n",
    "\n",
    "\n",
    "\n",
    "\n",
    "\n",
    "\n",
    "\n",
    "\n",
    "\n",
    "\n",
    "\n",
    "\n",
    "\n",
    "\n",
    "\n",
    "\n",
    "\n",
    "\n",
    "\n",
    "\n",
    "\n",
    "\n",
    "\n",
    "\n",
    "\n",
    "\n"
   ]
  },
  {
   "cell_type": "markdown",
   "id": "4a7c898f",
   "metadata": {},
   "source": [
    "```\n",
    "array([2, 1, 3, 4, 6, 5, 7])\n",
    "```\n",
    "\n",
    "\n",
    "\n",
    "\n",
    "\n",
    "\n",
    "\n"
   ]
  },
  {
   "cell_type": "markdown",
   "id": "08a2c1fb",
   "metadata": {},
   "source": [
    "Note that the first three values in the resulting array are the three smallest in the array, and the remaining array positions contain the remaining values."
   ]
  },
  {
   "cell_type": "markdown",
   "id": "f87ca9d9",
   "metadata": {},
   "source": [
    "Within the two partitions, the elements have arbitrary order.\n",
    "\n",
    "\n",
    "\n",
    "\n",
    "\n",
    "\n",
    "\n",
    "\n",
    "\n",
    "\n",
    "\n"
   ]
  },
  {
   "cell_type": "markdown",
   "id": "80a2be39",
   "metadata": {},
   "source": [
    "Similarly to sorting, we can partition along an arbitrary axis of a multidimensional array:\n",
    "\n",
    "\n",
    "\n",
    "\n",
    "\n",
    "\n",
    "\n",
    "\n",
    "\n",
    "\n",
    "\n"
   ]
  },
  {
   "cell_type": "markdown",
   "id": "22556cd4",
   "metadata": {},
   "source": [
    "```\n",
    "np.partition(X, 2, axis=1)\n",
    "\n",
    "```\n",
    "\n",
    "\n",
    "\n",
    "\n",
    "\n",
    "\n",
    "\n",
    "\n",
    "\n",
    "\n",
    "\n",
    "\n",
    "\n",
    "\n",
    "\n",
    "\n",
    "\n",
    "\n",
    "\n",
    "\n",
    "\n",
    "\n",
    "\n",
    "\n",
    "\n",
    "\n",
    "\n",
    "\n",
    "\n",
    "\n",
    "\n",
    "\n",
    "\n",
    "\n",
    "\n"
   ]
  },
  {
   "cell_type": "markdown",
   "id": "0061e06b",
   "metadata": {},
   "source": [
    "```\n",
    "array([[3, 4, 6, 7, 6, 9],\n",
    "       [2, 3, 4, 7, 6, 7],\n",
    "       [1, 2, 4, 5, 7, 7],\n",
    "       [0, 1, 4, 5, 9, 5]])\n",
    "```\n",
    "\n",
    "\n",
    "\n",
    "\n",
    "\n",
    "\n",
    "\n"
   ]
  },
  {
   "cell_type": "markdown",
   "id": "be137607",
   "metadata": {},
   "source": [
    "The result is an array where the first two slots in each row contain the smallest values from that row, with the remaining values filling the remaining slots."
   ]
  },
  {
   "cell_type": "markdown",
   "id": "b9f34015",
   "metadata": {},
   "source": [
    "Finally, just as there is a np.argsort that computes indices of the sort, there is a np.argpartition that computes indices of the partition.\n",
    "\n",
    "\n",
    "\n",
    "\n",
    "\n",
    "\n",
    "\n",
    "\n",
    "\n",
    "\n",
    "\n",
    "\n",
    "\n"
   ]
  }
 ],
 "metadata": {
  "celltoolbar": "Slideshow",
  "jupytext": {
   "cell_metadata_filter": "-all",
   "formats": "md,ipynb"
  },
  "kernelspec": {
   "display_name": "Python 3 (ipykernel)",
   "language": "python",
   "name": "python3"
  },
  "language_info": {
   "codemirror_mode": {
    "name": "ipython",
    "version": 3
   },
   "file_extension": ".py",
   "mimetype": "text/x-python",
   "name": "python",
   "nbconvert_exporter": "python",
   "pygments_lexer": "ipython3",
   "version": "3.10.12"
  }
 },
 "nbformat": 4,
 "nbformat_minor": 5
}
