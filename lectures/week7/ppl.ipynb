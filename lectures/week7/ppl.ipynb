{
 "cells": [
  {
   "cell_type": "code",
   "execution_count": 2,
   "id": "a35b6ca3",
   "metadata": {
    "ExecuteTime": {
     "end_time": "2024-12-04T18:29:00.728963Z",
     "start_time": "2024-12-04T18:29:00.036233Z"
    }
   },
   "outputs": [],
   "source": [
    "import dataclasses\n",
    "import jax\n",
    "import jax.scipy as jsp\n",
    "import jax.numpy as jnp\n",
    "import numpy as np\n",
    "from functools import partial\n",
    "from typing import Callable\n",
    "\n",
    "def jax_dataclass(cls):\n",
    "    d = dataclasses.dataclass(cls, frozen=True, order=True)\n",
    "    return jax.tree_util.register_dataclass(d, data_fields=['params'], meta_fields=[]) "
   ]
  },
  {
   "cell_type": "markdown",
   "id": "ae556a58",
   "metadata": {},
   "source": [
    "# STATS 607\n",
    "## Week 7: Probabilistic programming and neural density estimation"
   ]
  },
  {
   "cell_type": "markdown",
   "id": "7b8d503b",
   "metadata": {},
   "source": [
    "## Probabilistic programming language (PPL)\n",
    "\n",
    "> A probabilistic programming language (PPL) is a programming language or framework designed to describe probabilistic models and automate inference over them. It provides high-level constructs for defining random variables, probabilistic dependencies, and likelihood functions, making it easier to implement and test statistical models without explicitly coding complex inference algorithms."
   ]
  },
  {
   "cell_type": "markdown",
   "id": "7efa9604",
   "metadata": {},
   "source": [
    "## Example from original Stan paper\n",
    "\n",
    "- $\\theta \\sim \\mathrm{Beta}(1, 1)$.\n",
    "- $y_i \\sim \\mathrm{Bernoulli}(\\theta)$\n",
    "- Goal: infer $\\theta$. Equivalently, sample from $p(\\theta \\mid y)$."
   ]
  },
  {
   "cell_type": "markdown",
   "id": "b80af0d8",
   "metadata": {},
   "source": [
    "```\n",
    "for (n in 1:N)\n",
    "  y[n] ~ bernoulli(theta);\n",
    "  \n",
    "data {\n",
    "  int<lower=0> N; int<lower=0, upper=1> y[N];\n",
    "}\n",
    "\n",
    "parameters {\n",
    "  real<lower=0, upper=1> theta; \n",
    "}\n",
    "\n",
    "model {\n",
    "  // N >= 0\n",
    "  // y[n] in { 0, 1 }\n",
    "  // theta in [0, 1]\n",
    "  theta ~ beta(1, 1); // prior\n",
    "  y ~ bernoulli(theta); // likelihood\n",
    "}\n",
    "```"
   ]
  },
  {
   "cell_type": "markdown",
   "id": "392d42de",
   "metadata": {},
   "source": [
    "## Options for sampling\n",
    "If we want to sample from $p(\\theta \\mid y)$ we have a few options:\n",
    " \n",
    "- Directly: not unless you are lucky :-)\n",
    "- Inverse transform ($F^{-1}(U)$): univariate, requires inverting CDF.\n",
    "- Rejection sampling: good for low dimensions.\n",
    "- MCMC:\n",
    "  - Metropolis-Hastings\n",
    "  - Slice sampling\n",
    "  - Gibbs sampling\n",
    "  - Hamiltonian Monte-Carlo/Langevin dynamics\n",
    "- VI; SVGD\n",
    "  \n",
    "So the fundamental thing is being able to compute $\\log p(\\theta, y)$ and/or its gradient."
   ]
  },
  {
   "cell_type": "markdown",
   "id": "47f0f50d",
   "metadata": {},
   "source": [
    "## Let's build a PPL\n",
    "Let's build a simple class structure that will enable inference."
   ]
  },
  {
   "cell_type": "code",
   "execution_count": 307,
   "id": "d7f8a58a",
   "metadata": {},
   "outputs": [],
   "source": [
    "@jax_dataclass\n",
    "class RandomVariable:\n",
    "    params: tuple\n",
    "        \n",
    "    def __call__(self, x):\n",
    "        return x\n",
    "        \n",
    "    # def sample(self, key):\n",
    "    #     ...\n",
    "        \n",
    "    def log_p(self, x):\n",
    "        pass"
   ]
  },
  {
   "cell_type": "code",
   "execution_count": 309,
   "id": "d1caae72",
   "metadata": {},
   "outputs": [
    {
     "data": {
      "text/plain": [
       "Beta(params=(1.0, 1.0))"
      ]
     },
     "execution_count": 309,
     "metadata": {},
     "output_type": "execute_result"
    }
   ],
   "source": [
    "import jax.scipy.stats\n",
    "\n",
    "class Beta(RandomVariable):\n",
    "    def log_p(self, x):\n",
    "        a, b = self.params\n",
    "        return jax.scipy.stats.beta.logpdf(x, a, b)\n",
    "    \n",
    "theta = Beta((1., 1.))\n",
    "theta"
   ]
  },
  {
   "cell_type": "code",
   "execution_count": 19,
   "id": "1542b329",
   "metadata": {},
   "outputs": [],
   "source": [
    "@jax_dataclass\n",
    "class Bernoulli(RandomVariable):\n",
    "    def log_p(self, x):\n",
    "        p, = self.params\n",
    "        return jnp.select(\n",
    "            [x == 1, x == 0],\n",
    "            [jnp.log(p), jnp.log1p(-p)],\n",
    "            -jnp.inf\n",
    "        )"
   ]
  },
  {
   "cell_type": "code",
   "execution_count": 20,
   "id": "995f44c5",
   "metadata": {},
   "outputs": [],
   "source": [
    "\n",
    "@jax_dataclass\n",
    "class Beta(RandomVariable):        \n",
    "    def log_p(self, x):\n",
    "        a, b = self.params\n",
    "        return jsp.stats.beta.logpdf(x, a, b)"
   ]
  },
  {
   "cell_type": "code",
   "execution_count": 21,
   "id": "cfeb930e",
   "metadata": {},
   "outputs": [
    {
     "data": {
      "text/plain": [
       "Array(-1.2039728, dtype=float32, weak_type=True)"
      ]
     },
     "execution_count": 21,
     "metadata": {},
     "output_type": "execute_result"
    }
   ],
   "source": [
    "class Model:\n",
    "    def __init__(self):\n",
    "        self._vars = {}\n",
    "    \n",
    "    def add_var(self, var: RandomVariable, name: str):\n",
    "        self._vars[name] = var\n",
    "        \n",
    "    def log_p(self, data: dict[str, float]) -> float:\n",
    "        ret = 0.\n",
    "        for name, var in self._vars.items():\n",
    "            bound_params = ()\n",
    "            for param in var.params:    \n",
    "                if isinstance(param, RandomVariable):\n",
    "                    value = next(\n",
    "                        data[name] \n",
    "                        for name, v in self._vars.items()\n",
    "                        if v is param\n",
    "                    )\n",
    "                    bound_params += (param(value),)\n",
    "                else:\n",
    "                    bound_params += (param,)\n",
    "            ret += (\n",
    "                dataclasses\n",
    "                .replace(var, params=bound_params)\n",
    "                .log_p(data[name])\n",
    "            )\n",
    "        return ret\n",
    "\n",
    "            \n",
    "mdl = Model()\n",
    "theta = Beta((1., 1.))\n",
    "mdl.add_var(theta, 'theta')\n",
    "obs = Bernoulli((theta,))\n",
    "mdl.add_var(obs, 'y0')\n",
    "mdl.log_p({'theta': .3, 'y0': 1})"
   ]
  },
  {
   "cell_type": "code",
   "execution_count": 318,
   "id": "9f7c7e05",
   "metadata": {},
   "outputs": [],
   "source": [
    "p = 0.7\n",
    "n = 1000\n",
    "data = {f'y_{i}': int(x < p) for i, x in enumerate(np.random.rand(n))}"
   ]
  },
  {
   "cell_type": "code",
   "execution_count": 23,
   "id": "dc2e2ae4",
   "metadata": {},
   "outputs": [],
   "source": [
    "mdl = Model()\n",
    "theta = Beta((1., 1.))\n",
    "mdl.add_var(theta, 'theta')\n",
    "for i in range(100):\n",
    "    mdl.add_var(Bernoulli((theta,)), f'y_{i}')"
   ]
  },
  {
   "cell_type": "code",
   "execution_count": 24,
   "id": "33c8daad",
   "metadata": {},
   "outputs": [
    {
     "data": {
      "text/plain": [
       "Array(-72.220924, dtype=float32, weak_type=True)"
      ]
     },
     "execution_count": 24,
     "metadata": {},
     "output_type": "execute_result"
    }
   ],
   "source": [
    "mdl.log_p({**data, 'theta': 0.8})"
   ]
  },
  {
   "cell_type": "markdown",
   "id": "2d01f864",
   "metadata": {},
   "source": [
    "## Implementing a sampling algorithm\n",
    "Let's start basic:"
   ]
  },
  {
   "cell_type": "code",
   "execution_count": 25,
   "id": "fdb7c584",
   "metadata": {},
   "outputs": [],
   "source": [
    "def sample_mh(\n",
    "    proposal: Callable[dict[str, float], dict[str, float]],\n",
    "    log_p: Callable[dict[str, float], float],\n",
    "    x0: dict[str, float],\n",
    "    niter: int,\n",
    "    key: jax.random.PRNGKey\n",
    "):\n",
    "    x = x0\n",
    "    lp = log_p(x)\n",
    "    ret = []\n",
    "    for i in range(niter):\n",
    "        key, subkey1, subkey2 = jax.random.split(key, 3)\n",
    "        x_prime = proposal(x, subkey1)\n",
    "        lpp = log_p(x_prime)\n",
    "        # min(p/p', 1)\n",
    "        if jax.random.exponential(subkey2) > lp - lpp:\n",
    "            x = x_prime\n",
    "            lp = lpp\n",
    "        ret.append(x)\n",
    "    return ret"
   ]
  },
  {
   "cell_type": "code",
   "execution_count": 26,
   "id": "4ba7839a",
   "metadata": {},
   "outputs": [],
   "source": [
    "from jax import lax\n",
    "\n",
    "def sample_mh_scan(\n",
    "    proposal: Callable[dict[str, float], dict[str, float]],\n",
    "    log_p: Callable[dict[str, float], float],\n",
    "    x0: dict[str, float],\n",
    "    niter: int,\n",
    "    key: jax.random.PRNGKey\n",
    "):\n",
    "    def body(accum, _):\n",
    "        (key, x, lp) = accum\n",
    "        key, subkey1, subkey2 = jax.random.split(key, 3)\n",
    "        x_prime = proposal(x, subkey1)\n",
    "        lpp = log_p(x_prime)\n",
    "        # min(p/p', 1)\n",
    "        accept = jax.random.exponential(subkey2) > lp - lpp\n",
    "        (x, lp) = jax.tree.map(\n",
    "            lambda a, b: jnp.where(accept, a, b),\n",
    "            (x_prime, lpp),\n",
    "            (x, lp)\n",
    "        )\n",
    "        return (key, x, lp), x\n",
    "\n",
    "    x = x0\n",
    "    lp = log_p(x)\n",
    "\n",
    "    _, xs = lax.scan(body, (key, x0, lp), length=niter)\n",
    "    return xs"
   ]
  },
  {
   "cell_type": "code",
   "execution_count": 27,
   "id": "b5b3a2f0",
   "metadata": {},
   "outputs": [
    {
     "ename": "NameError",
     "evalue": "name 'log_p' is not defined",
     "output_type": "error",
     "traceback": [
      "\u001B[0;31m---------------------------------------------------------------------------\u001B[0m",
      "\u001B[0;31mNameError\u001B[0m                                 Traceback (most recent call last)",
      "Cell \u001B[0;32mIn[27], line 4\u001B[0m\n\u001B[1;32m      1\u001B[0m \u001B[38;5;28;01mdef\u001B[39;00m \u001B[38;5;21mproposal\u001B[39m(_, key):\n\u001B[1;32m      2\u001B[0m     \u001B[38;5;28;01mreturn\u001B[39;00m jax\u001B[38;5;241m.\u001B[39mrandom\u001B[38;5;241m.\u001B[39mbeta(key, \u001B[38;5;241m1.\u001B[39m, \u001B[38;5;241m1.\u001B[39m)\n\u001B[0;32m----> 4\u001B[0m res \u001B[38;5;241m=\u001B[39m sample_mh_scan(proposal, \u001B[43mlog_p\u001B[49m, \u001B[38;5;241m0.5\u001B[39m, \u001B[38;5;241m100000\u001B[39m, key)\n",
      "\u001B[0;31mNameError\u001B[0m: name 'log_p' is not defined"
     ]
    }
   ],
   "source": [
    "def proposal(_, key):\n",
    "    return jax.random.beta(key, 1., 1.)\n",
    "\n",
    "res = sample_mh_scan(proposal, log_p, 0.5, 100000, key)"
   ]
  },
  {
   "cell_type": "code",
   "execution_count": 28,
   "id": "cc0fd4a4",
   "metadata": {},
   "outputs": [
    {
     "ename": "NameError",
     "evalue": "name 'res' is not defined",
     "output_type": "error",
     "traceback": [
      "\u001B[0;31m---------------------------------------------------------------------------\u001B[0m",
      "\u001B[0;31mNameError\u001B[0m                                 Traceback (most recent call last)",
      "Cell \u001B[0;32mIn[28], line 2\u001B[0m\n\u001B[1;32m      1\u001B[0m \u001B[38;5;28;01mimport\u001B[39;00m \u001B[38;5;21;01mmatplotlib\u001B[39;00m\u001B[38;5;21;01m.\u001B[39;00m\u001B[38;5;21;01mpyplot\u001B[39;00m \u001B[38;5;28;01mas\u001B[39;00m \u001B[38;5;21;01mplt\u001B[39;00m\n\u001B[0;32m----> 2\u001B[0m plt\u001B[38;5;241m.\u001B[39mhist(\u001B[43mres\u001B[49m, bins\u001B[38;5;241m=\u001B[39m\u001B[38;5;241m100\u001B[39m);\n",
      "\u001B[0;31mNameError\u001B[0m: name 'res' is not defined"
     ]
    }
   ],
   "source": [
    "import matplotlib.pyplot as plt\n",
    "plt.hist(res, bins=100);"
   ]
  },
  {
   "cell_type": "markdown",
   "id": "0de712a4",
   "metadata": {},
   "source": [
    "## Langevin dynamics"
   ]
  },
  {
   "cell_type": "code",
   "execution_count": 47,
   "id": "d10f81b2",
   "metadata": {},
   "outputs": [
    {
     "ename": "ValueError",
     "evalue": "vmap was requested to map its argument along axis 0, which implies that its rank should be at least 1, but is only 0 (its shape is ())",
     "output_type": "error",
     "traceback": [
      "\u001B[0;31m---------------------------------------------------------------------------\u001B[0m",
      "\u001B[0;31mIndexError\u001B[0m                                Traceback (most recent call last)",
      "File \u001B[0;32m~/opt/jax_gpu/lib/python3.10/site-packages/jax/_src/api.py:1020\u001B[0m, in \u001B[0;36m_mapped_axis_size.<locals>._get_axis_size\u001B[0;34m(name, shape, axis)\u001B[0m\n\u001B[1;32m   1019\u001B[0m \u001B[38;5;28;01mtry\u001B[39;00m:\n\u001B[0;32m-> 1020\u001B[0m   \u001B[38;5;28;01mreturn\u001B[39;00m \u001B[43mshape\u001B[49m\u001B[43m[\u001B[49m\u001B[43maxis\u001B[49m\u001B[43m]\u001B[49m\n\u001B[1;32m   1021\u001B[0m \u001B[38;5;28;01mexcept\u001B[39;00m (\u001B[38;5;167;01mIndexError\u001B[39;00m, \u001B[38;5;167;01mTypeError\u001B[39;00m) \u001B[38;5;28;01mas\u001B[39;00m e:\n",
      "\u001B[0;31mIndexError\u001B[0m: tuple index out of range",
      "\nThe above exception was the direct cause of the following exception:\n",
      "\u001B[0;31mValueError\u001B[0m                                Traceback (most recent call last)",
      "Cell \u001B[0;32mIn[47], line 3\u001B[0m\n\u001B[1;32m      1\u001B[0m \u001B[38;5;28;01mfrom\u001B[39;00m \u001B[38;5;21;01mjax\u001B[39;00m \u001B[38;5;28;01mimport\u001B[39;00m grad\n\u001B[0;32m----> 3\u001B[0m \u001B[43mgrad\u001B[49m\u001B[43m(\u001B[49m\u001B[43mlog_p\u001B[49m\u001B[43m)\u001B[49m\u001B[43m(\u001B[49m\u001B[38;5;241;43m.4\u001B[39;49m\u001B[43m)\u001B[49m\n",
      "    \u001B[0;31m[... skipping hidden 10 frame]\u001B[0m\n",
      "Cell \u001B[0;32mIn[46], line 2\u001B[0m, in \u001B[0;36mlog_p\u001B[0;34m(x)\u001B[0m\n\u001B[1;32m      1\u001B[0m \u001B[38;5;28;01mdef\u001B[39;00m \u001B[38;5;21mlog_p\u001B[39m(x):\n\u001B[0;32m----> 2\u001B[0m     \u001B[38;5;28;01mreturn\u001B[39;00m \u001B[43mmdl\u001B[49m\u001B[38;5;241;43m.\u001B[39;49m\u001B[43mlog_p\u001B[49m\u001B[43m(\u001B[49m\u001B[43m{\u001B[49m\u001B[38;5;241;43m*\u001B[39;49m\u001B[38;5;241;43m*\u001B[39;49m\u001B[43mdata\u001B[49m\u001B[43m,\u001B[49m\u001B[43m \u001B[49m\u001B[38;5;124;43m'\u001B[39;49m\u001B[38;5;124;43mbeta\u001B[39;49m\u001B[38;5;124;43m'\u001B[39;49m\u001B[43m:\u001B[49m\u001B[43m \u001B[49m\u001B[43mx\u001B[49m\u001B[43m}\u001B[49m\u001B[43m)\u001B[49m[\u001B[38;5;241m0\u001B[39m]\n",
      "Cell \u001B[0;32mIn[21], line 25\u001B[0m, in \u001B[0;36mModel.log_p\u001B[0;34m(self, data)\u001B[0m\n\u001B[1;32m     20\u001B[0m         \u001B[38;5;28;01melse\u001B[39;00m:\n\u001B[1;32m     21\u001B[0m             bound_params \u001B[38;5;241m+\u001B[39m\u001B[38;5;241m=\u001B[39m (param,)\n\u001B[1;32m     22\u001B[0m     ret \u001B[38;5;241m+\u001B[39m\u001B[38;5;241m=\u001B[39m (\n\u001B[1;32m     23\u001B[0m         \u001B[43mdataclasses\u001B[49m\n\u001B[1;32m     24\u001B[0m \u001B[43m        \u001B[49m\u001B[38;5;241;43m.\u001B[39;49m\u001B[43mreplace\u001B[49m\u001B[43m(\u001B[49m\u001B[43mvar\u001B[49m\u001B[43m,\u001B[49m\u001B[43m \u001B[49m\u001B[43mparams\u001B[49m\u001B[38;5;241;43m=\u001B[39;49m\u001B[43mbound_params\u001B[49m\u001B[43m)\u001B[49m\n\u001B[0;32m---> 25\u001B[0m \u001B[43m        \u001B[49m\u001B[38;5;241;43m.\u001B[39;49m\u001B[43mlog_p\u001B[49m\u001B[43m(\u001B[49m\u001B[43mdata\u001B[49m\u001B[43m[\u001B[49m\u001B[43mname\u001B[49m\u001B[43m]\u001B[49m\u001B[43m)\u001B[49m\n\u001B[1;32m     26\u001B[0m     )\n\u001B[1;32m     27\u001B[0m \u001B[38;5;28;01mreturn\u001B[39;00m ret\n",
      "Cell \u001B[0;32mIn[39], line 7\u001B[0m, in \u001B[0;36mIsoNorm.log_p\u001B[0;34m(self, x)\u001B[0m\n\u001B[1;32m      5\u001B[0m \u001B[38;5;28;01mdef\u001B[39;00m \u001B[38;5;21mlog_p\u001B[39m(\u001B[38;5;28mself\u001B[39m, x):\n\u001B[1;32m      6\u001B[0m     mu, sigma \u001B[38;5;241m=\u001B[39m \u001B[38;5;28mself\u001B[39m\u001B[38;5;241m.\u001B[39mparams\n\u001B[0;32m----> 7\u001B[0m     \u001B[38;5;28;01mreturn\u001B[39;00m \u001B[43mvmap\u001B[49m\u001B[43m(\u001B[49m\u001B[43mjax\u001B[49m\u001B[38;5;241;43m.\u001B[39;49m\u001B[43mscipy\u001B[49m\u001B[38;5;241;43m.\u001B[39;49m\u001B[43mstats\u001B[49m\u001B[38;5;241;43m.\u001B[39;49m\u001B[43mnorm\u001B[49m\u001B[38;5;241;43m.\u001B[39;49m\u001B[43mlogpdf\u001B[49m\u001B[43m)\u001B[49m\u001B[43m(\u001B[49m\u001B[43mx\u001B[49m\u001B[43m,\u001B[49m\u001B[43m \u001B[49m\u001B[43mmu\u001B[49m\u001B[43m,\u001B[49m\u001B[43m \u001B[49m\u001B[43msigma\u001B[49m\u001B[43m)\u001B[49m\u001B[38;5;241m.\u001B[39msum()\n",
      "    \u001B[0;31m[... skipping hidden 6 frame]\u001B[0m\n",
      "File \u001B[0;32m~/opt/jax_gpu/lib/python3.10/site-packages/jax/_src/api.py:1024\u001B[0m, in \u001B[0;36m_mapped_axis_size.<locals>._get_axis_size\u001B[0;34m(name, shape, axis)\u001B[0m\n\u001B[1;32m   1022\u001B[0m min_rank \u001B[38;5;241m=\u001B[39m axis \u001B[38;5;241m+\u001B[39m \u001B[38;5;241m1\u001B[39m \u001B[38;5;28;01mif\u001B[39;00m axis \u001B[38;5;241m>\u001B[39m\u001B[38;5;241m=\u001B[39m \u001B[38;5;241m0\u001B[39m \u001B[38;5;28;01melse\u001B[39;00m \u001B[38;5;241m-\u001B[39maxis\n\u001B[1;32m   1023\u001B[0m \u001B[38;5;66;03m# TODO(mattjj): better error message here\u001B[39;00m\n\u001B[0;32m-> 1024\u001B[0m \u001B[38;5;28;01mraise\u001B[39;00m \u001B[38;5;167;01mValueError\u001B[39;00m(\n\u001B[1;32m   1025\u001B[0m     \u001B[38;5;124mf\u001B[39m\u001B[38;5;124m\"\u001B[39m\u001B[38;5;132;01m{\u001B[39;00mname\u001B[38;5;132;01m}\u001B[39;00m\u001B[38;5;124m was requested to map its argument along axis \u001B[39m\u001B[38;5;132;01m{\u001B[39;00maxis\u001B[38;5;132;01m}\u001B[39;00m\u001B[38;5;124m, \u001B[39m\u001B[38;5;124m\"\u001B[39m\n\u001B[1;32m   1026\u001B[0m     \u001B[38;5;124mf\u001B[39m\u001B[38;5;124m\"\u001B[39m\u001B[38;5;124mwhich implies that its rank should be at least \u001B[39m\u001B[38;5;132;01m{\u001B[39;00mmin_rank\u001B[38;5;132;01m}\u001B[39;00m\u001B[38;5;124m, \u001B[39m\u001B[38;5;124m\"\u001B[39m\n\u001B[1;32m   1027\u001B[0m     \u001B[38;5;124mf\u001B[39m\u001B[38;5;124m\"\u001B[39m\u001B[38;5;124mbut is only \u001B[39m\u001B[38;5;132;01m{\u001B[39;00m\u001B[38;5;28mlen\u001B[39m(shape)\u001B[38;5;132;01m}\u001B[39;00m\u001B[38;5;124m (its shape is \u001B[39m\u001B[38;5;132;01m{\u001B[39;00mshape\u001B[38;5;132;01m}\u001B[39;00m\u001B[38;5;124m)\u001B[39m\u001B[38;5;124m\"\u001B[39m) \u001B[38;5;28;01mfrom\u001B[39;00m \u001B[38;5;21;01me\u001B[39;00m\n",
      "\u001B[0;31mValueError\u001B[0m: vmap was requested to map its argument along axis 0, which implies that its rank should be at least 1, but is only 0 (its shape is ())"
     ]
    }
   ],
   "source": [
    "from jax import grad\n",
    "\n",
    "grad(log_p)(.4)"
   ]
  },
  {
   "cell_type": "code",
   "execution_count": 305,
   "id": "2c969d3b",
   "metadata": {},
   "outputs": [],
   "source": [
    "from jax import lax, grad\n",
    "\n",
    "def sample_langevin(\n",
    "    log_p: Callable[dict[str, float], float],\n",
    "    x0: dict[str, float],\n",
    "    niter: int,\n",
    "    key: jax.random.PRNGKey,\n",
    "    step_size: float = 0.1\n",
    "):\n",
    "    def body(accum, _):\n",
    "        x, key = accum\n",
    "        key, subkey = jax.random.split(key)\n",
    "        noise = jax.random.normal(key)\n",
    "        g = grad(log_p)(x)\n",
    "        x = x + 0.5 * step_size * g + jnp.sqrt(step_size) * noise\n",
    "        return (x, key), x\n",
    "        \n",
    "    _, xs = lax.scan(body, (x0, key), length=niter)\n",
    "    return xs"
   ]
  },
  {
   "cell_type": "code",
   "execution_count": 49,
   "id": "ec82e4db",
   "metadata": {},
   "outputs": [
    {
     "ename": "ValueError",
     "evalue": "vmap was requested to map its argument along axis 0, which implies that its rank should be at least 1, but is only 0 (its shape is ())",
     "output_type": "error",
     "traceback": [
      "\u001B[0;31m---------------------------------------------------------------------------\u001B[0m",
      "\u001B[0;31mIndexError\u001B[0m                                Traceback (most recent call last)",
      "File \u001B[0;32m~/opt/jax_gpu/lib/python3.10/site-packages/jax/_src/api.py:1020\u001B[0m, in \u001B[0;36m_mapped_axis_size.<locals>._get_axis_size\u001B[0;34m(name, shape, axis)\u001B[0m\n\u001B[1;32m   1019\u001B[0m \u001B[38;5;28;01mtry\u001B[39;00m:\n\u001B[0;32m-> 1020\u001B[0m   \u001B[38;5;28;01mreturn\u001B[39;00m \u001B[43mshape\u001B[49m\u001B[43m[\u001B[49m\u001B[43maxis\u001B[49m\u001B[43m]\u001B[49m\n\u001B[1;32m   1021\u001B[0m \u001B[38;5;28;01mexcept\u001B[39;00m (\u001B[38;5;167;01mIndexError\u001B[39;00m, \u001B[38;5;167;01mTypeError\u001B[39;00m) \u001B[38;5;28;01mas\u001B[39;00m e:\n",
      "\u001B[0;31mIndexError\u001B[0m: tuple index out of range",
      "\nThe above exception was the direct cause of the following exception:\n",
      "\u001B[0;31mValueError\u001B[0m                                Traceback (most recent call last)",
      "Cell \u001B[0;32mIn[49], line 1\u001B[0m\n\u001B[0;32m----> 1\u001B[0m res \u001B[38;5;241m=\u001B[39m \u001B[43msample_langevin\u001B[49m\u001B[43m(\u001B[49m\n\u001B[1;32m      2\u001B[0m \u001B[43m    \u001B[49m\u001B[43mlog_p\u001B[49m\u001B[43m,\u001B[49m\n\u001B[1;32m      3\u001B[0m \u001B[43m    \u001B[49m\u001B[38;5;241;43m0.5\u001B[39;49m\u001B[43m,\u001B[49m\n\u001B[1;32m      4\u001B[0m \u001B[43m    \u001B[49m\u001B[38;5;241;43m1000000\u001B[39;49m\u001B[43m,\u001B[49m\n\u001B[1;32m      5\u001B[0m \u001B[43m    \u001B[49m\u001B[43mjax\u001B[49m\u001B[38;5;241;43m.\u001B[39;49m\u001B[43mrandom\u001B[49m\u001B[38;5;241;43m.\u001B[39;49m\u001B[43mPRNGKey\u001B[49m\u001B[43m(\u001B[49m\u001B[38;5;241;43m92682\u001B[39;49m\u001B[43m)\u001B[49m\u001B[43m,\u001B[49m\n\u001B[1;32m      6\u001B[0m \u001B[43m    \u001B[49m\u001B[43mstep_size\u001B[49m\u001B[38;5;241;43m=\u001B[39;49m\u001B[38;5;241;43m0.001\u001B[39;49m\n\u001B[1;32m      7\u001B[0m \u001B[43m)\u001B[49m\n",
      "Cell \u001B[0;32mIn[48], line 18\u001B[0m, in \u001B[0;36msample_langevin\u001B[0;34m(log_p, x0, niter, key, step_size)\u001B[0m\n\u001B[1;32m     15\u001B[0m     x \u001B[38;5;241m=\u001B[39m x \u001B[38;5;241m+\u001B[39m \u001B[38;5;241m0.5\u001B[39m \u001B[38;5;241m*\u001B[39m step_size \u001B[38;5;241m*\u001B[39m g \u001B[38;5;241m+\u001B[39m jnp\u001B[38;5;241m.\u001B[39msqrt(step_size) \u001B[38;5;241m*\u001B[39m noise\n\u001B[1;32m     16\u001B[0m     \u001B[38;5;28;01mreturn\u001B[39;00m (x, key), x\n\u001B[0;32m---> 18\u001B[0m _, xs \u001B[38;5;241m=\u001B[39m \u001B[43mlax\u001B[49m\u001B[38;5;241;43m.\u001B[39;49m\u001B[43mscan\u001B[49m\u001B[43m(\u001B[49m\u001B[43mbody\u001B[49m\u001B[43m,\u001B[49m\u001B[43m \u001B[49m\u001B[43m(\u001B[49m\u001B[43mx0\u001B[49m\u001B[43m,\u001B[49m\u001B[43m \u001B[49m\u001B[43mkey\u001B[49m\u001B[43m)\u001B[49m\u001B[43m,\u001B[49m\u001B[43m \u001B[49m\u001B[43mlength\u001B[49m\u001B[38;5;241;43m=\u001B[39;49m\u001B[43mniter\u001B[49m\u001B[43m)\u001B[49m\n\u001B[1;32m     19\u001B[0m \u001B[38;5;28;01mreturn\u001B[39;00m xs\n",
      "    \u001B[0;31m[... skipping hidden 9 frame]\u001B[0m\n",
      "Cell \u001B[0;32mIn[48], line 14\u001B[0m, in \u001B[0;36msample_langevin.<locals>.body\u001B[0;34m(accum, _)\u001B[0m\n\u001B[1;32m     12\u001B[0m key, subkey \u001B[38;5;241m=\u001B[39m jax\u001B[38;5;241m.\u001B[39mrandom\u001B[38;5;241m.\u001B[39msplit(key)\n\u001B[1;32m     13\u001B[0m noise \u001B[38;5;241m=\u001B[39m jax\u001B[38;5;241m.\u001B[39mrandom\u001B[38;5;241m.\u001B[39mnormal(key)\n\u001B[0;32m---> 14\u001B[0m g \u001B[38;5;241m=\u001B[39m \u001B[43mgrad\u001B[49m\u001B[43m(\u001B[49m\u001B[43mlog_p\u001B[49m\u001B[43m)\u001B[49m\u001B[43m(\u001B[49m\u001B[43mx\u001B[49m\u001B[43m)\u001B[49m\n\u001B[1;32m     15\u001B[0m x \u001B[38;5;241m=\u001B[39m x \u001B[38;5;241m+\u001B[39m \u001B[38;5;241m0.5\u001B[39m \u001B[38;5;241m*\u001B[39m step_size \u001B[38;5;241m*\u001B[39m g \u001B[38;5;241m+\u001B[39m jnp\u001B[38;5;241m.\u001B[39msqrt(step_size) \u001B[38;5;241m*\u001B[39m noise\n\u001B[1;32m     16\u001B[0m \u001B[38;5;28;01mreturn\u001B[39;00m (x, key), x\n",
      "    \u001B[0;31m[... skipping hidden 10 frame]\u001B[0m\n",
      "Cell \u001B[0;32mIn[46], line 2\u001B[0m, in \u001B[0;36mlog_p\u001B[0;34m(x)\u001B[0m\n\u001B[1;32m      1\u001B[0m \u001B[38;5;28;01mdef\u001B[39;00m \u001B[38;5;21mlog_p\u001B[39m(x):\n\u001B[0;32m----> 2\u001B[0m     \u001B[38;5;28;01mreturn\u001B[39;00m \u001B[43mmdl\u001B[49m\u001B[38;5;241;43m.\u001B[39;49m\u001B[43mlog_p\u001B[49m\u001B[43m(\u001B[49m\u001B[43m{\u001B[49m\u001B[38;5;241;43m*\u001B[39;49m\u001B[38;5;241;43m*\u001B[39;49m\u001B[43mdata\u001B[49m\u001B[43m,\u001B[49m\u001B[43m \u001B[49m\u001B[38;5;124;43m'\u001B[39;49m\u001B[38;5;124;43mbeta\u001B[39;49m\u001B[38;5;124;43m'\u001B[39;49m\u001B[43m:\u001B[49m\u001B[43m \u001B[49m\u001B[43mx\u001B[49m\u001B[43m}\u001B[49m\u001B[43m)\u001B[49m[\u001B[38;5;241m0\u001B[39m]\n",
      "Cell \u001B[0;32mIn[21], line 25\u001B[0m, in \u001B[0;36mModel.log_p\u001B[0;34m(self, data)\u001B[0m\n\u001B[1;32m     20\u001B[0m         \u001B[38;5;28;01melse\u001B[39;00m:\n\u001B[1;32m     21\u001B[0m             bound_params \u001B[38;5;241m+\u001B[39m\u001B[38;5;241m=\u001B[39m (param,)\n\u001B[1;32m     22\u001B[0m     ret \u001B[38;5;241m+\u001B[39m\u001B[38;5;241m=\u001B[39m (\n\u001B[1;32m     23\u001B[0m         \u001B[43mdataclasses\u001B[49m\n\u001B[1;32m     24\u001B[0m \u001B[43m        \u001B[49m\u001B[38;5;241;43m.\u001B[39;49m\u001B[43mreplace\u001B[49m\u001B[43m(\u001B[49m\u001B[43mvar\u001B[49m\u001B[43m,\u001B[49m\u001B[43m \u001B[49m\u001B[43mparams\u001B[49m\u001B[38;5;241;43m=\u001B[39;49m\u001B[43mbound_params\u001B[49m\u001B[43m)\u001B[49m\n\u001B[0;32m---> 25\u001B[0m \u001B[43m        \u001B[49m\u001B[38;5;241;43m.\u001B[39;49m\u001B[43mlog_p\u001B[49m\u001B[43m(\u001B[49m\u001B[43mdata\u001B[49m\u001B[43m[\u001B[49m\u001B[43mname\u001B[49m\u001B[43m]\u001B[49m\u001B[43m)\u001B[49m\n\u001B[1;32m     26\u001B[0m     )\n\u001B[1;32m     27\u001B[0m \u001B[38;5;28;01mreturn\u001B[39;00m ret\n",
      "Cell \u001B[0;32mIn[39], line 7\u001B[0m, in \u001B[0;36mIsoNorm.log_p\u001B[0;34m(self, x)\u001B[0m\n\u001B[1;32m      5\u001B[0m \u001B[38;5;28;01mdef\u001B[39;00m \u001B[38;5;21mlog_p\u001B[39m(\u001B[38;5;28mself\u001B[39m, x):\n\u001B[1;32m      6\u001B[0m     mu, sigma \u001B[38;5;241m=\u001B[39m \u001B[38;5;28mself\u001B[39m\u001B[38;5;241m.\u001B[39mparams\n\u001B[0;32m----> 7\u001B[0m     \u001B[38;5;28;01mreturn\u001B[39;00m \u001B[43mvmap\u001B[49m\u001B[43m(\u001B[49m\u001B[43mjax\u001B[49m\u001B[38;5;241;43m.\u001B[39;49m\u001B[43mscipy\u001B[49m\u001B[38;5;241;43m.\u001B[39;49m\u001B[43mstats\u001B[49m\u001B[38;5;241;43m.\u001B[39;49m\u001B[43mnorm\u001B[49m\u001B[38;5;241;43m.\u001B[39;49m\u001B[43mlogpdf\u001B[49m\u001B[43m)\u001B[49m\u001B[43m(\u001B[49m\u001B[43mx\u001B[49m\u001B[43m,\u001B[49m\u001B[43m \u001B[49m\u001B[43mmu\u001B[49m\u001B[43m,\u001B[49m\u001B[43m \u001B[49m\u001B[43msigma\u001B[49m\u001B[43m)\u001B[49m\u001B[38;5;241m.\u001B[39msum()\n",
      "    \u001B[0;31m[... skipping hidden 6 frame]\u001B[0m\n",
      "File \u001B[0;32m~/opt/jax_gpu/lib/python3.10/site-packages/jax/_src/api.py:1024\u001B[0m, in \u001B[0;36m_mapped_axis_size.<locals>._get_axis_size\u001B[0;34m(name, shape, axis)\u001B[0m\n\u001B[1;32m   1022\u001B[0m min_rank \u001B[38;5;241m=\u001B[39m axis \u001B[38;5;241m+\u001B[39m \u001B[38;5;241m1\u001B[39m \u001B[38;5;28;01mif\u001B[39;00m axis \u001B[38;5;241m>\u001B[39m\u001B[38;5;241m=\u001B[39m \u001B[38;5;241m0\u001B[39m \u001B[38;5;28;01melse\u001B[39;00m \u001B[38;5;241m-\u001B[39maxis\n\u001B[1;32m   1023\u001B[0m \u001B[38;5;66;03m# TODO(mattjj): better error message here\u001B[39;00m\n\u001B[0;32m-> 1024\u001B[0m \u001B[38;5;28;01mraise\u001B[39;00m \u001B[38;5;167;01mValueError\u001B[39;00m(\n\u001B[1;32m   1025\u001B[0m     \u001B[38;5;124mf\u001B[39m\u001B[38;5;124m\"\u001B[39m\u001B[38;5;132;01m{\u001B[39;00mname\u001B[38;5;132;01m}\u001B[39;00m\u001B[38;5;124m was requested to map its argument along axis \u001B[39m\u001B[38;5;132;01m{\u001B[39;00maxis\u001B[38;5;132;01m}\u001B[39;00m\u001B[38;5;124m, \u001B[39m\u001B[38;5;124m\"\u001B[39m\n\u001B[1;32m   1026\u001B[0m     \u001B[38;5;124mf\u001B[39m\u001B[38;5;124m\"\u001B[39m\u001B[38;5;124mwhich implies that its rank should be at least \u001B[39m\u001B[38;5;132;01m{\u001B[39;00mmin_rank\u001B[38;5;132;01m}\u001B[39;00m\u001B[38;5;124m, \u001B[39m\u001B[38;5;124m\"\u001B[39m\n\u001B[1;32m   1027\u001B[0m     \u001B[38;5;124mf\u001B[39m\u001B[38;5;124m\"\u001B[39m\u001B[38;5;124mbut is only \u001B[39m\u001B[38;5;132;01m{\u001B[39;00m\u001B[38;5;28mlen\u001B[39m(shape)\u001B[38;5;132;01m}\u001B[39;00m\u001B[38;5;124m (its shape is \u001B[39m\u001B[38;5;132;01m{\u001B[39;00mshape\u001B[38;5;132;01m}\u001B[39;00m\u001B[38;5;124m)\u001B[39m\u001B[38;5;124m\"\u001B[39m) \u001B[38;5;28;01mfrom\u001B[39;00m \u001B[38;5;21;01me\u001B[39;00m\n",
      "\u001B[0;31mValueError\u001B[0m: vmap was requested to map its argument along axis 0, which implies that its rank should be at least 1, but is only 0 (its shape is ())"
     ]
    }
   ],
   "source": [
    "res = sample_langevin(\n",
    "    log_p,\n",
    "    0.5,\n",
    "    1000000,\n",
    "    jax.random.PRNGKey(92682),\n",
    "    step_size=0.001\n",
    ")"
   ]
  },
  {
   "cell_type": "code",
   "execution_count": 50,
   "id": "fa02be15",
   "metadata": {},
   "outputs": [
    {
     "ename": "NameError",
     "evalue": "name 'res' is not defined",
     "output_type": "error",
     "traceback": [
      "\u001B[0;31m---------------------------------------------------------------------------\u001B[0m",
      "\u001B[0;31mNameError\u001B[0m                                 Traceback (most recent call last)",
      "Cell \u001B[0;32mIn[50], line 1\u001B[0m\n\u001B[0;32m----> 1\u001B[0m plt\u001B[38;5;241m.\u001B[39mhist(\u001B[43mres\u001B[49m[\u001B[38;5;241m1000\u001B[39m:][::\u001B[38;5;241m100\u001B[39m], bins\u001B[38;5;241m=\u001B[39m\u001B[38;5;241m100\u001B[39m);\n",
      "\u001B[0;31mNameError\u001B[0m: name 'res' is not defined"
     ]
    }
   ],
   "source": [
    "plt.hist(res[1000:][::100], bins=100);"
   ]
  },
  {
   "cell_type": "markdown",
   "id": "1b640c48",
   "metadata": {},
   "source": [
    "## Allowing for transformations"
   ]
  },
  {
   "cell_type": "code",
   "execution_count": 52,
   "id": "62a6ed21",
   "metadata": {},
   "outputs": [],
   "source": [
    "def transform(base_cls, f):\n",
    "    @jax_dataclass\n",
    "    class TransformedRV(base_cls):\n",
    "        def __call__(self, x):\n",
    "            return f(x)\n",
    "        \n",
    "    return TransformedRV"
   ]
  },
  {
   "cell_type": "code",
   "execution_count": 310,
   "id": "10551aa7",
   "metadata": {},
   "outputs": [],
   "source": [
    "@jax_dataclass\n",
    "class Normal(RandomVariable):\n",
    "    def log_p(self, x):\n",
    "        mu, sigma = self.params\n",
    "        return jax.scipy.stats.norm.logpdf(x, mu, sigma)\n",
    "\n",
    "LogitNormal = transform(Normal, jax.nn.sigmoid)"
   ]
  },
  {
   "cell_type": "code",
   "execution_count": 314,
   "id": "bd8a2b86",
   "metadata": {},
   "outputs": [
    {
     "data": {
      "text/plain": [
       "Array(0.5, dtype=float32, weak_type=True)"
      ]
     },
     "execution_count": 314,
     "metadata": {},
     "output_type": "execute_result"
    }
   ],
   "source": [
    "LogitNormal((0., 1.))(0.)"
   ]
  },
  {
   "cell_type": "code",
   "execution_count": 316,
   "id": "17415c64",
   "metadata": {},
   "outputs": [
    {
     "data": {
      "text/plain": [
       "(1.00000001747772, 4.8720096375076466e-09)"
      ]
     },
     "execution_count": 316,
     "metadata": {},
     "output_type": "execute_result"
    }
   ],
   "source": [
    "import scipy.integrate\n",
    "\n",
    "ln = LogitNormal((0., 1.))\n",
    "\n",
    "scipy.integrate.quad(lambda x: jnp.exp(ln.log_p(x)), -np.inf, np.inf)"
   ]
  },
  {
   "cell_type": "code",
   "execution_count": 320,
   "id": "21332a75",
   "metadata": {},
   "outputs": [],
   "source": [
    "mdl = Model()\n",
    "\n",
    "logit_theta = LogitNormal((0., 1.))\n",
    "\n",
    "mdl.add_var(logit_theta, 'logit_theta')\n",
    "\n",
    "for i in range(1000):\n",
    "    mdl.add_var(Bernoulli((logit_theta,)), f'y_{i}')"
   ]
  },
  {
   "cell_type": "code",
   "execution_count": 324,
   "id": "966e04a9",
   "metadata": {},
   "outputs": [],
   "source": [
    "def log_p(x):\n",
    "    return mdl.log_p({**data, 'logit_theta': x})\n",
    "\n",
    "res = sample_langevin(log_p, 0., 10000, key, step_size=1e-4)"
   ]
  },
  {
   "cell_type": "code",
   "execution_count": 328,
   "id": "9a6a79ab",
   "metadata": {},
   "outputs": [
    {
     "data": {
      "image/png": "[encoded data removed]",
      "text/plain": [
       "<Figure size 640x480 with 1 Axes>"
      ]
     },
     "metadata": {},
     "output_type": "display_data"
    }
   ],
   "source": [
    "plt.hist(jax.nn.sigmoid(res), bins=100);"
   ]
  },
  {
   "cell_type": "markdown",
   "id": "1f08843c",
   "metadata": {},
   "source": [
    "## Bayesian logistic regression"
   ]
  },
  {
   "cell_type": "code",
   "execution_count": 58,
   "id": "bff45689",
   "metadata": {},
   "outputs": [
    {
     "data": {
      "text/html": [
       "<div>\n",
       "<style scoped>\n",
       "    .dataframe tbody tr th:only-of-type {\n",
       "        vertical-align: middle;\n",
       "    }\n",
       "\n",
       "    .dataframe tbody tr th {\n",
       "        vertical-align: top;\n",
       "    }\n",
       "\n",
       "    .dataframe thead th {\n",
       "        text-align: right;\n",
       "    }\n",
       "</style>\n",
       "<table border=\"1\" class=\"dataframe\">\n",
       "  <thead>\n",
       "    <tr style=\"text-align: right;\">\n",
       "      <th></th>\n",
       "      <th>Pregnancies</th>\n",
       "      <th>Glucose</th>\n",
       "      <th>BloodPressure</th>\n",
       "      <th>SkinThickness</th>\n",
       "      <th>Insulin</th>\n",
       "      <th>BMI</th>\n",
       "      <th>DiabetesPedigreeFunction</th>\n",
       "      <th>Age</th>\n",
       "      <th>Outcome</th>\n",
       "    </tr>\n",
       "  </thead>\n",
       "  <tbody>\n",
       "    <tr>\n",
       "      <th>0</th>\n",
       "      <td>6</td>\n",
       "      <td>148</td>\n",
       "      <td>72</td>\n",
       "      <td>35</td>\n",
       "      <td>0</td>\n",
       "      <td>33.6</td>\n",
       "      <td>0.627</td>\n",
       "      <td>50</td>\n",
       "      <td>1</td>\n",
       "    </tr>\n",
       "    <tr>\n",
       "      <th>1</th>\n",
       "      <td>1</td>\n",
       "      <td>85</td>\n",
       "      <td>66</td>\n",
       "      <td>29</td>\n",
       "      <td>0</td>\n",
       "      <td>26.6</td>\n",
       "      <td>0.351</td>\n",
       "      <td>31</td>\n",
       "      <td>0</td>\n",
       "    </tr>\n",
       "    <tr>\n",
       "      <th>2</th>\n",
       "      <td>8</td>\n",
       "      <td>183</td>\n",
       "      <td>64</td>\n",
       "      <td>0</td>\n",
       "      <td>0</td>\n",
       "      <td>23.3</td>\n",
       "      <td>0.672</td>\n",
       "      <td>32</td>\n",
       "      <td>1</td>\n",
       "    </tr>\n",
       "    <tr>\n",
       "      <th>3</th>\n",
       "      <td>1</td>\n",
       "      <td>89</td>\n",
       "      <td>66</td>\n",
       "      <td>23</td>\n",
       "      <td>94</td>\n",
       "      <td>28.1</td>\n",
       "      <td>0.167</td>\n",
       "      <td>21</td>\n",
       "      <td>0</td>\n",
       "    </tr>\n",
       "    <tr>\n",
       "      <th>4</th>\n",
       "      <td>0</td>\n",
       "      <td>137</td>\n",
       "      <td>40</td>\n",
       "      <td>35</td>\n",
       "      <td>168</td>\n",
       "      <td>43.1</td>\n",
       "      <td>2.288</td>\n",
       "      <td>33</td>\n",
       "      <td>1</td>\n",
       "    </tr>\n",
       "  </tbody>\n",
       "</table>\n",
       "</div>"
      ],
      "text/plain": [
       "   Pregnancies  Glucose  BloodPressure  SkinThickness  Insulin   BMI  \\\n",
       "0            6      148             72             35        0  33.6   \n",
       "1            1       85             66             29        0  26.6   \n",
       "2            8      183             64              0        0  23.3   \n",
       "3            1       89             66             23       94  28.1   \n",
       "4            0      137             40             35      168  43.1   \n",
       "\n",
       "   DiabetesPedigreeFunction  Age  Outcome  \n",
       "0                     0.627   50        1  \n",
       "1                     0.351   31        0  \n",
       "2                     0.672   32        1  \n",
       "3                     0.167   21        0  \n",
       "4                     2.288   33        1  "
      ]
     },
     "execution_count": 58,
     "metadata": {},
     "output_type": "execute_result"
    }
   ],
   "source": [
    "import pandas as pd\n",
    "\n",
    "df = pd.read_csv('https://raw.githubusercontent.com/WillKoehrsen/eecs-491/master/assign/project/diabetes.csv')\n",
    "df.head()"
   ]
  },
  {
   "cell_type": "code",
   "execution_count": 59,
   "id": "615c72e2",
   "metadata": {},
   "outputs": [],
   "source": [
    "from jax import vmap\n",
    "\n",
    "@jax_dataclass\n",
    "class IsoNorm(RandomVariable):\n",
    "    def log_p(self, x):\n",
    "        mu, sigma = self.params\n",
    "        return vmap(jax.scipy.stats.norm.logpdf)(x, mu, sigma).sum()"
   ]
  },
  {
   "cell_type": "code",
   "execution_count": 60,
   "id": "fe26d383",
   "metadata": {},
   "outputs": [],
   "source": [
    "k = df.shape[1] - 1\n",
    "\n",
    "mu = jnp.zeros(k)\n",
    "sigma = jnp.ones_like(mu)\n",
    "\n",
    "beta = IsoNorm((mu, sigma))"
   ]
  },
  {
   "cell_type": "code",
   "execution_count": 61,
   "id": "81fd82d8",
   "metadata": {},
   "outputs": [],
   "source": [
    "from jax.scipy.special import expit, xlogy, xlog1py\n",
    "\n",
    "\n",
    "@partial(jax.tree_util.register_dataclass, data_fields=['params', 'x'], meta_fields=[])\n",
    "@dataclasses.dataclass(frozen=True, order=True)\n",
    "class LogisticRegression(RandomVariable):\n",
    "    x: jax.Array\n",
    "    \n",
    "    def log_p(self, y: int) -> float:\n",
    "        beta, = self.params\n",
    "        mu = beta.dot(self.x)\n",
    "        p = expit(mu)\n",
    "        return xlogy(y, p) + xlog1py(1 - y, -p)"
   ]
  },
  {
   "cell_type": "code",
   "execution_count": 62,
   "id": "2301b14c",
   "metadata": {},
   "outputs": [],
   "source": [
    "p = df.shape[1] - 1\n",
    "mu = jnp.zeros(p + 1)\n",
    "sigma = jnp.ones_like(mu)\n",
    "beta = IsoNorm((mu, sigma))"
   ]
  },
  {
   "cell_type": "code",
   "execution_count": 63,
   "id": "5d1b7ea1",
   "metadata": {},
   "outputs": [],
   "source": [
    "mdl = Model()\n",
    "mdl.add_var(beta, 'beta')\n",
    "params = (beta,)\n",
    "data = {}\n",
    "X, y = np.split(df.to_numpy(), [-1], axis=1)\n",
    "X -= X.mean(0)\n",
    "X /= X.std(0)\n",
    "for xi, yi in zip(X, y):\n",
    "    xi = np.insert(xi, 0, 1.)  # add intercept\n",
    "    name = f'y_{i}'\n",
    "    mdl.add_var(LogisticRegression(params, xi), name)\n",
    "    data[name] = yi"
   ]
  },
  {
   "cell_type": "code",
   "execution_count": 64,
   "id": "74a4b095",
   "metadata": {},
   "outputs": [
    {
     "data": {
      "text/plain": [
       "array([1., 1., 1., 1., 1., 1., 1., 1.])"
      ]
     },
     "execution_count": 64,
     "metadata": {},
     "output_type": "execute_result"
    }
   ],
   "source": [
    "X.std(0)"
   ]
  },
  {
   "cell_type": "code",
   "execution_count": 70,
   "id": "0d41b8b3",
   "metadata": {},
   "outputs": [],
   "source": [
    "def log_p(x):\n",
    "    return mdl.log_p({**data, 'beta': x})[0]\n",
    "\n",
    "with jax.debug_nans(True):\n",
    "    res = sample_langevin(log_p, mu, 1000000, key, step_size=1e-7)"
   ]
  },
  {
   "cell_type": "code",
   "execution_count": 71,
   "id": "9e4851be",
   "metadata": {},
   "outputs": [
    {
     "data": {
      "text/plain": [
       "[<matplotlib.lines.Line2D at 0x7fef43624940>]"
      ]
     },
     "execution_count": 71,
     "metadata": {},
     "output_type": "execute_result"
    },
    {
     "data": {
      "image/png": "[encoded data removed]",
      "text/plain": [
       "<Figure size 640x480 with 1 Axes>"
      ]
     },
     "metadata": {},
     "output_type": "display_data"
    }
   ],
   "source": [
    "plt.plot(vmap(log_p)(res))"
   ]
  },
  {
   "cell_type": "code",
   "execution_count": 68,
   "id": "b942d960",
   "metadata": {},
   "outputs": [
    {
     "data": {
      "text/plain": [
       "Array([[-0.01154693, -0.0115008 , -0.0115001 , ..., -0.01151687,\n",
       "        -0.01151008, -0.01150014],\n",
       "       [-0.00223546, -0.00214262, -0.0021412 , ..., -0.00217496,\n",
       "        -0.00216129, -0.00214129],\n",
       "       [ 0.00509328,  0.00523234,  0.00523446, ...,  0.00518389,\n",
       "         0.00520437,  0.00523434],\n",
       "       ...,\n",
       "       [-1.082463  , -0.28048214, -0.2682527 , ..., -0.5598929 ,\n",
       "        -0.44180244, -0.26896718],\n",
       "       [-1.0938009 , -0.29182425, -0.27959487, ..., -0.5712335 ,\n",
       "        -0.4531437 , -0.28030935],\n",
       "       [-1.0947    , -0.29272714, -0.28049782, ..., -0.5721351 ,\n",
       "        -0.45404583, -0.2812123 ]], dtype=float32)"
      ]
     },
     "execution_count": 68,
     "metadata": {},
     "output_type": "execute_result"
    }
   ],
   "source": [
    "res"
   ]
  },
  {
   "cell_type": "code",
   "execution_count": 73,
   "id": "e8e8a0db",
   "metadata": {},
   "outputs": [
    {
     "data": {
      "image/png": "[encoded data removed]",
      "text/plain": [
       "<Figure size 640x480 with 1 Axes>"
      ]
     },
     "metadata": {},
     "output_type": "display_data"
    }
   ],
   "source": [
    "plt.hist(res[:, 1][1000:][::100], bins=100);"
   ]
  },
  {
   "cell_type": "code",
   "execution_count": null,
   "id": "201574b6",
   "metadata": {},
   "outputs": [],
   "source": [
    "import seaborn as sns\n",
    "rdf = pd.DataFrame(res[10000:][::1000], columns=np.insert(df.columns[:-1], 0, \"Intercept\"))\n",
    "sns.pairplot(rdf)"
   ]
  },
  {
   "cell_type": "markdown",
   "id": "e2ef7c54",
   "metadata": {},
   "source": [
    "## Neural density estimation\n",
    "- Goal: learn complicated/multimodal density $p(x)$ by training a neural network $\\hat{p}(x;\\theta)$ **and be able to sample from it**.\n",
    "- Objective function:\n",
    "\n",
    "$$\\max_\\theta \\sum_i \\log \\hat{p}(x_i;\\theta)$$\n",
    "\n",
    "- Idea: Assume that $x_i \\sim f(z_i)$ for some function $f$ and tractable base distribution, e.g. $z_i \\sim \\mathcal{N}(0, 1)$\n",
    "- Thus, $p(x) = p(f^{-1}(x))|\\det J|^{-1}$."
   ]
  },
  {
   "cell_type": "code",
   "execution_count": 330,
   "id": "4965ce84",
   "metadata": {},
   "outputs": [
    {
     "data": {
      "text/plain": [
       "Array(-1.6202033, dtype=float32)"
      ]
     },
     "execution_count": 330,
     "metadata": {},
     "output_type": "execute_result"
    }
   ],
   "source": [
    "from typing import NamedTuple, Callable\n",
    "\n",
    "class BaseDistr(NamedTuple):\n",
    "    sample: Callable\n",
    "    log_p: Callable\n",
    " \n",
    "   \n",
    "base = BaseDistr(\n",
    "    sample=jax.random.normal,\n",
    "    log_p=jax.scipy.stats.norm.logpdf\n",
    ")\n",
    "\n",
    "base.log_p(base.sample(key))"
   ]
  },
  {
   "cell_type": "code",
   "execution_count": 332,
   "id": "5549dc4e",
   "metadata": {},
   "outputs": [
    {
     "data": {
      "text/plain": [
       "Array([[1., 2.]], dtype=float32)"
      ]
     },
     "execution_count": 332,
     "metadata": {},
     "output_type": "execute_result"
    }
   ],
   "source": [
    "jnp.atleast_2d([1., 2.])"
   ]
  },
  {
   "cell_type": "code",
   "execution_count": 334,
   "id": "e98542f1",
   "metadata": {},
   "outputs": [],
   "source": [
    "class DumbNDE(NamedTuple):\n",
    "    base: BaseDistr\n",
    "    f: Callable\n",
    "    finv: Callable\n",
    "    \n",
    "    def sample(self, key):\n",
    "        return self.f(self.base.sample(key))\n",
    "    \n",
    "    def log_p(self, y):\n",
    "        x = self.finv(y)\n",
    "        J = jnp.atleast_2d(jax.jacfwd(self.f)(x))\n",
    "        _, ld = jnp.linalg.slogdet(J)\n",
    "        return base.log_p(x) - ld"
   ],
   "outputs": [],
   "execution_count": 4
  },
  {
   "cell_type": "code",
   "execution_count": 121,
   "id": "16e8f06b",
   "metadata": {},
   "outputs": [
    {
     "name": "stderr",
     "output_type": "stream",
     "text": [
      "/tmp/ipykernel_1087172/3577842995.py:4: IntegrationWarning: The occurrence of roundoff error is detected, which prevents \n",
      "  the requested tolerance from being achieved.  The error may be \n",
      "  underestimated.\n",
      "  quad(lambda x: jnp.exp(pos.log_p(x)), 0., np.inf)\n"
     ]
    },
    {
     "data": {
      "text/plain": [
       "(1.000000015640112, 5.241116169964539e-08)"
      ]
   },
     "execution_count": 121,
     "metadata": {},
     "output_type": "execute_result"
    }
   ],
   "source": [
    "base = BaseDistr(jax.random.normal, jax.scipy.stats.norm.logpdf)\n",
    "pos = DumbNDE(base, jnp.exp, jnp.log)\n",
    "\n",
    "quad(lambda x: jnp.exp(pos.log_p(x)), 0., np.inf)"
   ],
   "outputs": [
    {
     "data": {
      "text/plain": [
       "(1.0000000021877753, 1.445026581464459e-08)"
      ]
     },
     "execution_count": 5,
     "metadata": {},
     "output_type": "execute_result"
    }
   ],
   "execution_count": 5
  },
  {
   "cell_type": "code",
   "execution_count": 348,
   "id": "4191d249",
   "metadata": {},
   "outputs": [
    {
     "data": {
      "text/plain": [
       "Array(2., dtype=float32, weak_type=True)"
      ]
     },
     "execution_count": 348,
     "metadata": {},
     "output_type": "execute_result"
    }
   ],
   "source": [
    "z01 = DumbNDE(base, jax.nn.sigmoid, jax.scipy.special.logit)\n"
   ]
  },
  {
   "cell_type": "code",
   "execution_count": null,
   "id": "55f0f114",
   "metadata": {},
   "outputs": [],
   "source": [
    "data = jax.random.gamma(key, 2., shape=(1000,))"
   ]
  },
  {
   "cell_type": "code",
   "execution_count": 355,
   "id": "3ef500af",
   "metadata": {},
   "outputs": [
    {
     "data": {
      "text/plain": [
       "Array([-0.1205461 ,  0.38820493], dtype=float32)"
      ]
     },
     "execution_count": 355,
     "metadata": {},
     "output_type": "execute_result"
    }
   ],
   "source": [
    "def xform(a, b):\n",
    "    return lambda x: a * jnp.exp(b * x)\n",
    "\n",
    "def inv_xform(a, b):\n",
    "    return lambda y: jnp.log(y / a) / b\n",
    "\n",
    "\n",
    "def obj(ab):\n",
    "    a, b = ab\n",
    "    gamma_maybe = DumbNDE(base, xform(a, b), inv_xform(a, b))\n",
    "    return -vmap(gamma_maybe.log_p)(data).mean()\n",
    "\n",
    "jax.grad(obj)(jnp.array([1., 2.]))"
   ]
  },
  {
   "cell_type": "code",
   "execution_count": 361,
   "id": "f1fdd9b1",
   "metadata": {},
   "outputs": [],
   "source": [
    "import scipy\n",
    "with jax.debug_nans(True):\n",
    "    res = scipy.optimize.minimize(jax.jit(jax.value_and_grad(obj)), np.random.rand(2), jac=True)"
   ]
  },
  {
   "cell_type": "code",
   "execution_count": 364,
   "id": "f1963b6a",
   "metadata": {},
   "outputs": [
    {
     "data": {
      "text/plain": [
       "(1.6195393045720774, 0.8136156895505204)"
      ]
     },
     "execution_count": 364,
     "metadata": {},
     "output_type": "execute_result"
    }
   ],
   "source": [
    "a, b = res.x\n",
    "a, b"
   ]
  },
  {
   "cell_type": "code",
   "execution_count": 370,
   "id": "8e616316",
   "metadata": {},
   "outputs": [
    {
     "data": {
      "text/plain": [
       "(array([0.26422544, 0.29122658, 0.2189021 , 0.09353968, 0.05593092,\n",
       "        0.02314384, 0.00675028, 0.00482163, 0.00289298, 0.00289298]),\n",
       " array([ 0.02895233,  1.06594563,  2.10293889,  3.13993216,  4.17692518,\n",
       "         5.21391869,  6.25091171,  7.28790522,  8.32489872,  9.36189175,\n",
       "        10.39888477]),\n",
       " <BarContainer object of 10 artists>)"
      ]
     },
     "execution_count": 370,
     "metadata": {},
     "output_type": "execute_result"
    },
    {
     "data": {
      "image/png": "[encoded data removed]",
      "text/plain": [
       "<Figure size 640x480 with 1 Axes>"
      ]
     },
     "metadata": {},
     "output_type": "display_data"
    }
   ],
   "source": [
    "z = np.random.normal(size=1000)\n",
    "plt.hist(xform(a, b)(z), alpha=0.3, density=True)\n",
    "plt.hist(data, alpha=0.3, density=True)"
   ]
  },
  {
   "cell_type": "code",
   "id": "fa9b4746",
   "metadata": {
    "ExecuteTime": {
     "end_time": "2024-12-04T18:30:45.415898Z",
     "start_time": "2024-12-04T18:30:45.412236Z"
    }
   },
   "source": [
    "base = BaseDistr(jax.random.normal, jax.scipy.stats.norm.logpdf)\n",
    "pos = DumbNDE(base, a\n",
    "              rejnp.exp, jnp.log)"
   ],
   "outputs": [],
   "execution_count": 6
  },
  {
   "cell_type": "code",
   "execution_count": 122,
   "id": "95bfa04d",
   "metadata": {},
   "outputs": [
    {
     "data": {
      "text/plain": [
       "(array([938.,  47.,   7.,   4.,   0.,   2.,   1.,   0.,   0.,   1.]),\n",
       " array([4.01217192e-02, 4.62706423e+00, 9.21400642e+00, 1.38009491e+01,\n",
       "        1.83878918e+01, 2.29748344e+01, 2.75617771e+01, 3.21487198e+01,\n",
       "        3.67356606e+01, 4.13226051e+01, 4.59095459e+01]),\n",
       " <BarContainer object of 10 artists>)"
      ]
     },
     "execution_count": 122,
     "metadata": {},
     "output_type": "execute_result"
    },
    {
     "data": {
      "image/png": "[encoded data removed]",
      "text/plain": [
       "<Figure size 640x480 with 1 Axes>"
      ]
     },
     "metadata": {},
     "output_type": "display_data"
    }
   ],
   "source": [
    "key = jax.random.PRNGKey(1)\n",
    "plt.hist(vmap(pos.sample)(jax.random.split(key, 1000)))"
   ]
  },
  {
   "cell_type": "code",
   "execution_count": 377,
   "id": "5865e103",
   "metadata": {},
   "outputs": [
    {
     "data": {
      "text/plain": [
       "<matplotlib.collections.PathCollection at 0x7feef51ea590>"
      ]
     },
     "execution_count": 377,
     "metadata": {},
     "output_type": "execute_result"
    },
    {
     "data": {
      "image/png": "[encoded data removed]",
      "text/plain": [
       "<Figure size 640x480 with 1 Axes>"
      ]
     },
     "metadata": {},
     "output_type": "display_data"
    }
   ],
   "source": [
    "from sklearn.datasets import make_swiss_roll\n",
    "X, t = make_swiss_roll(noise=.7, random_state=0, n_samples=10000)\n",
    "plt.scatter(X[:, 0], X[:, 2], alpha=0.1)"
   ]
  },
  {
   "cell_type": "code",
   "execution_count": 378,
   "id": "1116d94a",
   "metadata": {},
   "outputs": [],
   "source": [
    "base = BaseDistr(\n",
    "    partial(jax.random.normal, shape=(2,)), \n",
    "    lambda x: jax.scipy.stats.norm.logpdf(x).sum()\n",
    ")"
   ]
  },
  {
   "cell_type": "markdown",
   "id": "bba56c6e",
   "metadata": {},
   "source": [
    "## Affine Coupling Layer\n",
    "\n",
    "Split the input $x = [x_1, x_2]$:\n",
    "$$\n",
    "x_2' = x_2 \\cdot \\exp(s(x_1)) + t(x_1)\n",
    "$$\n",
    "where:\n",
    "- $s(x_1)$ (scale) and $t(x_1)$ (translation) are functions of $x_1$.\n",
    "- $x_1$ is left unchanged: $x_1' = x_1$.\n",
    "\n",
    "\n",
    "\n",
    "Inverse: given $x_1' = x_1$ and $x_2'$:\n",
    "$$\n",
    "x_2 = (x_2' - t(x_1)) \\cdot \\exp(-s(x_1))\n",
    "$$"
   ]
  },
  {
   "cell_type": "code",
   "execution_count": 383,
   "id": "9128d349",
   "metadata": {},
   "outputs": [],
   "source": [
    "import jax.numpy as jnp\n",
    "# NOTE: Equinox is like keras for jax\n",
    "import equinox as eqx\n",
    "\n",
    "class AffineCoupling(eqx.Module):\n",
    "    s_net: eqx.Module\n",
    "    t_net: eqx.Module\n",
    "    mask: int\n",
    "\n",
    "    def __init__(self, hidden_size, mask, key):\n",
    "        key1, key2 = jax.random.split(key)\n",
    "        self.s_net = eqx.nn.MLP(1, 1, hidden_size, depth=2, key=key1)\n",
    "        self.t_net = eqx.nn.MLP(1, 1, hidden_size, depth=2, key=key2)\n",
    "        self.mask = mask\n",
    "\n",
    "    \n",
    "    def __call__(self, x, reverse=False):\n",
    "        x1 = x[self.mask][None]\n",
    "        x2 = x[1 - self.mask][None]\n",
    "        s = self.s_net(x1)\n",
    "        t = self.t_net(x1)\n",
    "        if reverse:\n",
    "            x2 = (x2 - t) * jnp.exp(-s)\n",
    "        else:\n",
    "            x2 = x2 * jnp.exp(s) + t\n",
    "        # return [masked value, transformed value]\n",
    "        return jnp.zeros(2).at[jnp.array([self.mask, 1 - self.mask])].set([x1[0], x2[0]])\n",
    "\n",
    "    def log_det_jacobian(self, x):\n",
    "        x1 = x[self.mask]\n",
    "        s = self.s_net(x1[None])\n",
    "        return s"
   ]
  },
  {
   "cell_type": "code",
   "execution_count": 389,
   "id": "7a7e5d91",
   "metadata": {},
   "outputs": [],
   "source": [
    "f = AffineCoupling(16, 0, key)"
   ]
  },
  {
   "cell_type": "code",
   "execution_count": 390,
   "id": "be916b7a",
   "metadata": {},
   "outputs": [
    {
     "data": {
      "text/plain": [
       "Array([1.       , 2.0000002], dtype=float32)"
      ]
     },
     "execution_count": 390,
     "metadata": {},
     "output_type": "execute_result"
    }
   ],
   "source": [
    "a = jnp.array([1., 2.])\n",
    "y = f(a)\n",
    "f(y, reverse=True)"
   ]
  },
  {
   "cell_type": "code",
   "execution_count": 393,
   "id": "9710ffc9",
   "metadata": {},
   "outputs": [
    {
     "data": {
      "text/plain": [
       "SlogdetResult(sign=Array(1., dtype=float32), logabsdet=Array(0.25463378, dtype=float32))"
      ]
     },
     "execution_count": 393,
     "metadata": {},
     "output_type": "execute_result"
    }
   ],
   "source": [
    "jnp.linalg.slogdet(jax.jacfwd(f.__call__)(a))"
   ]
  },
  {
   "cell_type": "code",
   "execution_count": 394,
   "id": "fe7ac7d3",
   "metadata": {},
   "outputs": [
    {
     "data": {
      "text/plain": [
       "Array([0.25463372], dtype=float32)"
      ]
     },
     "execution_count": 394,
     "metadata": {},
     "output_type": "execute_result"
    }
   ],
   "source": [
    "f.log_det_jacobian(a)"
   ]
  },
  {
   "cell_type": "code",
   "execution_count": 405,
   "id": "c0f1d04a",
   "metadata": {},
   "outputs": [],
   "source": [
    "class Stack(eqx.Module):\n",
    "    fs: list[AffineCoupling]\n",
    "    \n",
    "    def __call__(self, x, reverse=False):\n",
    "        lst = self.fs\n",
    "        if reverse:\n",
    "            lst = lst[::-1]\n",
    "        for f in lst:\n",
    "            x = f(x, reverse=reverse)\n",
    "        return x\n",
    "    \n",
    "\n",
    "    def log_det_jacobian(self, x):\n",
    "        ret = 0.\n",
    "        for f in self.fs:\n",
    "            ret += f.log_det_jacobian(x)\n",
    "            x = f(x)\n",
    "        return ret"
   ]
  },
  {
   "cell_type": "code",
   "execution_count": 407,
   "id": "d26ce39b",
   "metadata": {},
   "outputs": [
    {
     "data": {
      "text/plain": [
       "Array([0.9999997, 1.9999999], dtype=float32)"
      ]
     },
     "execution_count": 407,
     "metadata": {},
     "output_type": "execute_result"
    }
   ],
   "source": [
    "s = Stack([\n",
    "    AffineCoupling(16, i, k) for i, k in zip([0, 1] * 4, jax.random.split(key, 8))\n",
    "])\n",
    "\n",
    "s(s(a), reverse=True)"
   ]
  },
  {
   "cell_type": "code",
   "execution_count": 408,
   "id": "05d76db6",
   "metadata": {},
   "outputs": [
    {
     "data": {
      "text/plain": [
       "SlogdetResult(sign=Array(1., dtype=float32), logabsdet=Array(0.8383084, dtype=float32))"
      ]
     },
     "execution_count": 408,
     "metadata": {},
     "output_type": "execute_result"
    }
   ],
   "source": [
    "jnp.linalg.slogdet(jax.jacrev(s)(a))"
   ]
  },
  {
   "cell_type": "code",
   "execution_count": 409,
   "id": "5cb29662",
   "metadata": {},
   "outputs": [
    {
     "data": {
      "text/plain": [
       "Array([0.83830404], dtype=float32)"
      ]
     },
     "execution_count": 409,
     "metadata": {},
     "output_type": "execute_result"
    }
   ],
   "source": [
    "s.log_det_jacobian(a)"
   ]
  },
  {
   "cell_type": "code",
   "execution_count": 410,
   "id": "a2c5efaf",
   "metadata": {},
   "outputs": [],
   "source": [
    "base2d = BaseDistr(\n",
    "    sample=lambda key: jax.random.normal(key, shape=2),\n",
    "    log_p=lambda x: jax.scipy.stats.norm.logpdf(x).sum()\n",
    ")\n",
    "nf = DumbNDE(base2d, s, lambda x: s(x, reverse=True))"
   ]
  },
  {
   "cell_type": "code",
   "execution_count": 414,
   "id": "69d8e946",
   "metadata": {},
   "outputs": [
    {
     "data": {
      "text/plain": [
       "<matplotlib.collections.PathCollection at 0x7feef51c8e50>"
      ]
     },
     "execution_count": 414,
     "metadata": {},
     "output_type": "execute_result"
    },
    {
     "data": {
      "image/png": "[encoded data removed]",
      "text/plain": [
       "<Figure size 640x480 with 1 Axes>"
      ]
     },
     "metadata": {},
     "output_type": "display_data"
    }
   ],
   "source": [
    "data = X[:, [0, 2]]\n",
    "plt.scatter(*data.T)"
   ]
  },
  {
   "cell_type": "code",
   "execution_count": 420,
   "id": "1ae543ed",
   "metadata": {},
   "outputs": [],
   "source": [
    "bad_dist = vmap(nf.sample)(jax.random.split(key, 1000))"
   ]
  },
  {
   "cell_type": "code",
   "execution_count": 422,
   "id": "4fa47666",
   "metadata": {},
   "outputs": [
    {
     "data": {
      "text/plain": [
       "<matplotlib.collections.PathCollection at 0x7feef4e05060>"
      ]
     },
     "execution_count": 422,
     "metadata": {},
     "output_type": "execute_result"
    },
    {
     "data": {
      "image/png": "[encoded data removed]",
      "text/plain": [
       "<Figure size 640x480 with 1 Axes>"
      ]
     },
     "metadata": {},
     "output_type": "display_data"
    }
   ],
   "source": [
    "plt.scatter(*bad_dist.T)\n",
    "plt.scatter(*data.T)"
   ]
  },
  {
   "cell_type": "code",
   "execution_count": null,
   "id": "88a7f14a",
   "metadata": {},
   "outputs": [],
   "source": [
    "updates = jax.tree.map(\n",
    "    lambda x: x * 1e-4,\n",
    "    eqx.filter_grad(obj)(nf, data)\n",
    ")\n",
    "eqx.apply_updates(nf, updates)\n",
    "\n",
    "# x = x + fprime(x) * eps"
   ]
  },
  {
   "cell_type": "code",
   "execution_count": 455,
   "id": "98316b78",
   "metadata": {},
   "outputs": [
    {
     "data": {
      "text/plain": [
       "DumbNDE(base=BaseDistr(sample=None, log_p=None), f=Stack(\n",
       "  fs=[\n",
       "    AffineCoupling(\n",
       "      s_net=MLP(\n",
       "        layers=(\n",
       "          Linear(\n",
       "            weight=None,\n",
       "            bias=None,\n",
       "            in_features=1,\n",
       "            out_features=16,\n",
       "            use_bias=True\n",
       "          ),\n",
       "          Linear(\n",
       "            weight=None,\n",
       "            bias=None,\n",
       "            in_features=16,\n",
       "            out_features=16,\n",
       "            use_bias=True\n",
       "          ),\n",
       "          Linear(\n",
       "            weight=None,\n",
       "            bias=None,\n",
       "            in_features=16,\n",
       "            out_features=1,\n",
       "            use_bias=True\n",
       "          )\n",
       "        ),\n",
       "        activation=None,\n",
       "        final_activation=None,\n",
       "        use_bias=True,\n",
       "        use_final_bias=True,\n",
       "        in_size=1,\n",
       "        out_size=1,\n",
       "        width_size=16,\n",
       "        depth=2\n",
       "      ),\n",
       "      t_net=MLP(\n",
       "        layers=(\n",
       "          Linear(\n",
       "            weight=None,\n",
       "            bias=None,\n",
       "            in_features=1,\n",
       "            out_features=16,\n",
       "            use_bias=True\n",
       "          ),\n",
       "          Linear(\n",
       "            weight=None,\n",
       "            bias=None,\n",
       "            in_features=16,\n",
       "            out_features=16,\n",
       "            use_bias=True\n",
       "          ),\n",
       "          Linear(\n",
       "            weight=None,\n",
       "            bias=None,\n",
       "            in_features=16,\n",
       "            out_features=1,\n",
       "            use_bias=True\n",
       "          )\n",
       "        ),\n",
       "        activation=None,\n",
       "        final_activation=None,\n",
       "        use_bias=True,\n",
       "        use_final_bias=True,\n",
       "        in_size=1,\n",
       "        out_size=1,\n",
       "        width_size=16,\n",
       "        depth=2\n",
       "      ),\n",
       "      mask=None\n",
       "    ),\n",
       "    AffineCoupling(\n",
       "      s_net=MLP(\n",
       "        layers=(\n",
       "          Linear(\n",
       "            weight=None,\n",
       "            bias=None,\n",
       "            in_features=1,\n",
       "            out_features=16,\n",
       "            use_bias=True\n",
       "          ),\n",
       "          Linear(\n",
       "            weight=None,\n",
       "            bias=None,\n",
       "            in_features=16,\n",
       "            out_features=16,\n",
       "            use_bias=True\n",
       "          ),\n",
       "          Linear(\n",
       "            weight=None,\n",
       "            bias=None,\n",
       "            in_features=16,\n",
       "            out_features=1,\n",
       "            use_bias=True\n",
       "          )\n",
       "        ),\n",
       "        activation=None,\n",
       "        final_activation=None,\n",
       "        use_bias=True,\n",
       "        use_final_bias=True,\n",
       "        in_size=1,\n",
       "        out_size=1,\n",
       "        width_size=16,\n",
       "        depth=2\n",
       "      ),\n",
       "      t_net=MLP(\n",
       "        layers=(\n",
       "          Linear(\n",
       "            weight=None,\n",
       "            bias=None,\n",
       "            in_features=1,\n",
       "            out_features=16,\n",
       "            use_bias=True\n",
       "          ),\n",
       "          Linear(\n",
       "            weight=None,\n",
       "            bias=None,\n",
       "            in_features=16,\n",
       "            out_features=16,\n",
       "            use_bias=True\n",
       "          ),\n",
       "          Linear(\n",
       "            weight=None,\n",
       "            bias=None,\n",
       "            in_features=16,\n",
       "            out_features=1,\n",
       "            use_bias=True\n",
       "          )\n",
       "        ),\n",
       "        activation=None,\n",
       "        final_activation=None,\n",
       "        use_bias=True,\n",
       "        use_final_bias=True,\n",
       "        in_size=1,\n",
       "        out_size=1,\n",
       "        width_size=16,\n",
       "        depth=2\n",
       "      ),\n",
       "      mask=None\n",
       "    ),\n",
       "    AffineCoupling(\n",
       "      s_net=MLP(\n",
       "        layers=(\n",
       "          Linear(\n",
       "            weight=None,\n",
       "            bias=None,\n",
       "            in_features=1,\n",
       "            out_features=16,\n",
       "            use_bias=True\n",
       "          ),\n",
       "          Linear(\n",
       "            weight=None,\n",
       "            bias=None,\n",
       "            in_features=16,\n",
       "            out_features=16,\n",
       "            use_bias=True\n",
       "          ),\n",
       "          Linear(\n",
       "            weight=None,\n",
       "            bias=None,\n",
       "            in_features=16,\n",
       "            out_features=1,\n",
       "            use_bias=True\n",
       "          )\n",
       "        ),\n",
       "        activation=None,\n",
       "        final_activation=None,\n",
       "        use_bias=True,\n",
       "        use_final_bias=True,\n",
       "        in_size=1,\n",
       "        out_size=1,\n",
       "        width_size=16,\n",
       "        depth=2\n",
       "      ),\n",
       "      t_net=MLP(\n",
       "        layers=(\n",
       "          Linear(\n",
       "            weight=None,\n",
       "            bias=None,\n",
       "            in_features=1,\n",
       "            out_features=16,\n",
       "            use_bias=True\n",
       "          ),\n",
       "          Linear(\n",
       "            weight=None,\n",
       "            bias=None,\n",
       "            in_features=16,\n",
       "            out_features=16,\n",
       "            use_bias=True\n",
       "          ),\n",
       "          Linear(\n",
       "            weight=None,\n",
       "            bias=None,\n",
       "            in_features=16,\n",
       "            out_features=1,\n",
       "            use_bias=True\n",
       "          )\n",
       "        ),\n",
       "        activation=None,\n",
       "        final_activation=None,\n",
       "        use_bias=True,\n",
       "        use_final_bias=True,\n",
       "        in_size=1,\n",
       "        out_size=1,\n",
       "        width_size=16,\n",
       "        depth=2\n",
       "      ),\n",
       "      mask=None\n",
       "    ),\n",
       "    AffineCoupling(\n",
       "      s_net=MLP(\n",
       "        layers=(\n",
       "          Linear(\n",
       "            weight=None,\n",
       "            bias=None,\n",
       "            in_features=1,\n",
       "            out_features=16,\n",
       "            use_bias=True\n",
       "          ),\n",
       "          Linear(\n",
       "            weight=None,\n",
       "            bias=None,\n",
       "            in_features=16,\n",
       "            out_features=16,\n",
       "            use_bias=True\n",
       "          ),\n",
       "          Linear(\n",
       "            weight=None,\n",
       "            bias=None,\n",
       "            in_features=16,\n",
       "            out_features=1,\n",
       "            use_bias=True\n",
       "          )\n",
       "        ),\n",
       "        activation=None,\n",
       "        final_activation=None,\n",
       "        use_bias=True,\n",
       "        use_final_bias=True,\n",
       "        in_size=1,\n",
       "        out_size=1,\n",
       "        width_size=16,\n",
       "        depth=2\n",
       "      ),\n",
       "      t_net=MLP(\n",
       "        layers=(\n",
       "          Linear(\n",
       "            weight=None,\n",
       "            bias=None,\n",
       "            in_features=1,\n",
       "            out_features=16,\n",
       "            use_bias=True\n",
       "          ),\n",
       "          Linear(\n",
       "            weight=None,\n",
       "            bias=None,\n",
       "            in_features=16,\n",
       "            out_features=16,\n",
       "            use_bias=True\n",
       "          ),\n",
       "          Linear(\n",
       "            weight=None,\n",
       "            bias=None,\n",
       "            in_features=16,\n",
       "            out_features=1,\n",
       "            use_bias=True\n",
       "          )\n",
       "        ),\n",
       "        activation=None,\n",
       "        final_activation=None,\n",
       "        use_bias=True,\n",
       "        use_final_bias=True,\n",
       "        in_size=1,\n",
       "        out_size=1,\n",
       "        width_size=16,\n",
       "        depth=2\n",
       "      ),\n",
       "      mask=None\n",
       "    ),\n",
       "    AffineCoupling(\n",
       "      s_net=MLP(\n",
       "        layers=(\n",
       "          Linear(\n",
       "            weight=None,\n",
       "            bias=None,\n",
       "            in_features=1,\n",
       "            out_features=16,\n",
       "            use_bias=True\n",
       "          ),\n",
       "          Linear(\n",
       "            weight=None,\n",
       "            bias=None,\n",
       "            in_features=16,\n",
       "            out_features=16,\n",
       "            use_bias=True\n",
       "          ),\n",
       "          Linear(\n",
       "            weight=None,\n",
       "            bias=None,\n",
       "            in_features=16,\n",
       "            out_features=1,\n",
       "            use_bias=True\n",
       "          )\n",
       "        ),\n",
       "        activation=None,\n",
       "        final_activation=None,\n",
       "        use_bias=True,\n",
       "        use_final_bias=True,\n",
       "        in_size=1,\n",
       "        out_size=1,\n",
       "        width_size=16,\n",
       "        depth=2\n",
       "      ),\n",
       "      t_net=MLP(\n",
       "        layers=(\n",
       "          Linear(\n",
       "            weight=None,\n",
       "            bias=None,\n",
       "            in_features=1,\n",
       "            out_features=16,\n",
       "            use_bias=True\n",
       "          ),\n",
       "          Linear(\n",
       "            weight=None,\n",
       "            bias=None,\n",
       "            in_features=16,\n",
       "            out_features=16,\n",
       "            use_bias=True\n",
       "          ),\n",
       "          Linear(\n",
       "            weight=None,\n",
       "            bias=None,\n",
       "            in_features=16,\n",
       "            out_features=1,\n",
       "            use_bias=True\n",
       "          )\n",
       "        ),\n",
       "        activation=None,\n",
       "        final_activation=None,\n",
       "        use_bias=True,\n",
       "        use_final_bias=True,\n",
       "        in_size=1,\n",
       "        out_size=1,\n",
       "        width_size=16,\n",
       "        depth=2\n",
       "      ),\n",
       "      mask=None\n",
       "    ),\n",
       "    AffineCoupling(\n",
       "      s_net=MLP(\n",
       "        layers=(\n",
       "          Linear(\n",
       "            weight=None,\n",
       "            bias=None,\n",
       "            in_features=1,\n",
       "            out_features=16,\n",
       "            use_bias=True\n",
       "          ),\n",
       "          Linear(\n",
       "            weight=None,\n",
       "            bias=None,\n",
       "            in_features=16,\n",
       "            out_features=16,\n",
       "            use_bias=True\n",
       "          ),\n",
       "          Linear(\n",
       "            weight=None,\n",
       "            bias=None,\n",
       "            in_features=16,\n",
       "            out_features=1,\n",
       "            use_bias=True\n",
       "          )\n",
       "        ),\n",
       "        activation=None,\n",
       "        final_activation=None,\n",
       "        use_bias=True,\n",
       "        use_final_bias=True,\n",
       "        in_size=1,\n",
       "        out_size=1,\n",
       "        width_size=16,\n",
       "        depth=2\n",
       "      ),\n",
       "      t_net=MLP(\n",
       "        layers=(\n",
       "          Linear(\n",
       "            weight=None,\n",
       "            bias=None,\n",
       "            in_features=1,\n",
       "            out_features=16,\n",
       "            use_bias=True\n",
       "          ),\n",
       "          Linear(\n",
       "            weight=None,\n",
       "            bias=None,\n",
       "            in_features=16,\n",
       "            out_features=16,\n",
       "            use_bias=True\n",
       "          ),\n",
       "          Linear(\n",
       "            weight=None,\n",
       "            bias=None,\n",
       "            in_features=16,\n",
       "            out_features=1,\n",
       "            use_bias=True\n",
       "          )\n",
       "        ),\n",
       "        activation=None,\n",
       "        final_activation=None,\n",
       "        use_bias=True,\n",
       "        use_final_bias=True,\n",
       "        in_size=1,\n",
       "        out_size=1,\n",
       "        width_size=16,\n",
       "        depth=2\n",
       "      ),\n",
       "      mask=None\n",
       "    ),\n",
       "    AffineCoupling(\n",
       "      s_net=MLP(\n",
       "        layers=(\n",
       "          Linear(\n",
       "            weight=None,\n",
       "            bias=None,\n",
       "            in_features=1,\n",
       "            out_features=16,\n",
       "            use_bias=True\n",
       "          ),\n",
       "          Linear(\n",
       "            weight=None,\n",
       "            bias=None,\n",
       "            in_features=16,\n",
       "            out_features=16,\n",
       "            use_bias=True\n",
       "          ),\n",
       "          Linear(\n",
       "            weight=None,\n",
       "            bias=None,\n",
       "            in_features=16,\n",
       "            out_features=1,\n",
       "            use_bias=True\n",
       "          )\n",
       "        ),\n",
       "        activation=None,\n",
       "        final_activation=None,\n",
       "        use_bias=True,\n",
       "        use_final_bias=True,\n",
       "        in_size=1,\n",
       "        out_size=1,\n",
       "        width_size=16,\n",
       "        depth=2\n",
       "      ),\n",
       "      t_net=MLP(\n",
       "        layers=(\n",
       "          Linear(\n",
       "            weight=None,\n",
       "            bias=None,\n",
       "            in_features=1,\n",
       "            out_features=16,\n",
       "            use_bias=True\n",
       "          ),\n",
       "          Linear(\n",
       "            weight=None,\n",
       "            bias=None,\n",
       "            in_features=16,\n",
       "            out_features=16,\n",
       "            use_bias=True\n",
       "          ),\n",
       "          Linear(\n",
       "            weight=None,\n",
       "            bias=None,\n",
       "            in_features=16,\n",
       "            out_features=1,\n",
       "            use_bias=True\n",
       "          )\n",
       "        ),\n",
       "        activation=None,\n",
       "        final_activation=None,\n",
       "        use_bias=True,\n",
       "        use_final_bias=True,\n",
       "        in_size=1,\n",
       "        out_size=1,\n",
       "        width_size=16,\n",
       "        depth=2\n",
       "      ),\n",
       "      mask=None\n",
       "    ),\n",
       "    AffineCoupling(\n",
       "      s_net=MLP(\n",
       "        layers=(\n",
       "          Linear(\n",
       "            weight=None,\n",
       "            bias=None,\n",
       "            in_features=1,\n",
       "            out_features=16,\n",
       "            use_bias=True\n",
       "          ),\n",
       "          Linear(\n",
       "            weight=None,\n",
       "            bias=None,\n",
       "            in_features=16,\n",
       "            out_features=16,\n",
       "            use_bias=True\n",
       "          ),\n",
       "          Linear(\n",
       "            weight=None,\n",
       "            bias=None,\n",
       "            in_features=16,\n",
       "            out_features=1,\n",
       "            use_bias=True\n",
       "          )\n",
       "        ),\n",
       "        activation=None,\n",
       "        final_activation=None,\n",
       "        use_bias=True,\n",
       "        use_final_bias=True,\n",
       "        in_size=1,\n",
       "        out_size=1,\n",
       "        width_size=16,\n",
       "        depth=2\n",
       "      ),\n",
       "      t_net=MLP(\n",
       "        layers=(\n",
       "          Linear(\n",
       "            weight=None,\n",
       "            bias=None,\n",
       "            in_features=1,\n",
       "            out_features=16,\n",
       "            use_bias=True\n",
       "          ),\n",
       "          Linear(\n",
       "            weight=None,\n",
       "            bias=None,\n",
       "            in_features=16,\n",
       "            out_features=16,\n",
       "            use_bias=True\n",
       "          ),\n",
       "          Linear(\n",
       "            weight=None,\n",
       "            bias=None,\n",
       "            in_features=16,\n",
       "            out_features=1,\n",
       "            use_bias=True\n",
       "          )\n",
       "        ),\n",
       "        activation=None,\n",
       "        final_activation=None,\n",
       "        use_bias=True,\n",
       "        use_final_bias=True,\n",
       "        in_size=1,\n",
       "        out_size=1,\n",
       "        width_size=16,\n",
       "        depth=2\n",
       "      ),\n",
       "      mask=None\n",
       "    )\n",
       "  ]\n",
       "), finv=None)"
      ]
     },
     "execution_count": 455,
     "metadata": {},
     "output_type": "execute_result"
    }
   ],
   "source": [
    "f, nf = eqx.partition(nf, eqx.is_inexact_array)\n",
    "jax.tree.map(jnp.sum, f)"
   ]
  },
  {
   "cell_type": "code",
   "execution_count": 442,
   "id": "a3c27f61",
   "metadata": {},
   "outputs": [
    {
     "data": {
      "text/plain": [
       "{'a': 0.1, 'b': array([0.02])}"
      ]
     },
     "execution_count": 442,
     "metadata": {},
     "output_type": "execute_result"
    }
   ],
   "source": [
    "def obj(mdl, data):\n",
    "    d, nd = eqx.partition(mdl)\n",
    "    w = jax.tree.map(jnp.sum, eqx.p)\n",
    "    return -vmap(mdl.log_p)(data).mean()\n",
    "\n",
    "tree = {'a': 1., 'b': np.array([.2])}\n",
    "jax.tree.map(lambda a: a * .1, tree)"
   ]
  },
  {
   "cell_type": "code",
   "execution_count": 437,
   "id": "f26d10fa",
   "metadata": {},
   "outputs": [],
   "source": []
  },
  {
   "cell_type": "code",
   "execution_count": 441,
   "id": "770ffcc3",
   "metadata": {},
   "outputs": [
    {
     "data": {
      "text/plain": [
       "DumbNDE(base=BaseDistr(sample=None, log_p=None), f=Stack(\n",
       "  fs=[\n",
       "    AffineCoupling(\n",
       "      s_net=MLP(\n",
       "        layers=(\n",
       "          Linear(\n",
       "            weight=f32[16,1],\n",
       "            bias=f32[16],\n",
       "            in_features=1,\n",
       "            out_features=16,\n",
       "            use_bias=True\n",
       "          ),\n",
       "          Linear(\n",
       "            weight=f32[16,16],\n",
       "            bias=f32[16],\n",
       "            in_features=16,\n",
       "            out_features=16,\n",
       "            use_bias=True\n",
       "          ),\n",
       "          Linear(\n",
       "            weight=f32[1,16],\n",
       "            bias=f32[1],\n",
       "            in_features=16,\n",
       "            out_features=1,\n",
       "            use_bias=True\n",
       "          )\n",
       "        ),\n",
       "        activation=None,\n",
       "        final_activation=None,\n",
       "        use_bias=True,\n",
       "        use_final_bias=True,\n",
       "        in_size=1,\n",
       "        out_size=1,\n",
       "        width_size=16,\n",
       "        depth=2\n",
       "      ),\n",
       "      t_net=MLP(\n",
       "        layers=(\n",
       "          Linear(\n",
       "            weight=f32[16,1],\n",
       "            bias=f32[16],\n",
       "            in_features=1,\n",
       "            out_features=16,\n",
       "            use_bias=True\n",
       "          ),\n",
       "          Linear(\n",
       "            weight=f32[16,16],\n",
       "            bias=f32[16],\n",
       "            in_features=16,\n",
       "            out_features=16,\n",
       "            use_bias=True\n",
       "          ),\n",
       "          Linear(\n",
       "            weight=f32[1,16],\n",
       "            bias=f32[1],\n",
       "            in_features=16,\n",
       "            out_features=1,\n",
       "            use_bias=True\n",
       "          )\n",
       "        ),\n",
       "        activation=None,\n",
       "        final_activation=None,\n",
       "        use_bias=True,\n",
       "        use_final_bias=True,\n",
       "        in_size=1,\n",
       "        out_size=1,\n",
       "        width_size=16,\n",
       "        depth=2\n",
       "      ),\n",
       "      mask=None\n",
       "    ),\n",
       "    AffineCoupling(\n",
       "      s_net=MLP(\n",
       "        layers=(\n",
       "          Linear(\n",
       "            weight=f32[16,1],\n",
       "            bias=f32[16],\n",
       "            in_features=1,\n",
       "            out_features=16,\n",
       "            use_bias=True\n",
       "          ),\n",
       "          Linear(\n",
       "            weight=f32[16,16],\n",
       "            bias=f32[16],\n",
       "            in_features=16,\n",
       "            out_features=16,\n",
       "            use_bias=True\n",
       "          ),\n",
       "          Linear(\n",
       "            weight=f32[1,16],\n",
       "            bias=f32[1],\n",
       "            in_features=16,\n",
       "            out_features=1,\n",
       "            use_bias=True\n",
       "          )\n",
       "        ),\n",
       "        activation=None,\n",
       "        final_activation=None,\n",
       "        use_bias=True,\n",
       "        use_final_bias=True,\n",
       "        in_size=1,\n",
       "        out_size=1,\n",
       "        width_size=16,\n",
       "        depth=2\n",
       "      ),\n",
       "      t_net=MLP(\n",
       "        layers=(\n",
       "          Linear(\n",
       "            weight=f32[16,1],\n",
       "            bias=f32[16],\n",
       "            in_features=1,\n",
       "            out_features=16,\n",
       "            use_bias=True\n",
       "          ),\n",
       "          Linear(\n",
       "            weight=f32[16,16],\n",
       "            bias=f32[16],\n",
       "            in_features=16,\n",
       "            out_features=16,\n",
       "            use_bias=True\n",
       "          ),\n",
       "          Linear(\n",
       "            weight=f32[1,16],\n",
       "            bias=f32[1],\n",
       "            in_features=16,\n",
       "            out_features=1,\n",
       "            use_bias=True\n",
       "          )\n",
       "        ),\n",
       "        activation=None,\n",
       "        final_activation=None,\n",
       "        use_bias=True,\n",
       "        use_final_bias=True,\n",
       "        in_size=1,\n",
       "        out_size=1,\n",
       "        width_size=16,\n",
       "        depth=2\n",
       "      ),\n",
       "      mask=None\n",
       "    ),\n",
       "    AffineCoupling(\n",
       "      s_net=MLP(\n",
       "        layers=(\n",
       "          Linear(\n",
       "            weight=f32[16,1],\n",
       "            bias=f32[16],\n",
       "            in_features=1,\n",
       "            out_features=16,\n",
       "            use_bias=True\n",
       "          ),\n",
       "          Linear(\n",
       "            weight=f32[16,16],\n",
       "            bias=f32[16],\n",
       "            in_features=16,\n",
       "            out_features=16,\n",
       "            use_bias=True\n",
       "          ),\n",
       "          Linear(\n",
       "            weight=f32[1,16],\n",
       "            bias=f32[1],\n",
       "            in_features=16,\n",
       "            out_features=1,\n",
       "            use_bias=True\n",
       "          )\n",
       "        ),\n",
       "        activation=None,\n",
       "        final_activation=None,\n",
       "        use_bias=True,\n",
       "        use_final_bias=True,\n",
       "        in_size=1,\n",
       "        out_size=1,\n",
       "        width_size=16,\n",
       "        depth=2\n",
       "      ),\n",
       "      t_net=MLP(\n",
       "        layers=(\n",
       "          Linear(\n",
       "            weight=f32[16,1],\n",
       "            bias=f32[16],\n",
       "            in_features=1,\n",
       "            out_features=16,\n",
       "            use_bias=True\n",
       "          ),\n",
       "          Linear(\n",
       "            weight=f32[16,16],\n",
       "            bias=f32[16],\n",
       "            in_features=16,\n",
       "            out_features=16,\n",
       "            use_bias=True\n",
       "          ),\n",
       "          Linear(\n",
       "            weight=f32[1,16],\n",
       "            bias=f32[1],\n",
       "            in_features=16,\n",
       "            out_features=1,\n",
       "            use_bias=True\n",
       "          )\n",
       "        ),\n",
       "        activation=None,\n",
       "        final_activation=None,\n",
       "        use_bias=True,\n",
       "        use_final_bias=True,\n",
       "        in_size=1,\n",
       "        out_size=1,\n",
       "        width_size=16,\n",
       "        depth=2\n",
       "      ),\n",
       "      mask=None\n",
       "    ),\n",
       "    AffineCoupling(\n",
       "      s_net=MLP(\n",
       "        layers=(\n",
       "          Linear(\n",
       "            weight=f32[16,1],\n",
       "            bias=f32[16],\n",
       "            in_features=1,\n",
       "            out_features=16,\n",
       "            use_bias=True\n",
       "          ),\n",
       "          Linear(\n",
       "            weight=f32[16,16],\n",
       "            bias=f32[16],\n",
       "            in_features=16,\n",
       "            out_features=16,\n",
       "            use_bias=True\n",
       "          ),\n",
       "          Linear(\n",
       "            weight=f32[1,16],\n",
       "            bias=f32[1],\n",
       "            in_features=16,\n",
       "            out_features=1,\n",
       "            use_bias=True\n",
       "          )\n",
       "        ),\n",
       "        activation=None,\n",
       "        final_activation=None,\n",
       "        use_bias=True,\n",
       "        use_final_bias=True,\n",
       "        in_size=1,\n",
       "        out_size=1,\n",
       "        width_size=16,\n",
       "        depth=2\n",
       "      ),\n",
       "      t_net=MLP(\n",
       "        layers=(\n",
       "          Linear(\n",
       "            weight=f32[16,1],\n",
       "            bias=f32[16],\n",
       "            in_features=1,\n",
       "            out_features=16,\n",
       "            use_bias=True\n",
       "          ),\n",
       "          Linear(\n",
       "            weight=f32[16,16],\n",
       "            bias=f32[16],\n",
       "            in_features=16,\n",
       "            out_features=16,\n",
       "            use_bias=True\n",
       "          ),\n",
       "          Linear(\n",
       "            weight=f32[1,16],\n",
       "            bias=f32[1],\n",
       "            in_features=16,\n",
       "            out_features=1,\n",
       "            use_bias=True\n",
       "          )\n",
       "        ),\n",
       "        activation=None,\n",
       "        final_activation=None,\n",
       "        use_bias=True,\n",
       "        use_final_bias=True,\n",
       "        in_size=1,\n",
       "        out_size=1,\n",
       "        width_size=16,\n",
       "        depth=2\n",
       "      ),\n",
       "      mask=None\n",
       "    ),\n",
       "    AffineCoupling(\n",
       "      s_net=MLP(\n",
       "        layers=(\n",
       "          Linear(\n",
       "            weight=f32[16,1],\n",
       "            bias=f32[16],\n",
       "            in_features=1,\n",
       "            out_features=16,\n",
       "            use_bias=True\n",
       "          ),\n",
       "          Linear(\n",
       "            weight=f32[16,16],\n",
       "            bias=f32[16],\n",
       "            in_features=16,\n",
       "            out_features=16,\n",
       "            use_bias=True\n",
       "          ),\n",
       "          Linear(\n",
       "            weight=f32[1,16],\n",
       "            bias=f32[1],\n",
       "            in_features=16,\n",
       "            out_features=1,\n",
       "            use_bias=True\n",
       "          )\n",
       "        ),\n",
       "        activation=None,\n",
       "        final_activation=None,\n",
       "        use_bias=True,\n",
       "        use_final_bias=True,\n",
       "        in_size=1,\n",
       "        out_size=1,\n",
       "        width_size=16,\n",
       "        depth=2\n",
       "      ),\n",
       "      t_net=MLP(\n",
       "        layers=(\n",
       "          Linear(\n",
       "            weight=f32[16,1],\n",
       "            bias=f32[16],\n",
       "            in_features=1,\n",
       "            out_features=16,\n",
       "            use_bias=True\n",
       "          ),\n",
       "          Linear(\n",
       "            weight=f32[16,16],\n",
       "            bias=f32[16],\n",
       "            in_features=16,\n",
       "            out_features=16,\n",
       "            use_bias=True\n",
       "          ),\n",
       "          Linear(\n",
       "            weight=f32[1,16],\n",
       "            bias=f32[1],\n",
       "            in_features=16,\n",
       "            out_features=1,\n",
       "            use_bias=True\n",
       "          )\n",
       "        ),\n",
       "        activation=None,\n",
       "        final_activation=None,\n",
       "        use_bias=True,\n",
       "        use_final_bias=True,\n",
       "        in_size=1,\n",
       "        out_size=1,\n",
       "        width_size=16,\n",
       "        depth=2\n",
       "      ),\n",
       "      mask=None\n",
       "    ),\n",
       "    AffineCoupling(\n",
       "      s_net=MLP(\n",
       "        layers=(\n",
       "          Linear(\n",
       "            weight=f32[16,1],\n",
       "            bias=f32[16],\n",
       "            in_features=1,\n",
       "            out_features=16,\n",
       "            use_bias=True\n",
       "          ),\n",
       "          Linear(\n",
       "            weight=f32[16,16],\n",
       "            bias=f32[16],\n",
       "            in_features=16,\n",
       "            out_features=16,\n",
       "            use_bias=True\n",
       "          ),\n",
       "          Linear(\n",
       "            weight=f32[1,16],\n",
       "            bias=f32[1],\n",
       "            in_features=16,\n",
       "            out_features=1,\n",
       "            use_bias=True\n",
       "          )\n",
       "        ),\n",
       "        activation=None,\n",
       "        final_activation=None,\n",
       "        use_bias=True,\n",
       "        use_final_bias=True,\n",
       "        in_size=1,\n",
       "        out_size=1,\n",
       "        width_size=16,\n",
       "        depth=2\n",
       "      ),\n",
       "      t_net=MLP(\n",
       "        layers=(\n",
       "          Linear(\n",
       "            weight=f32[16,1],\n",
       "            bias=f32[16],\n",
       "            in_features=1,\n",
       "            out_features=16,\n",
       "            use_bias=True\n",
       "          ),\n",
       "          Linear(\n",
       "            weight=f32[16,16],\n",
       "            bias=f32[16],\n",
       "            in_features=16,\n",
       "            out_features=16,\n",
       "            use_bias=True\n",
       "          ),\n",
       "          Linear(\n",
       "            weight=f32[1,16],\n",
       "            bias=f32[1],\n",
       "            in_features=16,\n",
       "            out_features=1,\n",
       "            use_bias=True\n",
       "          )\n",
       "        ),\n",
       "        activation=None,\n",
       "        final_activation=None,\n",
       "        use_bias=True,\n",
       "        use_final_bias=True,\n",
       "        in_size=1,\n",
       "        out_size=1,\n",
       "        width_size=16,\n",
       "        depth=2\n",
       "      ),\n",
       "      mask=None\n",
       "    ),\n",
       "    AffineCoupling(\n",
       "      s_net=MLP(\n",
       "        layers=(\n",
       "          Linear(\n",
       "            weight=f32[16,1],\n",
       "            bias=f32[16],\n",
       "            in_features=1,\n",
       "            out_features=16,\n",
       "            use_bias=True\n",
       "          ),\n",
       "          Linear(\n",
       "            weight=f32[16,16],\n",
       "            bias=f32[16],\n",
       "            in_features=16,\n",
       "            out_features=16,\n",
       "            use_bias=True\n",
       "          ),\n",
       "          Linear(\n",
       "            weight=f32[1,16],\n",
       "            bias=f32[1],\n",
       "            in_features=16,\n",
       "            out_features=1,\n",
       "            use_bias=True\n",
       "          )\n",
       "        ),\n",
       "        activation=None,\n",
       "        final_activation=None,\n",
       "        use_bias=True,\n",
       "        use_final_bias=True,\n",
       "        in_size=1,\n",
       "        out_size=1,\n",
       "        width_size=16,\n",
       "        depth=2\n",
       "      ),\n",
       "      t_net=MLP(\n",
       "        layers=(\n",
       "          Linear(\n",
       "            weight=f32[16,1],\n",
       "            bias=f32[16],\n",
       "            in_features=1,\n",
       "            out_features=16,\n",
       "            use_bias=True\n",
       "          ),\n",
       "          Linear(\n",
       "            weight=f32[16,16],\n",
       "            bias=f32[16],\n",
       "            in_features=16,\n",
       "            out_features=16,\n",
       "            use_bias=True\n",
       "          ),\n",
       "          Linear(\n",
       "            weight=f32[1,16],\n",
       "            bias=f32[1],\n",
       "            in_features=16,\n",
       "            out_features=1,\n",
       "            use_bias=True\n",
       "          )\n",
       "        ),\n",
       "        activation=None,\n",
       "        final_activation=None,\n",
       "        use_bias=True,\n",
       "        use_final_bias=True,\n",
       "        in_size=1,\n",
       "        out_size=1,\n",
       "        width_size=16,\n",
       "        depth=2\n",
       "      ),\n",
       "      mask=None\n",
       "    ),\n",
       "    AffineCoupling(\n",
       "      s_net=MLP(\n",
       "        layers=(\n",
       "          Linear(\n",
       "            weight=f32[16,1],\n",
       "            bias=f32[16],\n",
       "            in_features=1,\n",
       "            out_features=16,\n",
       "            use_bias=True\n",
       "          ),\n",
       "          Linear(\n",
       "            weight=f32[16,16],\n",
       "            bias=f32[16],\n",
       "            in_features=16,\n",
       "            out_features=16,\n",
       "            use_bias=True\n",
       "          ),\n",
       "          Linear(\n",
       "            weight=f32[1,16],\n",
       "            bias=f32[1],\n",
       "            in_features=16,\n",
       "            out_features=1,\n",
       "            use_bias=True\n",
       "          )\n",
       "        ),\n",
       "        activation=None,\n",
       "        final_activation=None,\n",
       "        use_bias=True,\n",
       "        use_final_bias=True,\n",
       "        in_size=1,\n",
       "        out_size=1,\n",
       "        width_size=16,\n",
       "        depth=2\n",
       "      ),\n",
       "      t_net=MLP(\n",
       "        layers=(\n",
       "          Linear(\n",
       "            weight=f32[16,1],\n",
       "            bias=f32[16],\n",
       "            in_features=1,\n",
       "            out_features=16,\n",
       "            use_bias=True\n",
       "          ),\n",
       "          Linear(\n",
       "            weight=f32[16,16],\n",
       "            bias=f32[16],\n",
       "            in_features=16,\n",
       "            out_features=16,\n",
       "            use_bias=True\n",
       "          ),\n",
       "          Linear(\n",
       "            weight=f32[1,16],\n",
       "            bias=f32[1],\n",
       "            in_features=16,\n",
       "            out_features=1,\n",
       "            use_bias=True\n",
       "          )\n",
       "        ),\n",
       "        activation=None,\n",
       "        final_activation=None,\n",
       "        use_bias=True,\n",
       "        use_final_bias=True,\n",
       "        in_size=1,\n",
       "        out_size=1,\n",
       "        width_size=16,\n",
       "        depth=2\n",
       "      ),\n",
       "      mask=None\n",
       "    )\n",
       "  ]\n",
       "), finv=None)"
      ]
     },
     "execution_count": 441,
     "metadata": {},
     "output_type": "execute_result"
    }
   ],
   "source": [
    "f(nf, data)\n",
    "g(nf, data)"
   ]
  },
  {
   "cell_type": "code",
   "execution_count": 464,
   "id": "b350cc4d",
   "metadata": {},
   "outputs": [],
   "source": [
    "def obj(mdl, data):\n",
    "    return -vmap(mdl.log_p)(data).mean()\n",
    "\n",
    "f = eqx.filter_jit(obj)\n",
    "g = eqx.filter_jit(eqx.filter_grad(f))"
   ]
  },
  {
   "cell_type": "code",
   "execution_count": 467,
   "id": "6aa1b117",
   "metadata": {},
   "outputs": [],
   "source": [
    "nf = DumbNDE(base2d, s, partial(s.__call__, reverse=True))"
   ]
  },
  {
   "cell_type": "code",
   "execution_count": 474,
   "id": "2d5e10e1",
   "metadata": {},
   "outputs": [
    {
     "name": "stdout",
     "output_type": "stream",
     "text": [
      "28.394375\n"
     ]
    }
   ],
   "source": [
    "for i in range(10):\n",
    "    dnf = g(nf, data)\n",
    "    nf = eqx.apply_updates(nf, jax.tree.map(lambda x: -1e-3 * x, dnf))\n",
    "    if i % 100 == 0:\n",
    "        y = f(nf, data)\n",
    "        print(y)"
   ]
  },
  {
   "cell_type": "code",
   "execution_count": 472,
   "id": "527f217b",
   "metadata": {},
   "outputs": [],
   "source": [
    "q = vmap(nf.sample)(jax.random.split(key, 1000))"
   ]
  },
  {
   "cell_type": "code",
   "execution_count": 473,
   "id": "d37bc238",
   "metadata": {},
   "outputs": [
    {
     "data": {
      "text/plain": [
       "<matplotlib.collections.PathCollection at 0x7feedd3e8fa0>"
      ]
     },
     "execution_count": 473,
     "metadata": {},
     "output_type": "execute_result"
    },
    {
     "data": {
      "image/png": "[encoded data removed]",
      "text/plain": [
       "<Figure size 640x480 with 1 Axes>"
      ]
     },
     "metadata": {},
     "output_type": "display_data"
    }
   ],
   "source": [
    "plt.scatter(*data.T)\n",
    "plt.scatter(*q.T)"
   ]
  },
  {
   "cell_type": "code",
   "execution_count": null,
   "id": "53485b5b",
   "metadata": {},
   "outputs": [],
   "source": []
  }
 ],
 "metadata": {
  "kernelspec": {
   "display_name": "Python 3 (ipykernel)",
   "language": "python",
   "name": "python3"
  },
  "language_info": {
   "codemirror_mode": {
    "name": "ipython",
    "version": 3
   },
   "file_extension": ".py",
   "mimetype": "text/x-python",
   "name": "python",
   "nbconvert_exporter": "python",
   "pygments_lexer": "ipython3",
   "version": "3.10.12"
  }
 },
 "nbformat": 4,
 "nbformat_minor": 5
}
