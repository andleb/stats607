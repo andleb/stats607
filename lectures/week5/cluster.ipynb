{
 "cells": [
  {
   "cell_type": "markdown",
   "id": "f2a78df6",
   "metadata": {
    "slideshow": {
     "slide_type": "slide"
    }
   },
   "source": [
    "# STATS 607\n",
    "## Week 5.1: Cluster computing"
   ]
  },
  {
   "cell_type": "code",
   "execution_count": 4,
   "id": "cb60a866",
   "metadata": {
    "slideshow": {
     "slide_type": "slide"
    }
   },
   "outputs": [
    {
     "data": {
      "text/plain": [
       "{'DWD': ['OBSERVATION', 'MOSMIX', 'DMO', 'ROAD', 'RADAR'],\n",
       " 'ECCC': ['OBSERVATION'],\n",
       " 'IMGW': ['HYDROLOGY', 'METEOROLOGY'],\n",
       " 'NOAA': ['GHCN'],\n",
       " 'WSV': ['PEGEL'],\n",
       " 'EA': ['HYDROLOGY'],\n",
       " 'NWS': ['OBSERVATION'],\n",
       " 'EAUFRANCE': ['HUBEAU'],\n",
       " 'GEOSPHERE': ['OBSERVATION']}"
      ]
     },
     "execution_count": 4,
     "metadata": {},
     "output_type": "execute_result"
    }
   ],
   "source": [
    "from wetterdienst import Wetterdienst\n",
    "\n",
    "Wetterdienst.discover()"
   ]
  },
  {
   "cell_type": "code",
   "execution_count": 6,
   "id": "08c313aa",
   "metadata": {
    "slideshow": {
     "slide_type": "slide"
    }
   },
   "outputs": [],
   "source": [
    "API = Wetterdienst(provider=\"noaa\", network=\"ghcn\")"
   ]
  },
  {
   "cell_type": "code",
   "execution_count": 155,
   "id": "847a21d9",
   "metadata": {
    "slideshow": {
     "slide_type": "slide"
    }
   },
   "outputs": [],
   "source": [
    "import datetime as dt\n",
    "from wetterdienst import Resolution, Period\n",
    "from wetterdienst.provider.noaa.ghcn import NoaaGhcnRequest, NoaaGhcnParameter\n",
    "\n",
    "\n",
    "\n",
    "request = NoaaGhcnRequest(\n",
    "    parameter=[\"TMAX\"],\n",
    "    resolution=NoaaGhcnParameter.DAILY,\n",
    "    start_date=dt.datetime(1980, 1, 1),\n",
    "    end_date=dt.datetime(2021, 1, 20)\n",
    ")\n"
   ]
  },
  {
   "cell_type": "code",
   "execution_count": 158,
   "id": "5e1afb2d",
   "metadata": {
    "slideshow": {
     "slide_type": "slide"
    }
   },
   "outputs": [
    {
     "data": {
      "text/plain": [
       "StationsResult(df=shape: (3_863, 9)\n",
       "┌─────────────┬─────────────┬────────────┬──────────┬───┬────────┬────────────┬───────┬────────────┐\n",
       "│ station_id  ┆ start_date  ┆ end_date   ┆ latitude ┆ … ┆ height ┆ name       ┆ state ┆ distance   │\n",
       "│ ---         ┆ ---         ┆ ---        ┆ ---      ┆   ┆ ---    ┆ ---        ┆ ---   ┆ ---        │\n",
       "│ str         ┆ datetime[μs ┆ datetime[μ ┆ f64      ┆   ┆ f64    ┆ str        ┆ str   ┆ f64        │\n",
       "│             ┆ , UTC]      ┆ s, UTC]    ┆          ┆   ┆        ┆            ┆       ┆            │\n",
       "╞═════════════╪═════════════╪════════════╪══════════╪═══╪════════╪════════════╪═══════╪════════════╡\n",
       "│ USC00200220 ┆ 2008-01-01  ┆ 2013-12-31 ┆ 42.2875  ┆ … ┆ 263.7  ┆ ANN ARBOR  ┆ MI    ┆ 1.664958   │\n",
       "│             ┆ 00:00:00    ┆ 00:00:00   ┆          ┆   ┆        ┆ 1W         ┆       ┆            │\n",
       "│             ┆ UTC         ┆ UTC        ┆          ┆   ┆        ┆            ┆       ┆            │\n",
       "│ US1MIWS0016 ┆ 2008-01-01  ┆ 2012-12-31 ┆ 42.2973  ┆ … ┆ 245.1  ┆ ANN ARBOR  ┆ MI    ┆ 2.064226   │\n",
       "│             ┆ 00:00:00    ┆ 00:00:00   ┆          ┆   ┆        ┆ 1.5 N      ┆       ┆            │\n",
       "│             ┆ UTC         ┆ UTC        ┆          ┆   ┆        ┆            ┆       ┆            │\n",
       "│ US1MIWS0020 ┆ 2012-01-01  ┆ 2015-12-31 ┆ 42.2998  ┆ … ┆ 257.3  ┆ ANN ARBOR  ┆ MI    ┆ 2.135701   │\n",
       "│             ┆ 00:00:00    ┆ 00:00:00   ┆          ┆   ┆        ┆ 1.7 NNW    ┆       ┆            │\n",
       "│             ┆ UTC         ┆ UTC        ┆          ┆   ┆        ┆            ┆       ┆            │\n",
       "│ US1MIWS0015 ┆ 2008-01-01  ┆ 2010-12-31 ┆ 42.2865  ┆ … ┆ 274.0  ┆ ANN ARBOR  ┆ MI    ┆ 2.301895   │\n",
       "│             ┆ 00:00:00    ┆ 00:00:00   ┆          ┆   ┆        ┆ 2.1 WNW    ┆       ┆            │\n",
       "│             ┆ UTC         ┆ UTC        ┆          ┆   ┆        ┆            ┆       ┆            │\n",
       "│ US1MIWS0011 ┆ 2008-01-01  ┆ 2024-12-31 ┆ 42.2832  ┆ … ┆ 275.5  ┆ ANN ARBOR  ┆ MI    ┆ 2.359741   │\n",
       "│             ┆ 00:00:00    ┆ 00:00:00   ┆          ┆   ┆        ┆ 2.1 WNW    ┆       ┆            │\n",
       "│             ┆ UTC         ┆ UTC        ┆          ┆   ┆        ┆            ┆       ┆            │\n",
       "│ …           ┆ …           ┆ …          ┆ …        ┆ … ┆ …      ┆ …          ┆ …     ┆ …          │\n",
       "│ USC00200662 ┆ 1948-01-01  ┆ 1951-12-31 ┆ 44.9758  ┆ … ┆ 190.5  ┆ BELLAIRE   ┆ MI    ┆ 321.727548 │\n",
       "│             ┆ 00:00:00    ┆ 00:00:00   ┆          ┆   ┆        ┆            ┆       ┆            │\n",
       "│             ┆ UTC         ┆ UTC        ┆          ┆   ┆        ┆            ┆       ┆            │\n",
       "│ CA1ON000477 ┆ 1998-01-01  ┆ 2023-12-31 ┆ 43.0714  ┆ … ┆ 190.2  ┆ CALEDONIA  ┆ ON    ┆ 321.739383 │\n",
       "│             ┆ 00:00:00    ┆ 00:00:00   ┆          ┆   ┆        ┆ 0.3 NW -   ┆       ┆            │\n",
       "│             ┆ UTC         ┆ UTC        ┆          ┆   ┆        ┆ GRCA       ┆       ┆            │\n",
       "│ US1INLK0041 ┆ 2009-01-01  ┆ 2015-12-31 ┆ 41.3323  ┆ … ┆ 212.4  ┆ LOWELL 2.6 ┆ IN    ┆ 321.762549 │\n",
       "│             ┆ 00:00:00    ┆ 00:00:00   ┆          ┆   ┆        ┆ N          ┆       ┆            │\n",
       "│             ┆ UTC         ┆ UTC        ┆          ┆   ┆        ┆            ┆       ┆            │\n",
       "│ USC00125217 ┆ 1976-01-01  ┆ 1988-12-31 ┆ 39.9667  ┆ … ┆ 225.6  ┆ LYNNWOOD   ┆ IN    ┆ 321.767214 │\n",
       "│             ┆ 00:00:00    ┆ 00:00:00   ┆          ┆   ┆        ┆ FARMS      ┆       ┆            │\n",
       "│             ┆ UTC         ┆ UTC        ┆          ┆   ┆        ┆            ┆       ┆            │\n",
       "│ US1INHM0056 ┆ 2014-01-01  ┆ 2017-12-31 ┆ 40.0228  ┆ … ┆ 274.3  ┆ WESTFIELD  ┆ IN    ┆ 321.844365 │\n",
       "│             ┆ 00:00:00    ┆ 00:00:00   ┆          ┆   ┆        ┆ 1.9 SSW    ┆       ┆            │\n",
       "│             ┆ UTC         ┆ UTC        ┆          ┆   ┆        ┆            ┆       ┆            │\n",
       "└─────────────┴─────────────┴────────────┴──────────┴───┴────────┴────────────┴───────┴────────────┘)"
      ]
     },
     "execution_count": 158,
     "metadata": {},
     "output_type": "execute_result"
    }
   ],
   "source": [
    "a2 = (42.2808, -83.7430)\n",
    "stations = request.filter_by_distance(latlon=a2, distance=200, unit=\"mi\")\n",
    "stations"
   ]
  },
  {
   "cell_type": "code",
   "execution_count": 164,
   "id": "ca893bde",
   "metadata": {
    "slideshow": {
     "slide_type": "slide"
    }
   },
   "outputs": [],
   "source": [
    "import pandas as pd\n",
    "inv = pd.read_fwf(\"https://www.ncei.noaa.gov/pub/data/ghcn/daily/ghcnd-inventory.txt\", \n",
    "                 names=[\"station_id\", \"lat\", \"long\", \"variable\", \"start_year\", \"end_year\"])\n"
   ]
  },
  {
   "cell_type": "code",
   "execution_count": 175,
   "id": "68bb9b1f",
   "metadata": {
    "slideshow": {
     "slide_type": "slide"
    }
   },
   "outputs": [
    {
     "data": {
      "text/html": [
       "<div>\n",
       "<style scoped>\n",
       "    .dataframe tbody tr th:only-of-type {\n",
       "        vertical-align: middle;\n",
       "    }\n",
       "\n",
       "    .dataframe tbody tr th {\n",
       "        vertical-align: top;\n",
       "    }\n",
       "\n",
       "    .dataframe thead th {\n",
       "        text-align: right;\n",
       "    }\n",
       "</style>\n",
       "<table border=\"1\" class=\"dataframe\">\n",
       "  <thead>\n",
       "    <tr style=\"text-align: right;\">\n",
       "      <th></th>\n",
       "      <th>station_id</th>\n",
       "      <th>lat</th>\n",
       "      <th>long</th>\n",
       "      <th>variable</th>\n",
       "      <th>start_year</th>\n",
       "      <th>end_year</th>\n",
       "    </tr>\n",
       "  </thead>\n",
       "  <tbody>\n",
       "    <tr>\n",
       "      <th>0</th>\n",
       "      <td>ACW00011604</td>\n",
       "      <td>17.1167</td>\n",
       "      <td>-61.7833</td>\n",
       "      <td>TMAX</td>\n",
       "      <td>1949</td>\n",
       "      <td>1949</td>\n",
       "    </tr>\n",
       "    <tr>\n",
       "      <th>11</th>\n",
       "      <td>ACW00011647</td>\n",
       "      <td>17.1333</td>\n",
       "      <td>-61.7833</td>\n",
       "      <td>TMAX</td>\n",
       "      <td>1961</td>\n",
       "      <td>1961</td>\n",
       "    </tr>\n",
       "    <tr>\n",
       "      <th>18</th>\n",
       "      <td>AE000041196</td>\n",
       "      <td>25.3330</td>\n",
       "      <td>55.5170</td>\n",
       "      <td>TMAX</td>\n",
       "      <td>1944</td>\n",
       "      <td>2024</td>\n",
       "    </tr>\n",
       "    <tr>\n",
       "      <th>22</th>\n",
       "      <td>AEM00041194</td>\n",
       "      <td>25.2550</td>\n",
       "      <td>55.3640</td>\n",
       "      <td>TMAX</td>\n",
       "      <td>1983</td>\n",
       "      <td>2024</td>\n",
       "    </tr>\n",
       "    <tr>\n",
       "      <th>26</th>\n",
       "      <td>AEM00041217</td>\n",
       "      <td>24.4330</td>\n",
       "      <td>54.6510</td>\n",
       "      <td>TMAX</td>\n",
       "      <td>1983</td>\n",
       "      <td>2024</td>\n",
       "    </tr>\n",
       "    <tr>\n",
       "      <th>...</th>\n",
       "      <td>...</td>\n",
       "      <td>...</td>\n",
       "      <td>...</td>\n",
       "      <td>...</td>\n",
       "      <td>...</td>\n",
       "      <td>...</td>\n",
       "    </tr>\n",
       "    <tr>\n",
       "      <th>756921</th>\n",
       "      <td>ZI000067969</td>\n",
       "      <td>21.0500</td>\n",
       "      <td>29.3670</td>\n",
       "      <td>TMAX</td>\n",
       "      <td>1962</td>\n",
       "      <td>1990</td>\n",
       "    </tr>\n",
       "    <tr>\n",
       "      <th>756924</th>\n",
       "      <td>ZI000067975</td>\n",
       "      <td>20.0670</td>\n",
       "      <td>30.8670</td>\n",
       "      <td>TMAX</td>\n",
       "      <td>1951</td>\n",
       "      <td>2024</td>\n",
       "    </tr>\n",
       "    <tr>\n",
       "      <th>756929</th>\n",
       "      <td>ZI000067977</td>\n",
       "      <td>21.0170</td>\n",
       "      <td>31.5830</td>\n",
       "      <td>TMAX</td>\n",
       "      <td>1968</td>\n",
       "      <td>1990</td>\n",
       "    </tr>\n",
       "    <tr>\n",
       "      <th>756932</th>\n",
       "      <td>ZI000067983</td>\n",
       "      <td>20.2000</td>\n",
       "      <td>32.6160</td>\n",
       "      <td>TMAX</td>\n",
       "      <td>1951</td>\n",
       "      <td>2020</td>\n",
       "    </tr>\n",
       "    <tr>\n",
       "      <th>756936</th>\n",
       "      <td>ZI000067991</td>\n",
       "      <td>22.2170</td>\n",
       "      <td>30.0000</td>\n",
       "      <td>TMAX</td>\n",
       "      <td>1951</td>\n",
       "      <td>1990</td>\n",
       "    </tr>\n",
       "  </tbody>\n",
       "</table>\n",
       "<p>40426 rows × 6 columns</p>\n",
       "</div>"
      ],
      "text/plain": [
       "         station_id      lat     long variable  start_year  end_year\n",
       "0       ACW00011604  17.1167 -61.7833     TMAX        1949      1949\n",
       "11      ACW00011647  17.1333 -61.7833     TMAX        1961      1961\n",
       "18      AE000041196  25.3330  55.5170     TMAX        1944      2024\n",
       "22      AEM00041194  25.2550  55.3640     TMAX        1983      2024\n",
       "26      AEM00041217  24.4330  54.6510     TMAX        1983      2024\n",
       "...             ...      ...      ...      ...         ...       ...\n",
       "756921  ZI000067969  21.0500  29.3670     TMAX        1962      1990\n",
       "756924  ZI000067975  20.0670  30.8670     TMAX        1951      2024\n",
       "756929  ZI000067977  21.0170  31.5830     TMAX        1968      1990\n",
       "756932  ZI000067983  20.2000  32.6160     TMAX        1951      2020\n",
       "756936  ZI000067991  22.2170  30.0000     TMAX        1951      1990\n",
       "\n",
       "[40426 rows x 6 columns]"
      ]
     },
     "execution_count": 175,
     "metadata": {},
     "output_type": "execute_result"
    }
   ],
   "source": [
    "inv.query(\"variable == 'TMAX'\")"
   ]
  },
  {
   "cell_type": "code",
   "execution_count": 180,
   "id": "9cf60d2e",
   "metadata": {
    "slideshow": {
     "slide_type": "slide"
    }
   },
   "outputs": [],
   "source": [
    "mucho_data = stations.df.join(pl.from_pandas(inv.query(\"variable == 'TMAX'\")), on=\"station_id\").filter(\n",
    "    pl.col(\"start_year\") < 1980, pl.col(\"end_year\") > 2020\n",
    ")"
   ]
  },
  {
   "cell_type": "code",
   "execution_count": 181,
   "id": "7aef4fe3",
   "metadata": {
    "slideshow": {
     "slide_type": "slide"
    }
   },
   "outputs": [
    {
     "data": {
      "text/plain": [
       "1847"
      ]
     },
     "execution_count": 181,
     "metadata": {},
     "output_type": "execute_result"
    }
   ],
   "source": [
    "stations = mucho_data['station_id'].to_list()\n",
    "open(\"snakemake/stations.txt\", \"wt\").write(\"\\n\".join(stations))"
   ]
  },
  {
   "cell_type": "code",
   "execution_count": 184,
   "id": "21f45f45",
   "metadata": {
    "slideshow": {
     "slide_type": "slide"
    }
   },
   "outputs": [],
   "source": [
    "    request = NoaaGhcnRequest(\n",
    "        parameter=[\"TMAX\"],\n",
    "        resolution=NoaaGhcnParameter.DAILY,\n",
    "        start_date=dt.datetime(1980, 1, 1),\n",
    "        end_date=dt.datetime(2021, 1, 20)\n",
    "    )\n",
    "    stations = request.filter_by_station_id(station_id='CA006124127')"
   ]
  },
  {
   "cell_type": "code",
   "execution_count": 188,
   "id": "56601d00",
   "metadata": {
    "slideshow": {
     "slide_type": "slide"
    }
   },
   "outputs": [],
   "source": [
    "res = next(stations.values.query())"
   ]
  },
  {
   "cell_type": "markdown",
   "id": "f46ba0d1",
   "metadata": {
    "slideshow": {
     "slide_type": "slide"
    }
   },
   "source": [
    "## Examining data"
   ]
  },
  {
   "cell_type": "code",
   "execution_count": 11,
   "id": "41352bf2",
   "metadata": {},
   "outputs": [
    {
     "name": "stderr",
     "output_type": "stream",
     "text": [
      "/tmp/ipykernel_2147929/116874308.py:1: UserWarning: Converting to PeriodArray/Index representation will drop timezone information.\n",
      "  df[\"date\"] = df[\"date\"].dt.to_period(\"M\")\n"
     ]
    }
   ],
   "source": [
    "df[\"date\"] = df[\"date\"].dt.to_period(\"M\")"
   ]
  },
  {
   "cell_type": "code",
   "execution_count": 12,
   "id": "38a1c123",
   "metadata": {},
   "outputs": [
    {
     "data": {
      "text/plain": [
       "date\n",
       "1980-01    27.319722\n",
       "1980-02    27.177919\n",
       "1980-03    27.789281\n",
       "1980-04    28.644142\n",
       "1980-05    29.497214\n",
       "             ...    \n",
       "2020-09    29.631766\n",
       "2020-10    28.858261\n",
       "2020-11    28.563164\n",
       "2020-12    27.662055\n",
       "2021-01    27.510219\n",
       "Freq: M, Name: value, Length: 493, dtype: float64"
      ]
     },
     "execution_count": 12,
     "metadata": {},
     "output_type": "execute_result"
    }
   ],
   "source": [
    "df.groupby(\"date\")[\"value\"].mean() / 10"
   ]
  },
  {
   "cell_type": "code",
   "execution_count": 15,
   "id": "9e4f6332",
   "metadata": {},
   "outputs": [],
   "source": [
    "series = df.groupby(\"date\")[\"value\"].mean() / 10"
   ]
  },
  {
   "cell_type": "code",
   "execution_count": 21,
   "id": "80d35ee4",
   "metadata": {},
   "outputs": [
    {
     "data": {
      "text/plain": [
       "<Axes: xlabel='date'>"
      ]
     },
     "execution_count": 21,
     "metadata": {},
     "output_type": "execute_result"
    },
    {
     "data": {
      "image/png": "[encoded data removed]",
      "text/plain": [
       "<Figure size 640x480 with 1 Axes>"
      ]
     },
     "metadata": {},
     "output_type": "display_data"
    }
   ],
   "source": [
    "series.rolling(window=120).mean().plot()"
   ]
  },
  {
   "cell_type": "markdown",
   "id": "0e65ae0e",
   "metadata": {},
   "source": [
    "## Hierarchical model\n",
    "\n",
    "For each station $i$, observed temperature $y_{it}$ at time $t$ is modeled as:\n",
    "$$\n",
    "y_{it} = \\beta_{i,0} + \\beta_{i,1} t + \\epsilon_{it}, \\quad \\epsilon_{it} \\sim \\mathcal{N}(0, \\sigma_i^2)\n",
    "$$\n",
    "where:\n",
    "- $\\beta_{i,0}$: Station-specific intercept,\n",
    "-  $\\beta_{i,1}$: Station-specific trend (slope),\n",
    "- $\\sigma_i^2$: Station-specific variance.\n",
    "\n"
   ]
  },
  {
   "cell_type": "markdown",
   "id": "d540760b",
   "metadata": {},
   "source": [
    "Priors for station-level parameters:\n",
    "\n",
    "$$\n",
    "\\begin{align}\n",
    "\\beta_{i,1} & \\sim \\mathcal{N}(\\mu_{\\text{region}}, \\tau^2) \\\\\n",
    "\\beta_{i,0} & \\sim \\mathcal{N}(0, 10^2)  \\\\\n",
    "\\sigma_i &\\sim \\text{Half-Cauchy}(0, 5)\n",
    "\\end{align}\n",
    "$$"
   ]
  },
  {
   "cell_type": "markdown",
   "id": "d5381d31",
   "metadata": {},
   "source": [
    "## Regional means\n",
    "We will borrow strength across different stations by imposing region-level correlations:\n",
    "\n",
    "$$\n",
    "\\mu_{\\text{region}} \\sim \\mathcal{N}(\\mu_{\\text{global}}, \\sigma_{\\text{region}}^2)\n",
    "$$\n",
    "where:\n",
    "-  $\\mu_{\\text{region}}$: Mean trend for the region,\n",
    "- $\\sigma_{\\text{region}}^2$: Variance in trends across regions.\n"
   ]
  },
  {
   "cell_type": "markdown",
   "id": "c44302de",
   "metadata": {},
   "source": [
    "## Global mean\n",
    "The global trend is modeled as:\n",
    "$$\n",
    "\\begin{align}\n",
    "\\mu_{\\text{global}} &\\sim \\mathcal{N}(0, 10^2) \\\\\n",
    "\\sigma_{\\text{region}} &\\sim \\text{Half-Cauchy}(0, 5)\n",
    "\\end{align}\n",
    "$$\n"
   ]
  },
  {
   "cell_type": "markdown",
   "id": "4eeca1ce",
   "metadata": {},
   "source": [
    "## Full model\n",
    "\n",
    "\n",
    "\n",
    "$$\n",
    "\\begin{align}\n",
    "y_{it} &\\sim \\mathcal{N}(\\beta_{i,0} + \\beta_{i,1} t, \\sigma_i^2) \\\\\n",
    "\\beta_{i,1} &\\sim \\mathcal{N}(\\mu_{\\text{region}}, \\tau^2) \\\\\n",
    "\\mu_{\\text{region}} &\\sim \\mathcal{N}(\\mu_{\\text{global}}, \\sigma_{\\text{region}}^2) \\\\\n",
    "\\mu_{\\text{global}} &\\sim \\mathcal{N}(0, 10^2) \\\\\n",
    "\\sigma_i, \\sigma_{\\text{region}}, \\tau &\\sim \\text{Half-Cauchy}(0, 5)\n",
    "\\end{align}\n",
    "$$\n"
   ]
  },
  {
   "cell_type": "code",
   "execution_count": 64,
   "id": "cb361571",
   "metadata": {},
   "outputs": [],
   "source": [
    "import numpyro\n",
    "import numpyro.distributions as dist\n",
    "\n",
    "def hierarchical_model(year, temperature, station_idx, n_stations):\n",
    "    # Global-level parameters\n",
    "    mu_global = numpyro.sample(\"mu_global\", dist.Normal(0, 10))\n",
    "    sigma_region = numpyro.sample(\"sigma_region\", dist.HalfCauchy(5))\n",
    "    \n",
    "    # Region-level trend (for simplicity, modeled as a single region)\n",
    "    mu_region = numpyro.sample(\"mu_region\", dist.Normal(mu_global, sigma_region))\n",
    "    \n",
    "    # Station-level parameters\n",
    "    tau_station = numpyro.sample(\"tau_station\", dist.HalfCauchy(5))\n",
    "    beta_1_station = numpyro.sample(\"beta_1_station\", dist.Normal(mu_region, tau_station).expand([n_stations]))\n",
    "    beta_0_station = numpyro.sample(\"beta_0_station\", dist.Normal(0, 10).expand([n_stations]))\n",
    "    sigma_station = numpyro.sample(\"sigma_station\", dist.HalfCauchy(5).expand([n_stations]))\n",
    "    \n",
    "    # Observation model\n",
    "    temperature_hat = beta_0_station[station_idx] + beta_1_station[station_idx] * year\n",
    "    numpyro.sample(\"obs\", dist.Normal(temperature_hat, sigma_station[station_idx]), obs=temperature)"
   ]
  },
  {
   "cell_type": "code",
   "execution_count": 82,
   "id": "5fac66c2",
   "metadata": {},
   "outputs": [],
   "source": [
    "summary_df = df.groupby([\"station_id\", \"date\"]).agg({'value': 'mean'}).reset_index().dropna()"
   ]
  },
  {
   "cell_type": "code",
   "execution_count": 83,
   "id": "b5a6bfd0-bfd1-4f49-bb69-51365e0b8c2a",
   "metadata": {},
   "outputs": [],
   "source": [
    "y = summary_df['value'].values\n",
    "t = summary_df['date'].astype('int').values"
   ]
  },
  {
   "cell_type": "code",
   "execution_count": 84,
   "id": "34fdad70-a428-4949-9bc5-2df281cf80a6",
   "metadata": {},
   "outputs": [],
   "source": [
    "# Encode station IDs as integers\n",
    "stations = summary_df['station_id'].unique()\n",
    "station_idx = {s: i for i, s in enumerate(stations)}\n",
    "summary_df['station_idx'] = summary_df['station_id'].map(station_idx)\n",
    "station_idx = summary_df['station_idx'].values"
   ]
  },
  {
   "cell_type": "code",
   "execution_count": 85,
   "id": "6887eb7b-c4a5-446c-9df9-32d807ee7f2f",
   "metadata": {},
   "outputs": [],
   "source": [
    "n_stations = len(stations)"
   ]
  },
  {
   "cell_type": "code",
   "execution_count": null,
   "id": "3a116e1a-d485-40dc-bc4f-cad27d022b08",
   "metadata": {},
   "outputs": [],
   "source": [
    "from numpyro.infer import MCMC, NUTS, Predictive\n",
    "\n",
    "nuts_kernel = NUTS(hierarchical_model)\n",
    "mcmc = MCMC(nuts_kernel, num_warmup=1000, num_samples=1000)\n",
    "\n",
    "# Random number seed\n",
    "import jax\n",
    "\n",
    "rng_key = jax.random.PRNGKey(0)\n",
    "\n",
    "# Run MCMC\n",
    "mcmc.run(rng_key, year=t, temperature=y, station_idx=station_idx, n_stations=n_stations)\n",
    "\n",
    "# Extract samples\n",
    "posterior_samples = mcmc.get_samples()"
   ]
  },
  {
   "cell_type": "code",
   "execution_count": 1,
   "id": "77bc298c-f469-409c-a802-e1a7f89c3033",
   "metadata": {},
   "outputs": [
    {
     "ename": "NameError",
     "evalue": "name 'numpyro' is not defined",
     "output_type": "error",
     "traceback": [
      "\u001b[0;31m---------------------------------------------------------------------------\u001b[0m",
      "\u001b[0;31mNameError\u001b[0m                                 Traceback (most recent call last)",
      "Cell \u001b[0;32mIn[1], line 4\u001b[0m\n\u001b[1;32m      1\u001b[0m \u001b[38;5;28;01mfrom\u001b[39;00m \u001b[38;5;21;01mnumpyro\u001b[39;00m\u001b[38;5;21;01m.\u001b[39;00m\u001b[38;5;21;01minfer\u001b[39;00m \u001b[38;5;28;01mimport\u001b[39;00m SVI, Trace_ELBO\n\u001b[1;32m      3\u001b[0m \u001b[38;5;66;03m# Define the guide\u001b[39;00m\n\u001b[0;32m----> 4\u001b[0m guide \u001b[38;5;241m=\u001b[39m \u001b[43mnumpyro\u001b[49m\u001b[38;5;241m.\u001b[39minfer\u001b[38;5;241m.\u001b[39mautoguide\u001b[38;5;241m.\u001b[39mAutoNormal(hierarchical_model)\n",
      "\u001b[0;31mNameError\u001b[0m: name 'numpyro' is not defined"
     ]
    }
   ],
   "source": [
    "from numpyro.infer import SVI, Trace_ELBO\n",
    "\n",
    "# Define the guide\n",
    "guide = numpyro.infer.autoguide.AutoNormal(hierarchical_model)"
   ]
  },
  {
   "cell_type": "code",
   "execution_count": 99,
   "id": "b3a1e9f2-73e0-4bc8-8ef3-5e2d94de4af3",
   "metadata": {},
   "outputs": [
    {
     "name": "stdout",
     "output_type": "stream",
     "text": [
      "Requirement already satisfied: optax in /home/terhorst/opt/jax_gpu/lib/python3.10/site-packages (0.2.2)\n",
      "Requirement already satisfied: chex>=0.1.86 in /home/terhorst/opt/jax_gpu/lib/python3.10/site-packages (from optax) (0.1.86)\n",
      "Requirement already satisfied: numpy>=1.18.0 in /home/terhorst/opt/jax_gpu/lib/python3.10/site-packages (from optax) (2.1.3)\n",
      "Requirement already satisfied: jaxlib>=0.1.37 in /home/terhorst/opt/jax_gpu/lib/python3.10/site-packages (from optax) (0.4.35)\n",
      "Requirement already satisfied: absl-py>=0.7.1 in /home/terhorst/opt/jax_gpu/lib/python3.10/site-packages (from optax) (2.1.0)\n",
      "Requirement already satisfied: jax>=0.1.55 in /home/terhorst/opt/jax_gpu/lib/python3.10/site-packages (from optax) (0.4.35)\n",
      "Requirement already satisfied: toolz>=0.9.0 in /home/terhorst/opt/jax_gpu/lib/python3.10/site-packages (from chex>=0.1.86->optax) (0.12.1)\n",
      "Requirement already satisfied: typing-extensions>=4.2.0 in /home/terhorst/opt/jax_gpu/lib/python3.10/site-packages (from chex>=0.1.86->optax) (4.12.2)\n",
      "Requirement already satisfied: opt-einsum in /home/terhorst/opt/jax_gpu/lib/python3.10/site-packages (from jax>=0.1.55->optax) (3.3.0)\n",
      "Requirement already satisfied: ml-dtypes>=0.4.0 in /home/terhorst/opt/jax_gpu/lib/python3.10/site-packages (from jax>=0.1.55->optax) (0.4.0)\n",
      "Requirement already satisfied: scipy>=1.10 in /home/terhorst/opt/jax_gpu/lib/python3.10/site-packages (from jax>=0.1.55->optax) (1.14.1)\n"
     ]
    }
   ],
   "source": []
  }
 ],
 "metadata": {
  "celltoolbar": "Slideshow",
  "kernelspec": {
   "display_name": "Python 3 (ipykernel)",
   "language": "python",
   "name": "python3"
  },
  "language_info": {
   "codemirror_mode": {
    "name": "ipython",
    "version": 3
   },
   "file_extension": ".py",
   "mimetype": "text/x-python",
   "name": "python",
   "nbconvert_exporter": "python",
   "pygments_lexer": "ipython3",
   "version": "3.11.10"
  }
 },
 "nbformat": 4,
 "nbformat_minor": 5
}
