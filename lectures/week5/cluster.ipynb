{
 "cells": [
  {
   "cell_type": "markdown",
   "id": "f2a78df6",
   "metadata": {
    "slideshow": {
     "slide_type": "slide"
    }
   },
   "source": [
    "# STATS 607\n",
    "## Week 5.1: Cluster computing"
   ]
  },
  {
   "cell_type": "code",
   "execution_count": 2,
   "id": "c6622980",
   "metadata": {},
   "outputs": [
    {
     "name": "stdout",
     "output_type": "stream",
     "text": [
      "Collecting wetterdienst\n",
      "  Downloading wetterdienst-0.97.0-py3-none-any.whl (227 kB)\n",
      "\u001b[2K     \u001b[38;2;114;156;31m━━━━━━━━━━━━━━━━━━━━━━━━━━━━━━━━━━━━━━━\u001b[0m \u001b[32m227.2/227.2 kB\u001b[0m \u001b[31m4.0 MB/s\u001b[0m eta \u001b[36m0:00:00\u001b[0mm eta \u001b[36m0:00:01\u001b[0m\n",
      "\u001b[?25hCollecting stamina>=23\n",
      "  Downloading stamina-24.3.0-py3-none-any.whl (16 kB)\n",
      "Collecting polars>=1.0.0\n",
      "  Downloading polars-1.14.0-cp39-abi3-macosx_10_12_x86_64.whl (34.3 MB)\n",
      "\u001b[2K     \u001b[38;2;114;156;31m━━━━━━━━━━━━━━━━━━━━━━━━━━━━━━━━━━━━━━━━\u001b[0m \u001b[32m34.3/34.3 MB\u001b[0m \u001b[31m9.8 MB/s\u001b[0m eta \u001b[36m0:00:00\u001b[0m0m eta \u001b[36m0:00:01\u001b[0m[36m0:00:01\u001b[0m\n",
      "\u001b[?25hCollecting eval-type-backport>=0.1.3\n",
      "  Downloading eval_type_backport-0.2.0-py3-none-any.whl (5.9 kB)\n",
      "Collecting rapidfuzz>=3.1\n",
      "  Downloading rapidfuzz-3.10.1-cp39-cp39-macosx_10_9_x86_64.whl (2.0 MB)\n",
      "\u001b[2K     \u001b[38;2;114;156;31m━━━━━━━━━━━━━━━━━━━━━━━━━━━━━━━━━━━━━━━━\u001b[0m \u001b[32m2.0/2.0 MB\u001b[0m \u001b[31m6.6 MB/s\u001b[0m eta \u001b[36m0:00:00\u001b[0mm eta \u001b[36m0:00:01\u001b[0m0:01\u001b[0m0:01\u001b[0m\n",
      "\u001b[?25hCollecting cachetools>=5.2\n",
      "  Downloading cachetools-5.5.0-py3-none-any.whl (9.5 kB)\n",
      "Collecting pypdf>=3.12.1\n",
      "  Downloading pypdf-5.1.0-py3-none-any.whl (297 kB)\n",
      "\u001b[2K     \u001b[38;2;114;156;31m━━━━━━━━━━━━━━━━━━━━━━━━━━━━━━━━━━━━━━━\u001b[0m \u001b[32m298.0/298.0 kB\u001b[0m \u001b[31m9.2 MB/s\u001b[0m eta \u001b[36m0:00:00\u001b[0m\n",
      "\u001b[?25hCollecting tqdm>=4\n",
      "  Downloading tqdm-4.67.0-py3-none-any.whl (78 kB)\n",
      "\u001b[2K     \u001b[38;2;114;156;31m━━━━━━━━━━━━━━━━━━━━━━━━━━━━━━━━━━━━━━━━\u001b[0m \u001b[32m78.6/78.6 kB\u001b[0m \u001b[31m2.7 MB/s\u001b[0m eta \u001b[36m0:00:00\u001b[0m\n",
      "\u001b[?25hCollecting aenum>=3\n",
      "  Downloading aenum-3.1.15-py3-none-any.whl (137 kB)\n",
      "\u001b[2K     \u001b[38;2;114;156;31m━━━━━━━━━━━━━━━━━━━━━━━━━━━━━━━━━━━━━━━\u001b[0m \u001b[32m137.6/137.6 kB\u001b[0m \u001b[31m5.2 MB/s\u001b[0m eta \u001b[36m0:00:00\u001b[0m\n",
      "\u001b[?25hCollecting click-params>=0.4.1\n",
      "  Downloading click_params-0.5.0-py3-none-any.whl (13 kB)\n",
      "Collecting pyarrow>=13\n",
      "  Downloading pyarrow-18.0.0-cp39-cp39-macosx_12_0_x86_64.whl (30.8 MB)\n",
      "\u001b[2K     \u001b[38;2;114;156;31m━━━━━━━━━━━━━━━━━━━━━━━━━━━━━━━━━━━━━━━━\u001b[0m \u001b[32m30.8/30.8 MB\u001b[0m \u001b[31m11.2 MB/s\u001b[0m eta \u001b[36m0:00:00\u001b[0mm eta \u001b[36m0:00:01\u001b[0m0:01\u001b[0m:01\u001b[0m\n",
      "\u001b[?25hRequirement already satisfied: lxml>=4.9.1 in /Users/terhorst/opt/py39/lib/python3.9/site-packages (from wetterdienst) (4.9.1)\n",
      "Requirement already satisfied: aiohttp>=3.8 in /Users/terhorst/opt/py39/lib/python3.9/site-packages (from wetterdienst) (3.8.3)\n",
      "Collecting backports-datetime-fromisoformat>=2\n",
      "  Downloading backports_datetime_fromisoformat-2.0.2-cp39-cp39-macosx_11_0_x86_64.whl (26 kB)\n",
      "Collecting pydantic>=2.7.3\n",
      "  Downloading pydantic-2.9.2-py3-none-any.whl (434 kB)\n",
      "\u001b[2K     \u001b[38;2;114;156;31m━━━━━━━━━━━━━━━━━━━━━━━━━━━━━━━━━━━━━━━\u001b[0m \u001b[32m434.9/434.9 kB\u001b[0m \u001b[31m8.2 MB/s\u001b[0m eta \u001b[36m0:00:00\u001b[0mm eta \u001b[36m0:00:01\u001b[0m\n",
      "\u001b[?25hCollecting deprecation>=2.1\n",
      "  Downloading deprecation-2.1.0-py2.py3-none-any.whl (11 kB)\n",
      "Requirement already satisfied: platformdirs in /Users/terhorst/opt/py39/lib/python3.9/site-packages (from wetterdienst) (2.5.2)\n",
      "Collecting environs>=9.4\n",
      "  Downloading environs-11.2.0-py3-none-any.whl (12 kB)\n",
      "Requirement already satisfied: click>=8 in /Users/terhorst/opt/py39/lib/python3.9/site-packages (from wetterdienst) (8.1.3)\n",
      "Collecting measurement>=3.2\n",
      "  Downloading measurement-3.2.2-py3-none-any.whl (17 kB)\n",
      "Collecting fsspec>=2023.1\n",
      "  Downloading fsspec-2024.10.0-py3-none-any.whl (179 kB)\n",
      "\u001b[2K     \u001b[38;2;114;156;31m━━━━━━━━━━━━━━━━━━━━━━━━━━━━━━━━━━━━━━━\u001b[0m \u001b[32m179.6/179.6 kB\u001b[0m \u001b[31m4.2 MB/s\u001b[0m eta \u001b[36m0:00:00\u001b[0m31m11.3 MB/s\u001b[0m eta \u001b[36m0:00:01\u001b[0m\n",
      "\u001b[?25hCollecting diskcache>=5.4\n",
      "  Downloading diskcache-5.6.3-py3-none-any.whl (45 kB)\n",
      "\u001b[2K     \u001b[38;2;114;156;31m━━━━━━━━━━━━━━━━━━━━━━━━━━━━━━━━━━━━━━━━\u001b[0m \u001b[32m45.5/45.5 kB\u001b[0m \u001b[31m1.5 MB/s\u001b[0m eta \u001b[36m0:00:00\u001b[0m\n",
      "\u001b[?25hCollecting requests>=2.20\n",
      "  Using cached requests-2.32.3-py3-none-any.whl (64 kB)\n",
      "Requirement already satisfied: beautifulsoup4>=4.9 in /Users/terhorst/opt/py39/lib/python3.9/site-packages (from wetterdienst) (4.11.1)\n",
      "Collecting pint>=0.17\n",
      "  Downloading Pint-0.24.4-py3-none-any.whl (302 kB)\n",
      "\u001b[2K     \u001b[38;2;114;156;31m━━━━━━━━━━━━━━━━━━━━━━━━━━━━━━━━━━━━━━━\u001b[0m \u001b[32m302.0/302.0 kB\u001b[0m \u001b[31m9.3 MB/s\u001b[0m eta \u001b[36m0:00:00\u001b[0m\n",
      "\u001b[?25hCollecting pillow>=10.3\n",
      "  Downloading pillow-11.0.0-cp39-cp39-macosx_10_10_x86_64.whl (3.2 MB)\n",
      "\u001b[2K     \u001b[38;2;114;156;31m━━━━━━━━━━━━━━━━━━━━━━━━━━━━━━━━━━━━━━━━\u001b[0m \u001b[32m3.2/3.2 MB\u001b[0m \u001b[31m10.4 MB/s\u001b[0m eta \u001b[36m0:00:00\u001b[0mm eta \u001b[36m0:00:01\u001b[0m[36m0:00:01\u001b[0m\n",
      "\u001b[?25hCollecting portion>=2.4.2\n",
      "  Downloading portion-2.6.0-py3-none-any.whl (28 kB)\n",
      "Requirement already satisfied: python-dateutil in /Users/terhorst/opt/py39/lib/python3.9/site-packages (from wetterdienst) (2.8.2)\n",
      "Requirement already satisfied: numpy>=1.22 in /Users/terhorst/opt/py39/lib/python3.9/site-packages (from wetterdienst) (1.23.3)\n",
      "Collecting cloup>=3.0.1\n",
      "  Downloading cloup-3.0.5-py2.py3-none-any.whl (54 kB)\n",
      "\u001b[2K     \u001b[38;2;114;156;31m━━━━━━━━━━━━━━━━━━━━━━━━━━━━━━━━━━━━━━━━\u001b[0m \u001b[32m54.4/54.4 kB\u001b[0m \u001b[31m1.9 MB/s\u001b[0m eta \u001b[36m0:00:00\u001b[0m\n",
      "\u001b[?25hCollecting scikit-learn>=1.0.2\n",
      "  Downloading scikit_learn-1.5.2-cp39-cp39-macosx_10_9_x86_64.whl (12.1 MB)\n",
      "\u001b[2K     \u001b[38;2;114;156;31m━━━━━━━━━━━━━━━━━━━━━━━━━━━━━━━━━━━━━━━━\u001b[0m \u001b[32m12.1/12.1 MB\u001b[0m \u001b[31m12.6 MB/s\u001b[0m eta \u001b[36m0:00:00\u001b[0mm eta \u001b[36m0:00:01\u001b[0m[36m0:00:01\u001b[0m\n",
      "\u001b[?25hCollecting tabulate>=0.8\n",
      "  Downloading tabulate-0.9.0-py3-none-any.whl (35 kB)\n",
      "Collecting tzfpy>=0.15.2\n",
      "  Downloading tzfpy-0.16.0-cp39-abi3-macosx_10_12_x86_64.macosx_11_0_arm64.macosx_10_12_universal2.whl (12.7 MB)\n",
      "\u001b[2K     \u001b[38;2;114;156;31m━━━━━━━━━━━━━━━━━━━━━━━━━━━━━━━━━━━━━━━━\u001b[0m \u001b[32m12.7/12.7 MB\u001b[0m \u001b[31m16.4 MB/s\u001b[0m eta \u001b[36m0:00:00\u001b[0mm eta \u001b[36m0:00:01\u001b[0m0:01\u001b[0m:01\u001b[0m\n",
      "\u001b[?25hCollecting fastexcel>=0.10.4\n",
      "  Downloading fastexcel-0.12.0-cp38-abi3-macosx_10_12_x86_64.whl (1.2 MB)\n",
      "\u001b[2K     \u001b[38;2;114;156;31m━━━━━━━━━━━━━━━━━━━━━━━━━━━━━━━━━━━━━━━━\u001b[0m \u001b[32m1.2/1.2 MB\u001b[0m \u001b[31m12.3 MB/s\u001b[0m eta \u001b[36m0:00:00\u001b[0mm eta \u001b[36m0:00:01\u001b[0m0:01\u001b[0m\n",
      "\u001b[?25hRequirement already satisfied: async-timeout<5.0,>=4.0.0a3 in /Users/terhorst/opt/py39/lib/python3.9/site-packages (from aiohttp>=3.8->wetterdienst) (4.0.2)\n",
      "Requirement already satisfied: aiosignal>=1.1.2 in /Users/terhorst/opt/py39/lib/python3.9/site-packages (from aiohttp>=3.8->wetterdienst) (1.2.0)\n",
      "Requirement already satisfied: yarl<2.0,>=1.0 in /Users/terhorst/opt/py39/lib/python3.9/site-packages (from aiohttp>=3.8->wetterdienst) (1.8.1)\n",
      "Requirement already satisfied: frozenlist>=1.1.1 in /Users/terhorst/opt/py39/lib/python3.9/site-packages (from aiohttp>=3.8->wetterdienst) (1.3.1)\n",
      "Requirement already satisfied: attrs>=17.3.0 in /Users/terhorst/opt/py39/lib/python3.9/site-packages (from aiohttp>=3.8->wetterdienst) (22.1.0)\n",
      "Requirement already satisfied: multidict<7.0,>=4.5 in /Users/terhorst/opt/py39/lib/python3.9/site-packages (from aiohttp>=3.8->wetterdienst) (6.0.2)\n",
      "Requirement already satisfied: charset-normalizer<3.0,>=2.0 in /Users/terhorst/opt/py39/lib/python3.9/site-packages (from aiohttp>=3.8->wetterdienst) (2.1.1)\n",
      "Requirement already satisfied: soupsieve>1.2 in /Users/terhorst/opt/py39/lib/python3.9/site-packages (from beautifulsoup4>=4.9->wetterdienst) (2.3.2.post1)\n",
      "Collecting validators<0.23,>=0.22\n",
      "  Downloading validators-0.22.0-py3-none-any.whl (26 kB)\n",
      "Collecting deprecated<2.0.0,>=1.2.14\n",
      "  Downloading Deprecated-1.2.15-py2.py3-none-any.whl (9.9 kB)\n",
      "Requirement already satisfied: packaging in /Users/terhorst/opt/py39/lib/python3.9/site-packages (from deprecation>=2.1->wetterdienst) (21.3)\n",
      "Collecting marshmallow>=3.13.0\n",
      "  Downloading marshmallow-3.23.1-py3-none-any.whl (49 kB)\n",
      "\u001b[2K     \u001b[38;2;114;156;31m━━━━━━━━━━━━━━━━━━━━━━━━━━━━━━━━━━━━━━━━\u001b[0m \u001b[32m49.5/49.5 kB\u001b[0m \u001b[31m1.4 MB/s\u001b[0m eta \u001b[36m0:00:00\u001b[0m\n",
      "\u001b[?25hCollecting python-dotenv\n",
      "  Downloading python_dotenv-1.0.1-py3-none-any.whl (19 kB)\n",
      "Requirement already satisfied: typing-extensions>=4.0.0 in /Users/terhorst/opt/py39/lib/python3.9/site-packages (from fastexcel>=0.10.4->wetterdienst) (4.3.0)\n",
      "Requirement already satisfied: sympy in /Users/terhorst/opt/py39/lib/python3.9/site-packages (from measurement>=3.2->wetterdienst) (1.13.3)\n",
      "Collecting flexparser>=0.4\n",
      "  Downloading flexparser-0.4-py3-none-any.whl (27 kB)\n",
      "Collecting flexcache>=0.3\n",
      "  Downloading flexcache-0.3-py3-none-any.whl (13 kB)\n"
     ]
    },
    {
     "name": "stdout",
     "output_type": "stream",
     "text": [
      "Collecting sortedcontainers~=2.2\n",
      "  Downloading sortedcontainers-2.4.0-py2.py3-none-any.whl (29 kB)\n",
      "Collecting typing-extensions>=4.0.0\n",
      "  Using cached typing_extensions-4.12.2-py3-none-any.whl (37 kB)\n",
      "Collecting annotated-types>=0.6.0\n",
      "  Downloading annotated_types-0.7.0-py3-none-any.whl (13 kB)\n",
      "Collecting pydantic-core==2.23.4\n",
      "  Downloading pydantic_core-2.23.4-cp39-cp39-macosx_10_12_x86_64.whl (1.9 MB)\n",
      "\u001b[2K     \u001b[38;2;114;156;31m━━━━━━━━━━━━━━━━━━━━━━━━━━━━━━━━━━━━━━━━\u001b[0m \u001b[32m1.9/1.9 MB\u001b[0m \u001b[31m17.3 MB/s\u001b[0m eta \u001b[36m0:00:00\u001b[0m MB/s\u001b[0m eta \u001b[36m0:00:01\u001b[0m:01\u001b[0m\n",
      "\u001b[?25hRequirement already satisfied: idna<4,>=2.5 in /Users/terhorst/opt/py39/lib/python3.9/site-packages (from requests>=2.20->wetterdienst) (3.4)\n",
      "Collecting certifi>=2017.4.17\n",
      "  Downloading certifi-2024.8.30-py3-none-any.whl (167 kB)\n",
      "\u001b[2K     \u001b[38;2;114;156;31m━━━━━━━━━━━━━━━━━━━━━━━━━━━━━━━━━━━━━━━\u001b[0m \u001b[32m167.3/167.3 kB\u001b[0m \u001b[31m6.2 MB/s\u001b[0m eta \u001b[36m0:00:00\u001b[0m\n",
      "\u001b[?25hCollecting urllib3<3,>=1.21.1\n",
      "  Downloading urllib3-2.2.3-py3-none-any.whl (126 kB)\n",
      "\u001b[2K     \u001b[38;2;114;156;31m━━━━━━━━━━━━━━━━━━━━━━━━━━━━━━━━━━━━━━━\u001b[0m \u001b[32m126.3/126.3 kB\u001b[0m \u001b[31m4.8 MB/s\u001b[0m eta \u001b[36m0:00:00\u001b[0m\n",
      "\u001b[?25hRequirement already satisfied: scipy>=1.6.0 in /Users/terhorst/opt/py39/lib/python3.9/site-packages (from scikit-learn>=1.0.2->wetterdienst) (1.9.2)\n",
      "Collecting joblib>=1.2.0\n",
      "  Downloading joblib-1.4.2-py3-none-any.whl (301 kB)\n",
      "\u001b[2K     \u001b[38;2;114;156;31m━━━━━━━━━━━━━━━━━━━━━━━━━━━━━━━━━━━━━━━\u001b[0m \u001b[32m301.8/301.8 kB\u001b[0m \u001b[31m9.4 MB/s\u001b[0m eta \u001b[36m0:00:00\u001b[0m\n",
      "\u001b[?25hCollecting threadpoolctl>=3.1.0\n",
      "  Downloading threadpoolctl-3.5.0-py3-none-any.whl (18 kB)\n",
      "Collecting tenacity\n",
      "  Downloading tenacity-9.0.0-py3-none-any.whl (28 kB)\n",
      "Requirement already satisfied: six>=1.5 in /Users/terhorst/opt/py39/lib/python3.9/site-packages (from python-dateutil->wetterdienst) (1.16.0)\n",
      "Collecting wrapt<2,>=1.10\n",
      "  Downloading wrapt-1.16.0-cp39-cp39-macosx_10_9_x86_64.whl (37 kB)\n",
      "Requirement already satisfied: pyparsing!=3.0.5,>=2.0.2 in /Users/terhorst/opt/py39/lib/python3.9/site-packages (from packaging->deprecation>=2.1->wetterdienst) (3.0.9)\n",
      "Requirement already satisfied: mpmath<1.4,>=1.1.0 in /Users/terhorst/opt/py39/lib/python3.9/site-packages (from sympy->measurement>=3.2->wetterdienst) (1.3.0)\n",
      "Installing collected packages: sortedcontainers, aenum, wrapt, validators, urllib3, tzfpy, typing-extensions, tqdm, threadpoolctl, tenacity, tabulate, rapidfuzz, python-dotenv, pyarrow, portion, polars, pillow, joblib, fsspec, eval-type-backport, diskcache, cloup, certifi, cachetools, backports-datetime-fromisoformat, annotated-types, stamina, scikit-learn, requests, pypdf, pydantic-core, measurement, marshmallow, flexparser, flexcache, fastexcel, deprecation, deprecated, pydantic, pint, environs, click-params, wetterdienst\n",
      "  Attempting uninstall: typing-extensions\n",
      "    Found existing installation: typing_extensions 4.3.0\n",
      "    Uninstalling typing_extensions-4.3.0:\n",
      "      Successfully uninstalled typing_extensions-4.3.0\n",
      "  Attempting uninstall: pillow\n",
      "    Found existing installation: Pillow 9.2.0\n",
      "    Uninstalling Pillow-9.2.0:\n",
      "      Successfully uninstalled Pillow-9.2.0\n",
      "Successfully installed aenum-3.1.15 annotated-types-0.7.0 backports-datetime-fromisoformat-2.0.2 cachetools-5.5.0 certifi-2024.8.30 click-params-0.5.0 cloup-3.0.5 deprecated-1.2.15 deprecation-2.1.0 diskcache-5.6.3 environs-11.2.0 eval-type-backport-0.2.0 fastexcel-0.12.0 flexcache-0.3 flexparser-0.4 fsspec-2024.10.0 joblib-1.4.2 marshmallow-3.23.1 measurement-3.2.2 pillow-11.0.0 pint-0.24.4 polars-1.14.0 portion-2.6.0 pyarrow-18.0.0 pydantic-2.9.2 pydantic-core-2.23.4 pypdf-5.1.0 python-dotenv-1.0.1 rapidfuzz-3.10.1 requests-2.32.3 scikit-learn-1.5.2 sortedcontainers-2.4.0 stamina-24.3.0 tabulate-0.9.0 tenacity-9.0.0 threadpoolctl-3.5.0 tqdm-4.67.0 typing-extensions-4.12.2 tzfpy-0.16.0 urllib3-2.2.3 validators-0.22.0 wetterdienst-0.97.0 wrapt-1.16.0\n",
      "\n",
      "\u001b[1m[\u001b[0m\u001b[34;49mnotice\u001b[0m\u001b[1;39;49m]\u001b[0m\u001b[39;49m A new release of pip available: \u001b[0m\u001b[31;49m22.2.2\u001b[0m\u001b[39;49m -> \u001b[0m\u001b[32;49m24.3.1\u001b[0m\n",
      "\u001b[1m[\u001b[0m\u001b[34;49mnotice\u001b[0m\u001b[1;39;49m]\u001b[0m\u001b[39;49m To update, run: \u001b[0m\u001b[32;49mpip install --upgrade pip\u001b[0m\n",
      "Note: you may need to restart the kernel to use updated packages.\n"
     ]
    }
   ],
   "source": [
    "pip install wetterdienst"
   ]
  },
  {
   "cell_type": "code",
   "execution_count": 3,
   "id": "cb60a866",
   "metadata": {
    "slideshow": {
     "slide_type": "slide"
    }
   },
   "outputs": [
    {
     "data": {
      "text/plain": [
       "{'DWD': ['OBSERVATION', 'MOSMIX', 'DMO', 'ROAD', 'RADAR'],\n",
       " 'ECCC': ['OBSERVATION'],\n",
       " 'IMGW': ['HYDROLOGY', 'METEOROLOGY'],\n",
       " 'NOAA': ['GHCN'],\n",
       " 'WSV': ['PEGEL'],\n",
       " 'EA': ['HYDROLOGY'],\n",
       " 'NWS': ['OBSERVATION'],\n",
       " 'EAUFRANCE': ['HUBEAU'],\n",
       " 'GEOSPHERE': ['OBSERVATION']}"
      ]
     },
     "execution_count": 3,
     "metadata": {},
     "output_type": "execute_result"
    }
   ],
   "source": [
    "from wetterdienst import Wetterdienst\n",
    "\n",
    "Wetterdienst.discover()"
   ]
  },
  {
   "cell_type": "code",
   "execution_count": 6,
   "id": "08c313aa",
   "metadata": {
    "slideshow": {
     "slide_type": "slide"
    }
   },
   "outputs": [],
   "source": [
    "API = Wetterdienst(provider=\"noaa\", network=\"ghcn\")"
   ]
  },
  {
   "cell_type": "code",
   "execution_count": 155,
   "id": "847a21d9",
   "metadata": {
    "slideshow": {
     "slide_type": "slide"
    }
   },
   "outputs": [
    {
     "data": {
      "text/plain": [
       "NoaaGhcnRequest(parameter=[(tmax/daily)], resolution=daily, period=[historical], start_date=1980-01-01 00:00:00+00:00, end_date=2021-01-20 00:00:00+00:00, humanize=True, format=long, si_units=True)"
      ]
     },
     "execution_count": 6,
     "metadata": {},
     "output_type": "execute_result"
    }
   ],
   "source": [
    "import datetime as dt\n",
    "from wetterdienst import Resolution, Period\n",
    "from wetterdienst.provider.noaa.ghcn import NoaaGhcnRequest, NoaaGhcnParameter\n",
    "\n",
    "\n",
    "request = NoaaGhcnRequest(\n",
    "    parameter=[\"TMAX\"],\n",
    "    resolution=NoaaGhcnParameter.DAILY,\n",
    "    start_date=dt.datetime(1980, 1, 1),\n",
    "    end_date=dt.datetime(2021, 1, 20)\n",
    ")\n",
    "\n",
    "request"
   ]
  },
  {
   "cell_type": "code",
   "execution_count": 158,
   "id": "5e1afb2d",
   "metadata": {
    "slideshow": {
     "slide_type": "slide"
    }
   },
   "outputs": [
    {
     "data": {
      "text/html": [
       "<div><style>\n",
       ".dataframe > thead > tr,\n",
       ".dataframe > tbody > tr {\n",
       "  text-align: right;\n",
       "  white-space: pre-wrap;\n",
       "}\n",
       "</style>\n",
       "<small>shape: (3_863, 9)</small><table border=\"1\" class=\"dataframe\"><thead><tr><th>station_id</th><th>start_date</th><th>end_date</th><th>latitude</th><th>longitude</th><th>height</th><th>name</th><th>state</th><th>distance</th></tr><tr><td>str</td><td>datetime[μs, UTC]</td><td>datetime[μs, UTC]</td><td>f64</td><td>f64</td><td>f64</td><td>str</td><td>str</td><td>f64</td></tr></thead><tbody><tr><td>&quot;USC00200220&quot;</td><td>2008-01-01&nbsp;00:00:00&nbsp;UTC</td><td>2013-12-31&nbsp;00:00:00&nbsp;UTC</td><td>42.2875</td><td>-83.7611</td><td>263.7</td><td>&quot;ANN&nbsp;ARBOR&nbsp;1W&quot;</td><td>&quot;MI&quot;</td><td>1.664958</td></tr><tr><td>&quot;US1MIWS0016&quot;</td><td>2008-01-01&nbsp;00:00:00&nbsp;UTC</td><td>2012-12-31&nbsp;00:00:00&nbsp;UTC</td><td>42.2973</td><td>-83.7315</td><td>245.1</td><td>&quot;ANN&nbsp;ARBOR&nbsp;1.5&nbsp;N&quot;</td><td>&quot;MI&quot;</td><td>2.064226</td></tr><tr><td>&quot;US1MIWS0020&quot;</td><td>2012-01-01&nbsp;00:00:00&nbsp;UTC</td><td>2015-12-31&nbsp;00:00:00&nbsp;UTC</td><td>42.2998</td><td>-83.7392</td><td>257.3</td><td>&quot;ANN&nbsp;ARBOR&nbsp;1.7&nbsp;NNW&quot;</td><td>&quot;MI&quot;</td><td>2.135701</td></tr><tr><td>&quot;US1MIWS0015&quot;</td><td>2008-01-01&nbsp;00:00:00&nbsp;UTC</td><td>2010-12-31&nbsp;00:00:00&nbsp;UTC</td><td>42.2865</td><td>-83.7699</td><td>274.0</td><td>&quot;ANN&nbsp;ARBOR&nbsp;2.1&nbsp;WNW&quot;</td><td>&quot;MI&quot;</td><td>2.301895</td></tr><tr><td>&quot;US1MIWS0011&quot;</td><td>2008-01-01&nbsp;00:00:00&nbsp;UTC</td><td>2024-12-31&nbsp;00:00:00&nbsp;UTC</td><td>42.2832</td><td>-83.7715</td><td>275.5</td><td>&quot;ANN&nbsp;ARBOR&nbsp;2.1&nbsp;WNW&quot;</td><td>&quot;MI&quot;</td><td>2.359741</td></tr><tr><td>&hellip;</td><td>&hellip;</td><td>&hellip;</td><td>&hellip;</td><td>&hellip;</td><td>&hellip;</td><td>&hellip;</td><td>&hellip;</td><td>&hellip;</td></tr><tr><td>&quot;USC00200662&quot;</td><td>1948-01-01&nbsp;00:00:00&nbsp;UTC</td><td>1951-12-31&nbsp;00:00:00&nbsp;UTC</td><td>44.9758</td><td>-85.1981</td><td>190.5</td><td>&quot;BELLAIRE&quot;</td><td>&quot;MI&quot;</td><td>321.727548</td></tr><tr><td>&quot;CA1ON000477&quot;</td><td>1998-01-01&nbsp;00:00:00&nbsp;UTC</td><td>2023-12-31&nbsp;00:00:00&nbsp;UTC</td><td>43.0714</td><td>-79.9567</td><td>190.2</td><td>&quot;CALEDONIA&nbsp;0.3&nbsp;NW&nbsp;-&nbsp;GRCA&quot;</td><td>&quot;ON&quot;</td><td>321.739383</td></tr><tr><td>&quot;US1INLK0041&quot;</td><td>2009-01-01&nbsp;00:00:00&nbsp;UTC</td><td>2015-12-31&nbsp;00:00:00&nbsp;UTC</td><td>41.3323</td><td>-87.411</td><td>212.4</td><td>&quot;LOWELL&nbsp;2.6&nbsp;N&quot;</td><td>&quot;IN&quot;</td><td>321.762549</td></tr><tr><td>&quot;USC00125217&quot;</td><td>1976-01-01&nbsp;00:00:00&nbsp;UTC</td><td>1988-12-31&nbsp;00:00:00&nbsp;UTC</td><td>39.9667</td><td>-86.05</td><td>225.6</td><td>&quot;LYNNWOOD&nbsp;FARMS&quot;</td><td>&quot;IN&quot;</td><td>321.767214</td></tr><tr><td>&quot;US1INHM0056&quot;</td><td>2014-01-01&nbsp;00:00:00&nbsp;UTC</td><td>2017-12-31&nbsp;00:00:00&nbsp;UTC</td><td>40.0228</td><td>-86.1485</td><td>274.3</td><td>&quot;WESTFIELD&nbsp;1.9&nbsp;SSW&quot;</td><td>&quot;IN&quot;</td><td>321.844365</td></tr></tbody></table></div>"
      ],
      "text/plain": [
       "shape: (3_863, 9)\n",
       "┌─────────────┬─────────────┬────────────┬──────────┬───┬────────┬────────────┬───────┬────────────┐\n",
       "│ station_id  ┆ start_date  ┆ end_date   ┆ latitude ┆ … ┆ height ┆ name       ┆ state ┆ distance   │\n",
       "│ ---         ┆ ---         ┆ ---        ┆ ---      ┆   ┆ ---    ┆ ---        ┆ ---   ┆ ---        │\n",
       "│ str         ┆ datetime[μs ┆ datetime[μ ┆ f64      ┆   ┆ f64    ┆ str        ┆ str   ┆ f64        │\n",
       "│             ┆ , UTC]      ┆ s, UTC]    ┆          ┆   ┆        ┆            ┆       ┆            │\n",
       "╞═════════════╪═════════════╪════════════╪══════════╪═══╪════════╪════════════╪═══════╪════════════╡\n",
       "│ USC00200220 ┆ 2008-01-01  ┆ 2013-12-31 ┆ 42.2875  ┆ … ┆ 263.7  ┆ ANN ARBOR  ┆ MI    ┆ 1.664958   │\n",
       "│             ┆ 00:00:00    ┆ 00:00:00   ┆          ┆   ┆        ┆ 1W         ┆       ┆            │\n",
       "│             ┆ UTC         ┆ UTC        ┆          ┆   ┆        ┆            ┆       ┆            │\n",
       "│ US1MIWS0016 ┆ 2008-01-01  ┆ 2012-12-31 ┆ 42.2973  ┆ … ┆ 245.1  ┆ ANN ARBOR  ┆ MI    ┆ 2.064226   │\n",
       "│             ┆ 00:00:00    ┆ 00:00:00   ┆          ┆   ┆        ┆ 1.5 N      ┆       ┆            │\n",
       "│             ┆ UTC         ┆ UTC        ┆          ┆   ┆        ┆            ┆       ┆            │\n",
       "│ US1MIWS0020 ┆ 2012-01-01  ┆ 2015-12-31 ┆ 42.2998  ┆ … ┆ 257.3  ┆ ANN ARBOR  ┆ MI    ┆ 2.135701   │\n",
       "│             ┆ 00:00:00    ┆ 00:00:00   ┆          ┆   ┆        ┆ 1.7 NNW    ┆       ┆            │\n",
       "│             ┆ UTC         ┆ UTC        ┆          ┆   ┆        ┆            ┆       ┆            │\n",
       "│ US1MIWS0015 ┆ 2008-01-01  ┆ 2010-12-31 ┆ 42.2865  ┆ … ┆ 274.0  ┆ ANN ARBOR  ┆ MI    ┆ 2.301895   │\n",
       "│             ┆ 00:00:00    ┆ 00:00:00   ┆          ┆   ┆        ┆ 2.1 WNW    ┆       ┆            │\n",
       "│             ┆ UTC         ┆ UTC        ┆          ┆   ┆        ┆            ┆       ┆            │\n",
       "│ US1MIWS0011 ┆ 2008-01-01  ┆ 2024-12-31 ┆ 42.2832  ┆ … ┆ 275.5  ┆ ANN ARBOR  ┆ MI    ┆ 2.359741   │\n",
       "│             ┆ 00:00:00    ┆ 00:00:00   ┆          ┆   ┆        ┆ 2.1 WNW    ┆       ┆            │\n",
       "│             ┆ UTC         ┆ UTC        ┆          ┆   ┆        ┆            ┆       ┆            │\n",
       "│ …           ┆ …           ┆ …          ┆ …        ┆ … ┆ …      ┆ …          ┆ …     ┆ …          │\n",
       "│ USC00200662 ┆ 1948-01-01  ┆ 1951-12-31 ┆ 44.9758  ┆ … ┆ 190.5  ┆ BELLAIRE   ┆ MI    ┆ 321.727548 │\n",
       "│             ┆ 00:00:00    ┆ 00:00:00   ┆          ┆   ┆        ┆            ┆       ┆            │\n",
       "│             ┆ UTC         ┆ UTC        ┆          ┆   ┆        ┆            ┆       ┆            │\n",
       "│ CA1ON000477 ┆ 1998-01-01  ┆ 2023-12-31 ┆ 43.0714  ┆ … ┆ 190.2  ┆ CALEDONIA  ┆ ON    ┆ 321.739383 │\n",
       "│             ┆ 00:00:00    ┆ 00:00:00   ┆          ┆   ┆        ┆ 0.3 NW -   ┆       ┆            │\n",
       "│             ┆ UTC         ┆ UTC        ┆          ┆   ┆        ┆ GRCA       ┆       ┆            │\n",
       "│ US1INLK0041 ┆ 2009-01-01  ┆ 2015-12-31 ┆ 41.3323  ┆ … ┆ 212.4  ┆ LOWELL 2.6 ┆ IN    ┆ 321.762549 │\n",
       "│             ┆ 00:00:00    ┆ 00:00:00   ┆          ┆   ┆        ┆ N          ┆       ┆            │\n",
       "│             ┆ UTC         ┆ UTC        ┆          ┆   ┆        ┆            ┆       ┆            │\n",
       "│ USC00125217 ┆ 1976-01-01  ┆ 1988-12-31 ┆ 39.9667  ┆ … ┆ 225.6  ┆ LYNNWOOD   ┆ IN    ┆ 321.767214 │\n",
       "│             ┆ 00:00:00    ┆ 00:00:00   ┆          ┆   ┆        ┆ FARMS      ┆       ┆            │\n",
       "│             ┆ UTC         ┆ UTC        ┆          ┆   ┆        ┆            ┆       ┆            │\n",
       "│ US1INHM0056 ┆ 2014-01-01  ┆ 2017-12-31 ┆ 40.0228  ┆ … ┆ 274.3  ┆ WESTFIELD  ┆ IN    ┆ 321.844365 │\n",
       "│             ┆ 00:00:00    ┆ 00:00:00   ┆          ┆   ┆        ┆ 1.9 SSW    ┆       ┆            │\n",
       "│             ┆ UTC         ┆ UTC        ┆          ┆   ┆        ┆            ┆       ┆            │\n",
       "└─────────────┴─────────────┴────────────┴──────────┴───┴────────┴────────────┴───────┴────────────┘"
      ]
     },
     "execution_count": 14,
     "metadata": {},
     "output_type": "execute_result"
    }
   ],
   "source": [
    "a2 = (42.2808, -83.7430)\n",
    "# stations = request.filter_by_distance(latlon=a2, distance=200, unit=\"mi\")\n",
    "stations.df"
   ]
  },
  {
   "cell_type": "code",
   "execution_count": 164,
   "id": "ca893bde",
   "metadata": {
    "slideshow": {
     "slide_type": "slide"
    }
   },
   "outputs": [
    {
     "data": {
      "text/html": [
       "<div>\n",
       "<style scoped>\n",
       "    .dataframe tbody tr th:only-of-type {\n",
       "        vertical-align: middle;\n",
       "    }\n",
       "\n",
       "    .dataframe tbody tr th {\n",
       "        vertical-align: top;\n",
       "    }\n",
       "\n",
       "    .dataframe thead th {\n",
       "        text-align: right;\n",
       "    }\n",
       "</style>\n",
       "<table border=\"1\" class=\"dataframe\">\n",
       "  <thead>\n",
       "    <tr style=\"text-align: right;\">\n",
       "      <th></th>\n",
       "      <th>station_id</th>\n",
       "      <th>lat</th>\n",
       "      <th>long</th>\n",
       "      <th>variable</th>\n",
       "      <th>start_year</th>\n",
       "      <th>end_year</th>\n",
       "    </tr>\n",
       "  </thead>\n",
       "  <tbody>\n",
       "    <tr>\n",
       "      <th>0</th>\n",
       "      <td>ACW00011604</td>\n",
       "      <td>17.1167</td>\n",
       "      <td>-61.7833</td>\n",
       "      <td>TMAX</td>\n",
       "      <td>1949</td>\n",
       "      <td>1949</td>\n",
       "    </tr>\n",
       "    <tr>\n",
       "      <th>1</th>\n",
       "      <td>ACW00011604</td>\n",
       "      <td>17.1167</td>\n",
       "      <td>-61.7833</td>\n",
       "      <td>TMIN</td>\n",
       "      <td>1949</td>\n",
       "      <td>1949</td>\n",
       "    </tr>\n",
       "    <tr>\n",
       "      <th>2</th>\n",
       "      <td>ACW00011604</td>\n",
       "      <td>17.1167</td>\n",
       "      <td>-61.7833</td>\n",
       "      <td>PRCP</td>\n",
       "      <td>1949</td>\n",
       "      <td>1949</td>\n",
       "    </tr>\n",
       "    <tr>\n",
       "      <th>3</th>\n",
       "      <td>ACW00011604</td>\n",
       "      <td>17.1167</td>\n",
       "      <td>-61.7833</td>\n",
       "      <td>SNOW</td>\n",
       "      <td>1949</td>\n",
       "      <td>1949</td>\n",
       "    </tr>\n",
       "    <tr>\n",
       "      <th>4</th>\n",
       "      <td>ACW00011604</td>\n",
       "      <td>17.1167</td>\n",
       "      <td>-61.7833</td>\n",
       "      <td>SNWD</td>\n",
       "      <td>1949</td>\n",
       "      <td>1949</td>\n",
       "    </tr>\n",
       "    <tr>\n",
       "      <th>...</th>\n",
       "      <td>...</td>\n",
       "      <td>...</td>\n",
       "      <td>...</td>\n",
       "      <td>...</td>\n",
       "      <td>...</td>\n",
       "      <td>...</td>\n",
       "    </tr>\n",
       "    <tr>\n",
       "      <th>756934</th>\n",
       "      <td>ZI000067983</td>\n",
       "      <td>20.2000</td>\n",
       "      <td>32.6160</td>\n",
       "      <td>PRCP</td>\n",
       "      <td>1951</td>\n",
       "      <td>2024</td>\n",
       "    </tr>\n",
       "    <tr>\n",
       "      <th>756935</th>\n",
       "      <td>ZI000067983</td>\n",
       "      <td>20.2000</td>\n",
       "      <td>32.6160</td>\n",
       "      <td>TAVG</td>\n",
       "      <td>1962</td>\n",
       "      <td>2024</td>\n",
       "    </tr>\n",
       "    <tr>\n",
       "      <th>756936</th>\n",
       "      <td>ZI000067991</td>\n",
       "      <td>22.2170</td>\n",
       "      <td>30.0000</td>\n",
       "      <td>TMAX</td>\n",
       "      <td>1951</td>\n",
       "      <td>1990</td>\n",
       "    </tr>\n",
       "    <tr>\n",
       "      <th>756937</th>\n",
       "      <td>ZI000067991</td>\n",
       "      <td>22.2170</td>\n",
       "      <td>30.0000</td>\n",
       "      <td>TMIN</td>\n",
       "      <td>1951</td>\n",
       "      <td>1990</td>\n",
       "    </tr>\n",
       "    <tr>\n",
       "      <th>756938</th>\n",
       "      <td>ZI000067991</td>\n",
       "      <td>22.2170</td>\n",
       "      <td>30.0000</td>\n",
       "      <td>PRCP</td>\n",
       "      <td>1951</td>\n",
       "      <td>1990</td>\n",
       "    </tr>\n",
       "  </tbody>\n",
       "</table>\n",
       "<p>756939 rows × 6 columns</p>\n",
       "</div>"
      ],
      "text/plain": [
       "         station_id      lat     long variable  start_year  end_year\n",
       "0       ACW00011604  17.1167 -61.7833     TMAX        1949      1949\n",
       "1       ACW00011604  17.1167 -61.7833     TMIN        1949      1949\n",
       "2       ACW00011604  17.1167 -61.7833     PRCP        1949      1949\n",
       "3       ACW00011604  17.1167 -61.7833     SNOW        1949      1949\n",
       "4       ACW00011604  17.1167 -61.7833     SNWD        1949      1949\n",
       "...             ...      ...      ...      ...         ...       ...\n",
       "756934  ZI000067983  20.2000  32.6160     PRCP        1951      2024\n",
       "756935  ZI000067983  20.2000  32.6160     TAVG        1962      2024\n",
       "756936  ZI000067991  22.2170  30.0000     TMAX        1951      1990\n",
       "756937  ZI000067991  22.2170  30.0000     TMIN        1951      1990\n",
       "756938  ZI000067991  22.2170  30.0000     PRCP        1951      1990\n",
       "\n",
       "[756939 rows x 6 columns]"
      ]
     },
     "execution_count": 9,
     "metadata": {},
     "output_type": "execute_result"
    }
   ],
   "source": [
    "import pandas as pd\n",
    "# inv = pd.read_fwf(\"https://www.ncei.noaa.gov/pub/data/ghcn/daily/ghcnd-inventory.txt\", \n",
    "#                  names=[\"station_id\", \"lat\", \"long\", \"variable\", \"start_year\", \"end_year\"])\n",
    "inv"
   ]
  },
  {
   "cell_type": "code",
   "execution_count": 175,
   "id": "68bb9b1f",
   "metadata": {
    "slideshow": {
     "slide_type": "slide"
    }
   },
   "outputs": [
    {
     "data": {
      "text/html": [
       "<div>\n",
       "<style scoped>\n",
       "    .dataframe tbody tr th:only-of-type {\n",
       "        vertical-align: middle;\n",
       "    }\n",
       "\n",
       "    .dataframe tbody tr th {\n",
       "        vertical-align: top;\n",
       "    }\n",
       "\n",
       "    .dataframe thead th {\n",
       "        text-align: right;\n",
       "    }\n",
       "</style>\n",
       "<table border=\"1\" class=\"dataframe\">\n",
       "  <thead>\n",
       "    <tr style=\"text-align: right;\">\n",
       "      <th></th>\n",
       "      <th>station_id</th>\n",
       "      <th>lat</th>\n",
       "      <th>long</th>\n",
       "      <th>variable</th>\n",
       "      <th>start_year</th>\n",
       "      <th>end_year</th>\n",
       "    </tr>\n",
       "  </thead>\n",
       "  <tbody>\n",
       "    <tr>\n",
       "      <th>0</th>\n",
       "      <td>ACW00011604</td>\n",
       "      <td>17.1167</td>\n",
       "      <td>-61.7833</td>\n",
       "      <td>TMAX</td>\n",
       "      <td>1949</td>\n",
       "      <td>1949</td>\n",
       "    </tr>\n",
       "    <tr>\n",
       "      <th>11</th>\n",
       "      <td>ACW00011647</td>\n",
       "      <td>17.1333</td>\n",
       "      <td>-61.7833</td>\n",
       "      <td>TMAX</td>\n",
       "      <td>1961</td>\n",
       "      <td>1961</td>\n",
       "    </tr>\n",
       "    <tr>\n",
       "      <th>18</th>\n",
       "      <td>AE000041196</td>\n",
       "      <td>25.3330</td>\n",
       "      <td>55.5170</td>\n",
       "      <td>TMAX</td>\n",
       "      <td>1944</td>\n",
       "      <td>2024</td>\n",
       "    </tr>\n",
       "    <tr>\n",
       "      <th>22</th>\n",
       "      <td>AEM00041194</td>\n",
       "      <td>25.2550</td>\n",
       "      <td>55.3640</td>\n",
       "      <td>TMAX</td>\n",
       "      <td>1983</td>\n",
       "      <td>2024</td>\n",
       "    </tr>\n",
       "    <tr>\n",
       "      <th>26</th>\n",
       "      <td>AEM00041217</td>\n",
       "      <td>24.4330</td>\n",
       "      <td>54.6510</td>\n",
       "      <td>TMAX</td>\n",
       "      <td>1983</td>\n",
       "      <td>2024</td>\n",
       "    </tr>\n",
       "    <tr>\n",
       "      <th>...</th>\n",
       "      <td>...</td>\n",
       "      <td>...</td>\n",
       "      <td>...</td>\n",
       "      <td>...</td>\n",
       "      <td>...</td>\n",
       "      <td>...</td>\n",
       "    </tr>\n",
       "    <tr>\n",
       "      <th>756921</th>\n",
       "      <td>ZI000067969</td>\n",
       "      <td>21.0500</td>\n",
       "      <td>29.3670</td>\n",
       "      <td>TMAX</td>\n",
       "      <td>1962</td>\n",
       "      <td>1990</td>\n",
       "    </tr>\n",
       "    <tr>\n",
       "      <th>756924</th>\n",
       "      <td>ZI000067975</td>\n",
       "      <td>20.0670</td>\n",
       "      <td>30.8670</td>\n",
       "      <td>TMAX</td>\n",
       "      <td>1951</td>\n",
       "      <td>2024</td>\n",
       "    </tr>\n",
       "    <tr>\n",
       "      <th>756929</th>\n",
       "      <td>ZI000067977</td>\n",
       "      <td>21.0170</td>\n",
       "      <td>31.5830</td>\n",
       "      <td>TMAX</td>\n",
       "      <td>1968</td>\n",
       "      <td>1990</td>\n",
       "    </tr>\n",
       "    <tr>\n",
       "      <th>756932</th>\n",
       "      <td>ZI000067983</td>\n",
       "      <td>20.2000</td>\n",
       "      <td>32.6160</td>\n",
       "      <td>TMAX</td>\n",
       "      <td>1951</td>\n",
       "      <td>2020</td>\n",
       "    </tr>\n",
       "    <tr>\n",
       "      <th>756936</th>\n",
       "      <td>ZI000067991</td>\n",
       "      <td>22.2170</td>\n",
       "      <td>30.0000</td>\n",
       "      <td>TMAX</td>\n",
       "      <td>1951</td>\n",
       "      <td>1990</td>\n",
       "    </tr>\n",
       "  </tbody>\n",
       "</table>\n",
       "<p>40426 rows × 6 columns</p>\n",
       "</div>"
      ],
      "text/plain": [
       "         station_id      lat     long variable  start_year  end_year\n",
       "0       ACW00011604  17.1167 -61.7833     TMAX        1949      1949\n",
       "11      ACW00011647  17.1333 -61.7833     TMAX        1961      1961\n",
       "18      AE000041196  25.3330  55.5170     TMAX        1944      2024\n",
       "22      AEM00041194  25.2550  55.3640     TMAX        1983      2024\n",
       "26      AEM00041217  24.4330  54.6510     TMAX        1983      2024\n",
       "...             ...      ...      ...      ...         ...       ...\n",
       "756921  ZI000067969  21.0500  29.3670     TMAX        1962      1990\n",
       "756924  ZI000067975  20.0670  30.8670     TMAX        1951      2024\n",
       "756929  ZI000067977  21.0170  31.5830     TMAX        1968      1990\n",
       "756932  ZI000067983  20.2000  32.6160     TMAX        1951      2020\n",
       "756936  ZI000067991  22.2170  30.0000     TMAX        1951      1990\n",
       "\n",
       "[40426 rows x 6 columns]"
      ]
     },
     "execution_count": 10,
     "metadata": {},
     "output_type": "execute_result"
    }
   ],
   "source": [
    "inv.query(\"variable == 'TMAX'\")"
   ]
  },
  {
   "cell_type": "code",
   "execution_count": 180,
   "id": "9cf60d2e",
   "metadata": {
    "slideshow": {
     "slide_type": "slide"
    }
   },
   "outputs": [
    {
     "data": {
      "text/html": [
       "<div><style>\n",
       ".dataframe > thead > tr,\n",
       ".dataframe > tbody > tr {\n",
       "  text-align: right;\n",
       "  white-space: pre-wrap;\n",
       "}\n",
       "</style>\n",
       "<small>shape: (154, 14)</small><table border=\"1\" class=\"dataframe\"><thead><tr><th>station_id</th><th>start_date</th><th>end_date</th><th>latitude</th><th>longitude</th><th>height</th><th>name</th><th>state</th><th>distance</th><th>lat</th><th>long</th><th>variable</th><th>start_year</th><th>end_year</th></tr><tr><td>str</td><td>datetime[μs, UTC]</td><td>datetime[μs, UTC]</td><td>f64</td><td>f64</td><td>f64</td><td>str</td><td>str</td><td>f64</td><td>f64</td><td>f64</td><td>str</td><td>i64</td><td>i64</td></tr></thead><tbody><tr><td>&quot;CA006124127&quot;</td><td>1870-01-01&nbsp;00:00:00&nbsp;UTC</td><td>2022-12-31&nbsp;00:00:00&nbsp;UTC</td><td>44.1667</td><td>-81.6167</td><td>200.0</td><td>&quot;KINCARDINE&quot;</td><td>&quot;ON&quot;</td><td>271.378197</td><td>44.1667</td><td>-81.6167</td><td>&quot;TMAX&quot;</td><td>1872</td><td>2022</td></tr><tr><td>&quot;CA006134190&quot;</td><td>1960-01-01&nbsp;00:00:00&nbsp;UTC</td><td>2024-12-31&nbsp;00:00:00&nbsp;UTC</td><td>42.05</td><td>-82.6667</td><td>200.0</td><td>&quot;KINGSVILLE&nbsp;MOE&quot;</td><td>&quot;ON&quot;</td><td>92.344379</td><td>42.05</td><td>-82.6667</td><td>&quot;TMAX&quot;</td><td>1968</td><td>2024</td></tr><tr><td>&quot;CA006135583&quot;</td><td>1957-01-01&nbsp;00:00:00&nbsp;UTC</td><td>2024-12-31&nbsp;00:00:00&nbsp;UTC</td><td>42.5167</td><td>-81.6333</td><td>198.0</td><td>&quot;NEW&nbsp;GLASGOW&quot;</td><td>&quot;ON&quot;</td><td>175.205988</td><td>42.5167</td><td>-81.6333</td><td>&quot;TMAX&quot;</td><td>1957</td><td>2024</td></tr><tr><td>&quot;CA006139520&quot;</td><td>1866-01-01&nbsp;00:00:00&nbsp;UTC</td><td>2024-12-31&nbsp;00:00:00&nbsp;UTC</td><td>42.3333</td><td>-82.9333</td><td>188.0</td><td>&quot;WINDSOR&nbsp;RIVERSIDE&quot;</td><td>&quot;ON&quot;</td><td>66.840043</td><td>42.3333</td><td>-82.9333</td><td>&quot;TMAX&quot;</td><td>1866</td><td>2024</td></tr><tr><td>&quot;CA006142285&quot;</td><td>1969-01-01&nbsp;00:00:00&nbsp;UTC</td><td>2024-12-31&nbsp;00:00:00&nbsp;UTC</td><td>43.65</td><td>-80.4167</td><td>376.0</td><td>&quot;ELORA&nbsp;RESEARCH&nbsp;STN&quot;</td><td>&quot;ON&quot;</td><td>310.503205</td><td>43.65</td><td>-80.4167</td><td>&quot;TMAX&quot;</td><td>1969</td><td>2024</td></tr><tr><td>&hellip;</td><td>&hellip;</td><td>&hellip;</td><td>&hellip;</td><td>&hellip;</td><td>&hellip;</td><td>&hellip;</td><td>&hellip;</td><td>&hellip;</td><td>&hellip;</td><td>&hellip;</td><td>&hellip;</td><td>&hellip;</td><td>&hellip;</td></tr><tr><td>&quot;USW00094830&quot;</td><td>1955-01-01&nbsp;00:00:00&nbsp;UTC</td><td>2024-12-31&nbsp;00:00:00&nbsp;UTC</td><td>41.5869</td><td>-83.8053</td><td>205.4</td><td>&quot;TOLEDO&nbsp;EXPRESS&nbsp;AP&quot;</td><td>&quot;OH&quot;</td><td>77.330062</td><td>41.5869</td><td>-83.8053</td><td>&quot;TMAX&quot;</td><td>1955</td><td>2024</td></tr><tr><td>&quot;USW00094847&quot;</td><td>1942-01-01&nbsp;00:00:00&nbsp;UTC</td><td>2024-12-31&nbsp;00:00:00&nbsp;UTC</td><td>42.2311</td><td>-83.3311</td><td>192.0</td><td>&quot;DETROIT&nbsp;METRO&nbsp;AP&quot;</td><td>&quot;MI&quot;</td><td>34.347144</td><td>42.2311</td><td>-83.3311</td><td>&quot;TMAX&quot;</td><td>1958</td><td>2024</td></tr><tr><td>&quot;USW00094849&quot;</td><td>1916-01-01&nbsp;00:00:00&nbsp;UTC</td><td>2024-12-31&nbsp;00:00:00&nbsp;UTC</td><td>45.0717</td><td>-83.5644</td><td>208.2</td><td>&quot;ALPENA&nbsp;CO&nbsp;RGNL&nbsp;AP&quot;</td><td>&quot;MI&quot;</td><td>310.665893</td><td>45.0717</td><td>-83.5644</td><td>&quot;TMAX&quot;</td><td>1916</td><td>2024</td></tr><tr><td>&quot;USW00094860&quot;</td><td>1963-01-01&nbsp;00:00:00&nbsp;UTC</td><td>2024-12-31&nbsp;00:00:00&nbsp;UTC</td><td>42.8939</td><td>-85.545</td><td>266.7</td><td>&quot;GRAND&nbsp;RAPIDS&quot;</td><td>&quot;MI&quot;</td><td>162.509843</td><td>42.8939</td><td>-85.545</td><td>&quot;TMAX&quot;</td><td>1963</td><td>2024</td></tr><tr><td>&quot;USW00094895&quot;</td><td>1962-01-01&nbsp;00:00:00&nbsp;UTC</td><td>2024-12-31&nbsp;00:00:00&nbsp;UTC</td><td>40.2344</td><td>-85.3936</td><td>285.3</td><td>&quot;MUNCIE&nbsp;DELAWARE&nbsp;CO&nbsp;AP&quot;</td><td>&quot;IN&quot;</td><td>266.098892</td><td>40.2344</td><td>-85.3936</td><td>&quot;TMAX&quot;</td><td>1962</td><td>2024</td></tr></tbody></table></div>"
      ],
      "text/plain": [
       "shape: (154, 14)\n",
       "┌────────────┬────────────┬────────────┬──────────┬───┬──────────┬──────────┬───────────┬──────────┐\n",
       "│ station_id ┆ start_date ┆ end_date   ┆ latitude ┆ … ┆ long     ┆ variable ┆ start_yea ┆ end_year │\n",
       "│ ---        ┆ ---        ┆ ---        ┆ ---      ┆   ┆ ---      ┆ ---      ┆ r         ┆ ---      │\n",
       "│ str        ┆ datetime[μ ┆ datetime[μ ┆ f64      ┆   ┆ f64      ┆ str      ┆ ---       ┆ i64      │\n",
       "│            ┆ s, UTC]    ┆ s, UTC]    ┆          ┆   ┆          ┆          ┆ i64       ┆          │\n",
       "╞════════════╪════════════╪════════════╪══════════╪═══╪══════════╪══════════╪═══════════╪══════════╡\n",
       "│ CA00612412 ┆ 1870-01-01 ┆ 2022-12-31 ┆ 44.1667  ┆ … ┆ -81.6167 ┆ TMAX     ┆ 1872      ┆ 2022     │\n",
       "│ 7          ┆ 00:00:00   ┆ 00:00:00   ┆          ┆   ┆          ┆          ┆           ┆          │\n",
       "│            ┆ UTC        ┆ UTC        ┆          ┆   ┆          ┆          ┆           ┆          │\n",
       "│ CA00613419 ┆ 1960-01-01 ┆ 2024-12-31 ┆ 42.05    ┆ … ┆ -82.6667 ┆ TMAX     ┆ 1968      ┆ 2024     │\n",
       "│ 0          ┆ 00:00:00   ┆ 00:00:00   ┆          ┆   ┆          ┆          ┆           ┆          │\n",
       "│            ┆ UTC        ┆ UTC        ┆          ┆   ┆          ┆          ┆           ┆          │\n",
       "│ CA00613558 ┆ 1957-01-01 ┆ 2024-12-31 ┆ 42.5167  ┆ … ┆ -81.6333 ┆ TMAX     ┆ 1957      ┆ 2024     │\n",
       "│ 3          ┆ 00:00:00   ┆ 00:00:00   ┆          ┆   ┆          ┆          ┆           ┆          │\n",
       "│            ┆ UTC        ┆ UTC        ┆          ┆   ┆          ┆          ┆           ┆          │\n",
       "│ CA00613952 ┆ 1866-01-01 ┆ 2024-12-31 ┆ 42.3333  ┆ … ┆ -82.9333 ┆ TMAX     ┆ 1866      ┆ 2024     │\n",
       "│ 0          ┆ 00:00:00   ┆ 00:00:00   ┆          ┆   ┆          ┆          ┆           ┆          │\n",
       "│            ┆ UTC        ┆ UTC        ┆          ┆   ┆          ┆          ┆           ┆          │\n",
       "│ CA00614228 ┆ 1969-01-01 ┆ 2024-12-31 ┆ 43.65    ┆ … ┆ -80.4167 ┆ TMAX     ┆ 1969      ┆ 2024     │\n",
       "│ 5          ┆ 00:00:00   ┆ 00:00:00   ┆          ┆   ┆          ┆          ┆           ┆          │\n",
       "│            ┆ UTC        ┆ UTC        ┆          ┆   ┆          ┆          ┆           ┆          │\n",
       "│ …          ┆ …          ┆ …          ┆ …        ┆ … ┆ …        ┆ …        ┆ …         ┆ …        │\n",
       "│ USW0009483 ┆ 1955-01-01 ┆ 2024-12-31 ┆ 41.5869  ┆ … ┆ -83.8053 ┆ TMAX     ┆ 1955      ┆ 2024     │\n",
       "│ 0          ┆ 00:00:00   ┆ 00:00:00   ┆          ┆   ┆          ┆          ┆           ┆          │\n",
       "│            ┆ UTC        ┆ UTC        ┆          ┆   ┆          ┆          ┆           ┆          │\n",
       "│ USW0009484 ┆ 1942-01-01 ┆ 2024-12-31 ┆ 42.2311  ┆ … ┆ -83.3311 ┆ TMAX     ┆ 1958      ┆ 2024     │\n",
       "│ 7          ┆ 00:00:00   ┆ 00:00:00   ┆          ┆   ┆          ┆          ┆           ┆          │\n",
       "│            ┆ UTC        ┆ UTC        ┆          ┆   ┆          ┆          ┆           ┆          │\n",
       "│ USW0009484 ┆ 1916-01-01 ┆ 2024-12-31 ┆ 45.0717  ┆ … ┆ -83.5644 ┆ TMAX     ┆ 1916      ┆ 2024     │\n",
       "│ 9          ┆ 00:00:00   ┆ 00:00:00   ┆          ┆   ┆          ┆          ┆           ┆          │\n",
       "│            ┆ UTC        ┆ UTC        ┆          ┆   ┆          ┆          ┆           ┆          │\n",
       "│ USW0009486 ┆ 1963-01-01 ┆ 2024-12-31 ┆ 42.8939  ┆ … ┆ -85.545  ┆ TMAX     ┆ 1963      ┆ 2024     │\n",
       "│ 0          ┆ 00:00:00   ┆ 00:00:00   ┆          ┆   ┆          ┆          ┆           ┆          │\n",
       "│            ┆ UTC        ┆ UTC        ┆          ┆   ┆          ┆          ┆           ┆          │\n",
       "│ USW0009489 ┆ 1962-01-01 ┆ 2024-12-31 ┆ 40.2344  ┆ … ┆ -85.3936 ┆ TMAX     ┆ 1962      ┆ 2024     │\n",
       "│ 5          ┆ 00:00:00   ┆ 00:00:00   ┆          ┆   ┆          ┆          ┆           ┆          │\n",
       "│            ┆ UTC        ┆ UTC        ┆          ┆   ┆          ┆          ┆           ┆          │\n",
       "└────────────┴────────────┴────────────┴──────────┴───┴──────────┴──────────┴───────────┴──────────┘"
      ]
     },
     "execution_count": 16,
     "metadata": {},
     "output_type": "execute_result"
    }
   ],
   "source": [
    "import polars as pl\n",
    "\n",
    "mucho_data = stations.df.join(\n",
    "    pl.from_pandas(\n",
    "        inv.query(\"variable == 'TMAX'\")), on=\"station_id\").filter(\n",
    "    pl.col(\"start_year\") < 1980, pl.col(\"end_year\") > 2020\n",
    ")\n",
    "\n",
    "mucho_data"
   ]
  },
  {
   "cell_type": "code",
   "execution_count": 181,
   "id": "7aef4fe3",
   "metadata": {
    "slideshow": {
     "slide_type": "slide"
    }
   },
   "outputs": [
    {
     "data": {
      "text/plain": [
       "1847"
      ]
     },
     "execution_count": 20,
     "metadata": {},
     "output_type": "execute_result"
    }
   ],
   "source": [
    "stations = mucho_data['station_id'].to_list()\n",
    "\n",
    "open(\"snakemake/stations.txt\", \"wt\").write(\"\\n\".join(stations))"
   ]
  },
  {
   "cell_type": "code",
   "execution_count": 184,
   "id": "21f45f45",
   "metadata": {
    "slideshow": {
     "slide_type": "slide"
    }
   },
   "outputs": [
    {
     "ename": "TypeError",
     "evalue": "'NoaaGhcnValues' object is not iterable",
     "output_type": "error",
     "traceback": [
      "\u001b[0;31m---------------------------------------------------------------------------\u001b[0m",
      "\u001b[0;31mTypeError\u001b[0m                                 Traceback (most recent call last)",
      "Cell \u001b[0;32mIn [25], line 8\u001b[0m\n\u001b[1;32m      1\u001b[0m request \u001b[38;5;241m=\u001b[39m NoaaGhcnRequest(\n\u001b[1;32m      2\u001b[0m         parameter\u001b[38;5;241m=\u001b[39m[\u001b[38;5;124m\"\u001b[39m\u001b[38;5;124mTMAX\u001b[39m\u001b[38;5;124m\"\u001b[39m],\n\u001b[1;32m      3\u001b[0m         resolution\u001b[38;5;241m=\u001b[39mNoaaGhcnParameter\u001b[38;5;241m.\u001b[39mDAILY,\n\u001b[1;32m      4\u001b[0m         start_date\u001b[38;5;241m=\u001b[39mdt\u001b[38;5;241m.\u001b[39mdatetime(\u001b[38;5;241m1980\u001b[39m, \u001b[38;5;241m1\u001b[39m, \u001b[38;5;241m1\u001b[39m),\n\u001b[1;32m      5\u001b[0m         end_date\u001b[38;5;241m=\u001b[39mdt\u001b[38;5;241m.\u001b[39mdatetime(\u001b[38;5;241m2021\u001b[39m, \u001b[38;5;241m1\u001b[39m, \u001b[38;5;241m20\u001b[39m)\n\u001b[1;32m      6\u001b[0m )\n\u001b[1;32m      7\u001b[0m stations \u001b[38;5;241m=\u001b[39m request\u001b[38;5;241m.\u001b[39mfilter_by_station_id(station_id\u001b[38;5;241m=\u001b[39m\u001b[38;5;124m'\u001b[39m\u001b[38;5;124mCA006124127\u001b[39m\u001b[38;5;124m'\u001b[39m)\n\u001b[0;32m----> 8\u001b[0m \u001b[38;5;28mlist\u001b[39m(stations\u001b[38;5;241m.\u001b[39mvalues)\n",
      "\u001b[0;31mTypeError\u001b[0m: 'NoaaGhcnValues' object is not iterable"
     ]
    }
   ],
   "source": [
    "request = NoaaGhcnRequest(\n",
    "        parameter=[\"TMAX\"],\n",
    "        resolution=NoaaGhcnParameter.DAILY,\n",
    "        start_date=dt.datetime(1980, 1, 1),\n",
    "        end_date=dt.datetime(2021, 1, 20)\n",
    ")\n",
    "stations = request.filter_by_station_id(station_id='CA006124127')\n",
    "list(stations.values)"
   ]
  },
  {
   "cell_type": "code",
   "execution_count": 188,
   "id": "56601d00",
   "metadata": {
    "slideshow": {
     "slide_type": "slide"
    }
   },
   "outputs": [
    {
     "name": "stderr",
     "output_type": "stream",
     "text": [
      "/var/folders/b1/jjpl1p_53jxggrgr9nn841nm0000gn/T/ipykernel_63076/899351193.py:4: UserWarning: Converting to PeriodArray/Index representation will drop timezone information.\n",
      "  df[\"date\"] = df[\"date\"].dt.to_period(\"M\")\n"
     ]
    },
    {
     "data": {
      "text/plain": [
       "<AxesSubplot: xlabel='date'>"
      ]
     },
     "execution_count": 46,
     "metadata": {},
     "output_type": "execute_result"
    },
    {
     "data": {
      "image/png": "[encoded data removed]",
      "text/plain": [
       "<Figure size 640x480 with 1 Axes>"
      ]
     },
     "metadata": {},
     "output_type": "display_data"
    }
   ],
   "source": [
    "#  res = next(stations.values.query())\n",
    "df = res.df.to_pandas()\n",
    "\n",
    "df[\"date\"] = df[\"date\"].dt.to_period(\"M\")\n",
    "series = df.groupby(['date']).agg(dict(value=\"mean\"))[\"value\"] / 10.\n",
    "series = series * 1.8 + 32\n",
    "series.rolling(window=48).mean().plot()"
   ]
  },
  {
   "cell_type": "markdown",
   "id": "f46ba0d1",
   "metadata": {
    "slideshow": {
     "slide_type": "slide"
    }
   },
   "source": [
    "## Examining data"
   ]
  },
  {
   "cell_type": "code",
   "execution_count": 52,
   "id": "cb775a71",
   "metadata": {},
   "outputs": [
    {
     "name": "stdout",
     "output_type": "stream",
     "text": [
      "/Users/terhorst/University of Michigan Dropbox/Jonathan Terhorst/Teaching/STATS/607/repo/lectures/week5\r\n"
     ]
    },
    {
     "name": "stderr",
     "output_type": "stream",
     "text": [
      "/Library/Developer/CommandLineTools/Library/Frameworks/Python3.framework/Versions/3.9/lib/python3.9/pty.py:85: RuntimeWarning: Using fork() can cause Polars to deadlock in the child process.\n",
      "In addition, using fork() with Python in general is a recipe for mysterious\n",
      "deadlocks and crashes.\n",
      "\n",
      "The most likely reason you are seeing this error is because you are using the\n",
      "multiprocessing module on Linux, which uses fork() by default. This will be\n",
      "fixed in Python 3.14. Until then, you want to use the \"spawn\" context instead.\n",
      "\n",
      "See https://docs.pola.rs/user-guide/misc/multiprocessing/ for details.\n",
      "\n",
      "  pid, fd = os.forkpty()\n"
     ]
    }
   ],
   "source": [
    "!pwd"
   ]
  },
  {
   "cell_type": "code",
   "execution_count": 53,
   "id": "41352bf2",
   "metadata": {},
   "outputs": [
    {
     "ename": "ModuleNotFoundError",
     "evalue": "No module named 'numpy._core'",
     "output_type": "error",
     "traceback": [
      "\u001b[0;31m---------------------------------------------------------------------------\u001b[0m",
      "\u001b[0;31mModuleNotFoundError\u001b[0m                       Traceback (most recent call last)",
      "File \u001b[0;32m~/opt/py39/lib/python3.9/site-packages/pandas/io/pickle.py:208\u001b[0m, in \u001b[0;36mread_pickle\u001b[0;34m(filepath_or_buffer, compression, storage_options)\u001b[0m\n\u001b[1;32m    207\u001b[0m         warnings\u001b[38;5;241m.\u001b[39msimplefilter(\u001b[38;5;124m\"\u001b[39m\u001b[38;5;124mignore\u001b[39m\u001b[38;5;124m\"\u001b[39m, \u001b[38;5;167;01mWarning\u001b[39;00m)\n\u001b[0;32m--> 208\u001b[0m         \u001b[38;5;28;01mreturn\u001b[39;00m \u001b[43mpickle\u001b[49m\u001b[38;5;241;43m.\u001b[39;49m\u001b[43mload\u001b[49m\u001b[43m(\u001b[49m\u001b[43mhandles\u001b[49m\u001b[38;5;241;43m.\u001b[39;49m\u001b[43mhandle\u001b[49m\u001b[43m)\u001b[49m\n\u001b[1;32m    209\u001b[0m \u001b[38;5;28;01mexcept\u001b[39;00m excs_to_catch:\n\u001b[1;32m    210\u001b[0m     \u001b[38;5;66;03m# e.g.\u001b[39;00m\n\u001b[1;32m    211\u001b[0m     \u001b[38;5;66;03m#  \"No module named 'pandas.core.sparse.series'\"\u001b[39;00m\n\u001b[1;32m    212\u001b[0m     \u001b[38;5;66;03m#  \"Can't get attribute '__nat_unpickle' on <module 'pandas._libs.tslib\"\u001b[39;00m\n",
      "\u001b[0;31mModuleNotFoundError\u001b[0m: No module named 'numpy._core'",
      "\nDuring handling of the above exception, another exception occurred:\n",
      "\u001b[0;31mModuleNotFoundError\u001b[0m                       Traceback (most recent call last)",
      "Cell \u001b[0;32mIn [53], line 1\u001b[0m\n\u001b[0;32m----> 1\u001b[0m full_df \u001b[38;5;241m=\u001b[39m pd\u001b[38;5;241m.\u001b[39mread_pickle(\u001b[38;5;124m\"\u001b[39m\u001b[38;5;124msnakemake/data/combined.pkl\u001b[39m\u001b[38;5;124m\"\u001b[39m)\n",
      "File \u001b[0;32m~/opt/py39/lib/python3.9/site-packages/pandas/io/pickle.py:213\u001b[0m, in \u001b[0;36mread_pickle\u001b[0;34m(filepath_or_buffer, compression, storage_options)\u001b[0m\n\u001b[1;32m    208\u001b[0m             \u001b[38;5;28;01mreturn\u001b[39;00m pickle\u001b[38;5;241m.\u001b[39mload(handles\u001b[38;5;241m.\u001b[39mhandle)\n\u001b[1;32m    209\u001b[0m     \u001b[38;5;28;01mexcept\u001b[39;00m excs_to_catch:\n\u001b[1;32m    210\u001b[0m         \u001b[38;5;66;03m# e.g.\u001b[39;00m\n\u001b[1;32m    211\u001b[0m         \u001b[38;5;66;03m#  \"No module named 'pandas.core.sparse.series'\"\u001b[39;00m\n\u001b[1;32m    212\u001b[0m         \u001b[38;5;66;03m#  \"Can't get attribute '__nat_unpickle' on <module 'pandas._libs.tslib\"\u001b[39;00m\n\u001b[0;32m--> 213\u001b[0m         \u001b[38;5;28;01mreturn\u001b[39;00m \u001b[43mpc\u001b[49m\u001b[38;5;241;43m.\u001b[39;49m\u001b[43mload\u001b[49m\u001b[43m(\u001b[49m\u001b[43mhandles\u001b[49m\u001b[38;5;241;43m.\u001b[39;49m\u001b[43mhandle\u001b[49m\u001b[43m,\u001b[49m\u001b[43m \u001b[49m\u001b[43mencoding\u001b[49m\u001b[38;5;241;43m=\u001b[39;49m\u001b[38;5;28;43;01mNone\u001b[39;49;00m\u001b[43m)\u001b[49m\n\u001b[1;32m    214\u001b[0m \u001b[38;5;28;01mexcept\u001b[39;00m \u001b[38;5;167;01mUnicodeDecodeError\u001b[39;00m:\n\u001b[1;32m    215\u001b[0m     \u001b[38;5;66;03m# e.g. can occur for files written in py27; see GH#28645 and GH#31988\u001b[39;00m\n\u001b[1;32m    216\u001b[0m     \u001b[38;5;28;01mreturn\u001b[39;00m pc\u001b[38;5;241m.\u001b[39mload(handles\u001b[38;5;241m.\u001b[39mhandle, encoding\u001b[38;5;241m=\u001b[39m\u001b[38;5;124m\"\u001b[39m\u001b[38;5;124mlatin-1\u001b[39m\u001b[38;5;124m\"\u001b[39m)\n",
      "File \u001b[0;32m~/opt/py39/lib/python3.9/site-packages/pandas/compat/pickle_compat.py:275\u001b[0m, in \u001b[0;36mload\u001b[0;34m(fh, encoding, is_verbose)\u001b[0m\n\u001b[1;32m    272\u001b[0m     \u001b[38;5;66;03m# \"Unpickler\" has no attribute \"is_verbose\"  [attr-defined]\u001b[39;00m\n\u001b[1;32m    273\u001b[0m     up\u001b[38;5;241m.\u001b[39mis_verbose \u001b[38;5;241m=\u001b[39m is_verbose  \u001b[38;5;66;03m# type: ignore[attr-defined]\u001b[39;00m\n\u001b[0;32m--> 275\u001b[0m     \u001b[38;5;28;01mreturn\u001b[39;00m \u001b[43mup\u001b[49m\u001b[38;5;241;43m.\u001b[39;49m\u001b[43mload\u001b[49m\u001b[43m(\u001b[49m\u001b[43m)\u001b[49m\n\u001b[1;32m    276\u001b[0m \u001b[38;5;28;01mexcept\u001b[39;00m (\u001b[38;5;167;01mValueError\u001b[39;00m, \u001b[38;5;167;01mTypeError\u001b[39;00m):\n\u001b[1;32m    277\u001b[0m     \u001b[38;5;28;01mraise\u001b[39;00m\n",
      "File \u001b[0;32m/Library/Developer/CommandLineTools/Library/Frameworks/Python3.framework/Versions/3.9/lib/python3.9/pickle.py:1212\u001b[0m, in \u001b[0;36m_Unpickler.load\u001b[0;34m(self)\u001b[0m\n\u001b[1;32m   1210\u001b[0m             \u001b[38;5;28;01mraise\u001b[39;00m \u001b[38;5;167;01mEOFError\u001b[39;00m\n\u001b[1;32m   1211\u001b[0m         \u001b[38;5;28;01massert\u001b[39;00m \u001b[38;5;28misinstance\u001b[39m(key, bytes_types)\n\u001b[0;32m-> 1212\u001b[0m         \u001b[43mdispatch\u001b[49m\u001b[43m[\u001b[49m\u001b[43mkey\u001b[49m\u001b[43m[\u001b[49m\u001b[38;5;241;43m0\u001b[39;49m\u001b[43m]\u001b[49m\u001b[43m]\u001b[49m\u001b[43m(\u001b[49m\u001b[38;5;28;43mself\u001b[39;49m\u001b[43m)\u001b[49m\n\u001b[1;32m   1213\u001b[0m \u001b[38;5;28;01mexcept\u001b[39;00m _Stop \u001b[38;5;28;01mas\u001b[39;00m stopinst:\n\u001b[1;32m   1214\u001b[0m     \u001b[38;5;28;01mreturn\u001b[39;00m stopinst\u001b[38;5;241m.\u001b[39mvalue\n",
      "File \u001b[0;32m/Library/Developer/CommandLineTools/Library/Frameworks/Python3.framework/Versions/3.9/lib/python3.9/pickle.py:1537\u001b[0m, in \u001b[0;36m_Unpickler.load_stack_global\u001b[0;34m(self)\u001b[0m\n\u001b[1;32m   1535\u001b[0m \u001b[38;5;28;01mif\u001b[39;00m \u001b[38;5;28mtype\u001b[39m(name) \u001b[38;5;129;01mis\u001b[39;00m \u001b[38;5;129;01mnot\u001b[39;00m \u001b[38;5;28mstr\u001b[39m \u001b[38;5;129;01mor\u001b[39;00m \u001b[38;5;28mtype\u001b[39m(module) \u001b[38;5;129;01mis\u001b[39;00m \u001b[38;5;129;01mnot\u001b[39;00m \u001b[38;5;28mstr\u001b[39m:\n\u001b[1;32m   1536\u001b[0m     \u001b[38;5;28;01mraise\u001b[39;00m UnpicklingError(\u001b[38;5;124m\"\u001b[39m\u001b[38;5;124mSTACK_GLOBAL requires str\u001b[39m\u001b[38;5;124m\"\u001b[39m)\n\u001b[0;32m-> 1537\u001b[0m \u001b[38;5;28mself\u001b[39m\u001b[38;5;241m.\u001b[39mappend(\u001b[38;5;28;43mself\u001b[39;49m\u001b[38;5;241;43m.\u001b[39;49m\u001b[43mfind_class\u001b[49m\u001b[43m(\u001b[49m\u001b[43mmodule\u001b[49m\u001b[43m,\u001b[49m\u001b[43m \u001b[49m\u001b[43mname\u001b[49m\u001b[43m)\u001b[49m)\n",
      "File \u001b[0;32m~/opt/py39/lib/python3.9/site-packages/pandas/compat/pickle_compat.py:206\u001b[0m, in \u001b[0;36mUnpickler.find_class\u001b[0;34m(self, module, name)\u001b[0m\n\u001b[1;32m    204\u001b[0m key \u001b[38;5;241m=\u001b[39m (module, name)\n\u001b[1;32m    205\u001b[0m module, name \u001b[38;5;241m=\u001b[39m _class_locations_map\u001b[38;5;241m.\u001b[39mget(key, key)\n\u001b[0;32m--> 206\u001b[0m \u001b[38;5;28;01mreturn\u001b[39;00m \u001b[38;5;28;43msuper\u001b[39;49m\u001b[43m(\u001b[49m\u001b[43m)\u001b[49m\u001b[38;5;241;43m.\u001b[39;49m\u001b[43mfind_class\u001b[49m\u001b[43m(\u001b[49m\u001b[43mmodule\u001b[49m\u001b[43m,\u001b[49m\u001b[43m \u001b[49m\u001b[43mname\u001b[49m\u001b[43m)\u001b[49m\n",
      "File \u001b[0;32m/Library/Developer/CommandLineTools/Library/Frameworks/Python3.framework/Versions/3.9/lib/python3.9/pickle.py:1579\u001b[0m, in \u001b[0;36m_Unpickler.find_class\u001b[0;34m(self, module, name)\u001b[0m\n\u001b[1;32m   1577\u001b[0m     \u001b[38;5;28;01melif\u001b[39;00m module \u001b[38;5;129;01min\u001b[39;00m _compat_pickle\u001b[38;5;241m.\u001b[39mIMPORT_MAPPING:\n\u001b[1;32m   1578\u001b[0m         module \u001b[38;5;241m=\u001b[39m _compat_pickle\u001b[38;5;241m.\u001b[39mIMPORT_MAPPING[module]\n\u001b[0;32m-> 1579\u001b[0m \u001b[38;5;28;43m__import__\u001b[39;49m\u001b[43m(\u001b[49m\u001b[43mmodule\u001b[49m\u001b[43m,\u001b[49m\u001b[43m \u001b[49m\u001b[43mlevel\u001b[49m\u001b[38;5;241;43m=\u001b[39;49m\u001b[38;5;241;43m0\u001b[39;49m\u001b[43m)\u001b[49m\n\u001b[1;32m   1580\u001b[0m \u001b[38;5;28;01mif\u001b[39;00m \u001b[38;5;28mself\u001b[39m\u001b[38;5;241m.\u001b[39mproto \u001b[38;5;241m>\u001b[39m\u001b[38;5;241m=\u001b[39m \u001b[38;5;241m4\u001b[39m:\n\u001b[1;32m   1581\u001b[0m     \u001b[38;5;28;01mreturn\u001b[39;00m _getattribute(sys\u001b[38;5;241m.\u001b[39mmodules[module], name)[\u001b[38;5;241m0\u001b[39m]\n",
      "\u001b[0;31mModuleNotFoundError\u001b[0m: No module named 'numpy._core'"
     ]
    }
   ],
   "source": [
    "full_df = pd.read_pickle(\"snakemake/data/combined.pkl\")"
   ]
  },
  {
   "cell_type": "code",
   "execution_count": 12,
   "id": "38a1c123",
   "metadata": {},
   "outputs": [
    {
     "data": {
      "text/plain": [
       "date\n",
       "1980-01    27.319722\n",
       "1980-02    27.177919\n",
       "1980-03    27.789281\n",
       "1980-04    28.644142\n",
       "1980-05    29.497214\n",
       "             ...    \n",
       "2020-09    29.631766\n",
       "2020-10    28.858261\n",
       "2020-11    28.563164\n",
       "2020-12    27.662055\n",
       "2021-01    27.510219\n",
       "Freq: M, Name: value, Length: 493, dtype: float64"
      ]
     },
     "execution_count": 12,
     "metadata": {},
     "output_type": "execute_result"
    }
   ],
   "source": [
    "df.groupby(\"date\")[\"value\"].mean() / 10"
   ]
  },
  {
   "cell_type": "code",
   "execution_count": 15,
   "id": "9e4f6332",
   "metadata": {},
   "outputs": [],
   "source": [
    "series = df.groupby(\"date\")[\"value\"].mean() / 10"
   ]
  },
  {
   "cell_type": "code",
   "execution_count": 21,
   "id": "80d35ee4",
   "metadata": {},
   "outputs": [
    {
     "data": {
      "text/plain": [
       "<Axes: xlabel='date'>"
      ]
     },
     "execution_count": 21,
     "metadata": {},
     "output_type": "execute_result"
    },
    {
     "data": {
      "image/png": "[encoded data removed]",
      "text/plain": [
       "<Figure size 640x480 with 1 Axes>"
      ]
     },
     "metadata": {},
     "output_type": "display_data"
    }
   ],
   "source": [
    "series.rolling(window=120).mean().plot()"
   ]
  },
  {
   "cell_type": "markdown",
   "id": "0e65ae0e",
   "metadata": {
    "slideshow": {
     "slide_type": "slide"
    }
   },
   "source": [
    "## Hierarchical model\n",
    "\n",
    "For each station $i$, observed temperature $y_{it}$ at time $t$ is modeled as:\n",
    "$$\n",
    "y_{it} = \\beta_{i,0} + \\beta_{i,1} t + \\epsilon_{it}, \\quad \\epsilon_{it} \\sim \\mathcal{N}(0, \\sigma_i^2)\n",
    "$$\n",
    "where:\n",
    "- $\\beta_{i,0}$: Station-specific intercept,\n",
    "-  $\\beta_{i,1}$: Station-specific trend (slope),\n",
    "- $\\sigma_i^2$: Station-specific variance.\n",
    "\n"
   ]
  },
  {
   "cell_type": "markdown",
   "id": "d540760b",
   "metadata": {
    "slideshow": {
     "slide_type": "slide"
    }
   },
   "source": [
    "Priors for station-level parameters:\n",
    "\n",
    "$$\n",
    "\\begin{align}\n",
    "\\beta_{i,1} & \\sim \\mathcal{N}(\\mu_{\\text{region}}, \\tau^2) \\\\\n",
    "\\beta_{i,0} & \\sim \\mathcal{N}(0, 10^2)  \\\\\n",
    "\\sigma_i &\\sim \\text{Half-Cauchy}(0, 5)\n",
    "\\end{align}\n",
    "$$"
   ]
  },
  {
   "cell_type": "markdown",
   "id": "d5381d31",
   "metadata": {
    "slideshow": {
     "slide_type": "slide"
    }
   },
   "source": [
    "## Regional means\n",
    "We will borrow strength across different stations by imposing region-level correlations:\n",
    "\n",
    "$$\n",
    "\\mu_{\\text{region}} \\sim \\mathcal{N}(\\mu_{\\text{global}}, \\sigma_{\\text{region}}^2)\n",
    "$$\n",
    "where:\n",
    "-  $\\mu_{\\text{region}}$: Mean trend for the region,\n",
    "- $\\sigma_{\\text{region}}^2$: Variance in trends across regions.\n"
   ]
  },
  {
   "cell_type": "markdown",
   "id": "c44302de",
   "metadata": {
    "slideshow": {
     "slide_type": "slide"
    }
   },
   "source": [
    "## Global mean\n",
    "The global trend is modeled as:\n",
    "$$\n",
    "\\begin{align}\n",
    "\\mu_{\\text{global}} &\\sim \\mathcal{N}(0, 10^2) \\\\\n",
    "\\sigma_{\\text{region}} &\\sim \\text{Half-Cauchy}(0, 5)\n",
    "\\end{align}\n",
    "$$\n"
   ]
  },
  {
   "cell_type": "markdown",
   "id": "4eeca1ce",
   "metadata": {
    "slideshow": {
     "slide_type": "slide"
    }
   },
   "source": [
    "## Full model\n",
    "\n",
    "\n",
    "\n",
    "$$\n",
    "\\begin{align}\n",
    "y_{it} &\\sim \\mathcal{N}(\\beta_{i,0} + \\beta_{i,1} t, \\sigma_i^2) \\\\\n",
    "\\beta_{i,1} &\\sim \\mathcal{N}(\\mu_{\\text{region}}, \\tau^2) \\\\\n",
    "\\mu_{\\text{region}} &\\sim \\mathcal{N}(\\mu_{\\text{global}}, \\sigma_{\\text{region}}^2) \\\\\n",
    "\\mu_{\\text{global}} &\\sim \\mathcal{N}(0, 10^2) \\\\\n",
    "\\sigma_i, \\sigma_{\\text{region}}, \\tau &\\sim \\text{Half-Cauchy}(0, 5)\n",
    "\\end{align}\n",
    "$$\n"
   ]
  },
  {
   "cell_type": "code",
   "execution_count": 64,
   "id": "cb361571",
   "metadata": {
    "slideshow": {
     "slide_type": "slide"
    }
   },
   "outputs": [],
   "source": [
    "import numpyro\n",
    "import numpyro.distributions as dist\n",
    "\n",
    "def hierarchical_model(year, temperature, station_idx, n_stations):\n",
    "    # Global-level parameters\n",
    "    mu_global = numpyro.sample(\"mu_global\", dist.Normal(0, 10))\n",
    "    sigma_region = numpyro.sample(\"sigma_region\", dist.HalfCauchy(5))\n",
    "    \n",
    "    # Region-level trend (for simplicity, modeled as a single region)\n",
    "    mu_region = numpyro.sample(\"mu_region\", dist.Normal(mu_global, sigma_region))\n",
    "    \n",
    "    # Station-level parameters\n",
    "    tau_station = numpyro.sample(\"tau_station\", dist.HalfCauchy(5))\n",
    "    beta_1_station = numpyro.sample(\"beta_1_station\", dist.Normal(mu_region, tau_station).expand([n_stations]))\n",
    "    beta_0_station = numpyro.sample(\"beta_0_station\", dist.Normal(0, 10).expand([n_stations]))\n",
    "    sigma_station = numpyro.sample(\"sigma_station\", dist.HalfCauchy(5).expand([n_stations]))\n",
    "    \n",
    "    # Observation model\n",
    "    temperature_hat = beta_0_station[station_idx] + beta_1_station[station_idx] * year\n",
    "    numpyro.sample(\"obs\", dist.Normal(temperature_hat, sigma_station[station_idx]), obs=temperature)"
   ]
  },
  {
   "cell_type": "code",
   "execution_count": 54,
   "id": "5fac66c2",
   "metadata": {},
   "outputs": [],
   "source": [
    "summary_df = df.groupby([\"station_id\", \"date\"]).agg({'value': 'mean'}).reset_index().dropna()"
   ]
  },
  {
   "cell_type": "code",
   "execution_count": 48,
   "id": "3e0f723b",
   "metadata": {},
   "outputs": [
    {
     "data": {
      "text/html": [
       "<div>\n",
       "<style scoped>\n",
       "    .dataframe tbody tr th:only-of-type {\n",
       "        vertical-align: middle;\n",
       "    }\n",
       "\n",
       "    .dataframe tbody tr th {\n",
       "        vertical-align: top;\n",
       "    }\n",
       "\n",
       "    .dataframe thead th {\n",
       "        text-align: right;\n",
       "    }\n",
       "</style>\n",
       "<table border=\"1\" class=\"dataframe\">\n",
       "  <thead>\n",
       "    <tr style=\"text-align: right;\">\n",
       "      <th></th>\n",
       "      <th>station_id</th>\n",
       "      <th>dataset</th>\n",
       "      <th>parameter</th>\n",
       "      <th>date</th>\n",
       "      <th>value</th>\n",
       "      <th>quality</th>\n",
       "    </tr>\n",
       "  </thead>\n",
       "  <tbody>\n",
       "    <tr>\n",
       "      <th>0</th>\n",
       "      <td>CA006124127</td>\n",
       "      <td>daily</td>\n",
       "      <td>temperature_air_max_2m</td>\n",
       "      <td>1980-01</td>\n",
       "      <td>NaN</td>\n",
       "      <td>NaN</td>\n",
       "    </tr>\n",
       "    <tr>\n",
       "      <th>1</th>\n",
       "      <td>CA006124127</td>\n",
       "      <td>daily</td>\n",
       "      <td>temperature_air_max_2m</td>\n",
       "      <td>1980-01</td>\n",
       "      <td>NaN</td>\n",
       "      <td>NaN</td>\n",
       "    </tr>\n",
       "    <tr>\n",
       "      <th>2</th>\n",
       "      <td>CA006124127</td>\n",
       "      <td>daily</td>\n",
       "      <td>temperature_air_max_2m</td>\n",
       "      <td>1980-01</td>\n",
       "      <td>NaN</td>\n",
       "      <td>NaN</td>\n",
       "    </tr>\n",
       "    <tr>\n",
       "      <th>3</th>\n",
       "      <td>CA006124127</td>\n",
       "      <td>daily</td>\n",
       "      <td>temperature_air_max_2m</td>\n",
       "      <td>1980-01</td>\n",
       "      <td>NaN</td>\n",
       "      <td>NaN</td>\n",
       "    </tr>\n",
       "    <tr>\n",
       "      <th>4</th>\n",
       "      <td>CA006124127</td>\n",
       "      <td>daily</td>\n",
       "      <td>temperature_air_max_2m</td>\n",
       "      <td>1980-01</td>\n",
       "      <td>NaN</td>\n",
       "      <td>NaN</td>\n",
       "    </tr>\n",
       "    <tr>\n",
       "      <th>...</th>\n",
       "      <td>...</td>\n",
       "      <td>...</td>\n",
       "      <td>...</td>\n",
       "      <td>...</td>\n",
       "      <td>...</td>\n",
       "      <td>...</td>\n",
       "    </tr>\n",
       "    <tr>\n",
       "      <th>14990</th>\n",
       "      <td>CA006124127</td>\n",
       "      <td>daily</td>\n",
       "      <td>temperature_air_max_2m</td>\n",
       "      <td>2021-01</td>\n",
       "      <td>277.15</td>\n",
       "      <td>NaN</td>\n",
       "    </tr>\n",
       "    <tr>\n",
       "      <th>14991</th>\n",
       "      <td>CA006124127</td>\n",
       "      <td>daily</td>\n",
       "      <td>temperature_air_max_2m</td>\n",
       "      <td>2021-01</td>\n",
       "      <td>NaN</td>\n",
       "      <td>NaN</td>\n",
       "    </tr>\n",
       "    <tr>\n",
       "      <th>14992</th>\n",
       "      <td>CA006124127</td>\n",
       "      <td>daily</td>\n",
       "      <td>temperature_air_max_2m</td>\n",
       "      <td>2021-01</td>\n",
       "      <td>275.65</td>\n",
       "      <td>NaN</td>\n",
       "    </tr>\n",
       "    <tr>\n",
       "      <th>14993</th>\n",
       "      <td>CA006124127</td>\n",
       "      <td>daily</td>\n",
       "      <td>temperature_air_max_2m</td>\n",
       "      <td>2021-01</td>\n",
       "      <td>273.15</td>\n",
       "      <td>NaN</td>\n",
       "    </tr>\n",
       "    <tr>\n",
       "      <th>14994</th>\n",
       "      <td>CA006124127</td>\n",
       "      <td>daily</td>\n",
       "      <td>temperature_air_max_2m</td>\n",
       "      <td>2021-01</td>\n",
       "      <td>NaN</td>\n",
       "      <td>NaN</td>\n",
       "    </tr>\n",
       "  </tbody>\n",
       "</table>\n",
       "<p>14995 rows × 6 columns</p>\n",
       "</div>"
      ],
      "text/plain": [
       "        station_id dataset               parameter     date   value  quality\n",
       "0      CA006124127   daily  temperature_air_max_2m  1980-01     NaN      NaN\n",
       "1      CA006124127   daily  temperature_air_max_2m  1980-01     NaN      NaN\n",
       "2      CA006124127   daily  temperature_air_max_2m  1980-01     NaN      NaN\n",
       "3      CA006124127   daily  temperature_air_max_2m  1980-01     NaN      NaN\n",
       "4      CA006124127   daily  temperature_air_max_2m  1980-01     NaN      NaN\n",
       "...            ...     ...                     ...      ...     ...      ...\n",
       "14990  CA006124127   daily  temperature_air_max_2m  2021-01  277.15      NaN\n",
       "14991  CA006124127   daily  temperature_air_max_2m  2021-01     NaN      NaN\n",
       "14992  CA006124127   daily  temperature_air_max_2m  2021-01  275.65      NaN\n",
       "14993  CA006124127   daily  temperature_air_max_2m  2021-01  273.15      NaN\n",
       "14994  CA006124127   daily  temperature_air_max_2m  2021-01     NaN      NaN\n",
       "\n",
       "[14995 rows x 6 columns]"
      ]
     },
     "execution_count": 48,
     "metadata": {},
     "output_type": "execute_result"
    }
   ],
   "source": [
    "df"
   ]
  },
  {
   "cell_type": "code",
   "execution_count": 83,
   "id": "b5a6bfd0-bfd1-4f49-bb69-51365e0b8c2a",
   "metadata": {},
   "outputs": [],
   "source": [
    "y = summary_df['value'].values\n",
    "t = summary_df['date'].astype('int').values"
   ]
  },
  {
   "cell_type": "code",
   "execution_count": 84,
   "id": "34fdad70-a428-4949-9bc5-2df281cf80a6",
   "metadata": {},
   "outputs": [],
   "source": [
    "# Encode station IDs as integers\n",
    "stations = summary_df['station_id'].unique()\n",
    "station_idx = {s: i for i, s in enumerate(stations)}\n",
    "summary_df['station_idx'] = summary_df['station_id'].map(station_idx)\n",
    "station_idx = summary_df['station_idx'].values"
   ]
  },
  {
   "cell_type": "code",
   "execution_count": 85,
   "id": "6887eb7b-c4a5-446c-9df9-32d807ee7f2f",
   "metadata": {},
   "outputs": [],
   "source": [
    "n_stations = len(stations)"
   ]
  },
  {
   "cell_type": "code",
   "execution_count": null,
   "id": "3a116e1a-d485-40dc-bc4f-cad27d022b08",
   "metadata": {},
   "outputs": [],
   "source": [
    "from numpyro.infer import MCMC, NUTS, Predictive\n",
    "\n",
    "nuts_kernel = NUTS(hierarchical_model)\n",
    "mcmc = MCMC(nuts_kernel, num_warmup=1000, num_samples=1000)\n",
    "\n",
    "# Random number seed\n",
    "import jax\n",
    "\n",
    "rng_key = jax.random.PRNGKey(0)\n",
    "\n",
    "# Run MCMC\n",
    "mcmc.run(rng_key, year=t, temperature=y, station_idx=station_idx, n_stations=n_stations)\n",
    "\n",
    "# Extract samples\n",
    "posterior_samples = mcmc.get_samples()"
   ]
  },
  {
   "cell_type": "code",
   "execution_count": 1,
   "id": "77bc298c-f469-409c-a802-e1a7f89c3033",
   "metadata": {},
   "outputs": [
    {
     "ename": "NameError",
     "evalue": "name 'numpyro' is not defined",
     "output_type": "error",
     "traceback": [
      "\u001b[0;31m---------------------------------------------------------------------------\u001b[0m",
      "\u001b[0;31mNameError\u001b[0m                                 Traceback (most recent call last)",
      "Cell \u001b[0;32mIn[1], line 4\u001b[0m\n\u001b[1;32m      1\u001b[0m \u001b[38;5;28;01mfrom\u001b[39;00m \u001b[38;5;21;01mnumpyro\u001b[39;00m\u001b[38;5;21;01m.\u001b[39;00m\u001b[38;5;21;01minfer\u001b[39;00m \u001b[38;5;28;01mimport\u001b[39;00m SVI, Trace_ELBO\n\u001b[1;32m      3\u001b[0m \u001b[38;5;66;03m# Define the guide\u001b[39;00m\n\u001b[0;32m----> 4\u001b[0m guide \u001b[38;5;241m=\u001b[39m \u001b[43mnumpyro\u001b[49m\u001b[38;5;241m.\u001b[39minfer\u001b[38;5;241m.\u001b[39mautoguide\u001b[38;5;241m.\u001b[39mAutoNormal(hierarchical_model)\n",
      "\u001b[0;31mNameError\u001b[0m: name 'numpyro' is not defined"
     ]
    }
   ],
   "source": [
    "from numpyro.infer import SVI, Trace_ELBO\n",
    "\n",
    "# Define the guide\n",
    "guide = numpyro.infer.autoguide.AutoNormal(hierarchical_model)"
   ]
  },
  {
   "cell_type": "code",
   "execution_count": 99,
   "id": "b3a1e9f2-73e0-4bc8-8ef3-5e2d94de4af3",
   "metadata": {},
   "outputs": [
    {
     "name": "stdout",
     "output_type": "stream",
     "text": [
      "Requirement already satisfied: optax in /home/terhorst/opt/jax_gpu/lib/python3.10/site-packages (0.2.2)\n",
      "Requirement already satisfied: chex>=0.1.86 in /home/terhorst/opt/jax_gpu/lib/python3.10/site-packages (from optax) (0.1.86)\n",
      "Requirement already satisfied: numpy>=1.18.0 in /home/terhorst/opt/jax_gpu/lib/python3.10/site-packages (from optax) (2.1.3)\n",
      "Requirement already satisfied: jaxlib>=0.1.37 in /home/terhorst/opt/jax_gpu/lib/python3.10/site-packages (from optax) (0.4.35)\n",
      "Requirement already satisfied: absl-py>=0.7.1 in /home/terhorst/opt/jax_gpu/lib/python3.10/site-packages (from optax) (2.1.0)\n",
      "Requirement already satisfied: jax>=0.1.55 in /home/terhorst/opt/jax_gpu/lib/python3.10/site-packages (from optax) (0.4.35)\n",
      "Requirement already satisfied: toolz>=0.9.0 in /home/terhorst/opt/jax_gpu/lib/python3.10/site-packages (from chex>=0.1.86->optax) (0.12.1)\n",
      "Requirement already satisfied: typing-extensions>=4.2.0 in /home/terhorst/opt/jax_gpu/lib/python3.10/site-packages (from chex>=0.1.86->optax) (4.12.2)\n",
      "Requirement already satisfied: opt-einsum in /home/terhorst/opt/jax_gpu/lib/python3.10/site-packages (from jax>=0.1.55->optax) (3.3.0)\n",
      "Requirement already satisfied: ml-dtypes>=0.4.0 in /home/terhorst/opt/jax_gpu/lib/python3.10/site-packages (from jax>=0.1.55->optax) (0.4.0)\n",
      "Requirement already satisfied: scipy>=1.10 in /home/terhorst/opt/jax_gpu/lib/python3.10/site-packages (from jax>=0.1.55->optax) (1.14.1)\n"
     ]
    }
   ],
   "source": []
  }
 ],
 "metadata": {
  "celltoolbar": "Slideshow",
  "kernelspec": {
   "display_name": "Python 3 (ipykernel)",
   "language": "python",
   "name": "python3"
  },
  "language_info": {
   "codemirror_mode": {
    "name": "ipython",
    "version": 3
   },
   "file_extension": ".py",
   "mimetype": "text/x-python",
   "name": "python",
   "nbconvert_exporter": "python",
   "pygments_lexer": "ipython3",
   "version": "3.9.6"
  }
 },
 "nbformat": 4,
 "nbformat_minor": 5
}
